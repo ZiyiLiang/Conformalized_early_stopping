{
 "cells": [
  {
   "cell_type": "markdown",
   "id": "070b897f",
   "metadata": {},
   "source": [
    "# Applications of CES and comparison with the standard data splitting benchmark\n",
    "\n",
    "In this notebook we will explore applications of CES to outlier detection and multi-class classification. We further compare the performance of CES to the standard approch -- Data splitting benchmark to demonstrate the power gain of CES. \n",
    "\n",
    "See acompanying paper for high level description of two the methods and corresponding algorithms. \n",
    "\n",
    "The notebook will break into two parts: \n",
    "1. Outlier Detection setting: In this setting we will see CES achieves higher power compared to the data splitting benchmark.\n",
    "2. Multi-class classification setting: We compute the marginal prediction sets and label-conditional predictions sets with both methods, and we show that both methods achieves the nominal coverge rate while CES produces smaller, and thus more informative prediction sets."
   ]
  },
  {
   "cell_type": "code",
   "execution_count": 1,
   "id": "89c990a0",
   "metadata": {},
   "outputs": [],
   "source": [
    "%matplotlib inline\n",
    "%load_ext autoreload\n",
    "%autoreload 2"
   ]
  },
  {
   "cell_type": "code",
   "execution_count": 2,
   "id": "af907b3b",
   "metadata": {},
   "outputs": [],
   "source": [
    "import numpy as np\n",
    "import matplotlib.pyplot as plt\n",
    "from statsmodels.stats.multitest import multipletests\n",
    "\n",
    "# Colors from Colorbrewer Paired_12\n",
    "colors = [[31, 120, 180], [51, 160, 44], [250,159,181]]\n",
    "colors = [(r / 255, g / 255, b / 255) for (r, g, b) in colors]\n",
    "\n",
    "# functions to show an image\n",
    "def imshow(img, norm):\n",
    "    \"\"\"\n",
    "    :param img: (PyTorch Tensor)\n",
    "    \"\"\"\n",
    "    if norm:\n",
    "        # unnormalize\n",
    "        img = img / 2 + 0.5    \n",
    "        \n",
    "    # Convert tensor to numpy array\n",
    "    npimg = img.numpy()\n",
    "    # Color channel first -> color channel last\n",
    "    plt.imshow(np.transpose(npimg, (1, 2, 0)))\n",
    "\n",
    "def get_image(img):\n",
    "    \"\"\"\n",
    "    convert a tensor to images suitable for plotting\n",
    "    :param img: (PyTorch Tensor)\n",
    "    \"\"\"\n",
    "    # unnormalize\n",
    "    img = img / 2 + 0.5     \n",
    "    # Convert tensor to numpy array\n",
    "    npimg = img.numpy()\n",
    "    # Color channel first -> color channel last\n",
    "    return np.transpose(npimg, (1, 2, 0))\n",
    "\n",
    "def plot_loss_acc(train_loss, val_loss, train_acc, val_acc):\n",
    "    x = np.arange(1, len(train_loss) + 1)\n",
    "\n",
    "    fig,axs = plt.subplots(1, 2, figsize=(16,6))\n",
    "    axs[0].plot(x, train_loss, color=colors[0], label=\"Training loss\", linewidth=2)\n",
    "    axs[0].plot(x, val_loss, color=colors[1], label=\"Validation loss\", linewidth=2)\n",
    "    axs[0].set_xlabel('Epoch')\n",
    "    axs[0].set_ylabel('Loss')\n",
    "    axs[0].legend(loc='upper right')\n",
    "    axs[0].set_title(\"Evolution of the training, validation and test loss\")\n",
    "\n",
    "    axs[1].plot(x, train_acc, color=colors[0], label=\"Training accuracy\", linewidth=2)\n",
    "    axs[1].plot(x, val_acc, color=colors[1], label=\"Validation accuracy\", linewidth=2)\n",
    "    axs[1].set_xlabel('Epoch')\n",
    "    axs[1].set_ylabel('Accuracy')\n",
    "    axs[1].legend(loc='lower right')\n",
    "    axs[1].set_title(\"Evolution of the training, validation and test accuracy\")\n",
    "    plt.show()\n",
    "    \n",
    "\n",
    "def plot_loss(train_loss, val_loss):\n",
    "    x = np.arange(1, len(train_loss) + 1)\n",
    "\n",
    "    plt.figure()\n",
    "    plt.plot(x, train_loss, color=colors[0], label=\"Training loss\", linewidth=2)\n",
    "    plt.plot(x, val_loss, color=colors[1], label=\"Validation loss\", linewidth=2)\n",
    "    plt.xlabel('Epoch')\n",
    "    plt.ylabel('Loss')\n",
    "    plt.legend(loc='upper right')\n",
    "    plt.title(\"Evolution of the training, validation and test loss\")\n",
    "    \n",
    "    plt.show()\n",
    "\n",
    "def plot_pvals(pvals, labels):\n",
    "    idx_in = np.where(labels==0)[0]\n",
    "    idx_out = np.where(labels==1)[0]\n",
    "\n",
    "    pvals_in = np.array(pvals)[idx_in]\n",
    "    pvals_out = np.array(pvals)[idx_out]\n",
    "\n",
    "    plt.figure(figsize=(8,6))\n",
    "    plt.hist(pvals_in, bins=100, alpha=0.5, label=\"inliers\")\n",
    "    plt.hist(pvals_out, bins=100, alpha=0.5, label=\"outliers\")\n",
    "    plt.legend()\n",
    "    plt.show\n",
    "\n",
    "    print('Average p-value for inliers is {:3f}, average p-value for outliers is {:3f}.'\\\n",
    "          .format(np.mean(pvals_in), np.mean(pvals_out)))\n",
    "    \n",
    "\n",
    "def evaluate_bh(pvals, labels, alpha):\n",
    "    idx_in = np.where(labels==0)[0]\n",
    "    idx_out = np.where(labels==1)[0]\n",
    "    \n",
    "    # Apply BH\n",
    "    purity_test = len(idx_in)/len(pvals)\n",
    "    reject, _, _, _ = multipletests(pvals, alpha=alpha/(1-purity_test), method='fdr_bh')\n",
    "\n",
    "    # Evaluate FDP and Power\n",
    "    rejections = np.sum(reject)\n",
    "    if rejections > 0:\n",
    "        fdp = np.sum(reject[idx_in])/reject.shape[0] \n",
    "        power = np.sum(reject[idx_out])/len(idx_out)\n",
    "    else:\n",
    "        fdp = 0\n",
    "        power = 0\n",
    "    return fdp, power\n",
    "\n",
    "def evaluate_predictions(S, y):\n",
    "    coverage = np.mean([y[i] in S[i] for i in range(len(y))])\n",
    "    length = np.mean([len(S[i]) for i in range(len(y))])\n",
    "    idx_cover = np.where([y[i] in S[i] for i in range(len(y))])[0]\n",
    "    length_cover = np.mean([len(S[i]) for i in idx_cover])\n",
    "    return coverage, length, length_cover\n",
    "\n",
    "def evaluate_marginal(S, y):\n",
    "    coverage, length, length_cover = evaluate_predictions(S, y)\n",
    "    print('Marginal coverage:       {:2.3%}'.format(coverage))\n",
    "    print('Average size:            {:2.3f}'.format(length))\n",
    "    print('Average size | coverage: {:2.3f}'.format(length_cover))\n",
    "\n",
    "def evaluate_conditional(S, y):\n",
    "    n_class = len(np.unique(y))\n",
    "    for i in range(n_class):\n",
    "        label = i\n",
    "        idx = np.where(y==label)[0]\n",
    "        coverage, length, length_cover = evaluate_predictions(np.array(S, dtype=object)[idx], np.array(y)[idx])\n",
    "        print('Conditional coverage for label {}:       {:2.3%}'.format(classes[label], coverage))\n",
    "        print('Average size:            {:2.3f}'.format(length))\n",
    "        print('Average size | coverage: {:2.3f}'.format(length_cover))"
   ]
  },
  {
   "cell_type": "code",
   "execution_count": 3,
   "id": "1b8f3598",
   "metadata": {},
   "outputs": [],
   "source": [
    "import torch as th\n",
    "from tqdm import tqdm\n",
    "import torchvision\n",
    "import sys, os\n",
    "from torchvision import transforms\n",
    "from torchvision import datasets\n",
    "\n",
    "sys.path.append('../ConformalizedES')\n",
    "sys.path.append('../third_party')\n",
    "os.environ[\"KMP_DUPLICATE_LIB_OK\"]=\"TRUE\""
   ]
  },
  {
   "cell_type": "markdown",
   "id": "9b0b1132",
   "metadata": {},
   "source": [
    "# Experiment 1: CES for anomaly detection"
   ]
  },
  {
   "cell_type": "markdown",
   "id": "dcef027e",
   "metadata": {},
   "source": [
    "### Load MNIST dataset"
   ]
  },
  {
   "cell_type": "code",
   "execution_count": 4,
   "id": "ba0c50ff",
   "metadata": {},
   "outputs": [],
   "source": [
    "# Download the MNIST Dataset\n",
    "transform = transforms.Compose(\n",
    "    [transforms.ToTensor(),\n",
    "     transforms.Normalize(mean=0.5, std=0.5)])\n",
    "\n",
    "train_set_full = datasets.MNIST(root = \"./data\", train = True, download = True, transform=transform)\n",
    "test_set_full = datasets.MNIST(root = \"./data\", train = False, download = True, transform=transform)"
   ]
  },
  {
   "cell_type": "code",
   "execution_count": 5,
   "id": "5fd1674f",
   "metadata": {},
   "outputs": [
    {
     "name": "stdout",
     "output_type": "stream",
     "text": [
      "total number of available training data is: 5923.\n",
      "total number of test data is 1954 in which 980 are label 0 test data, 974 are label 8 test data.\n"
     ]
    }
   ],
   "source": [
    "from datasetMaker import get_class_i, DatasetMaker\n",
    "\n",
    "x_train_full = train_set_full.data\n",
    "y_train_full = train_set_full.targets\n",
    "x_test_full = test_set_full.data\n",
    "y_test_full = test_set_full.targets\n",
    "\n",
    "# Train set composed only of number 0\n",
    "train_set = \\\n",
    "    DatasetMaker(\n",
    "        [get_class_i(x_train_full, y_train_full, 0)]\n",
    "    )\n",
    "\n",
    "# Test set is a mixture of number 0 and 8\n",
    "test_set = \\\n",
    "    DatasetMaker(\n",
    "        [get_class_i(x_test_full, y_test_full, 0),\n",
    "        get_class_i(x_test_full, y_test_full, 8),\n",
    "]\n",
    "    )\n",
    "\n",
    "print('total number of available training data is: {:d}.'.format(len(train_set)))\n",
    "print('total number of test data is {:d} in which {:d} are label 0 test data, {:d} are label 8 test data.'\\\n",
    "      .format(len(test_set), test_set.lengths[0],test_set.lengths[1]))"
   ]
  },
  {
   "cell_type": "code",
   "execution_count": 6,
   "id": "4d79ef3f",
   "metadata": {},
   "outputs": [
    {
     "data": {
      "image/png": "[encoded data removed]",
      "text/plain": [
       "<Figure size 432x288 with 1 Axes>"
      ]
     },
     "metadata": {
      "needs_background": "light"
     },
     "output_type": "display_data"
    }
   ],
   "source": [
    "# Plot some sample test data\n",
    "example_loader = th.utils.data.DataLoader(test_set, shuffle=True, batch_size=4, num_workers=0)\n",
    "dataiter = iter(example_loader)\n",
    "images, labels = next(dataiter)\n",
    "\n",
    "imshow(torchvision.utils.make_grid(images), norm=False)"
   ]
  },
  {
   "cell_type": "markdown",
   "id": "a86fabe3",
   "metadata": {},
   "source": [
    "### Benchmark data-splitting vs CES data-splitting"
   ]
  },
  {
   "cell_type": "code",
   "execution_count": 7,
   "id": "928a84d2",
   "metadata": {},
   "outputs": [],
   "source": [
    "from torch.utils.data.sampler import SubsetRandomSampler\n",
    "num_workers = 0\n",
    "\n",
    "seed = 0\n",
    "np.random.seed(seed)\n",
    "th.manual_seed(seed)\n",
    "\n",
    "# MNIST is a simple dataset, hence we only take 300 inlier data to demonstrate\n",
    "# Benchmark data splitting: equally split the data into 3 sets\n",
    "n_full = len(train_set)\n",
    "n_data = 300\n",
    "n_train_bm = 100\n",
    "n_val_bm = 100\n",
    "n_cal_bm = 100\n",
    "\n",
    "train_set_bm, val_set_bm, cal_set_bm, _ = th.utils.data.random_split(train_set,\\\n",
    "                                 [n_train_bm, n_val_bm, n_cal_bm, n_full-n_data])\n",
    "\n",
    "# CES data splitting: calibration set is not needed, merge back to the training set\n",
    "n_train_ces = 200\n",
    "n_val_ces = 100\n",
    "\n",
    "train_set_ces, val_set_ces, _ = th.utils.data.random_split(train_set,\\\n",
    "                                 [n_train_ces, n_val_ces, n_full-n_data])\n"
   ]
  },
  {
   "cell_type": "code",
   "execution_count": 8,
   "id": "8c4397fb",
   "metadata": {},
   "outputs": [],
   "source": [
    "# Create data loader objects\n",
    "# For benchmarks\n",
    "batch_size = 10\n",
    "num_workers = 0\n",
    "\n",
    "train_loader_bm = th.utils.data.DataLoader(train_set_bm, batch_size=batch_size,\n",
    "                                          num_workers=num_workers)\n",
    "\n",
    "val_loader_bm = th.utils.data.DataLoader(val_set_bm, batch_size=n_val_bm,\n",
    "                                          num_workers=num_workers)\n",
    "\n",
    "cal_loader_bm = th.utils.data.DataLoader(cal_set_bm, batch_size=n_cal_bm,\n",
    "                                          num_workers=num_workers)\n",
    "\n",
    "# For CES\n",
    "train_loader_ces = th.utils.data.DataLoader(train_set_ces, batch_size=batch_size,\n",
    "                                          num_workers=num_workers)\n",
    "\n",
    "val_loader_ces = th.utils.data.DataLoader(val_set_ces, batch_size=n_val_ces,\n",
    "                                          num_workers=num_workers)"
   ]
  },
  {
   "cell_type": "code",
   "execution_count": 9,
   "id": "8a44a97b",
   "metadata": {},
   "outputs": [],
   "source": [
    "# Test loader\n",
    "\n",
    "seed = 2022\n",
    "np.random.seed(seed)\n",
    "th.manual_seed(seed)\n",
    "\n",
    "n_test_samples = 1800\n",
    "test_sampler = SubsetRandomSampler(np.arange(n_test_samples, dtype=np.int64))\n",
    "test_loader = th.utils.data.DataLoader(test_set, batch_size=n_test_samples, sampler=test_sampler,\n",
    "                                         num_workers=num_workers)\n",
    "\n",
    "# get all test images\n",
    "dataiter = iter(test_loader)\n",
    "inputs, labels = dataiter.next()"
   ]
  },
  {
   "cell_type": "markdown",
   "id": "891b3078",
   "metadata": {},
   "source": [
    "### Define Autoencoder"
   ]
  },
  {
   "cell_type": "code",
   "execution_count": 10,
   "id": "07df66bc",
   "metadata": {},
   "outputs": [],
   "source": [
    "from method import CES_oneClass\n",
    "from networks import ConvAutoencoder\n",
    "import torch.optim as optim\n",
    "\n",
    "# Define the model parameters\n",
    "\n",
    "lr = 0.01\n",
    "n_epoch = 10\n",
    "\n",
    "# Create loss and optimizer\n",
    "# CES_oneClass object will assume criterion takes three parameters: output, input and target, \n",
    "# create wrapper function to modify the criterion.\n",
    "net_bm = ConvAutoencoder()\n",
    "Loss = th.nn.MSELoss()\n",
    "def criterion(outputs, inputs, targets):\n",
    "    return Loss(outputs, inputs)\n",
    "optimizer_bm = optim.Adam(net_bm.parameters(), lr=lr)"
   ]
  },
  {
   "cell_type": "code",
   "execution_count": 11,
   "id": "52421200",
   "metadata": {},
   "outputs": [],
   "source": [
    "seed = 0\n",
    "np.random.seed(seed)\n",
    "th.manual_seed(seed)\n",
    "\n",
    "if th.cuda.is_available():\n",
    "    # Make CuDNN Determinist\n",
    "    th.backends.cudnn.deterministic = True\n",
    "    th.cuda.manual_seed(seed)\n",
    "\n",
    "# Define default device, we should use the GPU (cuda) if available\n",
    "device = th.device(\"cuda\" if th.cuda.is_available() else \"cpu\")### Define subset of the dataset (so it is faster to train)"
   ]
  },
  {
   "cell_type": "markdown",
   "id": "cb336f0e",
   "metadata": {},
   "source": [
    "### Train benchmark models and compute conformal p-values"
   ]
  },
  {
   "cell_type": "code",
   "execution_count": 12,
   "id": "13d7f197",
   "metadata": {},
   "outputs": [
    {
     "name": "stdout",
     "output_type": "stream",
     "text": [
      "===== HYPERPARAMETERS =====\n",
      "batch_size= 10\n",
      "n_epochs= 10\n",
      "learning_rate= 0.01\n",
      "==============================\n"
     ]
    }
   ],
   "source": [
    "seed = 0\n",
    "np.random.seed(seed)\n",
    "th.manual_seed(seed)\n",
    "\n",
    "# Initialize the CES class with model parameters\n",
    "CES_oc_bm = CES_oneClass(net_bm, device, train_loader_bm, batch_size=batch_size, max_epoch=n_epoch, \n",
    "                        learning_rate=lr, val_loader=val_loader_bm, criterion=criterion,optimizer=optimizer_bm)"
   ]
  },
  {
   "cell_type": "code",
   "execution_count": 13,
   "id": "e7eda8d6",
   "metadata": {},
   "outputs": [
    {
     "name": "stdout",
     "output_type": "stream",
     "text": [
      "Epoch 1 of 10, 10% \t train_loss: 0.30  took: 0.06s\n",
      "Epoch 1 of 10, 20% \t train_loss: 0.29  took: 0.01s\n",
      "Epoch 1 of 10, 30% \t train_loss: 0.29  took: 0.01s\n",
      "Epoch 1 of 10, 40% \t train_loss: 0.28  took: 0.01s\n",
      "Epoch 1 of 10, 50% \t train_loss: 0.26  took: 0.01s\n",
      "Epoch 1 of 10, 60% \t train_loss: 0.25  took: 0.01s\n",
      "Epoch 1 of 10, 70% \t train_loss: 0.23  took: 0.01s\n",
      "Epoch 1 of 10, 80% \t train_loss: 0.21  took: 0.01s\n",
      "Epoch 1 of 10, 90% \t train_loss: 0.20  took: 0.01s\n",
      "Epoch 1 of 10, 100% \t train_loss: 0.19  took: 0.01s\n",
      "val_loss = 0.19\n",
      "Snapshot saved at epoch 1.\n",
      "Epoch 2 of 10, 10% \t train_loss: 0.19  took: 0.01s\n",
      "Epoch 2 of 10, 20% \t train_loss: 0.18  took: 0.01s\n",
      "Epoch 2 of 10, 30% \t train_loss: 0.15  took: 0.01s\n",
      "Epoch 2 of 10, 40% \t train_loss: 0.16  took: 0.01s\n",
      "Epoch 2 of 10, 50% \t train_loss: 0.15  took: 0.01s\n",
      "Epoch 2 of 10, 60% \t train_loss: 0.16  took: 0.01s\n",
      "Epoch 2 of 10, 70% \t train_loss: 0.15  took: 0.01s\n",
      "Epoch 2 of 10, 80% \t train_loss: 0.14  took: 0.01s\n",
      "Epoch 2 of 10, 90% \t train_loss: 0.15  took: 0.01s\n",
      "Epoch 2 of 10, 100% \t train_loss: 0.14  took: 0.01s\n",
      "val_loss = 0.15\n",
      "Snapshot saved at epoch 2.\n",
      "Epoch 3 of 10, 10% \t train_loss: 0.15  took: 0.02s\n",
      "Epoch 3 of 10, 20% \t train_loss: 0.16  took: 0.02s\n",
      "Epoch 3 of 10, 30% \t train_loss: 0.13  took: 0.01s\n",
      "Epoch 3 of 10, 40% \t train_loss: 0.14  took: 0.01s\n",
      "Epoch 3 of 10, 50% \t train_loss: 0.14  took: 0.01s\n",
      "Epoch 3 of 10, 60% \t train_loss: 0.15  took: 0.01s\n",
      "Epoch 3 of 10, 70% \t train_loss: 0.14  took: 0.01s\n",
      "Epoch 3 of 10, 80% \t train_loss: 0.13  took: 0.01s\n",
      "Epoch 3 of 10, 90% \t train_loss: 0.14  took: 0.01s\n",
      "Epoch 3 of 10, 100% \t train_loss: 0.14  took: 0.01s\n",
      "val_loss = 0.14\n",
      "Snapshot saved at epoch 3.\n",
      "Epoch 4 of 10, 10% \t train_loss: 0.14  took: 0.01s\n",
      "Epoch 4 of 10, 20% \t train_loss: 0.14  took: 0.01s\n",
      "Epoch 4 of 10, 30% \t train_loss: 0.12  took: 0.01s\n",
      "Epoch 4 of 10, 40% \t train_loss: 0.13  took: 0.01s\n",
      "Epoch 4 of 10, 50% \t train_loss: 0.12  took: 0.01s\n",
      "Epoch 4 of 10, 60% \t train_loss: 0.13  took: 0.01s\n",
      "Epoch 4 of 10, 70% \t train_loss: 0.12  took: 0.01s\n",
      "Epoch 4 of 10, 80% \t train_loss: 0.11  took: 0.01s\n",
      "Epoch 4 of 10, 90% \t train_loss: 0.11  took: 0.01s\n",
      "Epoch 4 of 10, 100% \t train_loss: 0.10  took: 0.01s\n",
      "val_loss = 0.11\n",
      "Snapshot saved at epoch 4.\n",
      "Epoch 5 of 10, 10% \t train_loss: 0.10  took: 0.01s\n",
      "Epoch 5 of 10, 20% \t train_loss: 0.11  took: 0.01s\n",
      "Epoch 5 of 10, 30% \t train_loss: 0.09  took: 0.01s\n",
      "Epoch 5 of 10, 40% \t train_loss: 0.09  took: 0.01s\n",
      "Epoch 5 of 10, 50% \t train_loss: 0.09  took: 0.01s\n",
      "Epoch 5 of 10, 60% \t train_loss: 0.09  took: 0.01s\n",
      "Epoch 5 of 10, 70% \t train_loss: 0.09  took: 0.01s\n",
      "Epoch 5 of 10, 80% \t train_loss: 0.08  took: 0.01s\n",
      "Epoch 5 of 10, 90% \t train_loss: 0.08  took: 0.01s\n",
      "Epoch 5 of 10, 100% \t train_loss: 0.07  took: 0.01s\n",
      "val_loss = 0.07\n",
      "Snapshot saved at epoch 5.\n",
      "Epoch 6 of 10, 10% \t train_loss: 0.07  took: 0.01s\n",
      "Epoch 6 of 10, 20% \t train_loss: 0.08  took: 0.01s\n",
      "Epoch 6 of 10, 30% \t train_loss: 0.07  took: 0.01s\n",
      "Epoch 6 of 10, 40% \t train_loss: 0.07  took: 0.01s\n",
      "Epoch 6 of 10, 50% \t train_loss: 0.07  took: 0.01s\n",
      "Epoch 6 of 10, 60% \t train_loss: 0.07  took: 0.01s\n",
      "Epoch 6 of 10, 70% \t train_loss: 0.07  took: 0.01s\n",
      "Epoch 6 of 10, 80% \t train_loss: 0.07  took: 0.01s\n",
      "Epoch 6 of 10, 90% \t train_loss: 0.06  took: 0.01s\n",
      "Epoch 6 of 10, 100% \t train_loss: 0.06  took: 0.01s\n",
      "val_loss = 0.07\n",
      "Snapshot saved at epoch 6.\n",
      "Epoch 7 of 10, 10% \t train_loss: 0.07  took: 0.01s\n",
      "Epoch 7 of 10, 20% \t train_loss: 0.07  took: 0.01s\n",
      "Epoch 7 of 10, 30% \t train_loss: 0.06  took: 0.01s\n",
      "Epoch 7 of 10, 40% \t train_loss: 0.06  took: 0.01s\n",
      "Epoch 7 of 10, 50% \t train_loss: 0.06  took: 0.01s\n",
      "Epoch 7 of 10, 60% \t train_loss: 0.07  took: 0.01s\n",
      "Epoch 7 of 10, 70% \t train_loss: 0.06  took: 0.01s\n",
      "Epoch 7 of 10, 80% \t train_loss: 0.06  took: 0.01s\n",
      "Epoch 7 of 10, 90% \t train_loss: 0.06  took: 0.01s\n",
      "Epoch 7 of 10, 100% \t train_loss: 0.06  took: 0.01s\n",
      "val_loss = 0.06\n",
      "Snapshot saved at epoch 7.\n",
      "Epoch 8 of 10, 10% \t train_loss: 0.06  took: 0.01s\n",
      "Epoch 8 of 10, 20% \t train_loss: 0.07  took: 0.01s\n",
      "Epoch 8 of 10, 30% \t train_loss: 0.06  took: 0.01s\n",
      "Epoch 8 of 10, 40% \t train_loss: 0.06  took: 0.01s\n",
      "Epoch 8 of 10, 50% \t train_loss: 0.06  took: 0.01s\n",
      "Epoch 8 of 10, 60% \t train_loss: 0.06  took: 0.01s\n",
      "Epoch 8 of 10, 70% \t train_loss: 0.06  took: 0.01s\n",
      "Epoch 8 of 10, 80% \t train_loss: 0.06  took: 0.01s\n",
      "Epoch 8 of 10, 90% \t train_loss: 0.06  took: 0.01s\n",
      "Epoch 8 of 10, 100% \t train_loss: 0.06  took: 0.01s\n",
      "val_loss = 0.06\n",
      "Snapshot saved at epoch 8.\n",
      "Epoch 9 of 10, 10% \t train_loss: 0.06  took: 0.01s\n",
      "Epoch 9 of 10, 20% \t train_loss: 0.06  took: 0.01s\n",
      "Epoch 9 of 10, 30% \t train_loss: 0.06  took: 0.01s\n",
      "Epoch 9 of 10, 40% \t train_loss: 0.06  took: 0.01s\n",
      "Epoch 9 of 10, 50% \t train_loss: 0.06  took: 0.01s\n",
      "Epoch 9 of 10, 60% \t train_loss: 0.06  took: 0.01s\n",
      "Epoch 9 of 10, 70% \t train_loss: 0.06  took: 0.01s\n",
      "Epoch 9 of 10, 80% \t train_loss: 0.06  took: 0.01s\n",
      "Epoch 9 of 10, 90% \t train_loss: 0.06  took: 0.01s\n",
      "Epoch 9 of 10, 100% \t train_loss: 0.05  took: 0.01s\n",
      "val_loss = 0.06\n",
      "Snapshot saved at epoch 9.\n",
      "Epoch 10 of 10, 10% \t train_loss: 0.06  took: 0.01s\n",
      "Epoch 10 of 10, 20% \t train_loss: 0.06  took: 0.01s\n",
      "Epoch 10 of 10, 30% \t train_loss: 0.06  took: 0.01s\n",
      "Epoch 10 of 10, 40% \t train_loss: 0.06  took: 0.01s\n",
      "Epoch 10 of 10, 50% \t train_loss: 0.06  took: 0.01s\n",
      "Epoch 10 of 10, 60% \t train_loss: 0.06  took: 0.01s\n",
      "Epoch 10 of 10, 70% \t train_loss: 0.06  took: 0.01s\n",
      "Epoch 10 of 10, 80% \t train_loss: 0.06  took: 0.01s\n",
      "Epoch 10 of 10, 90% \t train_loss: 0.05  took: 0.01s\n",
      "Epoch 10 of 10, 100% \t train_loss: 0.05  took: 0.01s\n",
      "val_loss = 0.06\n",
      "Snapshot saved at epoch 10.\n",
      "Training done! A list of 10 models saved.\n"
     ]
    }
   ],
   "source": [
    "# Train the model and save snapshots regularly\n",
    "save_every = 1    # Save model after every few epoches\n",
    "CES_oc_bm.full_train(save_dir = './models/oneClass/benchmarks', save_every = save_every)"
   ]
  },
  {
   "cell_type": "code",
   "execution_count": 14,
   "id": "6a1ce9e0",
   "metadata": {
    "scrolled": true
   },
   "outputs": [
    {
     "name": "stdout",
     "output_type": "stream",
     "text": [
      "selecting models takes: 0.0010118484497070312\n"
     ]
    }
   ],
   "source": [
    "import time\n",
    "\n",
    "# Pick the best model for each test point\n",
    "start = time.time()\n",
    "best_loss_bm, best_model_bm, test_val_loss_history_bm = CES_oc_bm.select_model()\n",
    "print('selecting models takes:', time.time()-start)"
   ]
  },
  {
   "cell_type": "code",
   "execution_count": 16,
   "id": "91e0f141",
   "metadata": {
    "scrolled": true
   },
   "outputs": [
    {
     "name": "stdout",
     "output_type": "stream",
     "text": [
      "Calibrating each model in the list...\n"
     ]
    },
    {
     "name": "stderr",
     "output_type": "stream",
     "text": [
      "100%|██████████████████████████████████████████████████████████████████████████████| 1800/1800 [00:35<00:00, 50.03it/s]"
     ]
    },
    {
     "name": "stdout",
     "output_type": "stream",
     "text": [
      "Initialization done!\n",
      "Calibration (one time effort) takes:35.98s.\n"
     ]
    },
    {
     "name": "stderr",
     "output_type": "stream",
     "text": [
      "\n"
     ]
    }
   ],
   "source": [
    "from inference import Conformal_PVals\n",
    "\n",
    "model_list_bm = CES_oc_bm.model_list\n",
    "\n",
    "# Compute conformity scores of calibration sets for each model\n",
    "# this initialization will be a one-time effort.\n",
    "cal_time = time.time()\n",
    "C_PVals_bm = Conformal_PVals(net_bm, device, cal_loader_bm, [best_model_bm]*len(inputs), random_state = 0)\n",
    "print('Calibration (one time effort) takes:{:.2f}s.'.format(time.time()-cal_time))"
   ]
  },
  {
   "cell_type": "code",
   "execution_count": 19,
   "id": "511a34d5",
   "metadata": {
    "scrolled": true
   },
   "outputs": [
    {
     "name": "stderr",
     "output_type": "stream",
     "text": [
      "100%|█████████████████████████████████████████████████████████████████████████████| 1800/1800 [00:02<00:00, 800.10it/s]"
     ]
    },
    {
     "name": "stdout",
     "output_type": "stream",
     "text": [
      "Finished computing p-values for 1800 test points.\n"
     ]
    },
    {
     "name": "stderr",
     "output_type": "stream",
     "text": [
      "\n"
     ]
    }
   ],
   "source": [
    "pvals_bm = C_PVals_bm.compute_pvals(inputs, [best_model_bm]*len(inputs))"
   ]
  },
  {
   "cell_type": "code",
   "execution_count": 20,
   "id": "4bad91ba",
   "metadata": {
    "scrolled": true
   },
   "outputs": [
    {
     "name": "stdout",
     "output_type": "stream",
     "text": [
      "Average p-value for inliers is 0.514599, average p-value for outliers is 0.610951.\n"
     ]
    },
    {
     "data": {
      "image/png": "[encoded data removed]",
      "text/plain": [
       "<Figure size 576x432 with 1 Axes>"
      ]
     },
     "metadata": {
      "needs_background": "light"
     },
     "output_type": "display_data"
    }
   ],
   "source": [
    "plot_pvals(pvals_bm, labels)"
   ]
  },
  {
   "cell_type": "code",
   "execution_count": 21,
   "id": "f6386130",
   "metadata": {},
   "outputs": [
    {
     "name": "stdout",
     "output_type": "stream",
     "text": [
      "Apply BH procedure yields FDP 0.000000, power 0.000000.\n"
     ]
    }
   ],
   "source": [
    "fdp, power = evaluate_bh(pvals_bm, labels, alpha=0.1)\n",
    "print('Apply BH procedure yields FDP {:3f}, power {:3f}.'.format(fdp,power))"
   ]
  },
  {
   "cell_type": "markdown",
   "id": "c08a3261",
   "metadata": {},
   "source": [
    "### Train the CES models"
   ]
  },
  {
   "cell_type": "code",
   "execution_count": 22,
   "id": "da43918a",
   "metadata": {},
   "outputs": [
    {
     "name": "stdout",
     "output_type": "stream",
     "text": [
      "===== HYPERPARAMETERS =====\n",
      "batch_size= 10\n",
      "n_epochs= 10\n",
      "learning_rate= 0.01\n",
      "==============================\n"
     ]
    }
   ],
   "source": [
    "seed = 0\n",
    "np.random.seed(seed)\n",
    "th.manual_seed(seed)\n",
    "\n",
    "net_ces = ConvAutoencoder()\n",
    "Loss = th.nn.MSELoss()\n",
    "def criterion(outputs, inputs, targets):\n",
    "    return Loss(outputs, inputs)\n",
    "optimizer_ces = optim.Adam(net_ces.parameters(), lr=lr)\n",
    "\n",
    "\n",
    "# Initialize the CES class with model parameters\n",
    "CES_oc_ces = CES_oneClass(net_ces, device, train_loader_ces, batch_size=batch_size, max_epoch=n_epoch, \n",
    "                        learning_rate=lr, val_loader=val_loader_ces, criterion=criterion,optimizer=optimizer_ces)"
   ]
  },
  {
   "cell_type": "code",
   "execution_count": 23,
   "id": "d778b226",
   "metadata": {},
   "outputs": [
    {
     "name": "stdout",
     "output_type": "stream",
     "text": [
      "Epoch 1 of 10, 10% \t train_loss: 0.17  took: 0.04s\n",
      "Epoch 1 of 10, 20% \t train_loss: 0.16  took: 0.02s\n",
      "Epoch 1 of 10, 30% \t train_loss: 0.16  took: 0.02s\n",
      "Epoch 1 of 10, 40% \t train_loss: 0.15  took: 0.02s\n",
      "Epoch 1 of 10, 50% \t train_loss: 0.14  took: 0.02s\n",
      "Epoch 1 of 10, 60% \t train_loss: 0.13  took: 0.02s\n",
      "Epoch 1 of 10, 70% \t train_loss: 0.11  took: 0.02s\n",
      "Epoch 1 of 10, 80% \t train_loss: 0.09  took: 0.02s\n",
      "Epoch 1 of 10, 90% \t train_loss: 0.08  took: 0.02s\n",
      "Epoch 1 of 10, 100% \t train_loss: 0.06  took: 0.01s\n",
      "val_loss = 0.05\n",
      "Snapshot saved at epoch 1.\n",
      "Epoch 2 of 10, 10% \t train_loss: 0.06  took: 0.02s\n",
      "Epoch 2 of 10, 20% \t train_loss: 0.05  took: 0.02s\n",
      "Epoch 2 of 10, 30% \t train_loss: 0.04  took: 0.02s\n",
      "Epoch 2 of 10, 40% \t train_loss: 0.04  took: 0.02s\n",
      "Epoch 2 of 10, 50% \t train_loss: 0.04  took: 0.01s\n",
      "Epoch 2 of 10, 60% \t train_loss: 0.04  took: 0.02s\n",
      "Epoch 2 of 10, 70% \t train_loss: 0.04  took: 0.01s\n",
      "Epoch 2 of 10, 80% \t train_loss: 0.03  took: 0.02s\n",
      "Epoch 2 of 10, 90% \t train_loss: 0.03  took: 0.02s\n",
      "Epoch 2 of 10, 100% \t train_loss: 0.03  took: 0.02s\n",
      "val_loss = 0.03\n",
      "Snapshot saved at epoch 2.\n",
      "Epoch 3 of 10, 10% \t train_loss: 0.03  took: 0.02s\n",
      "Epoch 3 of 10, 20% \t train_loss: 0.02  took: 0.02s\n",
      "Epoch 3 of 10, 30% \t train_loss: 0.02  took: 0.01s\n",
      "Epoch 3 of 10, 40% \t train_loss: 0.02  took: 0.02s\n",
      "Epoch 3 of 10, 50% \t train_loss: 0.02  took: 0.02s\n",
      "Epoch 3 of 10, 60% \t train_loss: 0.02  took: 0.01s\n",
      "Epoch 3 of 10, 70% \t train_loss: 0.02  took: 0.01s\n",
      "Epoch 3 of 10, 80% \t train_loss: 0.02  took: 0.01s\n",
      "Epoch 3 of 10, 90% \t train_loss: 0.02  took: 0.02s\n",
      "Epoch 3 of 10, 100% \t train_loss: 0.02  took: 0.02s\n",
      "val_loss = 0.02\n",
      "Snapshot saved at epoch 3.\n",
      "Epoch 4 of 10, 10% \t train_loss: 0.02  took: 0.02s\n",
      "Epoch 4 of 10, 20% \t train_loss: 0.02  took: 0.01s\n",
      "Epoch 4 of 10, 30% \t train_loss: 0.02  took: 0.02s\n",
      "Epoch 4 of 10, 40% \t train_loss: 0.02  took: 0.02s\n",
      "Epoch 4 of 10, 50% \t train_loss: 0.02  took: 0.01s\n",
      "Epoch 4 of 10, 60% \t train_loss: 0.02  took: 0.02s\n",
      "Epoch 4 of 10, 70% \t train_loss: 0.02  took: 0.02s\n",
      "Epoch 4 of 10, 80% \t train_loss: 0.02  took: 0.02s\n",
      "Epoch 4 of 10, 90% \t train_loss: 0.02  took: 0.02s\n",
      "Epoch 4 of 10, 100% \t train_loss: 0.02  took: 0.01s\n",
      "val_loss = 0.02\n",
      "Snapshot saved at epoch 4.\n",
      "Epoch 5 of 10, 10% \t train_loss: 0.02  took: 0.02s\n",
      "Epoch 5 of 10, 20% \t train_loss: 0.02  took: 0.02s\n",
      "Epoch 5 of 10, 30% \t train_loss: 0.02  took: 0.01s\n",
      "Epoch 5 of 10, 40% \t train_loss: 0.02  took: 0.02s\n",
      "Epoch 5 of 10, 50% \t train_loss: 0.02  took: 0.02s\n",
      "Epoch 5 of 10, 60% \t train_loss: 0.02  took: 0.01s\n",
      "Epoch 5 of 10, 70% \t train_loss: 0.02  took: 0.01s\n",
      "Epoch 5 of 10, 80% \t train_loss: 0.02  took: 0.02s\n",
      "Epoch 5 of 10, 90% \t train_loss: 0.02  took: 0.02s\n",
      "Epoch 5 of 10, 100% \t train_loss: 0.02  took: 0.02s\n",
      "val_loss = 0.02\n",
      "Snapshot saved at epoch 5.\n",
      "Epoch 6 of 10, 10% \t train_loss: 0.02  took: 0.02s\n",
      "Epoch 6 of 10, 20% \t train_loss: 0.02  took: 0.02s\n",
      "Epoch 6 of 10, 30% \t train_loss: 0.02  took: 0.02s\n",
      "Epoch 6 of 10, 40% \t train_loss: 0.02  took: 0.02s\n",
      "Epoch 6 of 10, 50% \t train_loss: 0.02  took: 0.02s\n",
      "Epoch 6 of 10, 60% \t train_loss: 0.02  took: 0.02s\n",
      "Epoch 6 of 10, 70% \t train_loss: 0.02  took: 0.02s\n",
      "Epoch 6 of 10, 80% \t train_loss: 0.02  took: 0.02s\n",
      "Epoch 6 of 10, 90% \t train_loss: 0.02  took: 0.02s\n",
      "Epoch 6 of 10, 100% \t train_loss: 0.02  took: 0.02s\n",
      "val_loss = 0.02\n",
      "Snapshot saved at epoch 6.\n",
      "Epoch 7 of 10, 10% \t train_loss: 0.02  took: 0.02s\n",
      "Epoch 7 of 10, 20% \t train_loss: 0.01  took: 0.02s\n",
      "Epoch 7 of 10, 30% \t train_loss: 0.01  took: 0.06s\n",
      "Epoch 7 of 10, 40% \t train_loss: 0.01  took: 0.02s\n",
      "Epoch 7 of 10, 50% \t train_loss: 0.02  took: 0.02s\n",
      "Epoch 7 of 10, 60% \t train_loss: 0.01  took: 0.02s\n",
      "Epoch 7 of 10, 70% \t train_loss: 0.02  took: 0.02s\n",
      "Epoch 7 of 10, 80% \t train_loss: 0.01  took: 0.02s\n",
      "Epoch 7 of 10, 90% \t train_loss: 0.02  took: 0.02s\n",
      "Epoch 7 of 10, 100% \t train_loss: 0.02  took: 0.02s\n",
      "val_loss = 0.02\n",
      "Snapshot saved at epoch 7.\n",
      "Epoch 8 of 10, 10% \t train_loss: 0.01  took: 0.02s\n",
      "Epoch 8 of 10, 20% \t train_loss: 0.01  took: 0.02s\n",
      "Epoch 8 of 10, 30% \t train_loss: 0.01  took: 0.02s\n",
      "Epoch 8 of 10, 40% \t train_loss: 0.01  took: 0.02s\n",
      "Epoch 8 of 10, 50% \t train_loss: 0.02  took: 0.02s\n",
      "Epoch 8 of 10, 60% \t train_loss: 0.01  took: 0.02s\n",
      "Epoch 8 of 10, 70% \t train_loss: 0.02  took: 0.02s\n",
      "Epoch 8 of 10, 80% \t train_loss: 0.01  took: 0.02s\n",
      "Epoch 8 of 10, 90% \t train_loss: 0.02  took: 0.02s\n",
      "Epoch 8 of 10, 100% \t train_loss: 0.02  took: 0.02s\n",
      "val_loss = 0.01\n",
      "Snapshot saved at epoch 8.\n",
      "Epoch 9 of 10, 10% \t train_loss: 0.01  took: 0.02s\n",
      "Epoch 9 of 10, 20% \t train_loss: 0.01  took: 0.02s\n",
      "Epoch 9 of 10, 30% \t train_loss: 0.01  took: 0.02s\n",
      "Epoch 9 of 10, 40% \t train_loss: 0.01  took: 0.02s\n",
      "Epoch 9 of 10, 50% \t train_loss: 0.02  took: 0.02s\n",
      "Epoch 9 of 10, 60% \t train_loss: 0.01  took: 0.02s\n",
      "Epoch 9 of 10, 70% \t train_loss: 0.02  took: 0.02s\n",
      "Epoch 9 of 10, 80% \t train_loss: 0.01  took: 0.02s\n",
      "Epoch 9 of 10, 90% \t train_loss: 0.02  took: 0.02s\n",
      "Epoch 9 of 10, 100% \t train_loss: 0.02  took: 0.02s\n",
      "val_loss = 0.01\n",
      "Snapshot saved at epoch 9.\n",
      "Epoch 10 of 10, 10% \t train_loss: 0.01  took: 0.02s\n",
      "Epoch 10 of 10, 20% \t train_loss: 0.01  took: 0.02s\n",
      "Epoch 10 of 10, 30% \t train_loss: 0.01  took: 0.02s\n",
      "Epoch 10 of 10, 40% \t train_loss: 0.01  took: 0.02s\n",
      "Epoch 10 of 10, 50% \t train_loss: 0.02  took: 0.02s\n",
      "Epoch 10 of 10, 60% \t train_loss: 0.01  took: 0.02s\n",
      "Epoch 10 of 10, 70% \t train_loss: 0.02  took: 0.02s\n",
      "Epoch 10 of 10, 80% \t train_loss: 0.01  took: 0.02s\n",
      "Epoch 10 of 10, 90% \t train_loss: 0.01  took: 0.02s\n",
      "Epoch 10 of 10, 100% \t train_loss: 0.02  took: 0.02s\n",
      "val_loss = 0.01\n",
      "Snapshot saved at epoch 10.\n",
      "Training done! A list of 10 models saved.\n"
     ]
    }
   ],
   "source": [
    "# Train the model and save snapshots regularly\n",
    "save_every = 1    # Save model after every few epoches\n",
    "CES_oc_ces.full_train(save_dir = './models/oneClass/ces', save_every = save_every)"
   ]
  },
  {
   "cell_type": "code",
   "execution_count": 24,
   "id": "872fcbba",
   "metadata": {},
   "outputs": [
    {
     "name": "stderr",
     "output_type": "stream",
     "text": [
      "100%|████████████████████████████████████████████████████████████████████████████| 1800/1800 [00:01<00:00, 1685.17it/s]\n",
      "100%|████████████████████████████████████████████████████████████████████████████| 1800/1800 [00:01<00:00, 1797.87it/s]\n",
      "100%|████████████████████████████████████████████████████████████████████████████| 1800/1800 [00:01<00:00, 1754.33it/s]\n",
      "100%|████████████████████████████████████████████████████████████████████████████| 1800/1800 [00:00<00:00, 1808.72it/s]\n",
      "100%|████████████████████████████████████████████████████████████████████████████| 1800/1800 [00:01<00:00, 1655.02it/s]\n",
      "100%|████████████████████████████████████████████████████████████████████████████| 1800/1800 [00:01<00:00, 1565.91it/s]\n",
      "100%|████████████████████████████████████████████████████████████████████████████| 1800/1800 [00:01<00:00, 1558.99it/s]\n",
      "100%|████████████████████████████████████████████████████████████████████████████| 1800/1800 [00:01<00:00, 1599.67it/s]\n",
      "100%|████████████████████████████████████████████████████████████████████████████| 1800/1800 [00:01<00:00, 1623.04it/s]\n",
      "100%|████████████████████████████████████████████████████████████████████████████| 1800/1800 [00:01<00:00, 1520.78it/s]"
     ]
    },
    {
     "name": "stdout",
     "output_type": "stream",
     "text": [
      "selecting models takes: 11.030048847198486\n"
     ]
    },
    {
     "name": "stderr",
     "output_type": "stream",
     "text": [
      "\n"
     ]
    }
   ],
   "source": [
    "# Pick the best model for each test point\n",
    "start = time.time()\n",
    "best_loss_ces, best_model_ces, test_val_loss_history_ces = CES_oc_ces.select_model(inputs)\n",
    "print('selecting models takes:', time.time()-start)"
   ]
  },
  {
   "cell_type": "code",
   "execution_count": 25,
   "id": "49408679",
   "metadata": {},
   "outputs": [
    {
     "name": "stdout",
     "output_type": "stream",
     "text": [
      "Calibrating each model in the list...\n"
     ]
    },
    {
     "name": "stderr",
     "output_type": "stream",
     "text": [
      "100%|██████████████████████████████████████████████████████████████████████████████████| 10/10 [00:00<00:00, 46.24it/s]"
     ]
    },
    {
     "name": "stdout",
     "output_type": "stream",
     "text": [
      "Initialization done!\n",
      "Calibration (one time effort) takes:0.22s.\n"
     ]
    },
    {
     "name": "stderr",
     "output_type": "stream",
     "text": [
      "\n"
     ]
    }
   ],
   "source": [
    "model_list_ces = CES_oc_ces.model_list\n",
    "\n",
    "# Compute conformity scores of calibration sets for each model\n",
    "# this initialization will be a one-time effort.\n",
    "cal_time = time.time()\n",
    "C_PVals_ces = Conformal_PVals(net_ces, device, val_loader_ces, model_list_ces, random_state = 0)\n",
    "print('Calibration (one time effort) takes:{:.2f}s.'.format(time.time()-cal_time))"
   ]
  },
  {
   "cell_type": "code",
   "execution_count": 26,
   "id": "e6a46b03",
   "metadata": {},
   "outputs": [
    {
     "name": "stderr",
     "output_type": "stream",
     "text": [
      "100%|█████████████████████████████████████████████████████████████████████████████| 1800/1800 [00:02<00:00, 778.11it/s]"
     ]
    },
    {
     "name": "stdout",
     "output_type": "stream",
     "text": [
      "Finished computing p-values for 1800 test points.\n"
     ]
    },
    {
     "name": "stderr",
     "output_type": "stream",
     "text": [
      "\n"
     ]
    }
   ],
   "source": [
    "pvals_ces = C_PVals_ces.compute_pvals(inputs, best_model_ces)"
   ]
  },
  {
   "cell_type": "code",
   "execution_count": 27,
   "id": "5ac61423",
   "metadata": {},
   "outputs": [
    {
     "name": "stdout",
     "output_type": "stream",
     "text": [
      "Average p-value for inliers is 0.523348, average p-value for outliers is 0.094337.\n"
     ]
    },
    {
     "data": {
      "image/png": "[encoded data removed]",
      "text/plain": [
       "<Figure size 576x432 with 1 Axes>"
      ]
     },
     "metadata": {
      "needs_background": "light"
     },
     "output_type": "display_data"
    }
   ],
   "source": [
    "plot_pvals(pvals_ces, labels)"
   ]
  },
  {
   "cell_type": "code",
   "execution_count": 28,
   "id": "b2059aef",
   "metadata": {},
   "outputs": [
    {
     "name": "stdout",
     "output_type": "stream",
     "text": [
      "Apply BH procedure yields FDP 0.047222, power 0.741463.\n"
     ]
    }
   ],
   "source": [
    "fdp, power = evaluate_bh(pvals_ces, labels, alpha=0.1)\n",
    "print('Apply BH procedure yields FDP {:3f}, power {:3f}.'.format(fdp,power))"
   ]
  },
  {
   "cell_type": "markdown",
   "id": "dce92c3d",
   "metadata": {},
   "source": [
    "# Experiment 2: CES for multi-class classification"
   ]
  },
  {
   "cell_type": "markdown",
   "id": "42bd35b4",
   "metadata": {},
   "source": [
    "### Load CIFAR10 dataset"
   ]
  },
  {
   "cell_type": "code",
   "execution_count": 29,
   "id": "2347282b",
   "metadata": {
    "scrolled": true
   },
   "outputs": [
    {
     "name": "stdout",
     "output_type": "stream",
     "text": [
      "Files already downloaded and verified\n",
      "Files already downloaded and verified\n"
     ]
    }
   ],
   "source": [
    "num_workers = 2\n",
    "\n",
    "transform = transforms.Compose(\n",
    "    [transforms.ToTensor(),\n",
    "     transforms.Normalize(mean=(0.5, 0.5, 0.5), std=(0.5, 0.5, 0.5))])\n",
    "\n",
    "train_set = torchvision.datasets.CIFAR10(root='./data', train=True,\n",
    "                                        download=True, transform=transform)\n",
    "\n",
    "test_set = torchvision.datasets.CIFAR10(root='./data', train=False,\n",
    "                                       download=True, transform=transform)\n",
    "\n",
    "classes = ('plane', 'car', 'bird', 'cat',\n",
    "           'deer', 'dog', 'frog', 'horse', 'ship', 'truck')"
   ]
  },
  {
   "cell_type": "markdown",
   "id": "e6a2e0e3",
   "metadata": {},
   "source": [
    "### Benchmark data-splitting vs CES data-splitting"
   ]
  },
  {
   "cell_type": "code",
   "execution_count": 30,
   "id": "ad14339f",
   "metadata": {},
   "outputs": [],
   "source": [
    "from torch.utils.data.sampler import SubsetRandomSampler\n",
    "num_workers = 0\n",
    "\n",
    "seed = 0\n",
    "np.random.seed(seed)\n",
    "th.manual_seed(seed)\n",
    "\n",
    "# MNIST is a simple dataset, hence we only take 300 inlier data to demonstrate\n",
    "# Benchmark data splitting: equally split the data into 3 sets\n",
    "n_full = len(train_set)\n",
    "n_data = 2000\n",
    "n_val_bm = int(n_data*0.25)\n",
    "n_cal_bm = n_val_bm\n",
    "n_train_bm = n_data-n_val_bm-n_cal_bm\n",
    "\n",
    "train_set_bm, val_set_bm, cal_set_bm, _ = th.utils.data.random_split(train_set,\\\n",
    "                                 [n_train_bm, n_val_bm, n_cal_bm, n_full-n_data])\n",
    "\n",
    "# CES data splitting: calibration set is not needed, merge back to the training set\n",
    "n_val_ces = n_val_bm\n",
    "n_train_ces = n_data-n_val_ces\n",
    "\n",
    "train_set_ces, val_set_ces, _ = th.utils.data.random_split(train_set,\\\n",
    "                                 [n_train_ces, n_val_ces, n_full-n_data])\n"
   ]
  },
  {
   "cell_type": "code",
   "execution_count": 31,
   "id": "bb1c3663",
   "metadata": {},
   "outputs": [],
   "source": [
    "# Create data loader objects\n",
    "# For benchmarks\n",
    "batch_size = 64\n",
    "num_workers = 4\n",
    "\n",
    "train_loader_bm = th.utils.data.DataLoader(train_set_bm, batch_size=batch_size,\n",
    "                                          num_workers=num_workers)\n",
    "\n",
    "val_loader_bm = th.utils.data.DataLoader(val_set_bm, batch_size=100,\n",
    "                                          num_workers=num_workers)\n",
    "\n",
    "cal_loader_bm = th.utils.data.DataLoader(cal_set_bm, batch_size=100,\n",
    "                                          num_workers=num_workers)\n",
    "\n",
    "# For CES\n",
    "train_loader_ces = th.utils.data.DataLoader(train_set_ces, batch_size=batch_size,\n",
    "                                          num_workers=num_workers)\n",
    "\n",
    "val_loader_ces = th.utils.data.DataLoader(val_set_ces, batch_size=100,\n",
    "                                          num_workers=num_workers)"
   ]
  },
  {
   "cell_type": "code",
   "execution_count": 32,
   "id": "ef207634",
   "metadata": {},
   "outputs": [],
   "source": [
    "# Test loader\n",
    "\n",
    "seed = 99\n",
    "np.random.seed(seed)\n",
    "th.manual_seed(seed)\n",
    "\n",
    "n_test_samples = 1000\n",
    "test_sampler = SubsetRandomSampler(np.arange(n_test_samples, dtype=np.int64))\n",
    "test_loader = th.utils.data.DataLoader(test_set, batch_size=n_test_samples, sampler=test_sampler,\n",
    "                                         num_workers=num_workers)\n",
    "\n",
    "# get all test images\n",
    "dataiter = iter(test_loader)\n",
    "inputs, labels = dataiter.next()"
   ]
  },
  {
   "cell_type": "code",
   "execution_count": 33,
   "id": "e937e5a7",
   "metadata": {},
   "outputs": [
    {
     "name": "stdout",
     "output_type": "stream",
     "text": [
      "      frog      horse      truck       bird\n"
     ]
    },
    {
     "data": {
      "image/png": "[encoded data removed]",
      "text/plain": [
       "<Figure size 432x288 with 1 Axes>"
      ]
     },
     "metadata": {
      "needs_background": "light"
     },
     "output_type": "display_data"
    }
   ],
   "source": [
    "# Plot some sample test data\n",
    "\n",
    "imshow(torchvision.utils.make_grid(inputs[:4]), norm=True)\n",
    "# print labels\n",
    "print(' '.join('{:>10}'.format(classes[labels[j]]) for j in range(4)))"
   ]
  },
  {
   "cell_type": "markdown",
   "id": "6736101f",
   "metadata": {},
   "source": [
    "### Define CNN"
   ]
  },
  {
   "cell_type": "code",
   "execution_count": 57,
   "id": "120567b0",
   "metadata": {},
   "outputs": [],
   "source": [
    "from method import CES_multiClass\n",
    "from networks import SimpleConvolutionalNetwork\n",
    "from inference import Conformal_PSet"
   ]
  },
  {
   "cell_type": "code",
   "execution_count": 58,
   "id": "308a9e92",
   "metadata": {},
   "outputs": [],
   "source": [
    "import torch.optim as optim\n",
    "\n",
    "# Define the model parameters\n",
    "lr = 0.001\n",
    "n_epoch = 10\n",
    "n_classes = len(classes)\n",
    "\n",
    "# Create loss and optimizer\n",
    "# CES_oneClass object will assume criterion takes three parameters: output, input and target, \n",
    "# create wrapper function to modify the criterion.\n",
    "net_bm = SimpleConvolutionalNetwork()\n",
    "Loss = th.nn.CrossEntropyLoss()\n",
    "def criterion(outputs, inputs, targets):\n",
    "    return Loss(outputs, targets)\n",
    "optimizer_bm = optim.Adam(net_bm.parameters(), lr=lr)"
   ]
  },
  {
   "cell_type": "code",
   "execution_count": 59,
   "id": "7635afff",
   "metadata": {},
   "outputs": [],
   "source": [
    "seed = 0\n",
    "np.random.seed(seed)\n",
    "th.manual_seed(seed)\n",
    "\n",
    "if th.cuda.is_available():\n",
    "    # Make CuDNN Determinist\n",
    "    th.backends.cudnn.deterministic = True\n",
    "    th.cuda.manual_seed(seed)\n",
    "\n",
    "# Define default device, we should use the GPU (cuda) if available\n",
    "device = th.device(\"cuda\" if th.cuda.is_available() else \"cpu\")### Define subset of the dataset (so it is faster to train)"
   ]
  },
  {
   "cell_type": "markdown",
   "id": "029c7637",
   "metadata": {},
   "source": [
    "### Train the benchmark model"
   ]
  },
  {
   "cell_type": "code",
   "execution_count": 60,
   "id": "574cc622",
   "metadata": {},
   "outputs": [
    {
     "name": "stdout",
     "output_type": "stream",
     "text": [
      "===== HYPERPARAMETERS =====\n",
      "batch_size= 64\n",
      "n_epochs= 10\n",
      "learning_rate= 0.001\n",
      "==============================\n"
     ]
    }
   ],
   "source": [
    "seed = 0\n",
    "np.random.seed(seed)\n",
    "th.manual_seed(seed)\n",
    "\n",
    "# Initialize the CES class with model parameters\n",
    "CES_mc_bm = CES_multiClass(net_bm, device, train_loader_bm, n_classes=n_classes, batch_size=batch_size, max_epoch=n_epoch, \n",
    "                        learning_rate=lr, val_loader=val_loader_bm, criterion=criterion,optimizer=optimizer_bm)"
   ]
  },
  {
   "cell_type": "code",
   "execution_count": 61,
   "id": "c7d6cd69",
   "metadata": {
    "scrolled": true
   },
   "outputs": [
    {
     "name": "stdout",
     "output_type": "stream",
     "text": [
      "Epoch 1 of 10, 6% \t train_loss: 2.30 train_acc: 12.50% took: 9.78s\n",
      "Epoch 1 of 10, 12% \t train_loss: 2.29 train_acc: 7.81% took: 0.03s\n",
      "Epoch 1 of 10, 18% \t train_loss: 2.31 train_acc: 15.62% took: 0.03s\n",
      "Epoch 1 of 10, 25% \t train_loss: 2.27 train_acc: 7.81% took: 0.03s\n",
      "Epoch 1 of 10, 31% \t train_loss: 2.33 train_acc: 10.94% took: 0.03s\n",
      "Epoch 1 of 10, 37% \t train_loss: 2.27 train_acc: 12.50% took: 0.04s\n",
      "Epoch 1 of 10, 43% \t train_loss: 2.21 train_acc: 14.06% took: 0.03s\n",
      "Epoch 1 of 10, 50% \t train_loss: 2.13 train_acc: 21.88% took: 0.03s\n",
      "Epoch 1 of 10, 56% \t train_loss: 2.24 train_acc: 14.06% took: 0.03s\n",
      "Epoch 1 of 10, 62% \t train_loss: 2.12 train_acc: 25.00% took: 0.04s\n",
      "Epoch 1 of 10, 68% \t train_loss: 2.21 train_acc: 10.94% took: 0.04s\n",
      "Epoch 1 of 10, 75% \t train_loss: 2.14 train_acc: 18.75% took: 0.04s\n",
      "Epoch 1 of 10, 81% \t train_loss: 2.14 train_acc: 18.75% took: 0.04s\n",
      "Epoch 1 of 10, 87% \t train_loss: 2.08 train_acc: 12.50% took: 0.04s\n",
      "Epoch 1 of 10, 93% \t train_loss: 2.14 train_acc: 21.88% took: 0.04s\n",
      "Epoch 1 of 10, 100% \t train_loss: 2.12 train_acc: 20.00% took: 0.03s\n",
      "val_loss = 2.13 val_acc = 24.40%\n",
      "Snapshot saved at epoch 1.\n",
      "Epoch 2 of 10, 6% \t train_loss: 2.11 train_acc: 26.56% took: 7.74s\n",
      "Epoch 2 of 10, 12% \t train_loss: 1.98 train_acc: 35.94% took: 0.02s\n",
      "Epoch 2 of 10, 18% \t train_loss: 1.99 train_acc: 25.00% took: 0.02s\n",
      "Epoch 2 of 10, 25% \t train_loss: 2.13 train_acc: 20.31% took: 0.02s\n",
      "Epoch 2 of 10, 31% \t train_loss: 2.04 train_acc: 29.69% took: 0.02s\n",
      "Epoch 2 of 10, 37% \t train_loss: 2.00 train_acc: 31.25% took: 0.03s\n",
      "Epoch 2 of 10, 43% \t train_loss: 1.95 train_acc: 31.25% took: 0.02s\n",
      "Epoch 2 of 10, 50% \t train_loss: 1.91 train_acc: 32.81% took: 0.03s\n",
      "Epoch 2 of 10, 56% \t train_loss: 1.97 train_acc: 31.25% took: 0.02s\n",
      "Epoch 2 of 10, 62% \t train_loss: 1.86 train_acc: 31.25% took: 0.03s\n",
      "Epoch 2 of 10, 68% \t train_loss: 2.07 train_acc: 15.62% took: 0.03s\n",
      "Epoch 2 of 10, 75% \t train_loss: 1.98 train_acc: 32.81% took: 0.03s\n",
      "Epoch 2 of 10, 81% \t train_loss: 1.98 train_acc: 29.69% took: 0.03s\n",
      "Epoch 2 of 10, 87% \t train_loss: 1.86 train_acc: 31.25% took: 0.02s\n",
      "Epoch 2 of 10, 93% \t train_loss: 1.99 train_acc: 26.56% took: 0.03s\n",
      "Epoch 2 of 10, 100% \t train_loss: 1.91 train_acc: 32.50% took: 0.02s\n",
      "val_loss = 2.00 val_acc = 30.40%\n",
      "Snapshot saved at epoch 2.\n",
      "Epoch 3 of 10, 6% \t train_loss: 1.93 train_acc: 29.69% took: 7.26s\n",
      "Epoch 3 of 10, 12% \t train_loss: 1.78 train_acc: 45.31% took: 0.02s\n",
      "Epoch 3 of 10, 18% \t train_loss: 1.82 train_acc: 31.25% took: 0.02s\n",
      "Epoch 3 of 10, 25% \t train_loss: 1.98 train_acc: 25.00% took: 0.02s\n",
      "Epoch 3 of 10, 31% \t train_loss: 1.86 train_acc: 37.50% took: 0.02s\n",
      "Epoch 3 of 10, 37% \t train_loss: 1.85 train_acc: 26.56% took: 0.02s\n",
      "Epoch 3 of 10, 43% \t train_loss: 1.78 train_acc: 39.06% took: 0.02s\n",
      "Epoch 3 of 10, 50% \t train_loss: 1.78 train_acc: 32.81% took: 0.02s\n",
      "Epoch 3 of 10, 56% \t train_loss: 1.81 train_acc: 42.19% took: 0.02s\n",
      "Epoch 3 of 10, 62% \t train_loss: 1.70 train_acc: 39.06% took: 0.02s\n",
      "Epoch 3 of 10, 68% \t train_loss: 1.92 train_acc: 20.31% took: 0.02s\n",
      "Epoch 3 of 10, 75% \t train_loss: 1.78 train_acc: 43.75% took: 0.02s\n",
      "Epoch 3 of 10, 81% \t train_loss: 1.81 train_acc: 26.56% took: 0.02s\n",
      "Epoch 3 of 10, 87% \t train_loss: 1.71 train_acc: 35.94% took: 0.02s\n",
      "Epoch 3 of 10, 93% \t train_loss: 1.84 train_acc: 39.06% took: 0.02s\n",
      "Epoch 3 of 10, 100% \t train_loss: 1.79 train_acc: 45.00% took: 0.02s\n",
      "val_loss = 1.89 val_acc = 32.60%\n",
      "Snapshot saved at epoch 3.\n",
      "Epoch 4 of 10, 6% \t train_loss: 1.74 train_acc: 37.50% took: 6.24s\n",
      "Epoch 4 of 10, 12% \t train_loss: 1.59 train_acc: 45.31% took: 0.02s\n",
      "Epoch 4 of 10, 18% \t train_loss: 1.67 train_acc: 42.19% took: 0.02s\n",
      "Epoch 4 of 10, 25% \t train_loss: 1.76 train_acc: 37.50% took: 0.02s\n",
      "Epoch 4 of 10, 31% \t train_loss: 1.73 train_acc: 43.75% took: 0.02s\n",
      "Epoch 4 of 10, 37% \t train_loss: 1.72 train_acc: 34.38% took: 0.02s\n",
      "Epoch 4 of 10, 43% \t train_loss: 1.64 train_acc: 43.75% took: 0.02s\n",
      "Epoch 4 of 10, 50% \t train_loss: 1.61 train_acc: 42.19% took: 0.02s\n",
      "Epoch 4 of 10, 56% \t train_loss: 1.71 train_acc: 48.44% took: 0.02s\n",
      "Epoch 4 of 10, 62% \t train_loss: 1.59 train_acc: 48.44% took: 0.02s\n",
      "Epoch 4 of 10, 68% \t train_loss: 1.84 train_acc: 23.44% took: 0.02s\n",
      "Epoch 4 of 10, 75% \t train_loss: 1.64 train_acc: 48.44% took: 0.03s\n",
      "Epoch 4 of 10, 81% \t train_loss: 1.69 train_acc: 35.94% took: 0.02s\n",
      "Epoch 4 of 10, 87% \t train_loss: 1.52 train_acc: 48.44% took: 0.02s\n",
      "Epoch 4 of 10, 93% \t train_loss: 1.72 train_acc: 40.62% took: 0.02s\n",
      "Epoch 4 of 10, 100% \t train_loss: 1.60 train_acc: 50.00% took: 0.02s\n",
      "val_loss = 1.85 val_acc = 34.80%\n",
      "Snapshot saved at epoch 4.\n",
      "Epoch 5 of 10, 6% \t train_loss: 1.63 train_acc: 42.19% took: 6.50s\n",
      "Epoch 5 of 10, 12% \t train_loss: 1.48 train_acc: 50.00% took: 0.02s\n",
      "Epoch 5 of 10, 18% \t train_loss: 1.50 train_acc: 48.44% took: 0.02s\n",
      "Epoch 5 of 10, 25% \t train_loss: 1.60 train_acc: 43.75% took: 0.02s\n",
      "Epoch 5 of 10, 31% \t train_loss: 1.63 train_acc: 50.00% took: 0.02s\n",
      "Epoch 5 of 10, 37% \t train_loss: 1.63 train_acc: 35.94% took: 0.02s\n",
      "Epoch 5 of 10, 43% \t train_loss: 1.54 train_acc: 45.31% took: 0.02s\n",
      "Epoch 5 of 10, 50% \t train_loss: 1.47 train_acc: 48.44% took: 0.02s\n",
      "Epoch 5 of 10, 56% \t train_loss: 1.59 train_acc: 43.75% took: 0.02s\n",
      "Epoch 5 of 10, 62% \t train_loss: 1.47 train_acc: 51.56% took: 0.02s\n",
      "Epoch 5 of 10, 68% \t train_loss: 1.70 train_acc: 35.94% took: 0.02s\n",
      "Epoch 5 of 10, 75% \t train_loss: 1.52 train_acc: 53.12% took: 0.02s\n",
      "Epoch 5 of 10, 81% \t train_loss: 1.53 train_acc: 42.19% took: 0.02s\n",
      "Epoch 5 of 10, 87% \t train_loss: 1.38 train_acc: 51.56% took: 0.02s\n",
      "Epoch 5 of 10, 93% \t train_loss: 1.63 train_acc: 48.44% took: 0.02s\n",
      "Epoch 5 of 10, 100% \t train_loss: 1.47 train_acc: 50.00% took: 0.02s\n",
      "val_loss = 1.83 val_acc = 36.00%\n",
      "Snapshot saved at epoch 5.\n",
      "Epoch 6 of 10, 6% \t train_loss: 1.51 train_acc: 46.88% took: 6.65s\n",
      "Epoch 6 of 10, 12% \t train_loss: 1.34 train_acc: 54.69% took: 0.02s\n",
      "Epoch 6 of 10, 18% \t train_loss: 1.38 train_acc: 54.69% took: 0.02s\n",
      "Epoch 6 of 10, 25% \t train_loss: 1.43 train_acc: 56.25% took: 0.02s\n",
      "Epoch 6 of 10, 31% \t train_loss: 1.49 train_acc: 50.00% took: 0.02s\n",
      "Epoch 6 of 10, 37% \t train_loss: 1.47 train_acc: 45.31% took: 0.02s\n",
      "Epoch 6 of 10, 43% \t train_loss: 1.41 train_acc: 51.56% took: 0.02s\n",
      "Epoch 6 of 10, 50% \t train_loss: 1.34 train_acc: 56.25% took: 0.02s\n",
      "Epoch 6 of 10, 56% \t train_loss: 1.48 train_acc: 46.88% took: 0.02s\n",
      "Epoch 6 of 10, 62% \t train_loss: 1.37 train_acc: 57.81% took: 0.02s\n",
      "Epoch 6 of 10, 68% \t train_loss: 1.61 train_acc: 39.06% took: 0.02s\n",
      "Epoch 6 of 10, 75% \t train_loss: 1.41 train_acc: 54.69% took: 0.02s\n",
      "Epoch 6 of 10, 81% \t train_loss: 1.40 train_acc: 54.69% took: 0.02s\n",
      "Epoch 6 of 10, 87% \t train_loss: 1.27 train_acc: 60.94% took: 0.02s\n",
      "Epoch 6 of 10, 93% \t train_loss: 1.49 train_acc: 50.00% took: 0.02s\n",
      "Epoch 6 of 10, 100% \t train_loss: 1.32 train_acc: 57.50% took: 0.02s\n",
      "val_loss = 1.81 val_acc = 38.20%\n",
      "Snapshot saved at epoch 6.\n",
      "Epoch 7 of 10, 6% \t train_loss: 1.41 train_acc: 48.44% took: 6.82s\n",
      "Epoch 7 of 10, 12% \t train_loss: 1.24 train_acc: 57.81% took: 0.03s\n",
      "Epoch 7 of 10, 18% \t train_loss: 1.23 train_acc: 57.81% took: 0.02s\n",
      "Epoch 7 of 10, 25% \t train_loss: 1.32 train_acc: 54.69% took: 0.02s\n",
      "Epoch 7 of 10, 31% \t train_loss: 1.36 train_acc: 53.12% took: 0.02s\n",
      "Epoch 7 of 10, 37% \t train_loss: 1.36 train_acc: 51.56% took: 0.03s\n",
      "Epoch 7 of 10, 43% \t train_loss: 1.29 train_acc: 54.69% took: 0.02s\n",
      "Epoch 7 of 10, 50% \t train_loss: 1.20 train_acc: 57.81% took: 0.03s\n",
      "Epoch 7 of 10, 56% \t train_loss: 1.39 train_acc: 59.38% took: 0.02s\n",
      "Epoch 7 of 10, 62% \t train_loss: 1.26 train_acc: 62.50% took: 0.03s\n",
      "Epoch 7 of 10, 68% \t train_loss: 1.48 train_acc: 42.19% took: 0.02s\n",
      "Epoch 7 of 10, 75% \t train_loss: 1.29 train_acc: 62.50% took: 0.03s\n",
      "Epoch 7 of 10, 81% \t train_loss: 1.25 train_acc: 57.81% took: 0.02s\n",
      "Epoch 7 of 10, 87% \t train_loss: 1.14 train_acc: 65.62% took: 0.03s\n",
      "Epoch 7 of 10, 93% \t train_loss: 1.37 train_acc: 54.69% took: 0.03s\n",
      "Epoch 7 of 10, 100% \t train_loss: 1.20 train_acc: 65.00% took: 0.02s\n",
      "val_loss = 1.80 val_acc = 40.00%\n",
      "Snapshot saved at epoch 7.\n",
      "Epoch 8 of 10, 6% \t train_loss: 1.29 train_acc: 54.69% took: 7.39s\n",
      "Epoch 8 of 10, 12% \t train_loss: 1.12 train_acc: 65.62% took: 0.02s\n",
      "Epoch 8 of 10, 18% \t train_loss: 1.09 train_acc: 62.50% took: 0.02s\n",
      "Epoch 8 of 10, 25% \t train_loss: 1.17 train_acc: 60.94% took: 0.02s\n",
      "Epoch 8 of 10, 31% \t train_loss: 1.26 train_acc: 62.50% took: 0.02s\n",
      "Epoch 8 of 10, 37% \t train_loss: 1.23 train_acc: 57.81% took: 0.02s\n",
      "Epoch 8 of 10, 43% \t train_loss: 1.16 train_acc: 67.19% took: 0.02s\n",
      "Epoch 8 of 10, 50% \t train_loss: 1.10 train_acc: 62.50% took: 0.02s\n",
      "Epoch 8 of 10, 56% \t train_loss: 1.27 train_acc: 60.94% took: 0.02s\n",
      "Epoch 8 of 10, 62% \t train_loss: 1.14 train_acc: 65.62% took: 0.02s\n"
     ]
    },
    {
     "name": "stdout",
     "output_type": "stream",
     "text": [
      "Epoch 8 of 10, 68% \t train_loss: 1.37 train_acc: 51.56% took: 0.02s\n",
      "Epoch 8 of 10, 75% \t train_loss: 1.19 train_acc: 65.62% took: 0.02s\n",
      "Epoch 8 of 10, 81% \t train_loss: 1.13 train_acc: 60.94% took: 0.02s\n",
      "Epoch 8 of 10, 87% \t train_loss: 1.04 train_acc: 68.75% took: 0.02s\n",
      "Epoch 8 of 10, 93% \t train_loss: 1.25 train_acc: 59.38% took: 0.02s\n",
      "Epoch 8 of 10, 100% \t train_loss: 1.06 train_acc: 65.00% took: 0.02s\n",
      "val_loss = 1.81 val_acc = 40.00%\n",
      "Snapshot saved at epoch 8.\n",
      "Epoch 9 of 10, 6% \t train_loss: 1.18 train_acc: 56.25% took: 7.88s\n",
      "Epoch 9 of 10, 12% \t train_loss: 1.01 train_acc: 71.88% took: 0.02s\n",
      "Epoch 9 of 10, 18% \t train_loss: 0.98 train_acc: 70.31% took: 0.02s\n",
      "Epoch 9 of 10, 25% \t train_loss: 1.05 train_acc: 60.94% took: 0.03s\n",
      "Epoch 9 of 10, 31% \t train_loss: 1.13 train_acc: 64.06% took: 0.03s\n",
      "Epoch 9 of 10, 37% \t train_loss: 1.14 train_acc: 60.94% took: 0.03s\n",
      "Epoch 9 of 10, 43% \t train_loss: 1.05 train_acc: 70.31% took: 0.02s\n",
      "Epoch 9 of 10, 50% \t train_loss: 0.99 train_acc: 67.19% took: 0.03s\n",
      "Epoch 9 of 10, 56% \t train_loss: 1.16 train_acc: 65.62% took: 0.03s\n",
      "Epoch 9 of 10, 62% \t train_loss: 1.04 train_acc: 73.44% took: 0.03s\n",
      "Epoch 9 of 10, 68% \t train_loss: 1.27 train_acc: 59.38% took: 0.03s\n",
      "Epoch 9 of 10, 75% \t train_loss: 1.11 train_acc: 70.31% took: 0.03s\n",
      "Epoch 9 of 10, 81% \t train_loss: 1.01 train_acc: 71.88% took: 0.03s\n",
      "Epoch 9 of 10, 87% \t train_loss: 0.93 train_acc: 71.88% took: 0.03s\n",
      "Epoch 9 of 10, 93% \t train_loss: 1.13 train_acc: 65.62% took: 0.03s\n",
      "Epoch 9 of 10, 100% \t train_loss: 0.95 train_acc: 67.50% took: 0.02s\n",
      "val_loss = 1.85 val_acc = 37.60%\n",
      "Snapshot saved at epoch 9.\n",
      "Epoch 10 of 10, 6% \t train_loss: 1.06 train_acc: 65.62% took: 8.42s\n",
      "Epoch 10 of 10, 12% \t train_loss: 0.92 train_acc: 76.56% took: 0.03s\n",
      "Epoch 10 of 10, 18% \t train_loss: 0.88 train_acc: 75.00% took: 0.03s\n",
      "Epoch 10 of 10, 25% \t train_loss: 0.92 train_acc: 67.19% took: 0.03s\n",
      "Epoch 10 of 10, 31% \t train_loss: 1.03 train_acc: 75.00% took: 0.03s\n",
      "Epoch 10 of 10, 37% \t train_loss: 1.05 train_acc: 62.50% took: 0.03s\n",
      "Epoch 10 of 10, 43% \t train_loss: 0.93 train_acc: 73.44% took: 0.03s\n",
      "Epoch 10 of 10, 50% \t train_loss: 0.89 train_acc: 75.00% took: 0.03s\n",
      "Epoch 10 of 10, 56% \t train_loss: 1.05 train_acc: 71.88% took: 0.03s\n",
      "Epoch 10 of 10, 62% \t train_loss: 0.93 train_acc: 73.44% took: 0.03s\n",
      "Epoch 10 of 10, 68% \t train_loss: 1.16 train_acc: 60.94% took: 0.03s\n",
      "Epoch 10 of 10, 75% \t train_loss: 1.02 train_acc: 68.75% took: 0.03s\n",
      "Epoch 10 of 10, 81% \t train_loss: 0.90 train_acc: 76.56% took: 0.03s\n",
      "Epoch 10 of 10, 87% \t train_loss: 0.86 train_acc: 73.44% took: 0.03s\n",
      "Epoch 10 of 10, 93% \t train_loss: 1.03 train_acc: 70.31% took: 0.03s\n",
      "Epoch 10 of 10, 100% \t train_loss: 0.84 train_acc: 75.00% took: 0.03s\n",
      "val_loss = 1.88 val_acc = 37.00%\n",
      "Snapshot saved at epoch 10.\n",
      "Training done! A list of 10 models saved.\n"
     ]
    }
   ],
   "source": [
    "# Train the model and save snapshots regularly\n",
    "save_every = 1    # Save model after every few epoches\n",
    "CES_mc_bm.full_train(save_dir = './models/multiClass/benchmarks', save_every = save_every)"
   ]
  },
  {
   "cell_type": "code",
   "execution_count": 62,
   "id": "874bebf0",
   "metadata": {},
   "outputs": [
    {
     "name": "stdout",
     "output_type": "stream",
     "text": [
      "Calibrating each model in the list...\n"
     ]
    },
    {
     "name": "stderr",
     "output_type": "stream",
     "text": [
      "100%|██████████████████████████████████████████████████████████████████████████████████| 10/10 [01:16<00:00,  7.70s/it]"
     ]
    },
    {
     "name": "stdout",
     "output_type": "stream",
     "text": [
      "Initialization done!\n",
      "Calibration (one time effort) takes:77.00s.\n"
     ]
    },
    {
     "name": "stderr",
     "output_type": "stream",
     "text": [
      "\n"
     ]
    }
   ],
   "source": [
    "from inference import Conformal_PSet\n",
    "\n",
    "alpha = 0.1\n",
    "n_classes = len(classes)\n",
    "model_list_bm = CES_mc_bm.model_list     # Get the saved model list from the CES class\n",
    "\n",
    "# Compute conformity scores of calibration sets for each model and corresponding calibrated\n",
    "# confidence level, this might take some time if we have too many saved models but fortunately\n",
    "# this initialization will be a one-time effort.\n",
    "cal_time = time.time()\n",
    "C_PSet_bm = Conformal_PSet(net_bm, device, cal_loader_bm, n_classes, model_list_bm, \\\n",
    "                           alpha,random_state = seed)\n",
    "print('Calibration (one time effort) takes:{:.2f}s.'.format(time.time()-cal_time))"
   ]
  },
  {
   "cell_type": "code",
   "execution_count": 63,
   "id": "9a19caed",
   "metadata": {
    "scrolled": true
   },
   "outputs": [
    {
     "name": "stdout",
     "output_type": "stream",
     "text": [
      "selecting models takes: 0.0\n"
     ]
    }
   ],
   "source": [
    "# Pick the best model for each test point\n",
    "start = time.time()\n",
    "best_loss_bm, best_model_bm, test_val_loss_history_bm = CES_mc_bm.select_model()\n",
    "print('selecting models takes:', time.time()-start)"
   ]
  },
  {
   "cell_type": "code",
   "execution_count": 64,
   "id": "01f318c6",
   "metadata": {},
   "outputs": [
    {
     "name": "stderr",
     "output_type": "stream",
     "text": [
      "100%|██████████████████████████████████████████████████████████████████████████████| 1000/1000 [00:19<00:00, 52.30it/s]"
     ]
    },
    {
     "name": "stdout",
     "output_type": "stream",
     "text": [
      "Finished computing marginal prediction sets for 1000 test points.\n"
     ]
    },
    {
     "name": "stderr",
     "output_type": "stream",
     "text": [
      "\n",
      "100%|██████████████████████████████████████████████████████████████████████████████| 1000/1000 [00:20<00:00, 49.21it/s]"
     ]
    },
    {
     "name": "stdout",
     "output_type": "stream",
     "text": [
      "Finished computing label conditional prediction sets for 1000 test points.\n"
     ]
    },
    {
     "name": "stderr",
     "output_type": "stream",
     "text": [
      "\n"
     ]
    }
   ],
   "source": [
    "# Get the marginal conformal pvalues \n",
    "pset_m_bm= C_PSet_bm.pred_set(inputs, [[best_model_bm]*n_classes]*len(inputs), marginal=True)\n",
    "# Get the label conditional conformal pvalues \n",
    "pset_lc_bm = C_PSet_bm.pred_set(inputs,[[best_model_bm]*n_classes]*len(inputs), marginal=False)"
   ]
  },
  {
   "cell_type": "code",
   "execution_count": 65,
   "id": "5e509aa9",
   "metadata": {
    "scrolled": true
   },
   "outputs": [
    {
     "name": "stdout",
     "output_type": "stream",
     "text": [
      "Evaluate marginal prediction sets.\n",
      "==================================================\n",
      "Marginal coverage:       91.600%\n",
      "Average size:            5.902\n",
      "Average size | coverage: 5.927\n",
      "==================================================\n",
      "Conditional coverage for label plane:       88.350%\n",
      "Average size:            5.971\n",
      "Average size | coverage: 5.989\n",
      "Conditional coverage for label car:       95.506%\n",
      "Average size:            5.404\n",
      "Average size | coverage: 5.376\n",
      "Conditional coverage for label bird:       89.000%\n",
      "Average size:            6.300\n",
      "Average size | coverage: 6.449\n",
      "Conditional coverage for label cat:       94.175%\n",
      "Average size:            5.961\n",
      "Average size | coverage: 5.969\n",
      "Conditional coverage for label deer:       86.667%\n",
      "Average size:            6.222\n",
      "Average size | coverage: 6.231\n",
      "Conditional coverage for label dog:       84.884%\n",
      "Average size:            5.779\n",
      "Average size | coverage: 5.863\n",
      "Conditional coverage for label frog:       99.107%\n",
      "Average size:            5.705\n",
      "Average size | coverage: 5.694\n",
      "Conditional coverage for label horse:       91.176%\n",
      "Average size:            6.500\n",
      "Average size | coverage: 6.602\n",
      "Conditional coverage for label ship:       92.453%\n",
      "Average size:            5.623\n",
      "Average size | coverage: 5.663\n",
      "Conditional coverage for label truck:       92.661%\n",
      "Average size:            5.569\n",
      "Average size | coverage: 5.535\n"
     ]
    }
   ],
   "source": [
    "print('Evaluate marginal prediction sets.')\n",
    "print('='*50)\n",
    "evaluate_marginal(pset_m_bm, labels.numpy())\n",
    "print('='*50)\n",
    "evaluate_conditional(pset_m_bm, labels.numpy())"
   ]
  },
  {
   "cell_type": "code",
   "execution_count": 66,
   "id": "ddc03931",
   "metadata": {
    "scrolled": true
   },
   "outputs": [
    {
     "name": "stdout",
     "output_type": "stream",
     "text": [
      "Evaluate label conditional prediction sets.\n",
      "==================================================\n",
      "Marginal coverage:       90.900%\n",
      "Average size:            6.110\n",
      "Average size | coverage: 6.149\n",
      "==================================================\n",
      "Conditional coverage for label plane:       88.350%\n",
      "Average size:            6.291\n",
      "Average size | coverage: 6.308\n",
      "Conditional coverage for label car:       95.506%\n",
      "Average size:            5.281\n",
      "Average size | coverage: 5.247\n",
      "Conditional coverage for label bird:       89.000%\n",
      "Average size:            6.740\n",
      "Average size | coverage: 6.910\n",
      "Conditional coverage for label cat:       97.087%\n",
      "Average size:            6.146\n",
      "Average size | coverage: 6.160\n",
      "Conditional coverage for label deer:       94.444%\n",
      "Average size:            6.522\n",
      "Average size | coverage: 6.541\n",
      "Conditional coverage for label dog:       83.721%\n",
      "Average size:            6.058\n",
      "Average size | coverage: 6.069\n",
      "Conditional coverage for label frog:       97.321%\n",
      "Average size:            6.000\n",
      "Average size | coverage: 6.000\n",
      "Conditional coverage for label horse:       94.118%\n",
      "Average size:            6.578\n",
      "Average size | coverage: 6.646\n",
      "Conditional coverage for label ship:       74.528%\n",
      "Average size:            5.887\n",
      "Average size | coverage: 6.063\n",
      "Conditional coverage for label truck:       94.495%\n",
      "Average size:            5.596\n",
      "Average size | coverage: 5.573\n"
     ]
    }
   ],
   "source": [
    "print('Evaluate label conditional prediction sets.')\n",
    "print('='*50)\n",
    "evaluate_marginal(pset_lc_bm, labels.numpy())\n",
    "print('='*50)\n",
    "evaluate_conditional(pset_lc_bm, labels.numpy())"
   ]
  },
  {
   "cell_type": "markdown",
   "id": "4c13488e",
   "metadata": {},
   "source": [
    "### Train the CES model"
   ]
  },
  {
   "cell_type": "code",
   "execution_count": 67,
   "id": "64c30956",
   "metadata": {},
   "outputs": [
    {
     "name": "stdout",
     "output_type": "stream",
     "text": [
      "===== HYPERPARAMETERS =====\n",
      "batch_size= 64\n",
      "n_epochs= 10\n",
      "learning_rate= 0.001\n",
      "==============================\n"
     ]
    }
   ],
   "source": [
    "seed = 0\n",
    "np.random.seed(seed)\n",
    "th.manual_seed(seed)\n",
    "\n",
    "net_ces = SimpleConvolutionalNetwork()\n",
    "Loss = th.nn.CrossEntropyLoss()\n",
    "def criterion(outputs, inputs, targets):\n",
    "    return Loss(outputs, targets)\n",
    "optimizer_ces = optim.Adam(net_ces.parameters(), lr=lr)\n",
    "\n",
    "# Initialize the CES class with model parameters\n",
    "CES_mc_ces = CES_multiClass(net_ces, device, train_loader_ces, n_classes=n_classes, batch_size=batch_size, max_epoch=n_epoch, \n",
    "                        learning_rate=lr, val_loader=val_loader_ces, criterion=criterion,optimizer=optimizer_ces)"
   ]
  },
  {
   "cell_type": "code",
   "execution_count": 68,
   "id": "674b6bb9",
   "metadata": {},
   "outputs": [],
   "source": [
    "seed = 0\n",
    "np.random.seed(seed)\n",
    "th.manual_seed(seed)\n",
    "\n",
    "if th.cuda.is_available():\n",
    "    # Make CuDNN Determinist\n",
    "    th.backends.cudnn.deterministic = True\n",
    "    th.cuda.manual_seed(seed)\n",
    "\n",
    "# Define default device, we should use the GPU (cuda) if available\n",
    "device = th.device(\"cuda\" if th.cuda.is_available() else \"cpu\")### Define subset of the dataset (so it is faster to train)"
   ]
  },
  {
   "cell_type": "code",
   "execution_count": 69,
   "id": "0bf1f0af",
   "metadata": {
    "scrolled": true
   },
   "outputs": [
    {
     "name": "stdout",
     "output_type": "stream",
     "text": [
      "Epoch 1 of 10, 8% \t train_loss: 2.30 train_acc: 14.84% took: 6.49s\n",
      "Epoch 1 of 10, 16% \t train_loss: 2.22 train_acc: 21.09% took: 0.04s\n",
      "Epoch 1 of 10, 25% \t train_loss: 2.24 train_acc: 13.28% took: 0.04s\n",
      "Epoch 1 of 10, 33% \t train_loss: 2.20 train_acc: 19.53% took: 0.05s\n",
      "Epoch 1 of 10, 41% \t train_loss: 2.05 train_acc: 29.69% took: 0.04s\n",
      "Epoch 1 of 10, 50% \t train_loss: 2.18 train_acc: 21.09% took: 0.04s\n",
      "Epoch 1 of 10, 58% \t train_loss: 2.05 train_acc: 28.91% took: 0.04s\n",
      "Epoch 1 of 10, 66% \t train_loss: 2.06 train_acc: 28.91% took: 0.04s\n",
      "Epoch 1 of 10, 75% \t train_loss: 2.11 train_acc: 23.44% took: 0.03s\n",
      "Epoch 1 of 10, 83% \t train_loss: 1.99 train_acc: 22.66% took: 0.03s\n",
      "Epoch 1 of 10, 91% \t train_loss: 2.05 train_acc: 29.69% took: 0.04s\n",
      "Epoch 1 of 10, 100% \t train_loss: 2.00 train_acc: 24.00% took: 0.03s\n",
      "val_loss = 2.04 val_acc = 27.40%\n",
      "Snapshot saved at epoch 1.\n",
      "Epoch 2 of 10, 8% \t train_loss: 1.87 train_acc: 31.25% took: 6.73s\n",
      "Epoch 2 of 10, 16% \t train_loss: 1.87 train_acc: 30.47% took: 0.04s\n",
      "Epoch 2 of 10, 25% \t train_loss: 1.89 train_acc: 40.62% took: 0.04s\n",
      "Epoch 2 of 10, 33% \t train_loss: 1.87 train_acc: 32.81% took: 0.04s\n",
      "Epoch 2 of 10, 41% \t train_loss: 1.82 train_acc: 32.03% took: 0.04s\n",
      "Epoch 2 of 10, 50% \t train_loss: 1.97 train_acc: 28.91% took: 0.04s\n",
      "Epoch 2 of 10, 58% \t train_loss: 1.78 train_acc: 40.62% took: 0.04s\n",
      "Epoch 2 of 10, 66% \t train_loss: 1.81 train_acc: 40.62% took: 0.04s\n",
      "Epoch 2 of 10, 75% \t train_loss: 1.94 train_acc: 31.25% took: 0.04s\n",
      "Epoch 2 of 10, 83% \t train_loss: 1.73 train_acc: 37.50% took: 0.03s\n",
      "Epoch 2 of 10, 91% \t train_loss: 1.79 train_acc: 39.84% took: 0.04s\n",
      "Epoch 2 of 10, 100% \t train_loss: 1.74 train_acc: 46.32% took: 0.03s\n",
      "val_loss = 1.93 val_acc = 32.20%\n",
      "Snapshot saved at epoch 2.\n",
      "Epoch 3 of 10, 8% \t train_loss: 1.65 train_acc: 45.31% took: 6.47s\n",
      "Epoch 3 of 10, 16% \t train_loss: 1.66 train_acc: 45.31% took: 0.04s\n",
      "Epoch 3 of 10, 25% \t train_loss: 1.73 train_acc: 41.41% took: 0.04s\n",
      "Epoch 3 of 10, 33% \t train_loss: 1.67 train_acc: 41.41% took: 0.04s\n",
      "Epoch 3 of 10, 41% \t train_loss: 1.64 train_acc: 40.62% took: 0.04s\n",
      "Epoch 3 of 10, 50% \t train_loss: 1.80 train_acc: 35.16% took: 0.04s\n",
      "Epoch 3 of 10, 58% \t train_loss: 1.60 train_acc: 46.88% took: 0.04s\n",
      "Epoch 3 of 10, 66% \t train_loss: 1.64 train_acc: 46.88% took: 0.04s\n",
      "Epoch 3 of 10, 75% \t train_loss: 1.73 train_acc: 42.19% took: 0.04s\n",
      "Epoch 3 of 10, 83% \t train_loss: 1.58 train_acc: 41.41% took: 0.04s\n",
      "Epoch 3 of 10, 91% \t train_loss: 1.60 train_acc: 43.75% took: 0.04s\n",
      "Epoch 3 of 10, 100% \t train_loss: 1.54 train_acc: 52.23% took: 0.03s\n",
      "val_loss = 1.87 val_acc = 32.00%\n",
      "Snapshot saved at epoch 3.\n",
      "Epoch 4 of 10, 8% \t train_loss: 1.52 train_acc: 50.78% took: 6.75s\n",
      "Epoch 4 of 10, 16% \t train_loss: 1.48 train_acc: 50.78% took: 0.04s\n",
      "Epoch 4 of 10, 25% \t train_loss: 1.58 train_acc: 45.31% took: 0.04s\n",
      "Epoch 4 of 10, 33% \t train_loss: 1.49 train_acc: 46.09% took: 0.04s\n",
      "Epoch 4 of 10, 41% \t train_loss: 1.48 train_acc: 45.31% took: 0.04s\n",
      "Epoch 4 of 10, 50% \t train_loss: 1.65 train_acc: 42.19% took: 0.04s\n",
      "Epoch 4 of 10, 58% \t train_loss: 1.42 train_acc: 50.78% took: 0.04s\n",
      "Epoch 4 of 10, 66% \t train_loss: 1.45 train_acc: 53.91% took: 0.04s\n",
      "Epoch 4 of 10, 75% \t train_loss: 1.60 train_acc: 46.88% took: 0.04s\n",
      "Epoch 4 of 10, 83% \t train_loss: 1.47 train_acc: 45.31% took: 0.04s\n",
      "Epoch 4 of 10, 91% \t train_loss: 1.46 train_acc: 49.22% took: 0.03s\n",
      "Epoch 4 of 10, 100% \t train_loss: 1.35 train_acc: 55.80% took: 0.03s\n",
      "val_loss = 1.82 val_acc = 33.00%\n",
      "Snapshot saved at epoch 4.\n",
      "Epoch 5 of 10, 8% \t train_loss: 1.40 train_acc: 53.91% took: 7.34s\n",
      "Epoch 5 of 10, 16% \t train_loss: 1.31 train_acc: 54.69% took: 0.05s\n",
      "Epoch 5 of 10, 25% \t train_loss: 1.45 train_acc: 50.78% took: 0.04s\n",
      "Epoch 5 of 10, 33% \t train_loss: 1.32 train_acc: 57.03% took: 0.05s\n",
      "Epoch 5 of 10, 41% \t train_loss: 1.36 train_acc: 47.66% took: 0.05s\n",
      "Epoch 5 of 10, 50% \t train_loss: 1.53 train_acc: 49.22% took: 0.05s\n",
      "Epoch 5 of 10, 58% \t train_loss: 1.27 train_acc: 57.81% took: 0.06s\n",
      "Epoch 5 of 10, 66% \t train_loss: 1.30 train_acc: 59.38% took: 0.05s\n",
      "Epoch 5 of 10, 75% \t train_loss: 1.46 train_acc: 50.78% took: 0.05s\n",
      "Epoch 5 of 10, 83% \t train_loss: 1.33 train_acc: 53.12% took: 0.05s\n",
      "Epoch 5 of 10, 91% \t train_loss: 1.34 train_acc: 53.12% took: 0.05s\n",
      "Epoch 5 of 10, 100% \t train_loss: 1.20 train_acc: 69.42% took: 0.04s\n",
      "val_loss = 1.79 val_acc = 35.40%\n",
      "Snapshot saved at epoch 5.\n",
      "Epoch 6 of 10, 8% \t train_loss: 1.30 train_acc: 55.47% took: 7.96s\n",
      "Epoch 6 of 10, 16% \t train_loss: 1.18 train_acc: 62.50% took: 0.04s\n",
      "Epoch 6 of 10, 25% \t train_loss: 1.35 train_acc: 53.91% took: 0.04s\n",
      "Epoch 6 of 10, 33% \t train_loss: 1.20 train_acc: 61.72% took: 0.04s\n",
      "Epoch 6 of 10, 41% \t train_loss: 1.24 train_acc: 55.47% took: 0.04s\n",
      "Epoch 6 of 10, 50% \t train_loss: 1.41 train_acc: 52.34% took: 0.05s\n",
      "Epoch 6 of 10, 58% \t train_loss: 1.14 train_acc: 62.50% took: 0.05s\n",
      "Epoch 6 of 10, 66% \t train_loss: 1.16 train_acc: 62.50% took: 0.05s\n",
      "Epoch 6 of 10, 75% \t train_loss: 1.33 train_acc: 54.69% took: 0.05s\n",
      "Epoch 6 of 10, 83% \t train_loss: 1.22 train_acc: 55.47% took: 0.05s\n",
      "Epoch 6 of 10, 91% \t train_loss: 1.21 train_acc: 59.38% took: 0.05s\n",
      "Epoch 6 of 10, 100% \t train_loss: 1.08 train_acc: 70.20% took: 0.04s\n",
      "val_loss = 1.79 val_acc = 36.40%\n",
      "Snapshot saved at epoch 6.\n",
      "Epoch 7 of 10, 8% \t train_loss: 1.20 train_acc: 59.38% took: 8.60s\n",
      "Epoch 7 of 10, 16% \t train_loss: 1.06 train_acc: 66.41% took: 0.05s\n",
      "Epoch 7 of 10, 25% \t train_loss: 1.23 train_acc: 57.81% took: 0.05s\n",
      "Epoch 7 of 10, 33% \t train_loss: 1.09 train_acc: 64.84% took: 0.05s\n",
      "Epoch 7 of 10, 41% \t train_loss: 1.14 train_acc: 58.59% took: 0.06s\n",
      "Epoch 7 of 10, 50% \t train_loss: 1.30 train_acc: 55.47% took: 0.06s\n",
      "Epoch 7 of 10, 58% \t train_loss: 1.06 train_acc: 71.09% took: 0.06s\n",
      "Epoch 7 of 10, 66% \t train_loss: 1.06 train_acc: 67.97% took: 0.06s\n",
      "Epoch 7 of 10, 75% \t train_loss: 1.21 train_acc: 58.59% took: 0.06s\n",
      "Epoch 7 of 10, 83% \t train_loss: 1.13 train_acc: 62.50% took: 0.06s\n",
      "Epoch 7 of 10, 91% \t train_loss: 1.10 train_acc: 64.06% took: 0.06s\n",
      "Epoch 7 of 10, 100% \t train_loss: 0.98 train_acc: 70.20% took: 0.06s\n",
      "val_loss = 1.79 val_acc = 37.60%\n",
      "Snapshot saved at epoch 7.\n",
      "Epoch 8 of 10, 8% \t train_loss: 1.10 train_acc: 64.06% took: 8.76s\n",
      "Epoch 8 of 10, 16% \t train_loss: 0.97 train_acc: 67.19% took: 0.06s\n",
      "Epoch 8 of 10, 25% \t train_loss: 1.13 train_acc: 61.72% took: 0.06s\n",
      "Epoch 8 of 10, 33% \t train_loss: 0.99 train_acc: 67.97% took: 0.06s\n",
      "Epoch 8 of 10, 41% \t train_loss: 1.04 train_acc: 64.06% took: 0.06s\n",
      "Epoch 8 of 10, 50% \t train_loss: 1.19 train_acc: 57.81% took: 0.07s\n",
      "Epoch 8 of 10, 58% \t train_loss: 0.96 train_acc: 74.22% took: 0.08s\n",
      "Epoch 8 of 10, 66% \t train_loss: 0.97 train_acc: 71.88% took: 0.07s\n",
      "Epoch 8 of 10, 75% \t train_loss: 1.10 train_acc: 64.84% took: 0.08s\n",
      "Epoch 8 of 10, 83% \t train_loss: 1.04 train_acc: 64.06% took: 0.07s\n",
      "Epoch 8 of 10, 91% \t train_loss: 1.00 train_acc: 70.31% took: 0.07s\n",
      "Epoch 8 of 10, 100% \t train_loss: 0.88 train_acc: 73.55% took: 0.06s\n",
      "val_loss = 1.80 val_acc = 37.80%\n",
      "Snapshot saved at epoch 8.\n",
      "Epoch 9 of 10, 8% \t train_loss: 1.00 train_acc: 65.62% took: 8.76s\n",
      "Epoch 9 of 10, 16% \t train_loss: 0.85 train_acc: 71.88% took: 0.05s\n",
      "Epoch 9 of 10, 25% \t train_loss: 1.02 train_acc: 66.41% took: 0.05s\n",
      "Epoch 9 of 10, 33% \t train_loss: 0.91 train_acc: 71.09% took: 0.06s\n",
      "Epoch 9 of 10, 41% \t train_loss: 0.94 train_acc: 69.53% took: 0.06s\n",
      "Epoch 9 of 10, 50% \t train_loss: 1.11 train_acc: 60.94% took: 0.07s\n",
      "Epoch 9 of 10, 58% \t train_loss: 0.88 train_acc: 75.00% took: 0.08s\n",
      "Epoch 9 of 10, 66% \t train_loss: 0.88 train_acc: 72.66% took: 0.08s\n",
      "Epoch 9 of 10, 75% \t train_loss: 0.98 train_acc: 68.75% took: 0.07s\n",
      "Epoch 9 of 10, 83% \t train_loss: 0.97 train_acc: 65.62% took: 0.07s\n",
      "Epoch 9 of 10, 91% \t train_loss: 0.90 train_acc: 76.56% took: 0.07s\n",
      "Epoch 9 of 10, 100% \t train_loss: 0.81 train_acc: 74.33% took: 0.06s\n",
      "val_loss = 1.83 val_acc = 37.40%\n",
      "Snapshot saved at epoch 9.\n",
      "Epoch 10 of 10, 8% \t train_loss: 0.92 train_acc: 67.97% took: 8.83s\n",
      "Epoch 10 of 10, 16% \t train_loss: 0.78 train_acc: 75.78% took: 0.05s\n",
      "Epoch 10 of 10, 25% \t train_loss: 0.91 train_acc: 69.53% took: 0.06s\n",
      "Epoch 10 of 10, 33% \t train_loss: 0.83 train_acc: 75.00% took: 0.06s\n",
      "Epoch 10 of 10, 41% \t train_loss: 0.85 train_acc: 72.66% took: 0.06s\n",
      "Epoch 10 of 10, 50% \t train_loss: 1.01 train_acc: 64.84% took: 0.06s\n",
      "Epoch 10 of 10, 58% \t train_loss: 0.81 train_acc: 75.00% took: 0.07s\n",
      "Epoch 10 of 10, 66% \t train_loss: 0.82 train_acc: 76.56% took: 0.07s\n"
     ]
    },
    {
     "name": "stdout",
     "output_type": "stream",
     "text": [
      "Epoch 10 of 10, 75% \t train_loss: 0.88 train_acc: 75.00% took: 0.08s\n",
      "Epoch 10 of 10, 83% \t train_loss: 0.89 train_acc: 67.97% took: 0.07s\n",
      "Epoch 10 of 10, 91% \t train_loss: 0.82 train_acc: 78.12% took: 0.07s\n",
      "Epoch 10 of 10, 100% \t train_loss: 0.73 train_acc: 81.03% took: 0.06s\n",
      "val_loss = 1.86 val_acc = 37.80%\n",
      "Snapshot saved at epoch 10.\n",
      "Training done! A list of 10 models saved.\n"
     ]
    }
   ],
   "source": [
    "# Train the model and save snapshots regularly\n",
    "save_every = 1    # Save model after every few epoches\n",
    "CES_mc_ces.full_train(save_dir = './models/multiClass/ces', save_every = save_every)"
   ]
  },
  {
   "cell_type": "code",
   "execution_count": 70,
   "id": "72ced315",
   "metadata": {
    "scrolled": true
   },
   "outputs": [
    {
     "name": "stdout",
     "output_type": "stream",
     "text": [
      "Calibrating each model in the list...\n"
     ]
    },
    {
     "name": "stderr",
     "output_type": "stream",
     "text": [
      "100%|██████████████████████████████████████████████████████████████████████████████████| 10/10 [01:16<00:00,  7.65s/it]"
     ]
    },
    {
     "name": "stdout",
     "output_type": "stream",
     "text": [
      "Initialization done!\n",
      "Calibration (one time effort) takes:76.46s.\n"
     ]
    },
    {
     "name": "stderr",
     "output_type": "stream",
     "text": [
      "\n"
     ]
    }
   ],
   "source": [
    "import time\n",
    "alpha = 0.1\n",
    "model_list_ces = CES_mc_ces.model_list     # Get the saved model list from the CES class\n",
    "\n",
    "# Compute conformity scores of calibration sets for each model and corresponding calibrated\n",
    "# confidence level, this might take some time if we have too many saved models but fortunately\n",
    "# this initialization will be a one-time effort.\n",
    "cal_time = time.time()\n",
    "C_PSet_ces = Conformal_PSet(net_ces, device, val_loader_ces, n_classes, model_list_ces, \\\n",
    "                           alpha,random_state = seed)\n",
    "print('Calibration (one time effort) takes:{:.2f}s.'.format(time.time()-cal_time))"
   ]
  },
  {
   "cell_type": "code",
   "execution_count": 71,
   "id": "1842462b",
   "metadata": {},
   "outputs": [
    {
     "name": "stdout",
     "output_type": "stream",
     "text": [
      "Loading model 0 of 10...\n"
     ]
    },
    {
     "name": "stderr",
     "output_type": "stream",
     "text": [
      "100%|█████████████████████████████████████████████████████████████████████████████| 1000/1000 [00:08<00:00, 117.05it/s]"
     ]
    },
    {
     "name": "stdout",
     "output_type": "stream",
     "text": [
      "Loading model 1 of 10...\n"
     ]
    },
    {
     "name": "stderr",
     "output_type": "stream",
     "text": [
      "\n",
      "100%|█████████████████████████████████████████████████████████████████████████████| 1000/1000 [00:08<00:00, 113.75it/s]"
     ]
    },
    {
     "name": "stdout",
     "output_type": "stream",
     "text": [
      "Loading model 2 of 10...\n"
     ]
    },
    {
     "name": "stderr",
     "output_type": "stream",
     "text": [
      "\n",
      "100%|█████████████████████████████████████████████████████████████████████████████| 1000/1000 [00:09<00:00, 101.48it/s]"
     ]
    },
    {
     "name": "stdout",
     "output_type": "stream",
     "text": [
      "Loading model 3 of 10...\n"
     ]
    },
    {
     "name": "stderr",
     "output_type": "stream",
     "text": [
      "\n",
      "100%|██████████████████████████████████████████████████████████████████████████████| 1000/1000 [00:10<00:00, 97.35it/s]"
     ]
    },
    {
     "name": "stdout",
     "output_type": "stream",
     "text": [
      "Loading model 4 of 10...\n"
     ]
    },
    {
     "name": "stderr",
     "output_type": "stream",
     "text": [
      "\n",
      "100%|██████████████████████████████████████████████████████████████████████████████| 1000/1000 [00:11<00:00, 90.44it/s]"
     ]
    },
    {
     "name": "stdout",
     "output_type": "stream",
     "text": [
      "Loading model 5 of 10...\n"
     ]
    },
    {
     "name": "stderr",
     "output_type": "stream",
     "text": [
      "\n",
      "100%|█████████████████████████████████████████████████████████████████████████████| 1000/1000 [00:09<00:00, 101.67it/s]"
     ]
    },
    {
     "name": "stdout",
     "output_type": "stream",
     "text": [
      "Loading model 6 of 10...\n"
     ]
    },
    {
     "name": "stderr",
     "output_type": "stream",
     "text": [
      "\n",
      "100%|██████████████████████████████████████████████████████████████████████████████| 1000/1000 [00:11<00:00, 88.24it/s]\n"
     ]
    },
    {
     "name": "stdout",
     "output_type": "stream",
     "text": [
      "Loading model 7 of 10...\n"
     ]
    },
    {
     "name": "stderr",
     "output_type": "stream",
     "text": [
      "100%|██████████████████████████████████████████████████████████████████████████████| 1000/1000 [00:10<00:00, 94.45it/s]"
     ]
    },
    {
     "name": "stdout",
     "output_type": "stream",
     "text": [
      "Loading model 8 of 10...\n"
     ]
    },
    {
     "name": "stderr",
     "output_type": "stream",
     "text": [
      "\n",
      "100%|█████████████████████████████████████████████████████████████████████████████| 1000/1000 [00:09<00:00, 101.75it/s]"
     ]
    },
    {
     "name": "stdout",
     "output_type": "stream",
     "text": [
      "Loading model 9 of 10...\n"
     ]
    },
    {
     "name": "stderr",
     "output_type": "stream",
     "text": [
      "\n",
      "100%|█████████████████████████████████████████████████████████████████████████████| 1000/1000 [00:08<00:00, 117.97it/s]"
     ]
    },
    {
     "name": "stdout",
     "output_type": "stream",
     "text": [
      "selecting models takes: 98.66001629829407\n"
     ]
    },
    {
     "name": "stderr",
     "output_type": "stream",
     "text": [
      "\n"
     ]
    }
   ],
   "source": [
    "# Pick the best model for each test point\n",
    "start = time.time()\n",
    "best_loss_ces, best_model_ces, test_val_loss_history_ces = CES_mc_ces.select_model(inputs)\n",
    "print('selecting models takes:', time.time()-start)"
   ]
  },
  {
   "cell_type": "code",
   "execution_count": 72,
   "id": "875f0a27",
   "metadata": {},
   "outputs": [
    {
     "name": "stderr",
     "output_type": "stream",
     "text": [
      "100%|██████████████████████████████████████████████████████████████████████████████| 1000/1000 [00:24<00:00, 41.29it/s]"
     ]
    },
    {
     "name": "stdout",
     "output_type": "stream",
     "text": [
      "Finished computing marginal prediction sets for 1000 test points.\n"
     ]
    },
    {
     "name": "stderr",
     "output_type": "stream",
     "text": [
      "\n",
      "100%|██████████████████████████████████████████████████████████████████████████████| 1000/1000 [00:23<00:00, 42.40it/s]"
     ]
    },
    {
     "name": "stdout",
     "output_type": "stream",
     "text": [
      "Finished computing label conditional prediction sets for 1000 test points.\n"
     ]
    },
    {
     "name": "stderr",
     "output_type": "stream",
     "text": [
      "\n"
     ]
    }
   ],
   "source": [
    "# Get the marginal conformal pvalues \n",
    "pset_m_ces= C_PSet_ces.pred_set(inputs, best_model_ces, marginal=True)\n",
    "# Get the label conditional conformal pvalues \n",
    "pset_lc_ces = C_PSet_ces.pred_set(inputs, best_model_ces, marginal=False)"
   ]
  },
  {
   "cell_type": "code",
   "execution_count": 73,
   "id": "11fc2002",
   "metadata": {},
   "outputs": [
    {
     "name": "stdout",
     "output_type": "stream",
     "text": [
      "Evaluate marginal prediction sets.\n",
      "==================================================\n",
      "Marginal coverage:       90.600%\n",
      "Average size:            5.150\n",
      "Average size | coverage: 5.164\n",
      "==================================================\n",
      "Conditional coverage for label plane:       79.612%\n",
      "Average size:            4.903\n",
      "Average size | coverage: 4.805\n",
      "Conditional coverage for label car:       93.258%\n",
      "Average size:            4.202\n",
      "Average size | coverage: 4.205\n",
      "Conditional coverage for label bird:       97.000%\n",
      "Average size:            5.680\n",
      "Average size | coverage: 5.691\n",
      "Conditional coverage for label cat:       91.262%\n",
      "Average size:            5.709\n",
      "Average size | coverage: 5.787\n",
      "Conditional coverage for label deer:       82.222%\n",
      "Average size:            5.544\n",
      "Average size | coverage: 5.689\n",
      "Conditional coverage for label dog:       94.186%\n",
      "Average size:            5.535\n",
      "Average size | coverage: 5.531\n",
      "Conditional coverage for label frog:       94.643%\n",
      "Average size:            5.964\n",
      "Average size | coverage: 5.972\n",
      "Conditional coverage for label horse:       94.118%\n",
      "Average size:            5.157\n",
      "Average size | coverage: 5.125\n",
      "Conditional coverage for label ship:       87.736%\n",
      "Average size:            4.519\n",
      "Average size | coverage: 4.548\n",
      "Conditional coverage for label truck:       91.743%\n",
      "Average size:            4.284\n",
      "Average size | coverage: 4.230\n"
     ]
    }
   ],
   "source": [
    "print('Evaluate marginal prediction sets.')\n",
    "print('='*50)\n",
    "evaluate_marginal(pset_m_ces, labels.numpy())\n",
    "print('='*50)\n",
    "evaluate_conditional(pset_m_ces, labels.numpy())"
   ]
  },
  {
   "cell_type": "code",
   "execution_count": 74,
   "id": "1e7ae8bb",
   "metadata": {},
   "outputs": [
    {
     "name": "stdout",
     "output_type": "stream",
     "text": [
      "Evaluate label conditional prediction sets.\n",
      "==================================================\n",
      "Marginal coverage:       92.100%\n",
      "Average size:            5.688\n",
      "Average size | coverage: 5.705\n",
      "==================================================\n",
      "Conditional coverage for label plane:       93.204%\n",
      "Average size:            5.243\n",
      "Average size | coverage: 5.219\n",
      "Conditional coverage for label car:       97.753%\n",
      "Average size:            4.854\n",
      "Average size | coverage: 4.816\n",
      "Conditional coverage for label bird:       92.000%\n",
      "Average size:            6.310\n",
      "Average size | coverage: 6.391\n",
      "Conditional coverage for label cat:       90.291%\n",
      "Average size:            6.272\n",
      "Average size | coverage: 6.409\n",
      "Conditional coverage for label deer:       87.778%\n",
      "Average size:            6.022\n",
      "Average size | coverage: 6.177\n",
      "Conditional coverage for label dog:       94.186%\n",
      "Average size:            6.140\n",
      "Average size | coverage: 6.185\n",
      "Conditional coverage for label frog:       91.071%\n",
      "Average size:            6.464\n",
      "Average size | coverage: 6.480\n",
      "Conditional coverage for label horse:       95.098%\n",
      "Average size:            5.618\n",
      "Average size | coverage: 5.567\n",
      "Conditional coverage for label ship:       95.283%\n",
      "Average size:            4.962\n",
      "Average size | coverage: 4.931\n",
      "Conditional coverage for label truck:       85.321%\n",
      "Average size:            5.009\n",
      "Average size | coverage: 4.968\n"
     ]
    }
   ],
   "source": [
    "print('Evaluate label conditional prediction sets.')\n",
    "print('='*50)\n",
    "evaluate_marginal(pset_lc_ces, labels.numpy())\n",
    "print('='*50)\n",
    "evaluate_conditional(pset_lc_ces, labels.numpy())"
   ]
  }
 ],
 "metadata": {
  "kernelspec": {
   "display_name": "Python 3 (ipykernel)",
   "language": "python",
   "name": "python3"
  },
  "language_info": {
   "codemirror_mode": {
    "name": "ipython",
    "version": 3
   },
   "file_extension": ".py",
   "mimetype": "text/x-python",
   "name": "python",
   "nbconvert_exporter": "python",
   "pygments_lexer": "ipython3",
   "version": "3.9.12"
  }
 },
 "nbformat": 4,
 "nbformat_minor": 5
}
