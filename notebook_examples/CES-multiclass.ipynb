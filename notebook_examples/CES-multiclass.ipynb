{
 "cells": [
  {
   "cell_type": "markdown",
   "id": "b33e5af3",
   "metadata": {},
   "source": [
    "# Conformalized Early Stopping -- Multi-class Classification\n",
    "__The notebook is organized as follow:__\n",
    "1. Training and conformalized early stopping: we train a CNN with CIFAR10 dataset, save model snapshots regularly. \n",
    "2. Compute conformal prediction sets:  For each test point we select the best snapshots from the model list saved at step 1. We then compute marginal and label conditional prediction sets using the best model.\n",
    "3. Visualization and comparison with benchmark: lastly we will compare our new method to the conventional benchmark approach and visualize the difference."
   ]
  },
  {
   "cell_type": "code",
   "execution_count": 1,
   "id": "5d2c40a7",
   "metadata": {},
   "outputs": [],
   "source": [
    "%matplotlib inline\n",
    "%load_ext autoreload\n",
    "%autoreload 2"
   ]
  },
  {
   "cell_type": "code",
   "execution_count": 2,
   "id": "b7aef0f1",
   "metadata": {},
   "outputs": [],
   "source": [
    "# Python 2/3 compatibility\n",
    "from __future__ import print_function, division\n",
    "\n",
    "import itertools\n",
    "import time\n",
    "\n",
    "import numpy as np\n",
    "import matplotlib.pyplot as plt\n",
    "\n",
    "# Colors from Colorbrewer Paired_12\n",
    "colors = [[31, 120, 180], [51, 160, 44], [250,159,181]]\n",
    "colors = [(r / 255, g / 255, b / 255) for (r, g, b) in colors]\n",
    "\n",
    "# functions to show an image\n",
    "def imshow(img):\n",
    "    \"\"\"\n",
    "    :param img: (PyTorch Tensor)\n",
    "    \"\"\"\n",
    "    # unnormalize\n",
    "    img = img / 2 + 0.5     \n",
    "    # Convert tensor to numpy array\n",
    "    npimg = img.numpy()\n",
    "    # Color channel first -> color channel last\n",
    "    plt.imshow(np.transpose(npimg, (1, 2, 0)))\n",
    "\n",
    "def get_image(img):\n",
    "    \"\"\"\n",
    "    convert a tensor to images suitable for plotting\n",
    "    :param img: (PyTorch Tensor)\n",
    "    \"\"\"\n",
    "    # unnormalize\n",
    "    img = img / 2 + 0.5     \n",
    "    # Convert tensor to numpy array\n",
    "    npimg = img.numpy()\n",
    "    # Color channel first -> color channel last\n",
    "    return np.transpose(npimg, (1, 2, 0))\n",
    "\n",
    "def plot_loss_acc(train_loss, val_loss, test_loss, train_acc, val_acc, test_acc):\n",
    "    x = np.arange(1, len(train_loss) + 1)\n",
    "\n",
    "    fig,axs = plt.subplots(1, 2, figsize=(16,6))\n",
    "    axs[0].plot(x, train_loss, color=colors[0], label=\"Training loss\", linewidth=2)\n",
    "    axs[0].plot(x, val_loss, color=colors[1], label=\"Validation loss\", linewidth=2)\n",
    "    axs[0].plot(x, test_loss, color=colors[2], label=\"Test loss\", linewidth=2)\n",
    "    axs[0].set_xlabel('Epoch')\n",
    "    axs[0].set_ylabel('Loss')\n",
    "    axs[0].legend(loc='upper right')\n",
    "    axs[0].set_title(\"Evolution of the training, validation and test loss\")\n",
    "\n",
    "    axs[1].plot(x, train_acc, color=colors[0], label=\"Training accuracy\", linewidth=2)\n",
    "    axs[1].plot(x, val_acc, color=colors[1], label=\"Validation accuracy\", linewidth=2)\n",
    "    axs[1].plot(x, test_acc, color=colors[2], label=\"Test accuracy\", linewidth=2)\n",
    "    axs[1].set_xlabel('Epoch')\n",
    "    axs[1].set_ylabel('Accuracy')\n",
    "    axs[1].legend(loc='lower right')\n",
    "    axs[1].set_title(\"Evolution of the training, validation and test accuracy\")\n",
    "    plt.show()\n"
   ]
  },
  {
   "cell_type": "markdown",
   "id": "74179900",
   "metadata": {
    "id": "J-Rj19xwwlhb"
   },
   "source": [
    "###  Loading and normalizing CIFAR10 Dataset\n"
   ]
  },
  {
   "cell_type": "code",
   "execution_count": 3,
   "id": "0c82945d",
   "metadata": {
    "id": "QICySsacvY9z"
   },
   "outputs": [],
   "source": [
    "import numpy as np\n",
    "# import tensorflow\n",
    "import torch as th\n",
    "import torchvision\n",
    "import torchvision.transforms as transforms"
   ]
  },
  {
   "cell_type": "markdown",
   "id": "c60a5981",
   "metadata": {
    "id": "TpGY1kJXvzMm"
   },
   "source": [
    "### Define subset of the dataset (so it is faster to train)"
   ]
  },
  {
   "cell_type": "code",
   "execution_count": 4,
   "id": "428a6ceb",
   "metadata": {},
   "outputs": [],
   "source": [
    "from torch.utils.data.sampler import SubsetRandomSampler\n",
    "\n",
    "seed = 2022\n",
    "np.random.seed(seed)\n",
    "th.manual_seed(seed)\n",
    "\n",
    "n_training_samples = 2000 # Max: 50 000 - n_val_samples\n",
    "n_val_samples = 500\n",
    "n_test_samples = 1000\n",
    "\n",
    "train_sampler = SubsetRandomSampler(np.arange(n_training_samples, dtype=np.int64))\n",
    "val_sampler = SubsetRandomSampler(np.arange(n_training_samples, n_training_samples + n_val_samples, dtype=np.int64))\n",
    "test_sampler = SubsetRandomSampler(np.arange(n_test_samples, dtype=np.int64))\n",
    "# (In the last case, indexes do not need to account for training ones because the train=False parameter in datasets.CIFAR will select from the test set)"
   ]
  },
  {
   "cell_type": "code",
   "execution_count": 5,
   "id": "6ba1b761",
   "metadata": {},
   "outputs": [
    {
     "name": "stdout",
     "output_type": "stream",
     "text": [
      "Files already downloaded and verified\n",
      "Files already downloaded and verified\n"
     ]
    }
   ],
   "source": [
    "num_workers = 2\n",
    "test_batch_size = 4\n",
    "\n",
    "transform = transforms.Compose(\n",
    "    [transforms.ToTensor(),\n",
    "     transforms.Normalize(mean=(0.5, 0.5, 0.5), std=(0.5, 0.5, 0.5))])\n",
    "\n",
    "train_set = torchvision.datasets.CIFAR10(root='./data', train=True,\n",
    "                                        download=True, transform=transform)\n",
    "\n",
    "train_loader = th.utils.data.DataLoader(train_set, batch_size=test_batch_size, sampler=train_sampler,\n",
    "                                          num_workers=num_workers)\n",
    "\n",
    "test_set = torchvision.datasets.CIFAR10(root='./data', train=False,\n",
    "                                       download=True, transform=transform)\n",
    "test_loader = th.utils.data.DataLoader(test_set, batch_size=test_batch_size, sampler=test_sampler,\n",
    "                                         num_workers=num_workers)\n",
    "\n",
    "classes = ('plane', 'car', 'bird', 'cat',\n",
    "           'deer', 'dog', 'frog', 'horse', 'ship', 'truck')"
   ]
  },
  {
   "cell_type": "code",
   "execution_count": 6,
   "id": "d7435190",
   "metadata": {},
   "outputs": [],
   "source": [
    "import os\n",
    "os.environ['KMP_DUPLICATE_LIB_OK']='True'"
   ]
  },
  {
   "cell_type": "code",
   "execution_count": 7,
   "id": "23e0e9cb",
   "metadata": {
    "scrolled": true
   },
   "outputs": [
    {
     "name": "stdout",
     "output_type": "stream",
     "text": [
      "     horse      horse        cat        car\n"
     ]
    },
    {
     "data": {
      "image/png": "[encoded data removed]",
      "text/plain": [
       "<Figure size 432x288 with 1 Axes>"
      ]
     },
     "metadata": {
      "needs_background": "light"
     },
     "output_type": "display_data"
    }
   ],
   "source": [
    "# get some random training images\n",
    "dataiter = iter(train_loader)\n",
    "images, labels = dataiter.next()\n",
    "\n",
    "# show images\n",
    "imshow(torchvision.utils.make_grid(images))\n",
    "# print labels\n",
    "print(' '.join('{:>10}'.format(classes[labels[j]]) for j in range(test_batch_size)))"
   ]
  },
  {
   "cell_type": "markdown",
   "id": "e279b386",
   "metadata": {},
   "source": [
    "## Train CNN"
   ]
  },
  {
   "cell_type": "code",
   "execution_count": 8,
   "id": "19cea089",
   "metadata": {},
   "outputs": [],
   "source": [
    "import sys, os\n",
    "import torch.nn as nn\n",
    "import torch.nn.functional as F"
   ]
  },
  {
   "cell_type": "code",
   "execution_count": 9,
   "id": "37cd8cd9",
   "metadata": {},
   "outputs": [],
   "source": [
    "sys.path.append('../ConformalizedES')\n",
    "sys.path.append('../third_party')"
   ]
  },
  {
   "cell_type": "code",
   "execution_count": 10,
   "id": "52f39874",
   "metadata": {},
   "outputs": [],
   "source": [
    "from method import CES_multiClass\n",
    "from networks import SimpleConvolutionalNetwork\n",
    "from inference import Conformal_PSet"
   ]
  },
  {
   "cell_type": "code",
   "execution_count": 11,
   "id": "45af492a",
   "metadata": {},
   "outputs": [],
   "source": [
    "net = SimpleConvolutionalNetwork()"
   ]
  },
  {
   "cell_type": "code",
   "execution_count": 12,
   "id": "8206f491",
   "metadata": {},
   "outputs": [],
   "source": [
    "import torch.optim as optim\n",
    "\n",
    "# Define the model parameters\n",
    "lr = 0.001\n",
    "n_epoch = 10\n",
    "n_classes = len(classes)\n",
    "batch_size = 100\n",
    "\n",
    "\n",
    "# Create loss and optimizer\n",
    "# CES_oneClass object will assume criterion takes three parameters: output, input and target, \n",
    "# create wrapper function to modify the criterion.\n",
    "Loss = nn.CrossEntropyLoss()\n",
    "def criterion(outputs, inputs, targets):\n",
    "    return Loss(outputs, targets)\n",
    "optimizer = optim.Adam(net.parameters(), lr=lr)"
   ]
  },
  {
   "cell_type": "code",
   "execution_count": 13,
   "id": "c4719bca",
   "metadata": {},
   "outputs": [],
   "source": [
    "seed = 2022\n",
    "np.random.seed(seed)\n",
    "th.manual_seed(seed)\n",
    "\n",
    "if th.cuda.is_available():\n",
    "    # Make CuDNN Determinist\n",
    "    th.backends.cudnn.deterministic = True\n",
    "    th.cuda.manual_seed(seed)\n",
    "\n",
    "# Define default device, we should use the GPU (cuda) if available\n",
    "device = th.device(\"cuda\" if th.cuda.is_available() else \"cpu\")### Define subset of the dataset (so it is faster to train)"
   ]
  },
  {
   "cell_type": "code",
   "execution_count": 14,
   "id": "f3b49be8",
   "metadata": {},
   "outputs": [],
   "source": [
    "def get_train_loader(batch_size):\n",
    "    return th.utils.data.DataLoader(train_set, batch_size=batch_size, sampler=train_sampler,\n",
    "                                              num_workers=num_workers)\n",
    "\n",
    "train_loader = get_train_loader(batch_size)\n",
    "\n",
    "# Use larger batch size for validation to speed up computation\n",
    "val_loader = th.utils.data.DataLoader(train_set, batch_size=1000, sampler=val_sampler,\n",
    "                                          num_workers=num_workers)\n",
    "\n",
    "test_loader = th.utils.data.DataLoader(test_set, batch_size=1000, sampler=test_sampler,\n",
    "                                         num_workers=num_workers)"
   ]
  },
  {
   "cell_type": "code",
   "execution_count": 15,
   "id": "e3cf4b87",
   "metadata": {},
   "outputs": [
    {
     "name": "stdout",
     "output_type": "stream",
     "text": [
      "===== HYPERPARAMETERS =====\n",
      "batch_size= 100\n",
      "n_epochs= 10\n",
      "learning_rate= 0.001\n",
      "==============================\n"
     ]
    }
   ],
   "source": [
    "seed = 2023\n",
    "np.random.seed(seed)\n",
    "th.manual_seed(seed)\n",
    "\n",
    "# Initialize the CES class with model parameters\n",
    "CES_mc = CES_multiClass(net, device, train_loader, n_classes=n_classes, batch_size=batch_size, max_epoch=n_epoch, \n",
    "                        learning_rate=lr, val_loader=val_loader, criterion=criterion,optimizer=optimizer)"
   ]
  },
  {
   "cell_type": "code",
   "execution_count": 16,
   "id": "698929b5",
   "metadata": {
    "scrolled": true
   },
   "outputs": [
    {
     "name": "stdout",
     "output_type": "stream",
     "text": [
      "Epoch 1 of 10, 10% \t train_loss: 2.30 train_acc: 11.50% took: 2.80s\n",
      "Epoch 1 of 10, 20% \t train_loss: 2.27 train_acc: 12.50% took: 0.05s\n",
      "Epoch 1 of 10, 30% \t train_loss: 2.16 train_acc: 25.50% took: 0.05s\n",
      "Epoch 1 of 10, 40% \t train_loss: 2.09 train_acc: 25.00% took: 0.04s\n",
      "Epoch 1 of 10, 50% \t train_loss: 2.02 train_acc: 28.00% took: 0.04s\n",
      "Epoch 1 of 10, 60% \t train_loss: 2.06 train_acc: 27.50% took: 0.05s\n",
      "Epoch 1 of 10, 70% \t train_loss: 2.04 train_acc: 33.00% took: 0.03s\n",
      "Epoch 1 of 10, 80% \t train_loss: 1.89 train_acc: 36.50% took: 0.05s\n",
      "Epoch 1 of 10, 90% \t train_loss: 1.93 train_acc: 28.50% took: 0.04s\n",
      "Epoch 1 of 10, 100% \t train_loss: 1.90 train_acc: 33.00% took: 0.04s\n",
      "val_loss = 1.95 val_acc = 30.80%\n",
      "Snapshot saved at epoch 1.\n",
      "Epoch 2 of 10, 10% \t train_loss: 1.87 train_acc: 34.50% took: 2.65s\n",
      "Epoch 2 of 10, 20% \t train_loss: 1.89 train_acc: 35.50% took: 0.05s\n",
      "Epoch 2 of 10, 30% \t train_loss: 1.77 train_acc: 39.00% took: 0.03s\n",
      "Epoch 2 of 10, 40% \t train_loss: 1.79 train_acc: 32.50% took: 0.06s\n",
      "Epoch 2 of 10, 50% \t train_loss: 1.76 train_acc: 39.50% took: 0.04s\n",
      "Epoch 2 of 10, 60% \t train_loss: 1.81 train_acc: 35.00% took: 0.04s\n",
      "Epoch 2 of 10, 70% \t train_loss: 1.86 train_acc: 34.50% took: 0.04s\n",
      "Epoch 2 of 10, 80% \t train_loss: 1.72 train_acc: 43.00% took: 0.03s\n",
      "Epoch 2 of 10, 90% \t train_loss: 1.62 train_acc: 41.00% took: 0.03s\n",
      "Epoch 2 of 10, 100% \t train_loss: 1.70 train_acc: 37.50% took: 0.05s\n",
      "val_loss = 1.81 val_acc = 38.80%\n",
      "Snapshot saved at epoch 2.\n",
      "Epoch 3 of 10, 10% \t train_loss: 1.63 train_acc: 47.50% took: 2.85s\n",
      "Epoch 3 of 10, 20% \t train_loss: 1.60 train_acc: 41.50% took: 0.04s\n",
      "Epoch 3 of 10, 30% \t train_loss: 1.56 train_acc: 44.50% took: 0.05s\n",
      "Epoch 3 of 10, 40% \t train_loss: 1.53 train_acc: 47.50% took: 0.05s\n",
      "Epoch 3 of 10, 50% \t train_loss: 1.61 train_acc: 43.50% took: 0.03s\n",
      "Epoch 3 of 10, 60% \t train_loss: 1.54 train_acc: 47.00% took: 0.05s\n",
      "Epoch 3 of 10, 70% \t train_loss: 1.59 train_acc: 45.50% took: 0.05s\n",
      "Epoch 3 of 10, 80% \t train_loss: 1.63 train_acc: 45.50% took: 0.05s\n",
      "Epoch 3 of 10, 90% \t train_loss: 1.66 train_acc: 42.50% took: 0.03s\n",
      "Epoch 3 of 10, 100% \t train_loss: 1.51 train_acc: 45.00% took: 0.05s\n",
      "val_loss = 1.71 val_acc = 40.80%\n",
      "Snapshot saved at epoch 3.\n",
      "Epoch 4 of 10, 10% \t train_loss: 1.45 train_acc: 48.50% took: 3.09s\n",
      "Epoch 4 of 10, 20% \t train_loss: 1.43 train_acc: 55.00% took: 0.04s\n",
      "Epoch 4 of 10, 30% \t train_loss: 1.42 train_acc: 53.50% took: 0.05s\n",
      "Epoch 4 of 10, 40% \t train_loss: 1.38 train_acc: 55.50% took: 0.05s\n",
      "Epoch 4 of 10, 50% \t train_loss: 1.46 train_acc: 50.00% took: 0.05s\n",
      "Epoch 4 of 10, 60% \t train_loss: 1.48 train_acc: 49.50% took: 0.05s\n",
      "Epoch 4 of 10, 70% \t train_loss: 1.48 train_acc: 47.50% took: 0.05s\n",
      "Epoch 4 of 10, 80% \t train_loss: 1.43 train_acc: 54.00% took: 0.03s\n",
      "Epoch 4 of 10, 90% \t train_loss: 1.41 train_acc: 55.50% took: 0.05s\n",
      "Epoch 4 of 10, 100% \t train_loss: 1.44 train_acc: 47.50% took: 0.04s\n",
      "val_loss = 1.70 val_acc = 40.40%\n",
      "Snapshot saved at epoch 4.\n",
      "Epoch 5 of 10, 10% \t train_loss: 1.24 train_acc: 57.00% took: 2.96s\n",
      "Epoch 5 of 10, 20% \t train_loss: 1.32 train_acc: 55.50% took: 0.06s\n",
      "Epoch 5 of 10, 30% \t train_loss: 1.56 train_acc: 45.50% took: 0.04s\n",
      "Epoch 5 of 10, 40% \t train_loss: 1.34 train_acc: 53.00% took: 0.04s\n",
      "Epoch 5 of 10, 50% \t train_loss: 1.24 train_acc: 59.50% took: 0.06s\n",
      "Epoch 5 of 10, 60% \t train_loss: 1.32 train_acc: 55.00% took: 0.05s\n",
      "Epoch 5 of 10, 70% \t train_loss: 1.27 train_acc: 55.50% took: 0.05s\n",
      "Epoch 5 of 10, 80% \t train_loss: 1.31 train_acc: 59.00% took: 0.05s\n",
      "Epoch 5 of 10, 90% \t train_loss: 1.35 train_acc: 52.00% took: 0.03s\n",
      "Epoch 5 of 10, 100% \t train_loss: 1.21 train_acc: 55.50% took: 0.03s\n",
      "val_loss = 1.60 val_acc = 45.60%\n",
      "Snapshot saved at epoch 5.\n",
      "Epoch 6 of 10, 10% \t train_loss: 1.18 train_acc: 62.00% took: 2.80s\n",
      "Epoch 6 of 10, 20% \t train_loss: 1.26 train_acc: 57.00% took: 0.05s\n",
      "Epoch 6 of 10, 30% \t train_loss: 1.22 train_acc: 57.50% took: 0.04s\n",
      "Epoch 6 of 10, 40% \t train_loss: 1.26 train_acc: 54.50% took: 0.04s\n",
      "Epoch 6 of 10, 50% \t train_loss: 1.16 train_acc: 62.50% took: 0.05s\n",
      "Epoch 6 of 10, 60% \t train_loss: 1.13 train_acc: 62.00% took: 0.05s\n",
      "Epoch 6 of 10, 70% \t train_loss: 1.31 train_acc: 52.50% took: 0.03s\n",
      "Epoch 6 of 10, 80% \t train_loss: 1.20 train_acc: 64.50% took: 0.05s\n",
      "Epoch 6 of 10, 90% \t train_loss: 1.18 train_acc: 57.00% took: 0.04s\n",
      "Epoch 6 of 10, 100% \t train_loss: 1.22 train_acc: 58.00% took: 0.05s\n",
      "val_loss = 1.60 val_acc = 44.20%\n",
      "Snapshot saved at epoch 6.\n",
      "Epoch 7 of 10, 10% \t train_loss: 1.11 train_acc: 65.50% took: 3.00s\n",
      "Epoch 7 of 10, 20% \t train_loss: 1.16 train_acc: 62.50% took: 0.04s\n",
      "Epoch 7 of 10, 30% \t train_loss: 1.03 train_acc: 67.00% took: 0.05s\n",
      "Epoch 7 of 10, 40% \t train_loss: 1.11 train_acc: 64.00% took: 0.05s\n",
      "Epoch 7 of 10, 50% \t train_loss: 1.13 train_acc: 62.50% took: 0.03s\n",
      "Epoch 7 of 10, 60% \t train_loss: 1.20 train_acc: 55.00% took: 0.06s\n",
      "Epoch 7 of 10, 70% \t train_loss: 1.05 train_acc: 67.50% took: 0.04s\n",
      "Epoch 7 of 10, 80% \t train_loss: 1.22 train_acc: 55.00% took: 0.05s\n",
      "Epoch 7 of 10, 90% \t train_loss: 1.14 train_acc: 63.00% took: 0.05s\n",
      "Epoch 7 of 10, 100% \t train_loss: 1.14 train_acc: 61.00% took: 0.03s\n",
      "val_loss = 1.62 val_acc = 44.60%\n",
      "Snapshot saved at epoch 7.\n",
      "Epoch 8 of 10, 10% \t train_loss: 1.08 train_acc: 67.00% took: 2.85s\n",
      "Epoch 8 of 10, 20% \t train_loss: 1.09 train_acc: 64.00% took: 0.05s\n",
      "Epoch 8 of 10, 30% \t train_loss: 0.99 train_acc: 65.50% took: 0.05s\n",
      "Epoch 8 of 10, 40% \t train_loss: 0.98 train_acc: 65.50% took: 0.05s\n",
      "Epoch 8 of 10, 50% \t train_loss: 1.11 train_acc: 62.50% took: 0.03s\n",
      "Epoch 8 of 10, 60% \t train_loss: 1.00 train_acc: 67.00% took: 0.05s\n",
      "Epoch 8 of 10, 70% \t train_loss: 1.03 train_acc: 63.50% took: 0.05s\n",
      "Epoch 8 of 10, 80% \t train_loss: 0.97 train_acc: 70.50% took: 0.05s\n",
      "Epoch 8 of 10, 90% \t train_loss: 0.96 train_acc: 64.50% took: 0.03s\n",
      "Epoch 8 of 10, 100% \t train_loss: 1.07 train_acc: 61.50% took: 0.05s\n",
      "val_loss = 1.60 val_acc = 47.40%\n",
      "Snapshot saved at epoch 8.\n",
      "Epoch 9 of 10, 10% \t train_loss: 0.95 train_acc: 68.50% took: 2.81s\n",
      "Epoch 9 of 10, 20% \t train_loss: 0.85 train_acc: 71.00% took: 0.05s\n",
      "Epoch 9 of 10, 30% \t train_loss: 0.94 train_acc: 71.00% took: 0.06s\n",
      "Epoch 9 of 10, 40% \t train_loss: 0.87 train_acc: 74.50% took: 0.05s\n",
      "Epoch 9 of 10, 50% \t train_loss: 1.03 train_acc: 63.00% took: 0.03s\n",
      "Epoch 9 of 10, 60% \t train_loss: 1.01 train_acc: 67.50% took: 0.05s\n",
      "Epoch 9 of 10, 70% \t train_loss: 0.85 train_acc: 72.00% took: 0.05s\n",
      "Epoch 9 of 10, 80% \t train_loss: 0.92 train_acc: 72.00% took: 0.05s\n",
      "Epoch 9 of 10, 90% \t train_loss: 0.98 train_acc: 66.00% took: 0.05s\n",
      "Epoch 9 of 10, 100% \t train_loss: 0.98 train_acc: 73.50% took: 0.05s\n",
      "val_loss = 1.62 val_acc = 45.20%\n",
      "Snapshot saved at epoch 9.\n",
      "Epoch 10 of 10, 10% \t train_loss: 0.94 train_acc: 71.00% took: 2.77s\n",
      "Epoch 10 of 10, 20% \t train_loss: 0.85 train_acc: 78.00% took: 0.05s\n",
      "Epoch 10 of 10, 30% \t train_loss: 0.85 train_acc: 75.00% took: 0.03s\n",
      "Epoch 10 of 10, 40% \t train_loss: 0.81 train_acc: 76.00% took: 0.05s\n",
      "Epoch 10 of 10, 50% \t train_loss: 0.79 train_acc: 76.00% took: 0.05s\n",
      "Epoch 10 of 10, 60% \t train_loss: 0.95 train_acc: 66.00% took: 0.05s\n",
      "Epoch 10 of 10, 70% \t train_loss: 0.82 train_acc: 72.50% took: 0.04s\n",
      "Epoch 10 of 10, 80% \t train_loss: 0.90 train_acc: 74.50% took: 0.06s\n",
      "Epoch 10 of 10, 90% \t train_loss: 0.89 train_acc: 70.50% took: 0.03s\n",
      "Epoch 10 of 10, 100% \t train_loss: 0.82 train_acc: 75.50% took: 0.05s\n",
      "val_loss = 1.62 val_acc = 45.60%\n",
      "Snapshot saved at epoch 10.\n",
      "Training done! A list of 10 models saved.\n"
     ]
    }
   ],
   "source": [
    "# Train the model and save snapshots regularly\n",
    "save_every = 1    # Save model after every few epoches\n",
    "CES_mc.full_train(save_dir = './models', save_every = save_every)"
   ]
  },
  {
   "cell_type": "code",
   "execution_count": 29,
   "id": "d2025389",
   "metadata": {
    "scrolled": true
   },
   "outputs": [
    {
     "data": {
      "image/png": "[encoded data removed]",
      "text/plain": [
       "<Figure size 1152x432 with 2 Axes>"
      ]
     },
     "metadata": {
      "needs_background": "light"
     },
     "output_type": "display_data"
    }
   ],
   "source": [
    "train_loss = CES_mc.train_loss_history\n",
    "train_acc = CES_mc.train_acc_history\n",
    "val_loss = CES_mc.val_loss_history\n",
    "val_acc = CES_mc.val_acc_history\n",
    "\n",
    "\n",
    "x = np.arange(1, len(train_loss) + 1)\n",
    "\n",
    "fig,axs = plt.subplots(1, 2, figsize=(16,6))\n",
    "axs[0].plot(x, train_loss, color=colors[0], label=\"Training loss\", linewidth=2)\n",
    "axs[0].plot(x, val_loss, color=colors[1], label=\"Validation loss\", linewidth=2)\n",
    "axs[0].set_xlabel('Epoch')\n",
    "axs[0].set_ylabel('Loss')\n",
    "axs[0].legend(loc='upper right')\n",
    "axs[0].set_title(\"Evolution of the training, validation loss\")\n",
    "\n",
    "axs[1].plot(x, train_acc, color=colors[0], label=\"Training accuracy\", linewidth=2)\n",
    "axs[1].plot(x, val_acc, color=colors[1], label=\"Validation accuracy\", linewidth=2)\n",
    "axs[1].set_xlabel('Epoch')\n",
    "axs[1].set_ylabel('Accuracy')\n",
    "axs[1].legend(loc='lower right')\n",
    "axs[1].set_title(\"Evolution of the training, validation accuracy\")\n",
    "plt.show()"
   ]
  },
  {
   "cell_type": "markdown",
   "id": "493c2749",
   "metadata": {},
   "source": [
    "# Select best models and compute prediction sets\n"
   ]
  },
  {
   "cell_type": "markdown",
   "id": "c08394c4",
   "metadata": {},
   "source": [
    "## Check the benchmark model\n",
    "select_model function will choose the best model for given test point, if no test point\n",
    "is given, it will output the best model selected ONLY based on validation data, which\n",
    "serves as an benchmark model."
   ]
  },
  {
   "cell_type": "code",
   "execution_count": 30,
   "id": "7c8eb017",
   "metadata": {},
   "outputs": [],
   "source": [
    "# check the benchmark model\n",
    "bm_loss, bm_model, loss_history = CES_mc.select_model()"
   ]
  },
  {
   "cell_type": "code",
   "execution_count": 31,
   "id": "ed6fbb80",
   "metadata": {
    "scrolled": true
   },
   "outputs": [
    {
     "name": "stdout",
     "output_type": "stream",
     "text": [
      "Benchmark best loss is: 1.599\n",
      "Benchmark best model is saved in: ./models\\model8.pth\n"
     ]
    }
   ],
   "source": [
    "# Benchmark model corresponds to the one with smallest validation loss\n",
    "print('Benchmark best loss is: {:.3f}'.format(bm_loss))\n",
    "print('Benchmark best model is saved in:', bm_model)"
   ]
  },
  {
   "cell_type": "markdown",
   "id": "f18bdc18",
   "metadata": {},
   "source": [
    "# Compute prediction sets"
   ]
  },
  {
   "cell_type": "code",
   "execution_count": 32,
   "id": "8fac57d2",
   "metadata": {
    "scrolled": true
   },
   "outputs": [
    {
     "name": "stdout",
     "output_type": "stream",
     "text": [
      "Calibrating each model in the list...\n"
     ]
    },
    {
     "name": "stderr",
     "output_type": "stream",
     "text": [
      "100%|██████████████████████████████████████████████████████████████████████████████████| 10/10 [00:28<00:00,  2.83s/it]"
     ]
    },
    {
     "name": "stdout",
     "output_type": "stream",
     "text": [
      "Initialization done!\n",
      "Calibration (one time effort) takes:28.29s.\n"
     ]
    },
    {
     "name": "stderr",
     "output_type": "stream",
     "text": [
      "\n"
     ]
    }
   ],
   "source": [
    "from inference import Conformal_PSet\n",
    "\n",
    "alpha = 0.1\n",
    "n_classes = len(classes)\n",
    "model_list = CES_mc.model_list     # Get the saved model list from the CES class\n",
    "\n",
    "# Compute conformity scores of calibration sets for each model and corresponding calibrated\n",
    "# confidence level, this might take some time if we have too many saved models but fortunately\n",
    "# this initialization will be a one-time effort.\n",
    "cal_time = time.time()\n",
    "C_PSet = Conformal_PSet(net, device, val_loader, n_classes, model_list, alpha,random_state = 2023)\n",
    "print('Calibration (one time effort) takes:{:.2f}s.'.format(time.time()-cal_time))"
   ]
  },
  {
   "cell_type": "code",
   "execution_count": 33,
   "id": "e317dc58",
   "metadata": {},
   "outputs": [],
   "source": [
    "# get all test images\n",
    "dataiter = iter(test_loader)\n",
    "inputs, labels = dataiter.next()"
   ]
  },
  {
   "cell_type": "code",
   "execution_count": 42,
   "id": "0c68c622",
   "metadata": {
    "scrolled": true
   },
   "outputs": [
    {
     "name": "stdout",
     "output_type": "stream",
     "text": [
      "Loading model 0 of 10...\n"
     ]
    },
    {
     "name": "stderr",
     "output_type": "stream",
     "text": [
      "100%|█████████████████████████████████████████████████████████████████████████████| 1000/1000 [00:04<00:00, 224.33it/s]"
     ]
    },
    {
     "name": "stdout",
     "output_type": "stream",
     "text": [
      "Loading model 1 of 10...\n"
     ]
    },
    {
     "name": "stderr",
     "output_type": "stream",
     "text": [
      "\n",
      "100%|█████████████████████████████████████████████████████████████████████████████| 1000/1000 [00:04<00:00, 214.69it/s]"
     ]
    },
    {
     "name": "stdout",
     "output_type": "stream",
     "text": [
      "Loading model 2 of 10...\n"
     ]
    },
    {
     "name": "stderr",
     "output_type": "stream",
     "text": [
      "\n",
      "100%|█████████████████████████████████████████████████████████████████████████████| 1000/1000 [00:04<00:00, 232.76it/s]"
     ]
    },
    {
     "name": "stdout",
     "output_type": "stream",
     "text": [
      "Loading model 3 of 10...\n"
     ]
    },
    {
     "name": "stderr",
     "output_type": "stream",
     "text": [
      "\n",
      "100%|█████████████████████████████████████████████████████████████████████████████| 1000/1000 [00:04<00:00, 230.49it/s]"
     ]
    },
    {
     "name": "stdout",
     "output_type": "stream",
     "text": [
      "Loading model 4 of 10...\n"
     ]
    },
    {
     "name": "stderr",
     "output_type": "stream",
     "text": [
      "\n",
      "100%|█████████████████████████████████████████████████████████████████████████████| 1000/1000 [00:04<00:00, 244.27it/s]"
     ]
    },
    {
     "name": "stdout",
     "output_type": "stream",
     "text": [
      "Loading model 5 of 10...\n"
     ]
    },
    {
     "name": "stderr",
     "output_type": "stream",
     "text": [
      "\n",
      "100%|█████████████████████████████████████████████████████████████████████████████| 1000/1000 [00:04<00:00, 231.86it/s]"
     ]
    },
    {
     "name": "stdout",
     "output_type": "stream",
     "text": [
      "Loading model 6 of 10...\n"
     ]
    },
    {
     "name": "stderr",
     "output_type": "stream",
     "text": [
      "\n",
      "100%|█████████████████████████████████████████████████████████████████████████████| 1000/1000 [00:04<00:00, 226.04it/s]"
     ]
    },
    {
     "name": "stdout",
     "output_type": "stream",
     "text": [
      "Loading model 7 of 10...\n"
     ]
    },
    {
     "name": "stderr",
     "output_type": "stream",
     "text": [
      "\n",
      "100%|█████████████████████████████████████████████████████████████████████████████| 1000/1000 [00:04<00:00, 209.51it/s]"
     ]
    },
    {
     "name": "stdout",
     "output_type": "stream",
     "text": [
      "Loading model 8 of 10...\n"
     ]
    },
    {
     "name": "stderr",
     "output_type": "stream",
     "text": [
      "\n",
      "100%|█████████████████████████████████████████████████████████████████████████████| 1000/1000 [00:04<00:00, 209.98it/s]"
     ]
    },
    {
     "name": "stdout",
     "output_type": "stream",
     "text": [
      "Loading model 9 of 10...\n"
     ]
    },
    {
     "name": "stderr",
     "output_type": "stream",
     "text": [
      "\n",
      "100%|█████████████████████████████████████████████████████████████████████████████| 1000/1000 [00:04<00:00, 211.92it/s]"
     ]
    },
    {
     "name": "stdout",
     "output_type": "stream",
     "text": [
      "selecting models takes: 44.92013645172119\n"
     ]
    },
    {
     "name": "stderr",
     "output_type": "stream",
     "text": [
      "\n"
     ]
    }
   ],
   "source": [
    "# Pick the best model for each test point\n",
    "start = time.time()\n",
    "best_loss, best_model, test_val_loss_history = CES_mc.select_model(inputs)\n",
    "print('selecting models takes:', time.time()-start)"
   ]
  },
  {
   "cell_type": "code",
   "execution_count": 43,
   "id": "43605d58",
   "metadata": {},
   "outputs": [
    {
     "name": "stderr",
     "output_type": "stream",
     "text": [
      "100%|██████████████████████████████████████████████████████████████████████████████| 1000/1000 [00:16<00:00, 62.11it/s]\n"
     ]
    },
    {
     "name": "stdout",
     "output_type": "stream",
     "text": [
      "Finished computing marginal prediction sets for 1000 test points.\n"
     ]
    },
    {
     "name": "stderr",
     "output_type": "stream",
     "text": [
      "100%|██████████████████████████████████████████████████████████████████████████████| 1000/1000 [00:19<00:00, 52.08it/s]"
     ]
    },
    {
     "name": "stdout",
     "output_type": "stream",
     "text": [
      "Finished computing label conditional prediction sets for 1000 test points.\n"
     ]
    },
    {
     "name": "stderr",
     "output_type": "stream",
     "text": [
      "\n"
     ]
    }
   ],
   "source": [
    "# Get the marginal conformal pvalues \n",
    "pset_m= C_PSet.pred_set(inputs, best_model, marginal=True)\n",
    "# Get the label conditional conformal pvalues \n",
    "pset_lc = C_PSet.pred_set(inputs, best_model, marginal=False)"
   ]
  },
  {
   "cell_type": "code",
   "execution_count": 44,
   "id": "d072b25b",
   "metadata": {},
   "outputs": [],
   "source": [
    "def evaluate_predictions(S, y):\n",
    "    coverage = np.mean([y[i] in S[i] for i in range(len(y))])\n",
    "    length = np.mean([len(S[i]) for i in range(len(y))])\n",
    "    idx_cover = np.where([y[i] in S[i] for i in range(len(y))])[0]\n",
    "    length_cover = np.mean([len(S[i]) for i in idx_cover])\n",
    "    return coverage, length, length_cover\n",
    "\n",
    "def evaluate_marginal(S, y):\n",
    "    coverage, length, length_cover = evaluate_predictions(S, y)\n",
    "    print('Marginal coverage:       {:2.3%}'.format(coverage))\n",
    "    print('Average size:            {:2.3f}'.format(length))\n",
    "    print('Average size | coverage: {:2.3f}'.format(length_cover))\n",
    "\n",
    "def evaluate_conditional(S, y):\n",
    "    n_class = len(np.unique(y))\n",
    "    for i in range(n_class):\n",
    "        label = i\n",
    "        idx = np.where(y==label)[0]\n",
    "        coverage, length, length_cover = evaluate_predictions(np.array(S, dtype=object)[idx], np.array(y)[idx])\n",
    "        print('Conditional coverage for label {}:       {:2.3%}'.format(classes[label], coverage))\n",
    "        print('Average size:            {:2.3f}'.format(length))\n",
    "        print('Average size | coverage: {:2.3f}'.format(length_cover))"
   ]
  },
  {
   "cell_type": "code",
   "execution_count": 45,
   "id": "2550d182",
   "metadata": {},
   "outputs": [
    {
     "name": "stdout",
     "output_type": "stream",
     "text": [
      "Evaluate marginal prediction sets.\n",
      "==================================================\n",
      "Marginal coverage:       91.700%\n",
      "Average size:            4.857\n",
      "Average size | coverage: 4.880\n",
      "==================================================\n",
      "Conditional coverage for label plane:       88.350%\n",
      "Average size:            4.388\n",
      "Average size | coverage: 4.264\n",
      "Conditional coverage for label car:       93.258%\n",
      "Average size:            4.022\n",
      "Average size | coverage: 4.060\n",
      "Conditional coverage for label bird:       88.000%\n",
      "Average size:            5.360\n",
      "Average size | coverage: 5.523\n",
      "Conditional coverage for label cat:       91.262%\n",
      "Average size:            5.340\n",
      "Average size | coverage: 5.436\n",
      "Conditional coverage for label deer:       93.333%\n",
      "Average size:            5.478\n",
      "Average size | coverage: 5.548\n",
      "Conditional coverage for label dog:       91.860%\n",
      "Average size:            5.047\n",
      "Average size | coverage: 5.139\n",
      "Conditional coverage for label frog:       97.321%\n",
      "Average size:            4.946\n",
      "Average size | coverage: 4.917\n",
      "Conditional coverage for label horse:       94.118%\n",
      "Average size:            5.118\n",
      "Average size | coverage: 5.115\n",
      "Conditional coverage for label ship:       88.679%\n",
      "Average size:            4.453\n",
      "Average size | coverage: 4.404\n",
      "Conditional coverage for label truck:       90.826%\n",
      "Average size:            4.459\n",
      "Average size | coverage: 4.444\n"
     ]
    }
   ],
   "source": [
    "print('Evaluate marginal prediction sets.')\n",
    "print('='*50)\n",
    "evaluate_marginal(pset_m, labels.numpy())\n",
    "print('='*50)\n",
    "evaluate_conditional(pset_m, labels.numpy())"
   ]
  },
  {
   "cell_type": "code",
   "execution_count": 46,
   "id": "122451b4",
   "metadata": {},
   "outputs": [
    {
     "name": "stdout",
     "output_type": "stream",
     "text": [
      "Evaluate label conditional prediction sets.\n",
      "==================================================\n",
      "Marginal coverage:       91.800%\n",
      "Average size:            4.888\n",
      "Average size | coverage: 4.907\n",
      "==================================================\n",
      "Conditional coverage for label plane:       83.495%\n",
      "Average size:            4.573\n",
      "Average size | coverage: 4.477\n",
      "Conditional coverage for label car:       96.629%\n",
      "Average size:            3.989\n",
      "Average size | coverage: 3.977\n",
      "Conditional coverage for label bird:       92.000%\n",
      "Average size:            5.230\n",
      "Average size | coverage: 5.293\n",
      "Conditional coverage for label cat:       90.291%\n",
      "Average size:            5.485\n",
      "Average size | coverage: 5.624\n",
      "Conditional coverage for label deer:       93.333%\n",
      "Average size:            5.300\n",
      "Average size | coverage: 5.333\n",
      "Conditional coverage for label dog:       90.698%\n",
      "Average size:            5.035\n",
      "Average size | coverage: 5.141\n",
      "Conditional coverage for label frog:       90.179%\n",
      "Average size:            5.196\n",
      "Average size | coverage: 5.188\n",
      "Conditional coverage for label horse:       97.059%\n",
      "Average size:            5.029\n",
      "Average size | coverage: 5.020\n",
      "Conditional coverage for label ship:       91.509%\n",
      "Average size:            4.604\n",
      "Average size | coverage: 4.598\n",
      "Conditional coverage for label truck:       93.578%\n",
      "Average size:            4.413\n",
      "Average size | coverage: 4.431\n"
     ]
    }
   ],
   "source": [
    "print('Evaluate label conditional prediction sets.')\n",
    "print('='*50)\n",
    "evaluate_marginal(pset_lc, labels.numpy())\n",
    "print('='*50)\n",
    "evaluate_conditional(pset_lc, labels.numpy())"
   ]
  },
  {
   "cell_type": "code",
   "execution_count": 37,
   "id": "50bc91de",
   "metadata": {},
   "outputs": [
    {
     "data": {
      "text/plain": [
       "0.059232441975474316"
      ]
     },
     "execution_count": 37,
     "metadata": {},
     "output_type": "execute_result"
    }
   ],
   "source": [
    "C_PSet.alpha_calibrated[6]"
   ]
  },
  {
   "cell_type": "code",
   "execution_count": 38,
   "id": "c6cf0d4e",
   "metadata": {},
   "outputs": [
    {
     "data": {
      "text/plain": [
       "array([0.07130931, 0.02887572, 0.02493679, 0.04300576, 0.0484343 ,\n",
       "       0.07992018, 0.22433368, 0.09077377, 0.05092235, 0.04250795])"
      ]
     },
     "execution_count": 38,
     "metadata": {},
     "output_type": "execute_result"
    }
   ],
   "source": [
    "C_PSet.alpha_calibrated_lc[6]"
   ]
  },
  {
   "cell_type": "code",
   "execution_count": null,
   "id": "83740ef6",
   "metadata": {},
   "outputs": [],
   "source": []
  }
 ],
 "metadata": {
  "kernelspec": {
   "display_name": "Python 3 (ipykernel)",
   "language": "python",
   "name": "python3"
  },
  "language_info": {
   "codemirror_mode": {
    "name": "ipython",
    "version": 3
   },
   "file_extension": ".py",
   "mimetype": "text/x-python",
   "name": "python",
   "nbconvert_exporter": "python",
   "pygments_lexer": "ipython3",
   "version": "3.9.12"
  }
 },
 "nbformat": 4,
 "nbformat_minor": 5
}
