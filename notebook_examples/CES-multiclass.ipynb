{
 "cells": [
  {
   "cell_type": "markdown",
   "id": "b33e5af3",
   "metadata": {},
   "source": [
    "# Conformalized Early Stopping -- Multi-class Classification\n",
    "__The notebook is organized in the following parts:__\n",
    "1. Training and conformalized early stopping: we train a CNN with CIFAR10 dataset, save model snapshots regularly. \n",
    "2. Compute conformal prediction sets:  For each test point we select the best snapshots from the model list saved at step 1. We then compute marginal and label conditional prediction sets using the best model.\n",
    "3. Visualization and comparison with benchmark: lastly we will compare our new method to the conventional benchmark approach and visualize the difference."
   ]
  },
  {
   "cell_type": "code",
   "execution_count": 1,
   "id": "5d2c40a7",
   "metadata": {},
   "outputs": [],
   "source": [
    "%matplotlib inline\n",
    "%load_ext autoreload\n",
    "%autoreload 2"
   ]
  },
  {
   "cell_type": "code",
   "execution_count": 2,
   "id": "b7aef0f1",
   "metadata": {},
   "outputs": [],
   "source": [
    "# Python 2/3 compatibility\n",
    "from __future__ import print_function, division\n",
    "\n",
    "import itertools\n",
    "import time\n",
    "\n",
    "import numpy as np\n",
    "import matplotlib.pyplot as plt\n",
    "\n",
    "# Colors from Colorbrewer Paired_12\n",
    "colors = [[31, 120, 180], [51, 160, 44], [250,159,181]]\n",
    "colors = [(r / 255, g / 255, b / 255) for (r, g, b) in colors]\n",
    "\n",
    "# functions to show an image\n",
    "def imshow(img):\n",
    "    \"\"\"\n",
    "    :param img: (PyTorch Tensor)\n",
    "    \"\"\"\n",
    "    # unnormalize\n",
    "    img = img / 2 + 0.5     \n",
    "    # Convert tensor to numpy array\n",
    "    npimg = img.numpy()\n",
    "    # Color channel first -> color channel last\n",
    "    plt.imshow(np.transpose(npimg, (1, 2, 0)))\n",
    "\n",
    "def get_image(img):\n",
    "    \"\"\"\n",
    "    convert a tensor to images suitable for plotting\n",
    "    :param img: (PyTorch Tensor)\n",
    "    \"\"\"\n",
    "    # unnormalize\n",
    "    img = img / 2 + 0.5     \n",
    "    # Convert tensor to numpy array\n",
    "    npimg = img.numpy()\n",
    "    # Color channel first -> color channel last\n",
    "    return np.transpose(npimg, (1, 2, 0))\n",
    "\n",
    "def plot_loss_acc(train_loss, val_loss, test_loss, train_acc, val_acc, test_acc):\n",
    "    x = np.arange(1, len(train_loss) + 1)\n",
    "\n",
    "    fig,axs = plt.subplots(1, 2, figsize=(16,6))\n",
    "    axs[0].plot(x, train_loss, color=colors[0], label=\"Training loss\", linewidth=2)\n",
    "    axs[0].plot(x, val_loss, color=colors[1], label=\"Validation loss\", linewidth=2)\n",
    "    axs[0].plot(x, test_loss, color=colors[2], label=\"Test loss\", linewidth=2)\n",
    "    axs[0].set_xlabel('Epoch')\n",
    "    axs[0].set_ylabel('Loss')\n",
    "    axs[0].legend(loc='upper right')\n",
    "    axs[0].set_title(\"Evolution of the training, validation and test loss\")\n",
    "\n",
    "    axs[1].plot(x, train_acc, color=colors[0], label=\"Training accuracy\", linewidth=2)\n",
    "    axs[1].plot(x, val_acc, color=colors[1], label=\"Validation accuracy\", linewidth=2)\n",
    "    axs[1].plot(x, test_acc, color=colors[2], label=\"Test accuracy\", linewidth=2)\n",
    "    axs[1].set_xlabel('Epoch')\n",
    "    axs[1].set_ylabel('Accuracy')\n",
    "    axs[1].legend(loc='lower right')\n",
    "    axs[1].set_title(\"Evolution of the training, validation and test accuracy\")\n",
    "    plt.show()\n"
   ]
  },
  {
   "cell_type": "markdown",
   "id": "74179900",
   "metadata": {
    "id": "J-Rj19xwwlhb"
   },
   "source": [
    "###  Loading and normalizing CIFAR10 Dataset\n"
   ]
  },
  {
   "cell_type": "code",
   "execution_count": 3,
   "id": "0c82945d",
   "metadata": {
    "id": "QICySsacvY9z"
   },
   "outputs": [],
   "source": [
    "import numpy as np\n",
    "# import tensorflow\n",
    "import torch as th\n",
    "import torchvision\n",
    "import torchvision.transforms as transforms"
   ]
  },
  {
   "cell_type": "markdown",
   "id": "c60a5981",
   "metadata": {
    "id": "TpGY1kJXvzMm"
   },
   "source": [
    "### Define subset of the dataset (so it is faster to train)"
   ]
  },
  {
   "cell_type": "code",
   "execution_count": 4,
   "id": "428a6ceb",
   "metadata": {},
   "outputs": [],
   "source": [
    "from torch.utils.data.sampler import SubsetRandomSampler\n",
    "\n",
    "seed = 2022\n",
    "np.random.seed(seed)\n",
    "th.manual_seed(seed)\n",
    "\n",
    "n_training_samples = 20000 # Max: 50 000 - n_val_samples\n",
    "n_val_samples = 5000\n",
    "n_test_samples = 1000\n",
    "\n",
    "train_sampler = SubsetRandomSampler(np.arange(n_training_samples, dtype=np.int64))\n",
    "val_sampler = SubsetRandomSampler(np.arange(n_training_samples, n_training_samples + n_val_samples, dtype=np.int64))\n",
    "test_sampler = SubsetRandomSampler(np.arange(n_test_samples, dtype=np.int64))\n",
    "# (In the last case, indexes do not need to account for training ones because the train=False parameter in datasets.CIFAR will select from the test set)"
   ]
  },
  {
   "cell_type": "code",
   "execution_count": 31,
   "id": "6ba1b761",
   "metadata": {},
   "outputs": [
    {
     "name": "stdout",
     "output_type": "stream",
     "text": [
      "Files already downloaded and verified\n",
      "Files already downloaded and verified\n"
     ]
    }
   ],
   "source": [
    "num_workers = 2\n",
    "test_batch_size = 4\n",
    "\n",
    "transform = transforms.Compose(\n",
    "    [transforms.ToTensor(),\n",
    "     transforms.Normalize(mean=(0.5, 0.5, 0.5), std=(0.5, 0.5, 0.5))])\n",
    "\n",
    "train_set = torchvision.datasets.CIFAR10(root='./data', train=True,\n",
    "                                        download=True, transform=transform)\n",
    "\n",
    "train_loader = th.utils.data.DataLoader(train_set, batch_size=test_batch_size, sampler=train_sampler,\n",
    "                                          num_workers=num_workers)\n",
    "\n",
    "test_set = torchvision.datasets.CIFAR10(root='./data', train=False,\n",
    "                                       download=True, transform=transform)\n",
    "test_loader = th.utils.data.DataLoader(test_set, batch_size=test_batch_size, sampler=test_sampler,\n",
    "                                         num_workers=num_workers)\n",
    "\n",
    "classes = ('plane', 'car', 'bird', 'cat',\n",
    "           'deer', 'dog', 'frog', 'horse', 'ship', 'truck')"
   ]
  },
  {
   "cell_type": "code",
   "execution_count": 32,
   "id": "d7435190",
   "metadata": {},
   "outputs": [],
   "source": [
    "import os\n",
    "os.environ['KMP_DUPLICATE_LIB_OK']='True'"
   ]
  },
  {
   "cell_type": "code",
   "execution_count": 34,
   "id": "23e0e9cb",
   "metadata": {
    "scrolled": true
   },
   "outputs": [
    {
     "name": "stdout",
     "output_type": "stream",
     "text": [
      "      frog       frog      horse        car\n"
     ]
    },
    {
     "data": {
      "image/png": "[encoded data removed]",
      "text/plain": [
       "<Figure size 432x288 with 1 Axes>"
      ]
     },
     "metadata": {
      "needs_background": "light"
     },
     "output_type": "display_data"
    }
   ],
   "source": [
    "# get some random training images\n",
    "dataiter = iter(train_loader)\n",
    "images, labels = dataiter.next()\n",
    "\n",
    "# show images\n",
    "imshow(torchvision.utils.make_grid(images))\n",
    "# print labels\n",
    "print(' '.join('{:>10}'.format(classes[labels[j]]) for j in range(test_batch_size)))"
   ]
  },
  {
   "cell_type": "markdown",
   "id": "e279b386",
   "metadata": {},
   "source": [
    "## Train CNN"
   ]
  },
  {
   "cell_type": "code",
   "execution_count": 8,
   "id": "19cea089",
   "metadata": {},
   "outputs": [],
   "source": [
    "import sys, os\n",
    "import torch.nn as nn\n",
    "import torch.nn.functional as F"
   ]
  },
  {
   "cell_type": "code",
   "execution_count": 9,
   "id": "37cd8cd9",
   "metadata": {},
   "outputs": [],
   "source": [
    "sys.path.append('../ConformalizedES')\n",
    "sys.path.append('../third_party')"
   ]
  },
  {
   "cell_type": "code",
   "execution_count": 10,
   "id": "52f39874",
   "metadata": {},
   "outputs": [],
   "source": [
    "from method import CES_multiClass\n",
    "from networks import SimpleConvolutionalNetwork\n",
    "from inference import Conformal_PSet"
   ]
  },
  {
   "cell_type": "code",
   "execution_count": 11,
   "id": "45af492a",
   "metadata": {},
   "outputs": [],
   "source": [
    "net = SimpleConvolutionalNetwork()"
   ]
  },
  {
   "cell_type": "code",
   "execution_count": 12,
   "id": "a9a34000",
   "metadata": {},
   "outputs": [],
   "source": [
    "import torch.optim as optim\n",
    "\n",
    "def createLossAndOptimizer(net, learning_rate=0.001):\n",
    "    # it combines softmax with negative log likelihood loss\n",
    "    criterion = nn.CrossEntropyLoss() \n",
    "    #optimizer = optim.SGD(net.parameters(), lr=learning_rate, momentum=0.9)\n",
    "    optimizer = optim.Adam(net.parameters(), lr=learning_rate)\n",
    "    return criterion, optimizer\n",
    "\n",
    "def "
   ]
  },
  {
   "cell_type": "code",
   "execution_count": 13,
   "id": "8206f491",
   "metadata": {},
   "outputs": [],
   "source": [
    "# Define the model parameters\n",
    "\n",
    "lr = 0.001\n",
    "n_epoch = 10\n",
    "n_classes = len(classes)\n",
    "batch_size = 100\n",
    "\n",
    "criterion, optimizer = createLossAndOptimizer(net, learning_rate=lr)"
   ]
  },
  {
   "cell_type": "code",
   "execution_count": 14,
   "id": "c4719bca",
   "metadata": {},
   "outputs": [],
   "source": [
    "seed = 2022\n",
    "np.random.seed(seed)\n",
    "th.manual_seed(seed)\n",
    "\n",
    "if th.cuda.is_available():\n",
    "    # Make CuDNN Determinist\n",
    "    th.backends.cudnn.deterministic = True\n",
    "    th.cuda.manual_seed(seed)\n",
    "\n",
    "# Define default device, we should use the GPU (cuda) if available\n",
    "device = th.device(\"cuda\" if th.cuda.is_available() else \"cpu\")### Define subset of the dataset (so it is faster to train)"
   ]
  },
  {
   "cell_type": "code",
   "execution_count": 15,
   "id": "f3b49be8",
   "metadata": {},
   "outputs": [],
   "source": [
    "def get_train_loader(batch_size):\n",
    "    return th.utils.data.DataLoader(train_set, batch_size=batch_size, sampler=train_sampler,\n",
    "                                              num_workers=num_workers)\n",
    "\n",
    "train_loader = get_train_loader(batch_size)\n",
    "\n",
    "# Use larger batch size for validation to speed up computation\n",
    "val_loader = th.utils.data.DataLoader(train_set, batch_size=1000, sampler=val_sampler,\n",
    "                                          num_workers=num_workers)\n",
    "\n",
    "test_loader = th.utils.data.DataLoader(test_set, batch_size=1000, sampler=test_sampler,\n",
    "                                         num_workers=num_workers)"
   ]
  },
  {
   "cell_type": "code",
   "execution_count": 16,
   "id": "e3cf4b87",
   "metadata": {},
   "outputs": [
    {
     "name": "stdout",
     "output_type": "stream",
     "text": [
      "===== HYPERPARAMETERS =====\n",
      "batch_size= 100\n",
      "n_epochs= 10\n",
      "learning_rate= 0.001\n",
      "==============================\n"
     ]
    }
   ],
   "source": [
    "seed = 2023\n",
    "np.random.seed(seed)\n",
    "th.manual_seed(seed)\n",
    "\n",
    "# Initialize the CES class with model parameters\n",
    "CES_mc = CES_multiClass(net, device, train_loader, n_classes=n_classes, batch_size=batch_size, max_epoch=n_epoch, \n",
    "                        learning_rate=lr, val_loader=val_loader, criterion=criterion,optimizer=optimizer)"
   ]
  },
  {
   "cell_type": "code",
   "execution_count": 17,
   "id": "698929b5",
   "metadata": {},
   "outputs": [
    {
     "name": "stdout",
     "output_type": "stream",
     "text": [
      "Epoch 1 of 10, 10% \t train_loss: 2.22 train_acc: 23.40% took: 3.13s\n",
      "Epoch 1 of 10, 21% \t train_loss: 2.00 train_acc: 33.35% took: 0.45s\n",
      "Epoch 1 of 10, 31% \t train_loss: 1.88 train_acc: 39.10% took: 0.42s\n",
      "Epoch 1 of 10, 42% \t train_loss: 1.81 train_acc: 40.35% took: 0.38s\n",
      "Epoch 1 of 10, 52% \t train_loss: 1.82 train_acc: 40.95% took: 0.40s\n",
      "Epoch 1 of 10, 63% \t train_loss: 1.78 train_acc: 41.00% took: 0.40s\n",
      "Epoch 1 of 10, 73% \t train_loss: 1.76 train_acc: 42.10% took: 0.42s\n",
      "Epoch 1 of 10, 84% \t train_loss: 1.68 train_acc: 45.00% took: 0.41s\n",
      "Epoch 1 of 10, 94% \t train_loss: 1.66 train_acc: 44.55% took: 0.41s\n",
      "val_loss = 1.50 val_acc = 45.64%\n",
      "Snapshot saved at epoch 1.\n",
      "Epoch 2 of 10, 10% \t train_loss: 1.54 train_acc: 50.55% took: 2.95s\n",
      "Epoch 2 of 10, 21% \t train_loss: 1.55 train_acc: 51.00% took: 0.42s\n",
      "Epoch 2 of 10, 31% \t train_loss: 1.57 train_acc: 49.45% took: 0.41s\n",
      "Epoch 2 of 10, 42% \t train_loss: 1.49 train_acc: 52.35% took: 0.40s\n",
      "Epoch 2 of 10, 52% \t train_loss: 1.48 train_acc: 51.80% took: 0.42s\n",
      "Epoch 2 of 10, 63% \t train_loss: 1.44 train_acc: 53.60% took: 0.41s\n",
      "Epoch 2 of 10, 73% \t train_loss: 1.43 train_acc: 53.05% took: 0.42s\n",
      "Epoch 2 of 10, 84% \t train_loss: 1.47 train_acc: 53.10% took: 0.41s\n",
      "Epoch 2 of 10, 94% \t train_loss: 1.49 train_acc: 51.95% took: 0.42s\n",
      "val_loss = 1.35 val_acc = 50.54%\n",
      "Snapshot saved at epoch 2.\n",
      "Epoch 3 of 10, 10% \t train_loss: 1.38 train_acc: 56.30% took: 3.14s\n",
      "Epoch 3 of 10, 21% \t train_loss: 1.46 train_acc: 51.20% took: 0.41s\n",
      "Epoch 3 of 10, 31% \t train_loss: 1.36 train_acc: 57.00% took: 0.44s\n",
      "Epoch 3 of 10, 42% \t train_loss: 1.33 train_acc: 58.40% took: 0.42s\n",
      "Epoch 3 of 10, 52% \t train_loss: 1.33 train_acc: 57.00% took: 0.42s\n",
      "Epoch 3 of 10, 63% \t train_loss: 1.31 train_acc: 58.45% took: 0.43s\n",
      "Epoch 3 of 10, 73% \t train_loss: 1.31 train_acc: 58.35% took: 0.43s\n",
      "Epoch 3 of 10, 84% \t train_loss: 1.30 train_acc: 58.40% took: 0.40s\n",
      "Epoch 3 of 10, 94% \t train_loss: 1.33 train_acc: 57.00% took: 0.44s\n",
      "val_loss = 1.28 val_acc = 53.14%\n",
      "Snapshot saved at epoch 3.\n",
      "Epoch 4 of 10, 10% \t train_loss: 1.27 train_acc: 60.90% took: 3.15s\n",
      "Epoch 4 of 10, 21% \t train_loss: 1.29 train_acc: 59.50% took: 0.44s\n",
      "Epoch 4 of 10, 31% \t train_loss: 1.21 train_acc: 61.65% took: 0.44s\n",
      "Epoch 4 of 10, 42% \t train_loss: 1.25 train_acc: 60.90% took: 0.45s\n",
      "Epoch 4 of 10, 52% \t train_loss: 1.23 train_acc: 61.25% took: 0.47s\n",
      "Epoch 4 of 10, 63% \t train_loss: 1.20 train_acc: 61.50% took: 0.50s\n",
      "Epoch 4 of 10, 73% \t train_loss: 1.21 train_acc: 62.90% took: 0.49s\n",
      "Epoch 4 of 10, 84% \t train_loss: 1.24 train_acc: 59.80% took: 0.49s\n",
      "Epoch 4 of 10, 94% \t train_loss: 1.25 train_acc: 61.50% took: 0.51s\n",
      "val_loss = 1.22 val_acc = 55.90%\n",
      "Snapshot saved at epoch 4.\n",
      "Epoch 5 of 10, 10% \t train_loss: 1.12 train_acc: 64.40% took: 3.20s\n",
      "Epoch 5 of 10, 21% \t train_loss: 1.12 train_acc: 66.25% took: 0.50s\n",
      "Epoch 5 of 10, 31% \t train_loss: 1.18 train_acc: 63.85% took: 0.47s\n",
      "Epoch 5 of 10, 42% \t train_loss: 1.15 train_acc: 63.60% took: 0.49s\n",
      "Epoch 5 of 10, 52% \t train_loss: 1.14 train_acc: 65.05% took: 0.49s\n",
      "Epoch 5 of 10, 63% \t train_loss: 1.14 train_acc: 65.40% took: 0.48s\n",
      "Epoch 5 of 10, 73% \t train_loss: 1.14 train_acc: 65.20% took: 0.52s\n",
      "Epoch 5 of 10, 84% \t train_loss: 1.10 train_acc: 66.65% took: 0.51s\n",
      "Epoch 5 of 10, 94% \t train_loss: 1.17 train_acc: 64.15% took: 0.51s\n",
      "val_loss = 1.21 val_acc = 57.14%\n",
      "Snapshot saved at epoch 5.\n",
      "Epoch 6 of 10, 10% \t train_loss: 1.05 train_acc: 68.30% took: 3.24s\n",
      "Epoch 6 of 10, 21% \t train_loss: 1.06 train_acc: 66.90% took: 0.47s\n",
      "Epoch 6 of 10, 31% \t train_loss: 1.09 train_acc: 67.40% took: 0.50s\n",
      "Epoch 6 of 10, 42% \t train_loss: 1.04 train_acc: 69.10% took: 0.49s\n",
      "Epoch 6 of 10, 52% \t train_loss: 1.08 train_acc: 67.55% took: 0.49s\n",
      "Epoch 6 of 10, 63% \t train_loss: 1.05 train_acc: 67.55% took: 0.49s\n",
      "Epoch 6 of 10, 73% \t train_loss: 1.08 train_acc: 67.90% took: 0.49s\n",
      "Epoch 6 of 10, 84% \t train_loss: 1.05 train_acc: 68.50% took: 0.50s\n",
      "Epoch 6 of 10, 94% \t train_loss: 1.06 train_acc: 67.10% took: 0.49s\n",
      "val_loss = 1.19 val_acc = 57.62%\n",
      "Snapshot saved at epoch 6.\n",
      "Epoch 7 of 10, 10% \t train_loss: 1.03 train_acc: 69.50% took: 3.27s\n",
      "Epoch 7 of 10, 21% \t train_loss: 1.02 train_acc: 69.15% took: 0.47s\n",
      "Epoch 7 of 10, 31% \t train_loss: 1.01 train_acc: 70.80% took: 0.49s\n",
      "Epoch 7 of 10, 42% \t train_loss: 0.99 train_acc: 70.55% took: 0.49s\n",
      "Epoch 7 of 10, 52% \t train_loss: 1.00 train_acc: 70.40% took: 0.49s\n",
      "Epoch 7 of 10, 63% \t train_loss: 1.01 train_acc: 68.05% took: 0.50s\n",
      "Epoch 7 of 10, 73% \t train_loss: 1.04 train_acc: 67.90% took: 0.50s\n",
      "Epoch 7 of 10, 84% \t train_loss: 0.96 train_acc: 71.10% took: 0.50s\n",
      "Epoch 7 of 10, 94% \t train_loss: 0.99 train_acc: 70.10% took: 0.50s\n",
      "val_loss = 1.17 val_acc = 58.86%\n",
      "Snapshot saved at epoch 7.\n",
      "Epoch 8 of 10, 10% \t train_loss: 0.91 train_acc: 74.00% took: 3.27s\n",
      "Epoch 8 of 10, 21% \t train_loss: 0.89 train_acc: 74.90% took: 0.49s\n",
      "Epoch 8 of 10, 31% \t train_loss: 0.91 train_acc: 72.45% took: 0.49s\n",
      "Epoch 8 of 10, 42% \t train_loss: 0.93 train_acc: 72.65% took: 0.49s\n",
      "Epoch 8 of 10, 52% \t train_loss: 0.93 train_acc: 73.10% took: 0.49s\n",
      "Epoch 8 of 10, 63% \t train_loss: 0.96 train_acc: 70.10% took: 0.48s\n",
      "Epoch 8 of 10, 73% \t train_loss: 0.94 train_acc: 72.15% took: 0.49s\n",
      "Epoch 8 of 10, 84% \t train_loss: 0.91 train_acc: 72.55% took: 0.51s\n",
      "Epoch 8 of 10, 94% \t train_loss: 0.97 train_acc: 71.35% took: 0.50s\n",
      "val_loss = 1.16 val_acc = 59.04%\n",
      "Snapshot saved at epoch 8.\n",
      "Epoch 9 of 10, 10% \t train_loss: 0.85 train_acc: 75.55% took: 3.58s\n",
      "Epoch 9 of 10, 21% \t train_loss: 0.83 train_acc: 75.65% took: 0.49s\n",
      "Epoch 9 of 10, 31% \t train_loss: 0.90 train_acc: 75.15% took: 0.47s\n",
      "Epoch 9 of 10, 42% \t train_loss: 0.85 train_acc: 75.90% took: 0.47s\n",
      "Epoch 9 of 10, 52% \t train_loss: 0.87 train_acc: 74.90% took: 0.46s\n",
      "Epoch 9 of 10, 63% \t train_loss: 0.88 train_acc: 74.15% took: 0.49s\n",
      "Epoch 9 of 10, 73% \t train_loss: 0.86 train_acc: 75.00% took: 0.53s\n",
      "Epoch 9 of 10, 84% \t train_loss: 0.92 train_acc: 72.95% took: 0.55s\n",
      "Epoch 9 of 10, 94% \t train_loss: 0.87 train_acc: 75.05% took: 0.52s\n",
      "val_loss = 1.19 val_acc = 58.56%\n",
      "Snapshot saved at epoch 9.\n",
      "Epoch 10 of 10, 10% \t train_loss: 0.78 train_acc: 78.10% took: 3.81s\n",
      "Epoch 10 of 10, 21% \t train_loss: 0.79 train_acc: 77.55% took: 0.50s\n",
      "Epoch 10 of 10, 31% \t train_loss: 0.80 train_acc: 76.35% took: 0.52s\n",
      "Epoch 10 of 10, 42% \t train_loss: 0.85 train_acc: 76.10% took: 0.50s\n",
      "Epoch 10 of 10, 52% \t train_loss: 0.78 train_acc: 78.55% took: 0.51s\n",
      "Epoch 10 of 10, 63% \t train_loss: 0.80 train_acc: 76.20% took: 0.50s\n",
      "Epoch 10 of 10, 73% \t train_loss: 0.86 train_acc: 74.60% took: 0.52s\n",
      "Epoch 10 of 10, 84% \t train_loss: 0.83 train_acc: 76.70% took: 0.54s\n",
      "Epoch 10 of 10, 94% \t train_loss: 0.83 train_acc: 75.70% took: 0.50s\n",
      "val_loss = 1.19 val_acc = 60.08%\n",
      "Snapshot saved at epoch 10.\n",
      "Training done! A list of 10 models saved.\n"
     ]
    }
   ],
   "source": [
    "# Train the model and save snapshots regularly\n",
    "save_every = 1    # Save model after every few epoches\n",
    "CES_mc.full_train(save_dir = './models', save_every = save_every)"
   ]
  },
  {
   "cell_type": "code",
   "execution_count": 18,
   "id": "d2025389",
   "metadata": {
    "scrolled": true
   },
   "outputs": [
    {
     "data": {
      "image/png": "[encoded data removed]",
      "text/plain": [
       "<Figure size 1152x432 with 2 Axes>"
      ]
     },
     "metadata": {
      "needs_background": "light"
     },
     "output_type": "display_data"
    }
   ],
   "source": [
    "train_loss = CES_mc.train_loss_history\n",
    "train_acc = CES_mc.train_acc_history\n",
    "val_loss = CES_mc.val_loss_history\n",
    "val_acc = CES_mc.val_acc_history\n",
    "\n",
    "\n",
    "x = np.arange(1, len(train_loss) + 1)\n",
    "\n",
    "fig,axs = plt.subplots(1, 2, figsize=(16,6))\n",
    "axs[0].plot(x, train_loss, color=colors[0], label=\"Training loss\", linewidth=2)\n",
    "axs[0].plot(x, val_loss, color=colors[1], label=\"Validation loss\", linewidth=2)\n",
    "axs[0].set_xlabel('Epoch')\n",
    "axs[0].set_ylabel('Loss')\n",
    "axs[0].legend(loc='upper right')\n",
    "axs[0].set_title(\"Evolution of the training, validation loss\")\n",
    "\n",
    "axs[1].plot(x, train_acc, color=colors[0], label=\"Training accuracy\", linewidth=2)\n",
    "axs[1].plot(x, val_acc, color=colors[1], label=\"Validation accuracy\", linewidth=2)\n",
    "axs[1].set_xlabel('Epoch')\n",
    "axs[1].set_ylabel('Accuracy')\n",
    "axs[1].legend(loc='lower right')\n",
    "axs[1].set_title(\"Evolution of the training, validation accuracy\")\n",
    "plt.show()"
   ]
  },
  {
   "cell_type": "markdown",
   "id": "493c2749",
   "metadata": {},
   "source": [
    "# Select best models and compute prediction sets\n"
   ]
  },
  {
   "cell_type": "markdown",
   "id": "c08394c4",
   "metadata": {},
   "source": [
    "## Check the benchmark model\n",
    "select_model function will choose the best model for given test point, if no test point\n",
    "is given, it will output the best model selected ONLY based on validation data, which\n",
    "serves as an benchmark model."
   ]
  },
  {
   "cell_type": "code",
   "execution_count": 19,
   "id": "7c8eb017",
   "metadata": {},
   "outputs": [],
   "source": [
    "# check the benchmark model\n",
    "bm_loss, bm_model, loss_history = CES_mc.select_model()"
   ]
  },
  {
   "cell_type": "code",
   "execution_count": 20,
   "id": "ed6fbb80",
   "metadata": {
    "scrolled": true
   },
   "outputs": [
    {
     "name": "stdout",
     "output_type": "stream",
     "text": [
      "Benchmark best loss is: 1.163\n",
      "Benchmark best model is saved in: ./models\\model8.pth\n"
     ]
    }
   ],
   "source": [
    "# Benchmark model corresponds to the one with smallest validation loss\n",
    "print('Benchmark best loss is: {:.3f}'.format(bm_loss))\n",
    "print('Benchmark best model is saved in:', bm_model)"
   ]
  },
  {
   "cell_type": "markdown",
   "id": "f18bdc18",
   "metadata": {},
   "source": [
    "# Compute prediction sets"
   ]
  },
  {
   "cell_type": "code",
   "execution_count": 21,
   "id": "8fac57d2",
   "metadata": {
    "scrolled": true
   },
   "outputs": [
    {
     "name": "stdout",
     "output_type": "stream",
     "text": [
      "Calibrating each model in the list...\n"
     ]
    },
    {
     "name": "stderr",
     "output_type": "stream",
     "text": [
      "100%|██████████████████████████████████████████████████████████████████████████████████| 10/10 [00:33<00:00,  3.35s/it]"
     ]
    },
    {
     "name": "stdout",
     "output_type": "stream",
     "text": [
      "Initialization done!\n",
      "Calibration (one time effort) takes:33.49s.\n"
     ]
    },
    {
     "name": "stderr",
     "output_type": "stream",
     "text": [
      "\n"
     ]
    }
   ],
   "source": [
    "from inference import Conformal_PSet\n",
    "\n",
    "alpha = 0.1\n",
    "n_classes = len(classes)\n",
    "model_list = CES_mc.model_list     # Get the saved model list from the CES class\n",
    "\n",
    "# Compute conformity scores of calibration sets for each model and corresponding calibrated\n",
    "# confidence level, this might take some time if we have too many saved models but fortunately\n",
    "# this initialization will be a one-time effort.\n",
    "cal_time = time.time()\n",
    "C_PSet = Conformal_PSet(net, device, val_loader, n_classes, model_list, alpha,random_state = 2023)\n",
    "print('Calibration (one time effort) takes:{:.2f}s.'.format(time.time()-cal_time))"
   ]
  },
  {
   "cell_type": "code",
   "execution_count": 22,
   "id": "e317dc58",
   "metadata": {},
   "outputs": [],
   "source": [
    "# get all test images\n",
    "dataiter = iter(test_loader)\n",
    "inputs, labels = dataiter.next()"
   ]
  },
  {
   "cell_type": "code",
   "execution_count": 23,
   "id": "0c68c622",
   "metadata": {},
   "outputs": [
    {
     "name": "stdout",
     "output_type": "stream",
     "text": [
      "Loading model 0 of 10...\n"
     ]
    },
    {
     "name": "stderr",
     "output_type": "stream",
     "text": [
      "100%|█████████████████████████████████████████████████████████████████████████████| 1000/1000 [00:06<00:00, 149.86it/s]"
     ]
    },
    {
     "name": "stdout",
     "output_type": "stream",
     "text": [
      "Loading model 1 of 10...\n"
     ]
    },
    {
     "name": "stderr",
     "output_type": "stream",
     "text": [
      "\n",
      "100%|█████████████████████████████████████████████████████████████████████████████| 1000/1000 [00:06<00:00, 148.70it/s]"
     ]
    },
    {
     "name": "stdout",
     "output_type": "stream",
     "text": [
      "Loading model 2 of 10...\n"
     ]
    },
    {
     "name": "stderr",
     "output_type": "stream",
     "text": [
      "\n",
      "100%|█████████████████████████████████████████████████████████████████████████████| 1000/1000 [00:06<00:00, 146.55it/s]"
     ]
    },
    {
     "name": "stdout",
     "output_type": "stream",
     "text": [
      "Loading model 3 of 10...\n"
     ]
    },
    {
     "name": "stderr",
     "output_type": "stream",
     "text": [
      "\n",
      "100%|█████████████████████████████████████████████████████████████████████████████| 1000/1000 [00:06<00:00, 143.63it/s]"
     ]
    },
    {
     "name": "stdout",
     "output_type": "stream",
     "text": [
      "Loading model 4 of 10...\n"
     ]
    },
    {
     "name": "stderr",
     "output_type": "stream",
     "text": [
      "\n",
      "100%|█████████████████████████████████████████████████████████████████████████████| 1000/1000 [00:06<00:00, 146.85it/s]"
     ]
    },
    {
     "name": "stdout",
     "output_type": "stream",
     "text": [
      "Loading model 5 of 10...\n"
     ]
    },
    {
     "name": "stderr",
     "output_type": "stream",
     "text": [
      "\n",
      "100%|█████████████████████████████████████████████████████████████████████████████| 1000/1000 [00:07<00:00, 141.95it/s]"
     ]
    },
    {
     "name": "stdout",
     "output_type": "stream",
     "text": [
      "Loading model 6 of 10...\n"
     ]
    },
    {
     "name": "stderr",
     "output_type": "stream",
     "text": [
      "\n",
      "100%|█████████████████████████████████████████████████████████████████████████████| 1000/1000 [00:07<00:00, 140.95it/s]"
     ]
    },
    {
     "name": "stdout",
     "output_type": "stream",
     "text": [
      "Loading model 7 of 10...\n"
     ]
    },
    {
     "name": "stderr",
     "output_type": "stream",
     "text": [
      "\n",
      "100%|█████████████████████████████████████████████████████████████████████████████| 1000/1000 [00:07<00:00, 138.03it/s]"
     ]
    },
    {
     "name": "stdout",
     "output_type": "stream",
     "text": [
      "Loading model 8 of 10...\n"
     ]
    },
    {
     "name": "stderr",
     "output_type": "stream",
     "text": [
      "\n",
      "100%|█████████████████████████████████████████████████████████████████████████████| 1000/1000 [00:07<00:00, 138.78it/s]"
     ]
    },
    {
     "name": "stdout",
     "output_type": "stream",
     "text": [
      "Loading model 9 of 10...\n"
     ]
    },
    {
     "name": "stderr",
     "output_type": "stream",
     "text": [
      "\n",
      "100%|█████████████████████████████████████████████████████████████████████████████| 1000/1000 [00:07<00:00, 141.88it/s]"
     ]
    },
    {
     "name": "stdout",
     "output_type": "stream",
     "text": [
      "selecting models takes: 69.73400211334229\n"
     ]
    },
    {
     "name": "stderr",
     "output_type": "stream",
     "text": [
      "\n"
     ]
    }
   ],
   "source": [
    "# Pick the best model for each test point\n",
    "start = time.time()\n",
    "best_loss, best_model, test_val_loss_history = CES_mc.select_model(inputs)\n",
    "print('selecting models takes:', time.time()-start)"
   ]
  },
  {
   "cell_type": "code",
   "execution_count": 24,
   "id": "43605d58",
   "metadata": {},
   "outputs": [
    {
     "name": "stderr",
     "output_type": "stream",
     "text": [
      "100%|██████████████████████████████████████████████████████████████████████████████| 1000/1000 [00:15<00:00, 66.12it/s]\n"
     ]
    },
    {
     "name": "stdout",
     "output_type": "stream",
     "text": [
      "Finished computing marginal prediction sets for 1000 test points.\n"
     ]
    },
    {
     "name": "stderr",
     "output_type": "stream",
     "text": [
      "100%|██████████████████████████████████████████████████████████████████████████████| 1000/1000 [00:15<00:00, 64.83it/s]"
     ]
    },
    {
     "name": "stdout",
     "output_type": "stream",
     "text": [
      "Finished computing label conditional prediction sets for 1000 test points.\n"
     ]
    },
    {
     "name": "stderr",
     "output_type": "stream",
     "text": [
      "\n"
     ]
    }
   ],
   "source": [
    "# Get the marginal conformal pvalues \n",
    "pset_m= C_PSet.pred_set(inputs, best_model, marginal=True)\n",
    "# Get the label conditional conformal pvalues \n",
    "pset_lc = C_PSet.pred_set(inputs, best_model, marginal=False)"
   ]
  },
  {
   "cell_type": "code",
   "execution_count": 25,
   "id": "d072b25b",
   "metadata": {},
   "outputs": [],
   "source": [
    "def evaluate_predictions(S, y):\n",
    "    coverage = np.mean([y[i] in S[i] for i in range(len(y))])\n",
    "    length = np.mean([len(S[i]) for i in range(len(y))])\n",
    "    idx_cover = np.where([y[i] in S[i] for i in range(len(y))])[0]\n",
    "    length_cover = np.mean([len(S[i]) for i in idx_cover])\n",
    "    return coverage, length, length_cover\n",
    "\n",
    "def evaluate_marginal(S, y):\n",
    "    coverage, length, length_cover = evaluate_predictions(S, y)\n",
    "    print('Marginal coverage:       {:2.3%}'.format(coverage))\n",
    "    print('Average size:            {:2.3f}'.format(length))\n",
    "    print('Average size | coverage: {:2.3f}'.format(length_cover))\n",
    "\n",
    "def evaluate_conditional(S, y):\n",
    "    n_class = len(np.unique(y))\n",
    "    for i in range(n_class):\n",
    "        label = i\n",
    "        idx = np.where(y==label)[0]\n",
    "        coverage, length, length_cover = evaluate_predictions(np.array(S, dtype=object)[idx], np.array(y)[idx])\n",
    "        print('Conditional coverage for label {}:       {:2.3%}'.format(classes[label], coverage))\n",
    "        print('Average size:            {:2.3f}'.format(length))\n",
    "        print('Average size | coverage: {:2.3f}'.format(length_cover))"
   ]
  },
  {
   "cell_type": "code",
   "execution_count": 26,
   "id": "2550d182",
   "metadata": {},
   "outputs": [
    {
     "name": "stdout",
     "output_type": "stream",
     "text": [
      "Evaluate marginal prediction sets.\n",
      "==================================================\n",
      "Marginal coverage:       91.800%\n",
      "Average size:            3.143\n",
      "Average size | coverage: 3.137\n",
      "==================================================\n",
      "Conditional coverage for label plane:       81.553%\n",
      "Average size:            3.311\n",
      "Average size | coverage: 3.143\n",
      "Conditional coverage for label car:       94.382%\n",
      "Average size:            1.933\n",
      "Average size | coverage: 1.893\n",
      "Conditional coverage for label bird:       87.000%\n",
      "Average size:            3.830\n",
      "Average size | coverage: 3.920\n",
      "Conditional coverage for label cat:       96.117%\n",
      "Average size:            4.010\n",
      "Average size | coverage: 4.030\n",
      "Conditional coverage for label deer:       88.889%\n",
      "Average size:            3.956\n",
      "Average size | coverage: 4.050\n",
      "Conditional coverage for label dog:       95.349%\n",
      "Average size:            3.256\n",
      "Average size | coverage: 3.329\n",
      "Conditional coverage for label frog:       95.536%\n",
      "Average size:            3.205\n",
      "Average size | coverage: 3.178\n",
      "Conditional coverage for label horse:       89.216%\n",
      "Average size:            2.735\n",
      "Average size | coverage: 2.725\n",
      "Conditional coverage for label ship:       98.113%\n",
      "Average size:            2.623\n",
      "Average size | coverage: 2.654\n",
      "Conditional coverage for label truck:       91.743%\n",
      "Average size:            2.587\n",
      "Average size | coverage: 2.560\n"
     ]
    }
   ],
   "source": [
    "print('Evaluate marginal prediction sets.')\n",
    "print('='*50)\n",
    "evaluate_marginal(pset_m, labels.numpy())\n",
    "print('='*50)\n",
    "evaluate_conditional(pset_m, labels.numpy())"
   ]
  },
  {
   "cell_type": "code",
   "execution_count": 27,
   "id": "122451b4",
   "metadata": {},
   "outputs": [
    {
     "name": "stdout",
     "output_type": "stream",
     "text": [
      "Evaluate label conditional prediction sets.\n",
      "==================================================\n",
      "Marginal coverage:       91.400%\n",
      "Average size:            3.197\n",
      "Average size | coverage: 3.220\n",
      "==================================================\n",
      "Conditional coverage for label plane:       85.437%\n",
      "Average size:            3.311\n",
      "Average size | coverage: 3.159\n",
      "Conditional coverage for label car:       85.393%\n",
      "Average size:            2.011\n",
      "Average size | coverage: 2.066\n",
      "Conditional coverage for label bird:       90.000%\n",
      "Average size:            3.880\n",
      "Average size | coverage: 3.944\n",
      "Conditional coverage for label cat:       97.087%\n",
      "Average size:            4.078\n",
      "Average size | coverage: 4.100\n",
      "Conditional coverage for label deer:       91.111%\n",
      "Average size:            4.011\n",
      "Average size | coverage: 4.134\n",
      "Conditional coverage for label dog:       89.535%\n",
      "Average size:            3.314\n",
      "Average size | coverage: 3.429\n",
      "Conditional coverage for label frog:       93.750%\n",
      "Average size:            3.304\n",
      "Average size | coverage: 3.305\n",
      "Conditional coverage for label horse:       89.216%\n",
      "Average size:            2.833\n",
      "Average size | coverage: 2.813\n",
      "Conditional coverage for label ship:       95.283%\n",
      "Average size:            2.821\n",
      "Average size | coverage: 2.842\n",
      "Conditional coverage for label truck:       95.413%\n",
      "Average size:            2.431\n",
      "Average size | coverage: 2.404\n"
     ]
    }
   ],
   "source": [
    "print('Evaluate label conditional prediction sets.')\n",
    "print('='*50)\n",
    "evaluate_marginal(pset_lc, labels.numpy())\n",
    "print('='*50)\n",
    "evaluate_conditional(pset_lc, labels.numpy())"
   ]
  },
  {
   "cell_type": "code",
   "execution_count": 28,
   "id": "50bc91de",
   "metadata": {},
   "outputs": [
    {
     "data": {
      "text/plain": [
       "0.07381010431489352"
      ]
     },
     "execution_count": 28,
     "metadata": {},
     "output_type": "execute_result"
    }
   ],
   "source": [
    "C_PSet.alpha_calibrated[6]"
   ]
  },
  {
   "cell_type": "code",
   "execution_count": 29,
   "id": "c6cf0d4e",
   "metadata": {},
   "outputs": [
    {
     "data": {
      "text/plain": [
       "array([0.05947839, 0.1162352 , 0.0561145 , 0.08228666, 0.09952333,\n",
       "       0.07075251, 0.12016128, 0.04747663, 0.08645226, 0.03374948])"
      ]
     },
     "execution_count": 29,
     "metadata": {},
     "output_type": "execute_result"
    }
   ],
   "source": [
    "C_PSet.alpha_calibrated_lc[6]"
   ]
  },
  {
   "cell_type": "code",
   "execution_count": null,
   "id": "83740ef6",
   "metadata": {},
   "outputs": [],
   "source": []
  }
 ],
 "metadata": {
  "kernelspec": {
   "display_name": "Python 3 (ipykernel)",
   "language": "python",
   "name": "python3"
  },
  "language_info": {
   "codemirror_mode": {
    "name": "ipython",
    "version": 3
   },
   "file_extension": ".py",
   "mimetype": "text/x-python",
   "name": "python",
   "nbconvert_exporter": "python",
   "pygments_lexer": "ipython3",
   "version": "3.9.12"
  }
 },
 "nbformat": 4,
 "nbformat_minor": 5
}
