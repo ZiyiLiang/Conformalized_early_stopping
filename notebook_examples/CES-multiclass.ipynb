{
 "cells": [
  {
   "cell_type": "markdown",
   "id": "eaae4bf4",
   "metadata": {},
   "source": [
    "# Conformalized Early Stopping -- Multi-class Classification\n",
    "__The notebook is organized in the following parts:__\n",
    "1. Training and conformalized early stopping: we train a CNN with CIFAR10 dataset, save model snapshots regularly. \n",
    "2. Compute conformal prediction sets:  For each test point we select the best snapshots from the model list saved at step 1. We then compute marginal and label conditional prediction sets using the best model.\n",
    "3. Visualization and comparison with benchmark: lastly we will compare our new method to the conventional benchmark approach and visualize the difference."
   ]
  },
  {
   "cell_type": "code",
   "execution_count": 1,
   "id": "8697aa2a",
   "metadata": {},
   "outputs": [],
   "source": [
    "%matplotlib inline"
   ]
  },
  {
   "cell_type": "code",
   "execution_count": 2,
   "id": "860738e0",
   "metadata": {},
   "outputs": [],
   "source": [
    "# Python 2/3 compatibility\n",
    "from __future__ import print_function, division\n",
    "\n",
    "import itertools\n",
    "import time\n",
    "\n",
    "import numpy as np\n",
    "import matplotlib.pyplot as plt\n",
    "\n",
    "# Colors from Colorbrewer Paired_12\n",
    "colors = [[31, 120, 180], [51, 160, 44], [250,159,181]]\n",
    "colors = [(r / 255, g / 255, b / 255) for (r, g, b) in colors]\n",
    "\n",
    "# functions to show an image\n",
    "def imshow(img):\n",
    "    \"\"\"\n",
    "    :param img: (PyTorch Tensor)\n",
    "    \"\"\"\n",
    "    # unnormalize\n",
    "    img = img / 2 + 0.5     \n",
    "    # Convert tensor to numpy array\n",
    "    npimg = img.numpy()\n",
    "    # Color channel first -> color channel last\n",
    "    plt.imshow(np.transpose(npimg, (1, 2, 0)))\n",
    "\n",
    "def get_image(img):\n",
    "    \"\"\"\n",
    "    convert a tensor to images suitable for plotting\n",
    "    :param img: (PyTorch Tensor)\n",
    "    \"\"\"\n",
    "    # unnormalize\n",
    "    img = img / 2 + 0.5     \n",
    "    # Convert tensor to numpy array\n",
    "    npimg = img.numpy()\n",
    "    # Color channel first -> color channel last\n",
    "    return np.transpose(npimg, (1, 2, 0))\n",
    "\n",
    "def plot_loss_acc(train_loss, val_loss, test_loss, train_acc, val_acc, test_acc):\n",
    "    x = np.arange(1, len(train_loss) + 1)\n",
    "\n",
    "    fig,axs = plt.subplots(1, 2, figsize=(16,6))\n",
    "    axs[0].plot(x, train_loss, color=colors[0], label=\"Training loss\", linewidth=2)\n",
    "    axs[0].plot(x, val_loss, color=colors[1], label=\"Validation loss\", linewidth=2)\n",
    "    axs[0].plot(x, test_loss, color=colors[2], label=\"Test loss\", linewidth=2)\n",
    "    axs[0].set_xlabel('Epoch')\n",
    "    axs[0].set_ylabel('Loss')\n",
    "    axs[0].legend(loc='upper right')\n",
    "    axs[0].set_title(\"Evolution of the training, validation and test loss\")\n",
    "\n",
    "    axs[1].plot(x, train_acc, color=colors[0], label=\"Training accuracy\", linewidth=2)\n",
    "    axs[1].plot(x, val_acc, color=colors[1], label=\"Validation accuracy\", linewidth=2)\n",
    "    axs[1].plot(x, test_acc, color=colors[2], label=\"Test accuracy\", linewidth=2)\n",
    "    axs[1].set_xlabel('Epoch')\n",
    "    axs[1].set_ylabel('Accuracy')\n",
    "    axs[1].legend(loc='lower right')\n",
    "    axs[1].set_title(\"Evolution of the training, validation and test accuracy\")\n",
    "    plt.show()\n"
   ]
  },
  {
   "cell_type": "markdown",
   "id": "3a502199",
   "metadata": {
    "id": "J-Rj19xwwlhb"
   },
   "source": [
    "###  Loading and normalizing CIFAR10 Dataset\n"
   ]
  },
  {
   "cell_type": "code",
   "execution_count": 3,
   "id": "6aa8e11d",
   "metadata": {
    "id": "QICySsacvY9z"
   },
   "outputs": [],
   "source": [
    "import torch as th\n",
    "import numpy as np\n",
    "import torchvision\n",
    "import torchvision.transforms as transforms"
   ]
  },
  {
   "cell_type": "markdown",
   "id": "5ec2bf25",
   "metadata": {
    "id": "TpGY1kJXvzMm"
   },
   "source": [
    "### Define subset of the dataset (so it is faster to train)"
   ]
  },
  {
   "cell_type": "code",
   "execution_count": 5,
   "id": "b4f97ed3",
   "metadata": {},
   "outputs": [],
   "source": [
    "from torch.utils.data.sampler import SubsetRandomSampler\n",
    "\n",
    "seed = 2022\n",
    "np.random.seed(seed)\n",
    "th.manual_seed(seed)\n",
    "\n",
    "n_training_samples = 20000 # Max: 50 000 - n_val_samples\n",
    "n_val_samples = 5000\n",
    "n_test_samples = 1000\n",
    "\n",
    "train_sampler = SubsetRandomSampler(np.arange(n_training_samples, dtype=np.int64))\n",
    "val_sampler = SubsetRandomSampler(np.arange(n_training_samples, n_training_samples + n_val_samples, dtype=np.int64))\n",
    "test_sampler = SubsetRandomSampler(np.arange(n_test_samples, dtype=np.int64))\n",
    "# (In the last case, indexes do not need to account for training ones because the train=False parameter in datasets.CIFAR will select from the test set)"
   ]
  },
  {
   "cell_type": "code",
   "execution_count": 8,
   "id": "2047bea5",
   "metadata": {},
   "outputs": [
    {
     "name": "stdout",
     "output_type": "stream",
     "text": [
      "Files already downloaded and verified\n",
      "Files already downloaded and verified\n"
     ]
    }
   ],
   "source": [
    "num_workers = 2\n",
    "test_batch_size = 4\n",
    "\n",
    "transform = transforms.Compose(\n",
    "    [transforms.ToTensor(),\n",
    "     transforms.Normalize(mean=(0.5, 0.5, 0.5), std=(0.5, 0.5, 0.5))])\n",
    "\n",
    "train_set = torchvision.datasets.CIFAR10(root='./data', train=True,\n",
    "                                        download=True, transform=transform)\n",
    "\n",
    "train_loader = th.utils.data.DataLoader(train_set, batch_size=test_batch_size, sampler=train_sampler,\n",
    "                                          num_workers=num_workers)\n",
    "\n",
    "test_set = torchvision.datasets.CIFAR10(root='./data', train=False,\n",
    "                                       download=True, transform=transform)\n",
    "test_loader = th.utils.data.DataLoader(test_set, batch_size=test_batch_size, sampler=test_sampler,\n",
    "                                         num_workers=num_workers)\n",
    "\n",
    "classes = ('plane', 'car', 'bird', 'cat',\n",
    "           'deer', 'dog', 'frog', 'horse', 'ship', 'truck')"
   ]
  },
  {
   "cell_type": "code",
   "execution_count": 9,
   "id": "7ccb63d6",
   "metadata": {},
   "outputs": [],
   "source": [
    "import os\n",
    "os.environ['KMP_DUPLICATE_LIB_OK']='True'"
   ]
  },
  {
   "cell_type": "code",
   "execution_count": 10,
   "id": "9a23270c",
   "metadata": {
    "scrolled": true
   },
   "outputs": [
    {
     "name": "stdout",
     "output_type": "stream",
     "text": [
      "     truck      truck        car      horse\n"
     ]
    },
    {
     "data": {
      "image/png": "[encoded data removed]",
      "text/plain": [
       "<Figure size 432x288 with 1 Axes>"
      ]
     },
     "metadata": {
      "needs_background": "light"
     },
     "output_type": "display_data"
    }
   ],
   "source": [
    "# get some random training images\n",
    "dataiter = iter(train_loader)\n",
    "images, labels = dataiter.next()\n",
    "\n",
    "# show images\n",
    "imshow(torchvision.utils.make_grid(images))\n",
    "# print labels\n",
    "print(' '.join('{:>10}'.format(classes[labels[j]]) for j in range(test_batch_size)))"
   ]
  },
  {
   "cell_type": "markdown",
   "id": "caddf5d9",
   "metadata": {},
   "source": [
    "## Train CNN"
   ]
  },
  {
   "cell_type": "code",
   "execution_count": 17,
   "id": "784cc0a8",
   "metadata": {},
   "outputs": [],
   "source": [
    "import sys, os\n",
    "import torch.nn as nn\n",
    "import torch.nn.functional as F"
   ]
  },
  {
   "cell_type": "code",
   "execution_count": 18,
   "id": "14752129",
   "metadata": {},
   "outputs": [],
   "source": [
    "sys.path.append('C:/Users/16266/OneDrive/Documents/GitHub/Conformalized_early_stopping/ConformalizedES')\n",
    "sys.path.append('C:/Users/16266/OneDrive/Documents/GitHub/Conformalized_early_stopping/third_party/arc/arc/')"
   ]
  },
  {
   "cell_type": "code",
   "execution_count": 19,
   "id": "b1429a18",
   "metadata": {},
   "outputs": [],
   "source": [
    "from method import CES_multiClass\n",
    "from networks import SimpleConvolutionalNetwork\n",
    "from inference import Conformal_PSet"
   ]
  },
  {
   "cell_type": "code",
   "execution_count": 20,
   "id": "4b1b6586",
   "metadata": {},
   "outputs": [],
   "source": [
    "net = SimpleConvolutionalNetwork()"
   ]
  },
  {
   "cell_type": "code",
   "execution_count": 21,
   "id": "69c93552",
   "metadata": {},
   "outputs": [],
   "source": [
    "import torch.optim as optim\n",
    "\n",
    "def createLossAndOptimizer(net, learning_rate=0.001):\n",
    "    # it combines softmax with negative log likelihood loss\n",
    "    criterion = nn.CrossEntropyLoss()  \n",
    "    #optimizer = optim.SGD(net.parameters(), lr=learning_rate, momentum=0.9)\n",
    "    optimizer = optim.Adam(net.parameters(), lr=learning_rate)\n",
    "    return criterion, optimizer"
   ]
  },
  {
   "cell_type": "code",
   "execution_count": 22,
   "id": "3089b1f2",
   "metadata": {},
   "outputs": [],
   "source": [
    "# Define the model parameters\n",
    "\n",
    "lr = 0.001\n",
    "n_epoch = 10\n",
    "n_classes = len(classes)\n",
    "batch_size = 64\n",
    "\n",
    "criterion, optimizer = createLossAndOptimizer(net, learning_rate=lr)"
   ]
  },
  {
   "cell_type": "code",
   "execution_count": 24,
   "id": "942ab444",
   "metadata": {},
   "outputs": [],
   "source": [
    "seed = 2022\n",
    "np.random.seed(seed)\n",
    "th.manual_seed(seed)\n",
    "\n",
    "if th.cuda.is_available():\n",
    "    # Make CuDNN Determinist\n",
    "    th.backends.cudnn.deterministic = True\n",
    "    th.cuda.manual_seed(seed)\n",
    "\n",
    "# Define default device, we should use the GPU (cuda) if available\n",
    "device = th.device(\"cuda\" if th.cuda.is_available() else \"cpu\")### Define subset of the dataset (so it is faster to train)"
   ]
  },
  {
   "cell_type": "code",
   "execution_count": 25,
   "id": "e2f95ff6",
   "metadata": {},
   "outputs": [],
   "source": [
    "def get_train_loader(batch_size):\n",
    "    return th.utils.data.DataLoader(train_set, batch_size=batch_size, sampler=train_sampler,\n",
    "                                              num_workers=num_workers)\n",
    "\n",
    "train_loader = get_train_loader(batch_size)\n",
    "\n",
    "# Use larger batch size for validation to speed up computation\n",
    "val_loader = th.utils.data.DataLoader(train_set, batch_size=1000, sampler=val_sampler,\n",
    "                                          num_workers=num_workers)\n",
    "\n",
    "test_loader = th.utils.data.DataLoader(test_set, batch_size=1000, sampler=test_sampler,\n",
    "                                         num_workers=num_workers)"
   ]
  },
  {
   "cell_type": "code",
   "execution_count": 27,
   "id": "d1ef5151",
   "metadata": {},
   "outputs": [
    {
     "name": "stdout",
     "output_type": "stream",
     "text": [
      "===== HYPERPARAMETERS =====\n",
      "batch_size= 64\n",
      "n_epochs= 10\n",
      "learning_rate= 0.001\n",
      "==============================\n"
     ]
    }
   ],
   "source": [
    "seed = 2023\n",
    "np.random.seed(seed)\n",
    "th.manual_seed(seed)\n",
    "\n",
    "# Initialize the CES class with model parameters\n",
    "CES_mc = CES_multiClass(net, device, train_loader, n_classes=n_classes, batch_size=batch_size, max_epoch=n_epoch, \n",
    "                        learning_rate=lr, val_loader=val_loader, criterion=criterion,optimizer=optimizer)"
   ]
  },
  {
   "cell_type": "code",
   "execution_count": 28,
   "id": "b02f2772",
   "metadata": {},
   "outputs": [
    {
     "name": "stdout",
     "output_type": "stream",
     "text": [
      "Epoch 1, 10% \t train_loss: 2.15 train_acc: 25.25% took: 2.88s\n",
      "Epoch 1, 20% \t train_loss: 1.90 train_acc: 35.23% took: 0.51s\n",
      "Epoch 1, 30% \t train_loss: 1.75 train_acc: 40.02% took: 0.51s\n",
      "Epoch 1, 40% \t train_loss: 1.65 train_acc: 43.90% took: 0.49s\n",
      "Epoch 1, 51% \t train_loss: 1.65 train_acc: 43.90% took: 0.50s\n",
      "Epoch 1, 61% \t train_loss: 1.61 train_acc: 45.36% took: 0.49s\n",
      "Epoch 1, 71% \t train_loss: 1.61 train_acc: 44.56% took: 0.49s\n",
      "Epoch 1, 81% \t train_loss: 1.53 train_acc: 48.34% took: 0.48s\n",
      "Epoch 1, 92% \t train_loss: 1.51 train_acc: 47.28% took: 0.49s\n",
      "val_loss = 1.39 val_acc = 50.24%\n",
      "Snapshot saved at epoch 1.\n",
      "Epoch 2, 10% \t train_loss: 1.41 train_acc: 53.48% took: 3.73s\n",
      "Epoch 2, 20% \t train_loss: 1.43 train_acc: 52.17% took: 0.55s\n",
      "Epoch 2, 30% \t train_loss: 1.47 train_acc: 51.51% took: 0.56s\n",
      "Epoch 2, 40% \t train_loss: 1.37 train_acc: 53.88% took: 0.58s\n",
      "Epoch 2, 51% \t train_loss: 1.38 train_acc: 54.08% took: 0.56s\n",
      "Epoch 2, 61% \t train_loss: 1.33 train_acc: 54.74% took: 0.55s\n",
      "Epoch 2, 71% \t train_loss: 1.34 train_acc: 54.94% took: 0.57s\n",
      "Epoch 2, 81% \t train_loss: 1.37 train_acc: 54.28% took: 0.58s\n",
      "Epoch 2, 92% \t train_loss: 1.35 train_acc: 54.64% took: 0.59s\n",
      "val_loss = 1.28 val_acc = 54.02%\n",
      "Snapshot saved at epoch 2.\n",
      "Epoch 3, 10% \t train_loss: 1.26 train_acc: 58.42% took: 3.32s\n",
      "Epoch 3, 20% \t train_loss: 1.35 train_acc: 55.65% took: 0.57s\n",
      "Epoch 3, 30% \t train_loss: 1.26 train_acc: 57.41% took: 0.59s\n",
      "Epoch 3, 40% \t train_loss: 1.23 train_acc: 60.69% took: 0.61s\n",
      "Epoch 3, 51% \t train_loss: 1.23 train_acc: 59.83% took: 0.63s\n",
      "Epoch 3, 61% \t train_loss: 1.23 train_acc: 59.53% took: 0.60s\n",
      "Epoch 3, 71% \t train_loss: 1.22 train_acc: 59.88% took: 0.59s\n",
      "Epoch 3, 81% \t train_loss: 1.22 train_acc: 61.19% took: 0.61s\n",
      "Epoch 3, 92% \t train_loss: 1.24 train_acc: 58.22% took: 0.61s\n",
      "val_loss = 1.23 val_acc = 55.58%\n",
      "Snapshot saved at epoch 3.\n",
      "Epoch 4, 10% \t train_loss: 1.15 train_acc: 63.46% took: 3.41s\n",
      "Epoch 4, 20% \t train_loss: 1.20 train_acc: 61.29% took: 0.61s\n",
      "Epoch 4, 30% \t train_loss: 1.13 train_acc: 63.56% took: 0.60s\n",
      "Epoch 4, 40% \t train_loss: 1.16 train_acc: 62.65% took: 0.61s\n",
      "Epoch 4, 51% \t train_loss: 1.11 train_acc: 63.76% took: 0.61s\n",
      "Epoch 4, 61% \t train_loss: 1.13 train_acc: 62.85% took: 0.63s\n",
      "Epoch 4, 71% \t train_loss: 1.15 train_acc: 63.41% took: 0.62s\n",
      "Epoch 4, 81% \t train_loss: 1.13 train_acc: 63.05% took: 0.64s\n",
      "Epoch 4, 92% \t train_loss: 1.21 train_acc: 60.89% took: 0.66s\n",
      "val_loss = 1.20 val_acc = 57.30%\n",
      "Snapshot saved at epoch 4.\n",
      "Epoch 5, 10% \t train_loss: 1.05 train_acc: 65.12% took: 3.41s\n",
      "Epoch 5, 20% \t train_loss: 1.02 train_acc: 67.84% took: 0.61s\n",
      "Epoch 5, 30% \t train_loss: 1.11 train_acc: 64.52% took: 0.59s\n",
      "Epoch 5, 40% \t train_loss: 1.06 train_acc: 66.08% took: 0.63s\n",
      "Epoch 5, 51% \t train_loss: 1.05 train_acc: 67.09% took: 0.62s\n",
      "Epoch 5, 61% \t train_loss: 1.02 train_acc: 66.73% took: 0.63s\n",
      "Epoch 5, 71% \t train_loss: 1.09 train_acc: 64.62% took: 0.61s\n",
      "Epoch 5, 81% \t train_loss: 1.04 train_acc: 66.78% took: 0.63s\n",
      "Epoch 5, 92% \t train_loss: 1.08 train_acc: 64.82% took: 0.65s\n",
      "val_loss = 1.18 val_acc = 58.00%\n",
      "Snapshot saved at epoch 5.\n",
      "Epoch 6, 10% \t train_loss: 0.98 train_acc: 69.30% took: 3.39s\n",
      "Epoch 6, 20% \t train_loss: 0.96 train_acc: 69.56% took: 0.61s\n",
      "Epoch 6, 30% \t train_loss: 0.99 train_acc: 68.04% took: 0.63s\n",
      "Epoch 6, 40% \t train_loss: 0.96 train_acc: 69.76% took: 0.63s\n",
      "Epoch 6, 51% \t train_loss: 0.97 train_acc: 69.56% took: 0.63s\n",
      "Epoch 6, 61% \t train_loss: 0.97 train_acc: 68.60% took: 0.66s\n",
      "Epoch 6, 71% \t train_loss: 1.03 train_acc: 66.94% took: 0.63s\n",
      "Epoch 6, 81% \t train_loss: 0.98 train_acc: 69.76% took: 0.64s\n",
      "Epoch 6, 92% \t train_loss: 0.98 train_acc: 68.60% took: 0.66s\n",
      "val_loss = 1.21 val_acc = 57.22%\n",
      "Snapshot saved at epoch 6.\n",
      "Epoch 7, 10% \t train_loss: 0.92 train_acc: 72.18% took: 3.31s\n",
      "Epoch 7, 20% \t train_loss: 0.88 train_acc: 73.69% took: 0.61s\n",
      "Epoch 7, 30% \t train_loss: 0.92 train_acc: 71.37% took: 0.62s\n",
      "Epoch 7, 40% \t train_loss: 0.92 train_acc: 71.62% took: 0.64s\n",
      "Epoch 7, 51% \t train_loss: 0.92 train_acc: 69.71% took: 0.64s\n",
      "Epoch 7, 61% \t train_loss: 0.91 train_acc: 71.42% took: 0.62s\n",
      "Epoch 7, 71% \t train_loss: 0.96 train_acc: 69.71% took: 0.63s\n",
      "Epoch 7, 81% \t train_loss: 0.91 train_acc: 69.61% took: 0.62s\n",
      "Epoch 7, 92% \t train_loss: 0.90 train_acc: 71.57% took: 0.62s\n",
      "val_loss = 1.15 val_acc = 59.42%\n",
      "Snapshot saved at epoch 7.\n",
      "Epoch 8, 10% \t train_loss: 0.82 train_acc: 74.65% took: 3.94s\n",
      "Epoch 8, 20% \t train_loss: 0.81 train_acc: 76.61% took: 0.64s\n",
      "Epoch 8, 30% \t train_loss: 0.88 train_acc: 72.53% took: 0.66s\n",
      "Epoch 8, 40% \t train_loss: 0.84 train_acc: 73.24% took: 0.63s\n",
      "Epoch 8, 51% \t train_loss: 0.87 train_acc: 73.54% took: 0.63s\n",
      "Epoch 8, 61% \t train_loss: 0.84 train_acc: 74.09% took: 0.65s\n",
      "Epoch 8, 71% \t train_loss: 0.89 train_acc: 72.13% took: 0.66s\n",
      "Epoch 8, 81% \t train_loss: 0.81 train_acc: 74.09% took: 0.67s\n",
      "Epoch 8, 92% \t train_loss: 0.85 train_acc: 74.29% took: 0.69s\n",
      "val_loss = 1.16 val_acc = 59.40%\n",
      "Snapshot saved at epoch 8.\n",
      "Epoch 9, 10% \t train_loss: 0.75 train_acc: 77.37% took: 3.61s\n",
      "Epoch 9, 20% \t train_loss: 0.75 train_acc: 77.42% took: 0.63s\n",
      "Epoch 9, 30% \t train_loss: 0.82 train_acc: 74.34% took: 0.65s\n",
      "Epoch 9, 40% \t train_loss: 0.76 train_acc: 77.82% took: 0.68s\n",
      "Epoch 9, 51% \t train_loss: 0.80 train_acc: 75.15% took: 0.63s\n",
      "Epoch 9, 61% \t train_loss: 0.83 train_acc: 75.00% took: 0.65s\n",
      "Epoch 9, 71% \t train_loss: 0.78 train_acc: 76.31% took: 0.70s\n",
      "Epoch 9, 81% \t train_loss: 0.81 train_acc: 75.00% took: 0.80s\n",
      "Epoch 9, 92% \t train_loss: 0.79 train_acc: 76.01% took: 0.76s\n",
      "val_loss = 1.18 val_acc = 59.96%\n",
      "Snapshot saved at epoch 9.\n",
      "Epoch 10, 10% \t train_loss: 0.68 train_acc: 80.14% took: 3.40s\n",
      "Epoch 10, 20% \t train_loss: 0.68 train_acc: 79.99% took: 0.80s\n",
      "Epoch 10, 30% \t train_loss: 0.73 train_acc: 77.92% took: 0.84s\n",
      "Epoch 10, 40% \t train_loss: 0.76 train_acc: 77.07% took: 0.80s\n",
      "Epoch 10, 51% \t train_loss: 0.73 train_acc: 77.72% took: 0.84s\n",
      "Epoch 10, 61% \t train_loss: 0.69 train_acc: 78.98% took: 0.85s\n",
      "Epoch 10, 71% \t train_loss: 0.74 train_acc: 77.62% took: 0.84s\n",
      "Epoch 10, 81% \t train_loss: 0.72 train_acc: 78.63% took: 0.82s\n",
      "Epoch 10, 92% \t train_loss: 0.75 train_acc: 76.92% took: 0.85s\n",
      "val_loss = 1.20 val_acc = 60.34%\n",
      "Snapshot saved at epoch 10.\n",
      "Training done! A list of 10 models saved.\n"
     ]
    }
   ],
   "source": [
    "# Train the model and save snapshots regularly\n",
    "save_every = 1    # Save model after every few epoches\n",
    "CES_mc.full_train(save_dir = './models', save_every = save_every)"
   ]
  },
  {
   "cell_type": "code",
   "execution_count": 29,
   "id": "2d83e951",
   "metadata": {
    "scrolled": true
   },
   "outputs": [
    {
     "data": {
      "image/png": "[encoded data removed]",
      "text/plain": [
       "<Figure size 1152x432 with 2 Axes>"
      ]
     },
     "metadata": {
      "needs_background": "light"
     },
     "output_type": "display_data"
    }
   ],
   "source": [
    "train_loss = CES_mc.train_loss_history\n",
    "train_acc = CES_mc.train_acc_history\n",
    "val_loss = CES_mc.val_loss_history\n",
    "val_acc = CES_mc.val_acc_history\n",
    "\n",
    "\n",
    "x = np.arange(1, len(train_loss) + 1)\n",
    "\n",
    "fig,axs = plt.subplots(1, 2, figsize=(16,6))\n",
    "axs[0].plot(x, train_loss, color=colors[0], label=\"Training loss\", linewidth=2)\n",
    "axs[0].plot(x, val_loss, color=colors[1], label=\"Validation loss\", linewidth=2)\n",
    "axs[0].set_xlabel('Epoch')\n",
    "axs[0].set_ylabel('Loss')\n",
    "axs[0].legend(loc='upper right')\n",
    "axs[0].set_title(\"Evolution of the training, validation loss\")\n",
    "\n",
    "axs[1].plot(x, train_acc, color=colors[0], label=\"Training accuracy\", linewidth=2)\n",
    "axs[1].plot(x, val_acc, color=colors[1], label=\"Validation accuracy\", linewidth=2)\n",
    "axs[1].set_xlabel('Epoch')\n",
    "axs[1].set_ylabel('Accuracy')\n",
    "axs[1].legend(loc='lower right')\n",
    "axs[1].set_title(\"Evolution of the training, validation accuracy\")\n",
    "plt.show()"
   ]
  },
  {
   "cell_type": "markdown",
   "id": "45874ae2",
   "metadata": {},
   "source": [
    "# Select best models and compute prediction sets\n"
   ]
  },
  {
   "cell_type": "markdown",
   "id": "747e6bbb",
   "metadata": {},
   "source": [
    "## Check the benchmark model\n",
    "select_model function will choose the best model for given test point, if no test point\n",
    "is given, it will output the best model selected ONLY based on validation data, which\n",
    "serves as an benchmark model."
   ]
  },
  {
   "cell_type": "code",
   "execution_count": 30,
   "id": "17b85607",
   "metadata": {},
   "outputs": [],
   "source": [
    "# check the benchmark model\n",
    "bm_loss, bm_model, loss_history = CES_mc.select_model()"
   ]
  },
  {
   "cell_type": "code",
   "execution_count": 31,
   "id": "03b38f28",
   "metadata": {
    "scrolled": true
   },
   "outputs": [
    {
     "name": "stdout",
     "output_type": "stream",
     "text": [
      "Benchmark best loss is: 1.1465815544128417\n",
      "Benchmark best model is saved at: ['./models\\\\model7.pth']\n"
     ]
    }
   ],
   "source": [
    "# Benchmark model corresponds to the one with smallest validation loss\n",
    "print('Benchmark best loss is:', bm_loss)\n",
    "print('Benchmark best model is saved at:', bm_model)"
   ]
  },
  {
   "cell_type": "markdown",
   "id": "5104e1c8",
   "metadata": {},
   "source": [
    "# Compute prediction sets"
   ]
  },
  {
   "cell_type": "code",
   "execution_count": 32,
   "id": "ed368d86",
   "metadata": {
    "scrolled": true
   },
   "outputs": [
    {
     "name": "stdout",
     "output_type": "stream",
     "text": [
      "Calibrating each model in the list...\n"
     ]
    },
    {
     "name": "stderr",
     "output_type": "stream",
     "text": [
      "100%|██████████████████████████████████████████████████████████████████████████████████| 10/10 [00:37<00:00,  3.78s/it]"
     ]
    },
    {
     "name": "stdout",
     "output_type": "stream",
     "text": [
      "Initialization done!\n",
      "Calibration (one time effort) takes:37.78s.\n"
     ]
    },
    {
     "name": "stderr",
     "output_type": "stream",
     "text": [
      "\n"
     ]
    }
   ],
   "source": [
    "from inference import Conformal_PSet\n",
    "\n",
    "alpha = 0.1\n",
    "n_classes = len(classes)\n",
    "model_list = CES_mc.model_list     # Get the saved model list from the CES class\n",
    "\n",
    "# Compute conformity scores of calibration sets for each model and corresponding calibrated\n",
    "# confidence level, this might take some time if we have too many saved models but fortunately\n",
    "# this initialization will be a one-time effort.\n",
    "cal_time = time.time()\n",
    "C_PSet = Conformal_PSet(net, device, val_loader, n_classes, model_list, alpha,random_state = 2023)\n",
    "print('Calibration (one time effort) takes:{:.2f}s.'.format(time.time()-cal_time))"
   ]
  },
  {
   "cell_type": "code",
   "execution_count": 33,
   "id": "54902eed",
   "metadata": {},
   "outputs": [],
   "source": [
    "# get all test images\n",
    "dataiter = iter(test_loader)\n",
    "inputs, labels = dataiter.next()"
   ]
  },
  {
   "cell_type": "code",
   "execution_count": 34,
   "id": "84a42a02",
   "metadata": {},
   "outputs": [
    {
     "name": "stdout",
     "output_type": "stream",
     "text": [
      "selecting models takes: 73.96706628799438\n"
     ]
    },
    {
     "name": "stderr",
     "output_type": "stream",
     "text": [
      "100%|██████████████████████████████████████████████████████████████████████████████| 1000/1000 [00:17<00:00, 57.90it/s]\n"
     ]
    },
    {
     "name": "stdout",
     "output_type": "stream",
     "text": [
      "Finished computing marginal prediction sets for 1000 test points.\n"
     ]
    },
    {
     "name": "stderr",
     "output_type": "stream",
     "text": [
      "100%|██████████████████████████████████████████████████████████████████████████████| 1000/1000 [00:17<00:00, 56.13it/s]"
     ]
    },
    {
     "name": "stdout",
     "output_type": "stream",
     "text": [
      "Finished computing label conditional prediction sets for 1000 test points.\n"
     ]
    },
    {
     "name": "stderr",
     "output_type": "stream",
     "text": [
      "\n"
     ]
    }
   ],
   "source": [
    "# Pick the best model for each test point\n",
    "start = time.time()\n",
    "best_loss, best_model, test_val_loss_history = CES_mc.select_model(inputs)\n",
    "print('selecting models takes:', time.time()-start)\n",
    "\n",
    "# Get the marginal conformal pvalues \n",
    "pset_m= C_PSet.pred_set(inputs, best_model, marginal=True)\n",
    "# Get the label conditional conformal pvalues \n",
    "pset_lc = C_PSet.pred_set(inputs, best_model, marginal=False)"
   ]
  },
  {
   "cell_type": "code",
   "execution_count": 35,
   "id": "2017bc83",
   "metadata": {},
   "outputs": [],
   "source": [
    "def evaluate_predictions(S, y):\n",
    "    coverage = np.mean([y[i] in S[i] for i in range(len(y))])\n",
    "    length = np.mean([len(S[i]) for i in range(len(y))])\n",
    "    idx_cover = np.where([y[i] in S[i] for i in range(len(y))])[0]\n",
    "    length_cover = np.mean([len(S[i]) for i in idx_cover])\n",
    "    return coverage, length, length_cover\n",
    "\n",
    "def evaluate_marginal(S, y):\n",
    "    coverage, length, length_cover = evaluate_predictions(S, y)\n",
    "    print('Marginal coverage:       {:2.3%}'.format(coverage))\n",
    "    print('Average size:            {:2.3f}'.format(length))\n",
    "    print('Average size | coverage: {:2.3f}'.format(length_cover))\n",
    "\n",
    "def evaluate_conditional(S, y):\n",
    "    n_class = len(np.unique(y))\n",
    "    for i in range(n_class):\n",
    "        label = i\n",
    "        idx = np.where(y==label)[0]\n",
    "        coverage, length, length_cover = evaluate_predictions(np.array(S, dtype=object)[idx], np.array(y)[idx])\n",
    "        print('Conditional coverage for label {}:       {:2.3%}'.format(classes[label], coverage))\n",
    "        print('Average size:            {:2.3f}'.format(length))\n",
    "        print('Average size | coverage: {:2.3f}'.format(length_cover))"
   ]
  },
  {
   "cell_type": "code",
   "execution_count": 36,
   "id": "b82b865c",
   "metadata": {},
   "outputs": [
    {
     "name": "stdout",
     "output_type": "stream",
     "text": [
      "Evaluate marginal prediction sets.\n",
      "==================================================\n",
      "Marginal coverage:       90.500%\n",
      "Average size:            3.077\n",
      "Average size | coverage: 3.110\n",
      "==================================================\n",
      "Conditional coverage for label plane:       91.262%\n",
      "Average size:            2.709\n",
      "Average size | coverage: 2.723\n",
      "Conditional coverage for label car:       92.135%\n",
      "Average size:            2.045\n",
      "Average size | coverage: 1.976\n",
      "Conditional coverage for label bird:       85.000%\n",
      "Average size:            3.630\n",
      "Average size | coverage: 3.882\n",
      "Conditional coverage for label cat:       84.466%\n",
      "Average size:            3.951\n",
      "Average size | coverage: 4.126\n",
      "Conditional coverage for label deer:       88.889%\n",
      "Average size:            3.767\n",
      "Average size | coverage: 3.850\n",
      "Conditional coverage for label dog:       94.186%\n",
      "Average size:            3.547\n",
      "Average size | coverage: 3.642\n",
      "Conditional coverage for label frog:       96.429%\n",
      "Average size:            2.946\n",
      "Average size | coverage: 2.935\n",
      "Conditional coverage for label horse:       90.196%\n",
      "Average size:            3.000\n",
      "Average size | coverage: 2.913\n",
      "Conditional coverage for label ship:       93.396%\n",
      "Average size:            2.340\n",
      "Average size | coverage: 2.364\n",
      "Conditional coverage for label truck:       88.991%\n",
      "Average size:            2.917\n",
      "Average size | coverage: 2.948\n"
     ]
    }
   ],
   "source": [
    "print('Evaluate marginal prediction sets.')\n",
    "print('='*50)\n",
    "evaluate_marginal(pset_m, labels.numpy())\n",
    "print('='*50)\n",
    "evaluate_conditional(pset_m, labels.numpy())"
   ]
  },
  {
   "cell_type": "code",
   "execution_count": 37,
   "id": "ca305aad",
   "metadata": {},
   "outputs": [
    {
     "name": "stdout",
     "output_type": "stream",
     "text": [
      "Evaluate label conditional prediction sets.\n",
      "==================================================\n",
      "Marginal coverage:       90.700%\n",
      "Average size:            3.078\n",
      "Average size | coverage: 3.122\n",
      "==================================================\n",
      "Conditional coverage for label plane:       89.320%\n",
      "Average size:            2.777\n",
      "Average size | coverage: 2.772\n",
      "Conditional coverage for label car:       88.764%\n",
      "Average size:            2.056\n",
      "Average size | coverage: 2.051\n",
      "Conditional coverage for label bird:       93.000%\n",
      "Average size:            3.700\n",
      "Average size | coverage: 3.817\n",
      "Conditional coverage for label cat:       88.350%\n",
      "Average size:            4.000\n",
      "Average size | coverage: 4.143\n",
      "Conditional coverage for label deer:       86.667%\n",
      "Average size:            3.822\n",
      "Average size | coverage: 3.923\n",
      "Conditional coverage for label dog:       94.186%\n",
      "Average size:            3.581\n",
      "Average size | coverage: 3.679\n",
      "Conditional coverage for label frog:       94.643%\n",
      "Average size:            3.045\n",
      "Average size | coverage: 3.028\n",
      "Conditional coverage for label horse:       90.196%\n",
      "Average size:            2.941\n",
      "Average size | coverage: 2.848\n",
      "Conditional coverage for label ship:       90.566%\n",
      "Average size:            2.217\n",
      "Average size | coverage: 2.292\n",
      "Conditional coverage for label truck:       90.826%\n",
      "Average size:            2.743\n",
      "Average size | coverage: 2.788\n"
     ]
    }
   ],
   "source": [
    "print('Evaluate label conditional prediction sets.')\n",
    "print('='*50)\n",
    "evaluate_marginal(pset_lc, labels.numpy())\n",
    "print('='*50)\n",
    "evaluate_conditional(pset_lc, labels.numpy())"
   ]
  },
  {
   "cell_type": "code",
   "execution_count": 40,
   "id": "13d51081",
   "metadata": {},
   "outputs": [
    {
     "data": {
      "text/plain": [
       "0.06728714015945794"
      ]
     },
     "execution_count": 40,
     "metadata": {},
     "output_type": "execute_result"
    }
   ],
   "source": [
    "C_PSet.alpha_calibrated[6]"
   ]
  },
  {
   "cell_type": "code",
   "execution_count": 41,
   "id": "196f27fa",
   "metadata": {},
   "outputs": [
    {
     "data": {
      "text/plain": [
       "array([0.09848196, 0.09621554, 0.03685892, 0.04167657, 0.09317063,\n",
       "       0.08486342, 0.09194028, 0.05750889, 0.09455938, 0.0366188 ])"
      ]
     },
     "execution_count": 41,
     "metadata": {},
     "output_type": "execute_result"
    }
   ],
   "source": [
    "C_PSet.alpha_calibrated_lc[6]"
   ]
  },
  {
   "cell_type": "code",
   "execution_count": null,
   "id": "43db98c5",
   "metadata": {},
   "outputs": [],
   "source": []
  }
 ],
 "metadata": {
  "kernelspec": {
   "display_name": "Python 3 (ipykernel)",
   "language": "python",
   "name": "python3"
  },
  "language_info": {
   "codemirror_mode": {
    "name": "ipython",
    "version": 3
   },
   "file_extension": ".py",
   "mimetype": "text/x-python",
   "name": "python",
   "nbconvert_exporter": "python",
   "pygments_lexer": "ipython3",
   "version": "3.9.12"
  }
 },
 "nbformat": 4,
 "nbformat_minor": 5
}
