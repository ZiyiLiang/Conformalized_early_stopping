{
 "cells": [
  {
   "cell_type": "markdown",
   "id": "92b36a32",
   "metadata": {},
   "source": [
    "# Conformalized Early Stopping -- Anomaly Detection"
   ]
  },
  {
   "cell_type": "code",
   "execution_count": 1,
   "id": "08aeba22",
   "metadata": {},
   "outputs": [],
   "source": [
    "%matplotlib inline\n",
    "%load_ext autoreload\n",
    "%autoreload 2"
   ]
  },
  {
   "cell_type": "markdown",
   "id": "09f905e8",
   "metadata": {},
   "source": [
    "### Some useful functions"
   ]
  },
  {
   "cell_type": "code",
   "execution_count": 2,
   "id": "812faf32",
   "metadata": {},
   "outputs": [],
   "source": [
    "# Colors from Colorbrewer Paired_12\n",
    "colors = [[31, 120, 180], [51, 160, 44], [250,159,181]]\n",
    "colors = [(r / 255, g / 255, b / 255) for (r, g, b) in colors]\n",
    "\n",
    "\n",
    "# functions to show an image\n",
    "def imshow(img):\n",
    "    \"\"\"\n",
    "    :param img: (PyTorch Tensor)\n",
    "    \"\"\"\n",
    "#     # unnormalize\n",
    "#     invTrans = transforms.Compose([ transforms.Normalize(mean = [0.0],\n",
    "#                                                          std = [ 1/0.5]),\n",
    "#                                     transforms.Normalize(mean = [ -0.5 ],\n",
    "#                                                          std = [ 1.]),\n",
    "#                                    ])\n",
    "\n",
    "#     img = invTrans(img)\n",
    "    # Convert tensor to numpy array\n",
    "    npimg = img.cpu().numpy()\n",
    "    # Color channel first -> color channel last\n",
    "    plt.imshow(np.transpose(npimg, (1, 2, 0)))\n",
    "    \n",
    "\n",
    "\n",
    "def plot_loss(train_loss, val_loss):\n",
    "    x = np.arange(1, len(train_loss) + 1)\n",
    "\n",
    "    plt.figure()\n",
    "    plt.plot(x, train_loss, color=colors[0], label=\"Training loss\", linewidth=2)\n",
    "    plt.plot(x, val_loss, color=colors[1], label=\"Validation loss\", linewidth=2)\n",
    "    plt.xlabel('Epoch')\n",
    "    plt.ylabel('Loss')\n",
    "    plt.legend(loc='upper right')\n",
    "    plt.title(\"Evolution of the training, validation and test loss\")\n",
    "    \n",
    "    plt.show()\n"
   ]
  },
  {
   "cell_type": "code",
   "execution_count": 3,
   "id": "fc6e0a5b",
   "metadata": {},
   "outputs": [],
   "source": [
    "import torch as th\n",
    "import numpy as np\n",
    "\n",
    "from tqdm import tqdm\n",
    "import torchvision\n",
    "import matplotlib.pyplot as plt"
   ]
  },
  {
   "cell_type": "code",
   "execution_count": 4,
   "id": "5a1a1153",
   "metadata": {},
   "outputs": [],
   "source": [
    "import sys, os"
   ]
  },
  {
   "cell_type": "code",
   "execution_count": 5,
   "id": "97bf6599",
   "metadata": {},
   "outputs": [],
   "source": [
    "sys.path.append('../ConformalizedES')\n",
    "sys.path.append('../third_party')"
   ]
  },
  {
   "cell_type": "code",
   "execution_count": 6,
   "id": "5080a725",
   "metadata": {},
   "outputs": [],
   "source": [
    "import os\n",
    "os.environ[\"KMP_DUPLICATE_LIB_OK\"]=\"TRUE\""
   ]
  },
  {
   "cell_type": "code",
   "execution_count": 7,
   "id": "00011a06",
   "metadata": {},
   "outputs": [],
   "source": [
    "from torchvision import transforms\n",
    "from torchvision import datasets"
   ]
  },
  {
   "cell_type": "code",
   "execution_count": 8,
   "id": "a95edd65",
   "metadata": {
    "scrolled": true
   },
   "outputs": [],
   "source": [
    "# Download the MNIST Dataset\n",
    "transform = transforms.Compose(\n",
    "    [transforms.ToTensor(),\n",
    "     transforms.Normalize(mean=0.5, std=0.5)])\n",
    "\n",
    "train_set_full = datasets.MNIST(root = \"./data\", train = True, download = True, transform=transform)\n",
    "test_set_full = datasets.MNIST(root = \"./data\", train = False, download = True, transform=transform)"
   ]
  },
  {
   "cell_type": "markdown",
   "id": "5ee564aa",
   "metadata": {},
   "source": [
    "## Customized dataloader class \n",
    "The customized dataloader class is modified from https://gist.github.com/Miladiouss/6ba0876f0e2b65d0178be7274f61ad2f.\n",
    "\n",
    "This customized dataloader enables us to selected subset of the full MNIST data with desired labels.\n",
    "Here we will take label 0 data as inliers for training and label 8 data as outliers for testing."
   ]
  },
  {
   "cell_type": "code",
   "execution_count": 9,
   "id": "0378adf3",
   "metadata": {},
   "outputs": [],
   "source": [
    "from datasetMaker import get_class_i, DatasetMaker"
   ]
  },
  {
   "cell_type": "code",
   "execution_count": 10,
   "id": "0c1807a4",
   "metadata": {},
   "outputs": [],
   "source": [
    "x_train_full = train_set_full.data\n",
    "y_train_full = train_set_full.targets\n",
    "x_test_full = test_set_full.data\n",
    "y_test_full = test_set_full.targets"
   ]
  },
  {
   "cell_type": "code",
   "execution_count": 11,
   "id": "ff4187f7",
   "metadata": {},
   "outputs": [
    {
     "name": "stdout",
     "output_type": "stream",
     "text": [
      "total number of available training data is: 5923.\n",
      "total number of test data is 1954 in which 980 are label 0 test data, 974 are label 8 test data.\n"
     ]
    }
   ],
   "source": [
    "# Train set composed only of number 0\n",
    "train_set = \\\n",
    "    DatasetMaker(\n",
    "        [get_class_i(x_train_full, y_train_full, 0)]\n",
    "    )\n",
    "\n",
    "# Test set is a mixture of number 0 and 1\n",
    "test_set = \\\n",
    "    DatasetMaker(\n",
    "        [get_class_i(x_test_full, y_test_full, 0),\n",
    "        get_class_i(x_test_full, y_test_full, 8),\n",
    "]\n",
    "    )\n",
    "\n",
    "print('total number of available training data is: {:d}.'.format(len(train_set)))\n",
    "print('total number of test data is {:d} in which {:d} are label 0 test data, {:d} are label 8 test data.'\\\n",
    "      .format(len(test_set), test_set.lengths[0],test_set.lengths[1]))"
   ]
  },
  {
   "cell_type": "markdown",
   "id": "f8fa88b0",
   "metadata": {},
   "source": [
    "## Randomly plot some images"
   ]
  },
  {
   "cell_type": "code",
   "execution_count": 12,
   "id": "fad77bb0",
   "metadata": {},
   "outputs": [],
   "source": [
    "example_loader = th.utils.data.DataLoader(test_set, shuffle=True, batch_size=4, num_workers=0)\n",
    "dataiter = iter(example_loader)\n",
    "images, labels = next(dataiter)"
   ]
  },
  {
   "cell_type": "code",
   "execution_count": 13,
   "id": "c562fed6",
   "metadata": {
    "scrolled": true
   },
   "outputs": [
    {
     "data": {
      "image/png": "[encoded data removed]",
      "text/plain": [
       "<Figure size 432x288 with 1 Axes>"
      ]
     },
     "metadata": {
      "needs_background": "light"
     },
     "output_type": "display_data"
    }
   ],
   "source": [
    "imshow(torchvision.utils.make_grid(images))"
   ]
  },
  {
   "cell_type": "markdown",
   "id": "584abda8",
   "metadata": {
    "scrolled": true
   },
   "source": [
    "# Train Autoencoder"
   ]
  },
  {
   "cell_type": "code",
   "execution_count": 14,
   "id": "4c351f49",
   "metadata": {},
   "outputs": [],
   "source": [
    "sys.path.append('../ConformalizedES')\n",
    "sys.path.append('../third_party')"
   ]
  },
  {
   "cell_type": "code",
   "execution_count": 15,
   "id": "58b252c4",
   "metadata": {},
   "outputs": [],
   "source": [
    "from method import CES_oneClass\n",
    "from networks import ConvAutoencoder"
   ]
  },
  {
   "cell_type": "code",
   "execution_count": 16,
   "id": "3ca3d511",
   "metadata": {},
   "outputs": [],
   "source": [
    "# Define the model parameters\n",
    "\n",
    "net = ConvAutoencoder()\n",
    "lr = 0.01\n",
    "n_epoch = 10\n",
    "batch_size = 10"
   ]
  },
  {
   "cell_type": "code",
   "execution_count": 17,
   "id": "dbd71147",
   "metadata": {},
   "outputs": [],
   "source": [
    "import torch.optim as optim\n",
    "\n",
    "# Create loss and optimizer\n",
    "# CES_oneClass object will assume criterion takes three parameters: output, input and target, \n",
    "# create wrapper function to modify the criterion.\n",
    "Loss = th.nn.MSELoss()\n",
    "def criterion(outputs, inputs, targets):\n",
    "    return Loss(outputs, inputs)\n",
    "optimizer = optim.Adam(net.parameters(), lr=lr)"
   ]
  },
  {
   "cell_type": "code",
   "execution_count": 18,
   "id": "0febc6c4",
   "metadata": {},
   "outputs": [],
   "source": [
    "seed = 2022\n",
    "np.random.seed(seed)\n",
    "th.manual_seed(seed)\n",
    "\n",
    "if th.cuda.is_available():\n",
    "    # Make CuDNN Determinist\n",
    "    th.backends.cudnn.deterministic = True\n",
    "    th.cuda.manual_seed(seed)\n",
    "\n",
    "# Define default device, we should use the GPU (cuda) if available\n",
    "device = th.device(\"cuda\" if th.cuda.is_available() else \"cpu\")### Define subset of the dataset (so it is faster to train)"
   ]
  },
  {
   "cell_type": "code",
   "execution_count": 19,
   "id": "f2f1234a",
   "metadata": {},
   "outputs": [],
   "source": [
    "from torch.utils.data.sampler import SubsetRandomSampler\n",
    "num_workers = 0\n",
    "\n",
    "seed = 2022\n",
    "np.random.seed(seed)\n",
    "th.manual_seed(seed)\n",
    "\n",
    "n_training_samples = 400 # Max training number: 5923\n",
    "n_val_samples = 100\n",
    "\n",
    "train_sampler = SubsetRandomSampler(np.arange(n_training_samples, dtype=np.int64))\n",
    "val_sampler = SubsetRandomSampler(np.arange(n_training_samples, n_training_samples + n_val_samples, dtype=np.int64))\n",
    "# (In the last case, indexes do not need to account for training ones because the train=False parameter in datasets.CIFAR will select from the test set)"
   ]
  },
  {
   "cell_type": "code",
   "execution_count": 20,
   "id": "e8fa65a6",
   "metadata": {},
   "outputs": [],
   "source": [
    "def get_train_loader(batch_size):\n",
    "    return th.utils.data.DataLoader(train_set, batch_size=batch_size, sampler=train_sampler,\n",
    "                                              num_workers=num_workers)\n",
    "\n",
    "train_loader = get_train_loader(batch_size)\n",
    "\n",
    "# Use larger batch size for validation to speed up computation\n",
    "val_loader = th.utils.data.DataLoader(train_set, batch_size=100, sampler=val_sampler,\n",
    "                                          num_workers=num_workers)"
   ]
  },
  {
   "cell_type": "code",
   "execution_count": 21,
   "id": "e1dbe54d",
   "metadata": {},
   "outputs": [
    {
     "name": "stdout",
     "output_type": "stream",
     "text": [
      "===== HYPERPARAMETERS =====\n",
      "batch_size= 10\n",
      "n_epochs= 10\n",
      "learning_rate= 0.01\n",
      "==============================\n"
     ]
    }
   ],
   "source": [
    "seed = 2023\n",
    "np.random.seed(seed)\n",
    "th.manual_seed(seed)\n",
    "\n",
    "# Initialize the CES class with model parameters\n",
    "CES_oc = CES_oneClass(net, device, train_loader, batch_size=batch_size, max_epoch=n_epoch, \n",
    "                        learning_rate=lr, val_loader=val_loader, criterion=criterion,optimizer=optimizer)"
   ]
  },
  {
   "cell_type": "code",
   "execution_count": 22,
   "id": "0a185ae9",
   "metadata": {},
   "outputs": [
    {
     "name": "stdout",
     "output_type": "stream",
     "text": [
      "Epoch 1 of 10, 10% \t train_loss: 0.19  took: 0.38s\n",
      "Epoch 1 of 10, 20% \t train_loss: 0.17  took: 0.29s\n",
      "Epoch 1 of 10, 30% \t train_loss: 0.15  took: 0.03s\n",
      "Epoch 1 of 10, 40% \t train_loss: 0.13  took: 0.03s\n",
      "Epoch 1 of 10, 50% \t train_loss: 0.11  took: 0.03s\n",
      "Epoch 1 of 10, 60% \t train_loss: 0.09  took: 0.03s\n",
      "Epoch 1 of 10, 70% \t train_loss: 0.09  took: 0.02s\n",
      "Epoch 1 of 10, 80% \t train_loss: 0.08  took: 0.03s\n",
      "Epoch 1 of 10, 90% \t train_loss: 0.08  took: 0.03s\n",
      "Epoch 1 of 10, 100% \t train_loss: 0.07  took: 0.03s\n",
      "val_loss = 0.07\n",
      "Snapshot saved at epoch 1.\n",
      "Epoch 2 of 10, 10% \t train_loss: 0.07  took: 0.04s\n",
      "Epoch 2 of 10, 20% \t train_loss: 0.07  took: 0.02s\n",
      "Epoch 2 of 10, 30% \t train_loss: 0.06  took: 0.02s\n",
      "Epoch 2 of 10, 40% \t train_loss: 0.06  took: 0.03s\n",
      "Epoch 2 of 10, 50% \t train_loss: 0.06  took: 0.04s\n",
      "Epoch 2 of 10, 60% \t train_loss: 0.05  took: 0.03s\n",
      "Epoch 2 of 10, 70% \t train_loss: 0.05  took: 0.02s\n",
      "Epoch 2 of 10, 80% \t train_loss: 0.04  took: 0.06s\n",
      "Epoch 2 of 10, 90% \t train_loss: 0.04  took: 0.02s\n",
      "Epoch 2 of 10, 100% \t train_loss: 0.04  took: 0.02s\n",
      "val_loss = 0.04\n",
      "Snapshot saved at epoch 2.\n",
      "Epoch 3 of 10, 10% \t train_loss: 0.03  took: 0.07s\n",
      "Epoch 3 of 10, 20% \t train_loss: 0.03  took: 0.09s\n",
      "Epoch 3 of 10, 30% \t train_loss: 0.03  took: 0.14s\n",
      "Epoch 3 of 10, 40% \t train_loss: 0.03  took: 0.05s\n",
      "Epoch 3 of 10, 50% \t train_loss: 0.03  took: 0.03s\n",
      "Epoch 3 of 10, 60% \t train_loss: 0.03  took: 0.07s\n",
      "Epoch 3 of 10, 70% \t train_loss: 0.02  took: 0.04s\n",
      "Epoch 3 of 10, 80% \t train_loss: 0.02  took: 0.03s\n",
      "Epoch 3 of 10, 90% \t train_loss: 0.02  took: 0.03s\n",
      "Epoch 3 of 10, 100% \t train_loss: 0.02  took: 0.03s\n",
      "val_loss = 0.02\n",
      "Snapshot saved at epoch 3.\n",
      "Epoch 4 of 10, 10% \t train_loss: 0.02  took: 0.03s\n",
      "Epoch 4 of 10, 20% \t train_loss: 0.02  took: 0.05s\n",
      "Epoch 4 of 10, 30% \t train_loss: 0.02  took: 0.05s\n",
      "Epoch 4 of 10, 40% \t train_loss: 0.02  took: 0.03s\n",
      "Epoch 4 of 10, 50% \t train_loss: 0.02  took: 0.02s\n",
      "Epoch 4 of 10, 60% \t train_loss: 0.02  took: 0.05s\n",
      "Epoch 4 of 10, 70% \t train_loss: 0.02  took: 0.04s\n",
      "Epoch 4 of 10, 80% \t train_loss: 0.02  took: 0.02s\n",
      "Epoch 4 of 10, 90% \t train_loss: 0.02  took: 0.06s\n",
      "Epoch 4 of 10, 100% \t train_loss: 0.02  took: 0.04s\n",
      "val_loss = 0.02\n",
      "Snapshot saved at epoch 4.\n",
      "Epoch 5 of 10, 10% \t train_loss: 0.02  took: 0.06s\n",
      "Epoch 5 of 10, 20% \t train_loss: 0.02  took: 0.07s\n",
      "Epoch 5 of 10, 30% \t train_loss: 0.02  took: 0.03s\n",
      "Epoch 5 of 10, 40% \t train_loss: 0.02  took: 0.03s\n",
      "Epoch 5 of 10, 50% \t train_loss: 0.02  took: 0.03s\n",
      "Epoch 5 of 10, 60% \t train_loss: 0.02  took: 0.06s\n",
      "Epoch 5 of 10, 70% \t train_loss: 0.02  took: 0.03s\n",
      "Epoch 5 of 10, 80% \t train_loss: 0.02  took: 0.03s\n",
      "Epoch 5 of 10, 90% \t train_loss: 0.02  took: 0.03s\n",
      "Epoch 5 of 10, 100% \t train_loss: 0.02  took: 0.03s\n",
      "val_loss = 0.02\n",
      "Snapshot saved at epoch 5.\n",
      "Epoch 6 of 10, 10% \t train_loss: 0.02  took: 0.03s\n",
      "Epoch 6 of 10, 20% \t train_loss: 0.02  took: 0.07s\n",
      "Epoch 6 of 10, 30% \t train_loss: 0.02  took: 0.02s\n",
      "Epoch 6 of 10, 40% \t train_loss: 0.02  took: 0.06s\n",
      "Epoch 6 of 10, 50% \t train_loss: 0.02  took: 0.04s\n",
      "Epoch 6 of 10, 60% \t train_loss: 0.02  took: 0.03s\n",
      "Epoch 6 of 10, 70% \t train_loss: 0.02  took: 0.07s\n",
      "Epoch 6 of 10, 80% \t train_loss: 0.02  took: 0.08s\n",
      "Epoch 6 of 10, 90% \t train_loss: 0.02  took: 0.03s\n",
      "Epoch 6 of 10, 100% \t train_loss: 0.02  took: 0.03s\n",
      "val_loss = 0.02\n",
      "Snapshot saved at epoch 6.\n",
      "Epoch 7 of 10, 10% \t train_loss: 0.02  took: 0.09s\n",
      "Epoch 7 of 10, 20% \t train_loss: 0.02  took: 0.06s\n",
      "Epoch 7 of 10, 30% \t train_loss: 0.02  took: 0.10s\n",
      "Epoch 7 of 10, 40% \t train_loss: 0.02  took: 0.09s\n",
      "Epoch 7 of 10, 50% \t train_loss: 0.02  took: 0.07s\n",
      "Epoch 7 of 10, 60% \t train_loss: 0.02  took: 0.06s\n",
      "Epoch 7 of 10, 70% \t train_loss: 0.02  took: 0.07s\n",
      "Epoch 7 of 10, 80% \t train_loss: 0.02  took: 0.07s\n",
      "Epoch 7 of 10, 90% \t train_loss: 0.02  took: 0.07s\n",
      "Epoch 7 of 10, 100% \t train_loss: 0.02  took: 0.02s\n",
      "val_loss = 0.02\n",
      "Snapshot saved at epoch 7.\n",
      "Epoch 8 of 10, 10% \t train_loss: 0.02  took: 0.10s\n",
      "Epoch 8 of 10, 20% \t train_loss: 0.02  took: 0.03s\n",
      "Epoch 8 of 10, 30% \t train_loss: 0.02  took: 0.02s\n",
      "Epoch 8 of 10, 40% \t train_loss: 0.02  took: 0.03s\n",
      "Epoch 8 of 10, 50% \t train_loss: 0.02  took: 0.05s\n",
      "Epoch 8 of 10, 60% \t train_loss: 0.02  took: 0.07s\n",
      "Epoch 8 of 10, 70% \t train_loss: 0.02  took: 0.05s\n",
      "Epoch 8 of 10, 80% \t train_loss: 0.02  took: 0.02s\n",
      "Epoch 8 of 10, 90% \t train_loss: 0.01  took: 0.03s\n",
      "Epoch 8 of 10, 100% \t train_loss: 0.02  took: 0.03s\n",
      "val_loss = 0.02\n",
      "Snapshot saved at epoch 8.\n",
      "Epoch 9 of 10, 10% \t train_loss: 0.02  took: 0.10s\n",
      "Epoch 9 of 10, 20% \t train_loss: 0.02  took: 0.02s\n",
      "Epoch 9 of 10, 30% \t train_loss: 0.02  took: 0.03s\n",
      "Epoch 9 of 10, 40% \t train_loss: 0.02  took: 0.03s\n",
      "Epoch 9 of 10, 50% \t train_loss: 0.02  took: 0.03s\n",
      "Epoch 9 of 10, 60% \t train_loss: 0.02  took: 0.02s\n",
      "Epoch 9 of 10, 70% \t train_loss: 0.02  took: 0.03s\n",
      "Epoch 9 of 10, 80% \t train_loss: 0.02  took: 0.04s\n",
      "Epoch 9 of 10, 90% \t train_loss: 0.02  took: 0.03s\n",
      "Epoch 9 of 10, 100% \t train_loss: 0.01  took: 0.03s\n",
      "val_loss = 0.02\n",
      "Snapshot saved at epoch 9.\n",
      "Epoch 10 of 10, 10% \t train_loss: 0.01  took: 0.03s\n",
      "Epoch 10 of 10, 20% \t train_loss: 0.02  took: 0.08s\n",
      "Epoch 10 of 10, 30% \t train_loss: 0.01  took: 0.03s\n",
      "Epoch 10 of 10, 40% \t train_loss: 0.02  took: 0.07s\n",
      "Epoch 10 of 10, 50% \t train_loss: 0.02  took: 0.07s\n",
      "Epoch 10 of 10, 60% \t train_loss: 0.02  took: 0.11s\n",
      "Epoch 10 of 10, 70% \t train_loss: 0.01  took: 0.03s\n",
      "Epoch 10 of 10, 80% \t train_loss: 0.02  took: 0.03s\n",
      "Epoch 10 of 10, 90% \t train_loss: 0.02  took: 0.02s\n",
      "Epoch 10 of 10, 100% \t train_loss: 0.02  took: 0.06s\n",
      "val_loss = 0.01\n",
      "Snapshot saved at epoch 10.\n",
      "Training done! A list of 10 models saved.\n"
     ]
    }
   ],
   "source": [
    "# Train the model and save snapshots regularly\n",
    "save_every = 1    # Save model after every few epoches\n",
    "CES_oc.full_train(save_dir = './models/oneClass', save_every = save_every)"
   ]
  },
  {
   "cell_type": "code",
   "execution_count": 23,
   "id": "a5996abf",
   "metadata": {
    "scrolled": true
   },
   "outputs": [
    {
     "data": {
      "image/png": "[encoded data removed]",
      "text/plain": [
       "<Figure size 432x288 with 1 Axes>"
      ]
     },
     "metadata": {
      "needs_background": "light"
     },
     "output_type": "display_data"
    }
   ],
   "source": [
    "plot_loss(CES_oc.train_loss_history, CES_oc.val_loss_history)"
   ]
  },
  {
   "cell_type": "markdown",
   "id": "6eb5c643",
   "metadata": {},
   "source": [
    "# Select best models and compute conformal p-values"
   ]
  },
  {
   "cell_type": "markdown",
   "id": "83d131f1",
   "metadata": {},
   "source": [
    "## Check the benchmark model\n",
    "select_model function will choose the best model for given test point, if no test point\n",
    "is given, it will output the best model selected ONLY based on validation data, which\n",
    "serves as an benchmark model."
   ]
  },
  {
   "cell_type": "code",
   "execution_count": 24,
   "id": "8302c612",
   "metadata": {},
   "outputs": [],
   "source": [
    "# check the benchmark model\n",
    "bm_loss, bm_model, loss_history = CES_oc.select_model()"
   ]
  },
  {
   "cell_type": "code",
   "execution_count": 25,
   "id": "4986dd84",
   "metadata": {},
   "outputs": [
    {
     "name": "stdout",
     "output_type": "stream",
     "text": [
      "Benchmark best loss is: 0.015\n",
      "Benchmark best model is saved in: ./models/oneClass\\model10.pth\n"
     ]
    }
   ],
   "source": [
    "# Benchmark model corresponds to the one with smallest validation loss\n",
    "print('Benchmark best loss is: {:.3f}'.format(bm_loss))\n",
    "print('Benchmark best model is saved in:', bm_model)"
   ]
  },
  {
   "cell_type": "markdown",
   "id": "0ccdc916",
   "metadata": {},
   "source": [
    "# Select best models for each test point"
   ]
  },
  {
   "cell_type": "code",
   "execution_count": 26,
   "id": "f92de439",
   "metadata": {},
   "outputs": [],
   "source": [
    "import time\n",
    "\n",
    "seed = 0\n",
    "np.random.seed(seed)\n",
    "th.manual_seed(seed)\n",
    "\n",
    "n_test_samples = 1800\n",
    "test_sampler = SubsetRandomSampler(np.arange(n_test_samples, dtype=np.int64))\n",
    "test_loader = th.utils.data.DataLoader(test_set, batch_size=n_test_samples, sampler=test_sampler,\n",
    "                                         num_workers=num_workers)\n",
    "\n",
    "# get all test images\n",
    "dataiter = iter(test_loader)\n",
    "inputs, labels = dataiter.next()"
   ]
  },
  {
   "cell_type": "code",
   "execution_count": 27,
   "id": "8f70425e",
   "metadata": {},
   "outputs": [
    {
     "name": "stderr",
     "output_type": "stream",
     "text": [
      "100%|████████████████████████████████████████████████████████████████████████████| 1800/1800 [00:00<00:00, 2229.88it/s]\n",
      "100%|████████████████████████████████████████████████████████████████████████████| 1800/1800 [00:00<00:00, 2163.10it/s]\n",
      "100%|████████████████████████████████████████████████████████████████████████████| 1800/1800 [00:00<00:00, 2072.72it/s]\n",
      "100%|████████████████████████████████████████████████████████████████████████████| 1800/1800 [00:00<00:00, 2288.44it/s]\n",
      "100%|████████████████████████████████████████████████████████████████████████████| 1800/1800 [00:00<00:00, 2212.86it/s]\n",
      "100%|████████████████████████████████████████████████████████████████████████████| 1800/1800 [00:00<00:00, 2327.82it/s]\n",
      "100%|████████████████████████████████████████████████████████████████████████████| 1800/1800 [00:00<00:00, 2153.29it/s]\n",
      "100%|████████████████████████████████████████████████████████████████████████████| 1800/1800 [00:00<00:00, 2278.64it/s]\n",
      "100%|████████████████████████████████████████████████████████████████████████████| 1800/1800 [00:00<00:00, 2152.20it/s]\n",
      "100%|████████████████████████████████████████████████████████████████████████████| 1800/1800 [00:00<00:00, 2233.98it/s]"
     ]
    },
    {
     "name": "stdout",
     "output_type": "stream",
     "text": [
      "selecting models takes: 8.279420614242554\n"
     ]
    },
    {
     "name": "stderr",
     "output_type": "stream",
     "text": [
      "\n"
     ]
    }
   ],
   "source": [
    "# Pick the best model for each test point\n",
    "start = time.time()\n",
    "best_loss, best_model, test_val_loss_history = CES_oc.select_model(inputs)\n",
    "print('selecting models takes:', time.time()-start)"
   ]
  },
  {
   "cell_type": "code",
   "execution_count": 28,
   "id": "a6d9be9f",
   "metadata": {
    "scrolled": true
   },
   "outputs": [
    {
     "name": "stdout",
     "output_type": "stream",
     "text": [
      "Calibrating each model in the list...\n"
     ]
    },
    {
     "name": "stderr",
     "output_type": "stream",
     "text": [
      "100%|██████████████████████████████████████████████████████████████████████████████████| 10/10 [00:00<00:00, 51.97it/s]"
     ]
    },
    {
     "name": "stdout",
     "output_type": "stream",
     "text": [
      "Initialization done!\n",
      "Calibration (one time effort) takes:0.19s.\n"
     ]
    },
    {
     "name": "stderr",
     "output_type": "stream",
     "text": [
      "\n"
     ]
    }
   ],
   "source": [
    "from inference import Conformal_PVals\n",
    "\n",
    "model_list = CES_oc.model_list\n",
    "\n",
    "# Compute conformity scores of calibration sets for each model\n",
    "# this initialization will be a one-time effort.\n",
    "cal_time = time.time()\n",
    "C_PVals = Conformal_PVals(net, device, val_loader, model_list, random_state = 2023)\n",
    "print('Calibration (one time effort) takes:{:.2f}s.'.format(time.time()-cal_time))"
   ]
  },
  {
   "cell_type": "markdown",
   "id": "34b24c76",
   "metadata": {},
   "source": [
    "## Check the anomaly scores of inliers and outliers"
   ]
  },
  {
   "cell_type": "code",
   "execution_count": 29,
   "id": "a212a897",
   "metadata": {
    "scrolled": false
   },
   "outputs": [
    {
     "data": {
      "text/plain": [
       "<function matplotlib.pyplot.show(close=None, block=None)>"
      ]
     },
     "execution_count": 29,
     "metadata": {},
     "output_type": "execute_result"
    },
    {
     "data": {
      "image/png": "[encoded data removed]",
      "text/plain": [
       "<Figure size 576x432 with 1 Axes>"
      ]
     },
     "metadata": {
      "needs_background": "light"
     },
     "output_type": "display_data"
    }
   ],
   "source": [
    "idx_in = np.where(labels==0)[0]\n",
    "idx_out = np.where(labels==1)[0]\n",
    "inputs_in = inputs[idx_in]\n",
    "inputs_out = inputs[idx_out]\n",
    "scores_in = net.get_anomaly_scores(inputs_in)\n",
    "scores_out = net.get_anomaly_scores(inputs_out)\n",
    "\n",
    "plt.figure(figsize=(8,6))\n",
    "plt.hist(scores_in, bins=100, alpha=0.5, label=\"inliers\")\n",
    "plt.hist(scores_out, bins=100, alpha=0.5, label=\"outliers\")\n",
    "plt.hist(C_PVals.cal_scores[9], bins=100, alpha=0.3, label=\"calib\")\n",
    "\n",
    "plt.legend()\n",
    "plt.show"
   ]
  },
  {
   "cell_type": "markdown",
   "id": "e84b39fd",
   "metadata": {},
   "source": [
    "## Compute the conformal p-values"
   ]
  },
  {
   "cell_type": "code",
   "execution_count": 30,
   "id": "afeae4b6",
   "metadata": {
    "scrolled": true
   },
   "outputs": [
    {
     "name": "stderr",
     "output_type": "stream",
     "text": [
      "100%|█████████████████████████████████████████████████████████████████████████████| 1800/1800 [00:02<00:00, 724.56it/s]"
     ]
    },
    {
     "name": "stdout",
     "output_type": "stream",
     "text": [
      "Finished computing p-values for 1800 test points.\n"
     ]
    },
    {
     "name": "stderr",
     "output_type": "stream",
     "text": [
      "\n"
     ]
    }
   ],
   "source": [
    "pvals = C_PVals.compute_pvals(inputs, best_model)"
   ]
  },
  {
   "cell_type": "code",
   "execution_count": 31,
   "id": "72a7c630",
   "metadata": {},
   "outputs": [
    {
     "name": "stdout",
     "output_type": "stream",
     "text": [
      "Average p-value for inliers is 0.484916, average p-value for outliers is 0.101582.\n"
     ]
    },
    {
     "data": {
      "image/png": "[encoded data removed]",
      "text/plain": [
       "<Figure size 576x432 with 1 Axes>"
      ]
     },
     "metadata": {
      "needs_background": "light"
     },
     "output_type": "display_data"
    }
   ],
   "source": [
    "pvals_in = np.array(pvals)[idx_in]\n",
    "pvals_out = np.array(pvals)[idx_out]\n",
    "\n",
    "plt.figure(figsize=(8,6))\n",
    "plt.hist(pvals_in, bins=100, alpha=0.5, label=\"inliers\")\n",
    "plt.hist(pvals_out, bins=100, alpha=0.5, label=\"outliers\")\n",
    "plt.legend()\n",
    "plt.show\n",
    "\n",
    "print('Average p-value for inliers is {:3f}, average p-value for outliers is {:3f}.'\\\n",
    "      .format(np.mean(pvals_in), np.mean(pvals_out)))"
   ]
  },
  {
   "cell_type": "code",
   "execution_count": 32,
   "id": "34feb144",
   "metadata": {},
   "outputs": [
    {
     "name": "stdout",
     "output_type": "stream",
     "text": [
      "Apply BH procedure yields FDP 0.005000, power 0.325610.\n"
     ]
    }
   ],
   "source": [
    "from statsmodels.stats.multitest import multipletests\n",
    "\n",
    "# Apply BH\n",
    "alpha = 0.1\n",
    "purity_test = len(idx_in)/len(pvals)\n",
    "reject, _, _, _ = multipletests(pvals, alpha=alpha/(1-purity_test), method='fdr_bh')\n",
    "\n",
    "# Evaluate FDP and Power\n",
    "rejections = np.sum(reject)\n",
    "if rejections > 0:\n",
    "    fdp = np.sum(reject[idx_in])/reject.shape[0] \n",
    "    power = np.sum(reject[idx_out])/len(idx_out)\n",
    "else:\n",
    "    fdp = 0\n",
    "    power = 0\n",
    "\n",
    "print('Apply BH procedure yields FDP {:3f}, power {:3f}.'.format(fdp,power))"
   ]
  }
 ],
 "metadata": {
  "kernelspec": {
   "display_name": "Python 3 (ipykernel)",
   "language": "python",
   "name": "python3"
  },
  "language_info": {
   "codemirror_mode": {
    "name": "ipython",
    "version": 3
   },
   "file_extension": ".py",
   "mimetype": "text/x-python",
   "name": "python",
   "nbconvert_exporter": "python",
   "pygments_lexer": "ipython3",
   "version": "3.9.12"
  }
 },
 "nbformat": 4,
 "nbformat_minor": 5
}
