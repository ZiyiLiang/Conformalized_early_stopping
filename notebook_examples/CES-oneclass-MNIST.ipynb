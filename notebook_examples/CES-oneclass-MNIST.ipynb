{
 "cells": [
  {
   "cell_type": "markdown",
   "id": "92b36a32",
   "metadata": {},
   "source": [
    "# Conformalized Early Stopping -- Anomaly Detection"
   ]
  },
  {
   "cell_type": "code",
   "execution_count": 1,
   "id": "08aeba22",
   "metadata": {},
   "outputs": [],
   "source": [
    "%matplotlib inline\n",
    "%load_ext autoreload\n",
    "%autoreload 2"
   ]
  },
  {
   "cell_type": "markdown",
   "id": "09f905e8",
   "metadata": {},
   "source": [
    "### Some useful functions"
   ]
  },
  {
   "cell_type": "code",
   "execution_count": 2,
   "id": "812faf32",
   "metadata": {},
   "outputs": [],
   "source": [
    "# Colors from Colorbrewer Paired_12\n",
    "colors = [[31, 120, 180], [51, 160, 44], [250,159,181]]\n",
    "colors = [(r / 255, g / 255, b / 255) for (r, g, b) in colors]\n",
    "\n",
    "\n",
    "# functions to show an image\n",
    "def imshow(img):\n",
    "    \"\"\"\n",
    "    :param img: (PyTorch Tensor)\n",
    "    \"\"\"\n",
    "#     # unnormalize\n",
    "#     invTrans = transforms.Compose([ transforms.Normalize(mean = [0.0],\n",
    "#                                                          std = [ 1/0.5]),\n",
    "#                                     transforms.Normalize(mean = [ -0.5 ],\n",
    "#                                                          std = [ 1.]),\n",
    "#                                    ])\n",
    "\n",
    "#     img = invTrans(img)\n",
    "    # Convert tensor to numpy array\n",
    "    npimg = img.cpu().numpy()\n",
    "    # Color channel first -> color channel last\n",
    "    plt.imshow(np.transpose(npimg, (1, 2, 0)))\n",
    "    \n",
    "\n",
    "\n",
    "def plot_loss(train_loss, val_loss):\n",
    "    x = np.arange(1, len(train_loss) + 1)\n",
    "\n",
    "    plt.figure()\n",
    "    plt.plot(x, train_loss, color=colors[0], label=\"Training loss\", linewidth=2)\n",
    "    plt.plot(x, val_loss, color=colors[1], label=\"Validation loss\", linewidth=2)\n",
    "    plt.xlabel('Epoch')\n",
    "    plt.ylabel('Loss')\n",
    "    plt.legend(loc='upper right')\n",
    "    plt.title(\"Evolution of the training, validation and test loss\")\n",
    "    \n",
    "    plt.show()\n"
   ]
  },
  {
   "cell_type": "code",
   "execution_count": 3,
   "id": "fc6e0a5b",
   "metadata": {},
   "outputs": [],
   "source": [
    "import torch as th\n",
    "import numpy as np\n",
    "\n",
    "from tqdm import tqdm\n",
    "import torchvision\n",
    "import matplotlib.pyplot as plt"
   ]
  },
  {
   "cell_type": "code",
   "execution_count": 4,
   "id": "5a1a1153",
   "metadata": {},
   "outputs": [],
   "source": [
    "import sys, os"
   ]
  },
  {
   "cell_type": "code",
   "execution_count": 5,
   "id": "97bf6599",
   "metadata": {},
   "outputs": [],
   "source": [
    "sys.path.append('../ConformalizedES')\n",
    "sys.path.append('../third_party')"
   ]
  },
  {
   "cell_type": "code",
   "execution_count": 6,
   "id": "5080a725",
   "metadata": {},
   "outputs": [],
   "source": [
    "import os\n",
    "os.environ[\"KMP_DUPLICATE_LIB_OK\"]=\"TRUE\""
   ]
  },
  {
   "cell_type": "code",
   "execution_count": 7,
   "id": "00011a06",
   "metadata": {},
   "outputs": [],
   "source": [
    "from torchvision import transforms\n",
    "from torchvision import datasets"
   ]
  },
  {
   "cell_type": "code",
   "execution_count": 8,
   "id": "a95edd65",
   "metadata": {
    "scrolled": true
   },
   "outputs": [],
   "source": [
    "# Download the MNIST Dataset\n",
    "transform = transforms.Compose(\n",
    "    [transforms.ToTensor(),\n",
    "     transforms.Normalize(mean=0.5, std=0.5)])\n",
    "\n",
    "train_set_full = datasets.MNIST(root = \"./data\", train = True, download = True, transform=transform)\n",
    "test_set_full = datasets.MNIST(root = \"./data\", train = False, download = True, transform=transform)"
   ]
  },
  {
   "cell_type": "markdown",
   "id": "5ee564aa",
   "metadata": {},
   "source": [
    "## Customized dataloader class \n",
    "The customized dataloader class is modified from https://gist.github.com/Miladiouss/6ba0876f0e2b65d0178be7274f61ad2f.\n",
    "\n",
    "This customized dataloader enables us to selected subset of the full MNIST data with desired labels.\n",
    "Here we will take label 0 data as inliers for training and label 8 data as outliers for testing."
   ]
  },
  {
   "cell_type": "code",
   "execution_count": 9,
   "id": "0378adf3",
   "metadata": {},
   "outputs": [],
   "source": [
    "from datasetMaker import get_class_i, DatasetMaker"
   ]
  },
  {
   "cell_type": "code",
   "execution_count": 10,
   "id": "0c1807a4",
   "metadata": {},
   "outputs": [],
   "source": [
    "x_train_full = train_set_full.data\n",
    "y_train_full = train_set_full.targets\n",
    "x_test_full = test_set_full.data\n",
    "y_test_full = test_set_full.targets"
   ]
  },
  {
   "cell_type": "code",
   "execution_count": 11,
   "id": "ff4187f7",
   "metadata": {},
   "outputs": [
    {
     "name": "stdout",
     "output_type": "stream",
     "text": [
      "total number of available training data is: 5923.\n",
      "total number of test data is 1954 in which 980 are label 0 test data, 974 are label 8 test data.\n"
     ]
    }
   ],
   "source": [
    "# Train set composed only of number 0\n",
    "train_set = \\\n",
    "    DatasetMaker(\n",
    "        [get_class_i(x_train_full, y_train_full, 0)]\n",
    "    )\n",
    "\n",
    "# Test set is a mixture of number 0 and 1\n",
    "test_set = \\\n",
    "    DatasetMaker(\n",
    "        [get_class_i(x_test_full, y_test_full, 0),\n",
    "        get_class_i(x_test_full, y_test_full, 8),\n",
    "]\n",
    "    )\n",
    "\n",
    "print('total number of available training data is: {:d}.'.format(len(train_set)))\n",
    "print('total number of test data is {:d} in which {:d} are label 0 test data, {:d} are label 8 test data.'\\\n",
    "      .format(len(test_set), test_set.lengths[0],test_set.lengths[1]))"
   ]
  },
  {
   "cell_type": "markdown",
   "id": "f8fa88b0",
   "metadata": {},
   "source": [
    "## Randomly plot some images"
   ]
  },
  {
   "cell_type": "code",
   "execution_count": 12,
   "id": "fad77bb0",
   "metadata": {},
   "outputs": [],
   "source": [
    "example_loader = th.utils.data.DataLoader(test_set, shuffle=True, batch_size=4, num_workers=0)\n",
    "dataiter = iter(example_loader)\n",
    "images, labels = next(dataiter)"
   ]
  },
  {
   "cell_type": "code",
   "execution_count": 13,
   "id": "c562fed6",
   "metadata": {
    "scrolled": true
   },
   "outputs": [
    {
     "data": {
      "image/png": "[encoded data removed]",
      "text/plain": [
       "<Figure size 432x288 with 1 Axes>"
      ]
     },
     "metadata": {
      "needs_background": "light"
     },
     "output_type": "display_data"
    }
   ],
   "source": [
    "imshow(torchvision.utils.make_grid(images))"
   ]
  },
  {
   "cell_type": "markdown",
   "id": "584abda8",
   "metadata": {
    "scrolled": true
   },
   "source": [
    "# Train Autoencoder"
   ]
  },
  {
   "cell_type": "code",
   "execution_count": 14,
   "id": "4c351f49",
   "metadata": {},
   "outputs": [],
   "source": [
    "sys.path.append('../ConformalizedES')\n",
    "sys.path.append('../third_party')"
   ]
  },
  {
   "cell_type": "code",
   "execution_count": 15,
   "id": "58b252c4",
   "metadata": {},
   "outputs": [],
   "source": [
    "from method import CES_oneClass\n",
    "from networks import ConvAutoencoder"
   ]
  },
  {
   "cell_type": "code",
   "execution_count": 16,
   "id": "3ca3d511",
   "metadata": {},
   "outputs": [],
   "source": [
    "# Define the model parameters\n",
    "\n",
    "net = ConvAutoencoder()\n",
    "lr = 0.01\n",
    "n_epoch = 20\n",
    "batch_size = 10"
   ]
  },
  {
   "cell_type": "code",
   "execution_count": 17,
   "id": "dbd71147",
   "metadata": {},
   "outputs": [],
   "source": [
    "import torch.optim as optim\n",
    "\n",
    "# Create loss and optimizer\n",
    "# CES_oneClass object will assume criterion takes three parameters: output, input and target, \n",
    "# create wrapper function to modify the criterion.\n",
    "Loss = th.nn.MSELoss()\n",
    "def criterion(outputs, inputs, targets):\n",
    "    return Loss(outputs, inputs)\n",
    "optimizer = optim.Adam(net.parameters(), lr=lr)"
   ]
  },
  {
   "cell_type": "code",
   "execution_count": 18,
   "id": "0febc6c4",
   "metadata": {},
   "outputs": [],
   "source": [
    "seed = 0\n",
    "np.random.seed(seed)\n",
    "th.manual_seed(seed)\n",
    "\n",
    "if th.cuda.is_available():\n",
    "    # Make CuDNN Determinist\n",
    "    th.backends.cudnn.deterministic = True\n",
    "    th.cuda.manual_seed(seed)\n",
    "\n",
    "# Define default device, we should use the GPU (cuda) if available\n",
    "device = th.device(\"cuda\" if th.cuda.is_available() else \"cpu\")### Define subset of the dataset (so it is faster to train)"
   ]
  },
  {
   "cell_type": "code",
   "execution_count": 19,
   "id": "f2f1234a",
   "metadata": {},
   "outputs": [],
   "source": [
    "from torch.utils.data.sampler import SubsetRandomSampler\n",
    "num_workers = 0\n",
    "\n",
    "seed = 0\n",
    "np.random.seed(seed)\n",
    "th.manual_seed(seed)\n",
    "\n",
    "n_training_samples = 400 # Max training number: 5923\n",
    "n_val_samples = 100\n",
    "\n",
    "train_sampler = SubsetRandomSampler(np.arange(n_training_samples, dtype=np.int64))\n",
    "val_sampler = SubsetRandomSampler(np.arange(n_training_samples, n_training_samples + n_val_samples, dtype=np.int64))\n",
    "# (In the last case, indexes do not need to account for training ones because the train=False parameter in datasets.CIFAR will select from the test set)"
   ]
  },
  {
   "cell_type": "code",
   "execution_count": 20,
   "id": "e8fa65a6",
   "metadata": {},
   "outputs": [],
   "source": [
    "def get_train_loader(batch_size):\n",
    "    return th.utils.data.DataLoader(train_set, batch_size=batch_size, sampler=train_sampler,\n",
    "                                              num_workers=num_workers)\n",
    "\n",
    "train_loader = get_train_loader(batch_size)\n",
    "\n",
    "# Use larger batch size for validation to speed up computation\n",
    "val_loader = th.utils.data.DataLoader(train_set, batch_size=100, sampler=val_sampler,\n",
    "                                          num_workers=num_workers)"
   ]
  },
  {
   "cell_type": "code",
   "execution_count": 21,
   "id": "e1dbe54d",
   "metadata": {},
   "outputs": [
    {
     "name": "stdout",
     "output_type": "stream",
     "text": [
      "===== HYPERPARAMETERS =====\n",
      "batch_size= 10\n",
      "n_epochs= 20\n",
      "learning_rate= 0.01\n",
      "==============================\n"
     ]
    }
   ],
   "source": [
    "seed = 0\n",
    "np.random.seed(seed)\n",
    "th.manual_seed(seed)\n",
    "\n",
    "# Initialize the CES class with model parameters\n",
    "CES_oc = CES_oneClass(net, device, train_loader, batch_size=batch_size, max_epoch=n_epoch, \n",
    "                        learning_rate=lr, val_loader=val_loader, criterion=criterion,optimizer=optimizer)"
   ]
  },
  {
   "cell_type": "code",
   "execution_count": 22,
   "id": "0a185ae9",
   "metadata": {},
   "outputs": [
    {
     "ename": "ValueError",
     "evalue": "Either `preds` and `target` both should have the (same) shape (N, ...), or `target` should be (N, ...) and `preds` should be (N, C, ...).",
     "output_type": "error",
     "traceback": [
      "\u001b[1;31m---------------------------------------------------------------------------\u001b[0m",
      "\u001b[1;31mValueError\u001b[0m                                Traceback (most recent call last)",
      "Input \u001b[1;32mIn [22]\u001b[0m, in \u001b[0;36m<cell line: 3>\u001b[1;34m()\u001b[0m\n\u001b[0;32m      1\u001b[0m \u001b[38;5;66;03m# Train the model and save snapshots regularly\u001b[39;00m\n\u001b[0;32m      2\u001b[0m save_every \u001b[38;5;241m=\u001b[39m \u001b[38;5;241m1\u001b[39m    \u001b[38;5;66;03m# Save model after every few epoches\u001b[39;00m\n\u001b[1;32m----> 3\u001b[0m \u001b[43mCES_oc\u001b[49m\u001b[38;5;241;43m.\u001b[39;49m\u001b[43mfull_train\u001b[49m\u001b[43m(\u001b[49m\u001b[43msave_dir\u001b[49m\u001b[43m \u001b[49m\u001b[38;5;241;43m=\u001b[39;49m\u001b[43m \u001b[49m\u001b[38;5;124;43m'\u001b[39;49m\u001b[38;5;124;43m./models/oneClass\u001b[39;49m\u001b[38;5;124;43m'\u001b[39;49m\u001b[43m,\u001b[49m\u001b[43m \u001b[49m\u001b[43msave_every\u001b[49m\u001b[43m \u001b[49m\u001b[38;5;241;43m=\u001b[39;49m\u001b[43m \u001b[49m\u001b[43msave_every\u001b[49m\u001b[43m)\u001b[49m\n",
      "File \u001b[1;32m~\\Documents\\GitHub\\Conformalized_early_stopping\\notebook_examples\\../ConformalizedES\\method.py:123\u001b[0m, in \u001b[0;36mConformalizedES.full_train\u001b[1;34m(self, save_dir, save_every)\u001b[0m\n\u001b[0;32m    121\u001b[0m epoch \u001b[38;5;241m=\u001b[39m saving_epoch \u001b[38;5;241m-\u001b[39m save_every \u001b[38;5;241m+\u001b[39m \u001b[38;5;241m1\u001b[39m \u001b[38;5;241m+\u001b[39m i\n\u001b[0;32m    122\u001b[0m \u001b[38;5;28;01mif\u001b[39;00m \u001b[38;5;28mself\u001b[39m\u001b[38;5;241m.\u001b[39macc:\n\u001b[1;32m--> 123\u001b[0m     train_loss, train_acc \u001b[38;5;241m=\u001b[39m \u001b[38;5;28;43mself\u001b[39;49m\u001b[38;5;241;43m.\u001b[39;49m\u001b[43mtrain_single_epoch\u001b[49m\u001b[43m(\u001b[49m\u001b[43mepoch\u001b[49m\u001b[43m)\u001b[49m\n\u001b[0;32m    124\u001b[0m \u001b[38;5;28;01melse\u001b[39;00m:\n\u001b[0;32m    125\u001b[0m     train_loss \u001b[38;5;241m=\u001b[39m \u001b[38;5;28mself\u001b[39m\u001b[38;5;241m.\u001b[39mtrain_single_epoch(epoch)\n",
      "File \u001b[1;32m~\\Documents\\GitHub\\Conformalized_early_stopping\\notebook_examples\\../ConformalizedES\\method.py:74\u001b[0m, in \u001b[0;36mConformalizedES.train_single_epoch\u001b[1;34m(self, epoch)\u001b[0m\n\u001b[0;32m     71\u001b[0m total_train_loss \u001b[38;5;241m+\u001b[39m\u001b[38;5;241m=\u001b[39m loss\u001b[38;5;241m.\u001b[39mitem()\n\u001b[0;32m     73\u001b[0m \u001b[38;5;28;01mif\u001b[39;00m \u001b[38;5;28mself\u001b[39m\u001b[38;5;241m.\u001b[39macc:\n\u001b[1;32m---> 74\u001b[0m     running_acc \u001b[38;5;241m+\u001b[39m\u001b[38;5;241m=\u001b[39m \u001b[38;5;28mfloat\u001b[39m(\u001b[43maccuracy\u001b[49m\u001b[43m(\u001b[49m\u001b[43moutputs\u001b[49m\u001b[43m,\u001b[49m\u001b[43mtargets\u001b[49m\u001b[43m)\u001b[49m\u001b[38;5;241m.\u001b[39mcpu()\u001b[38;5;241m.\u001b[39mnumpy())\n\u001b[0;32m     75\u001b[0m     total_train_acc \u001b[38;5;241m+\u001b[39m\u001b[38;5;241m=\u001b[39m \u001b[38;5;28mfloat\u001b[39m(accuracy(outputs,targets)\u001b[38;5;241m.\u001b[39mcpu()\u001b[38;5;241m.\u001b[39mnumpy())\n\u001b[0;32m     77\u001b[0m \u001b[38;5;66;03m# print every 10th of epoch\u001b[39;00m\n",
      "File \u001b[1;32m~\\anaconda3\\lib\\site-packages\\torchmetrics\\functional\\classification\\accuracy.py:411\u001b[0m, in \u001b[0;36maccuracy\u001b[1;34m(preds, target, average, mdmc_average, threshold, top_k, subset_accuracy, num_classes, multiclass, ignore_index)\u001b[0m\n\u001b[0;32m    408\u001b[0m     \u001b[38;5;28;01mraise\u001b[39;00m \u001b[38;5;167;01mValueError\u001b[39;00m(\u001b[38;5;124mf\u001b[39m\u001b[38;5;124m\"\u001b[39m\u001b[38;5;124mThe `top_k` should be an integer larger than 0, got \u001b[39m\u001b[38;5;132;01m{\u001b[39;00mtop_k\u001b[38;5;132;01m}\u001b[39;00m\u001b[38;5;124m\"\u001b[39m)\n\u001b[0;32m    410\u001b[0m preds, target \u001b[38;5;241m=\u001b[39m _input_squeeze(preds, target)\n\u001b[1;32m--> 411\u001b[0m mode \u001b[38;5;241m=\u001b[39m \u001b[43m_mode\u001b[49m\u001b[43m(\u001b[49m\u001b[43mpreds\u001b[49m\u001b[43m,\u001b[49m\u001b[43m \u001b[49m\u001b[43mtarget\u001b[49m\u001b[43m,\u001b[49m\u001b[43m \u001b[49m\u001b[43mthreshold\u001b[49m\u001b[43m,\u001b[49m\u001b[43m \u001b[49m\u001b[43mtop_k\u001b[49m\u001b[43m,\u001b[49m\u001b[43m \u001b[49m\u001b[43mnum_classes\u001b[49m\u001b[43m,\u001b[49m\u001b[43m \u001b[49m\u001b[43mmulticlass\u001b[49m\u001b[43m,\u001b[49m\u001b[43m \u001b[49m\u001b[43mignore_index\u001b[49m\u001b[43m)\u001b[49m\n\u001b[0;32m    412\u001b[0m reduce \u001b[38;5;241m=\u001b[39m \u001b[38;5;124m\"\u001b[39m\u001b[38;5;124mmacro\u001b[39m\u001b[38;5;124m\"\u001b[39m \u001b[38;5;28;01mif\u001b[39;00m average \u001b[38;5;129;01min\u001b[39;00m [\u001b[38;5;124m\"\u001b[39m\u001b[38;5;124mweighted\u001b[39m\u001b[38;5;124m\"\u001b[39m, \u001b[38;5;124m\"\u001b[39m\u001b[38;5;124mnone\u001b[39m\u001b[38;5;124m\"\u001b[39m, \u001b[38;5;28;01mNone\u001b[39;00m] \u001b[38;5;28;01melse\u001b[39;00m average\n\u001b[0;32m    414\u001b[0m \u001b[38;5;28;01mif\u001b[39;00m subset_accuracy \u001b[38;5;129;01mand\u001b[39;00m _check_subset_validity(mode):\n",
      "File \u001b[1;32m~\\anaconda3\\lib\\site-packages\\torchmetrics\\functional\\classification\\accuracy.py:59\u001b[0m, in \u001b[0;36m_mode\u001b[1;34m(preds, target, threshold, top_k, num_classes, multiclass, ignore_index)\u001b[0m\n\u001b[0;32m     29\u001b[0m \u001b[38;5;28;01mdef\u001b[39;00m \u001b[38;5;21m_mode\u001b[39m(\n\u001b[0;32m     30\u001b[0m     preds: Tensor,\n\u001b[0;32m     31\u001b[0m     target: Tensor,\n\u001b[1;32m   (...)\u001b[0m\n\u001b[0;32m     36\u001b[0m     ignore_index: Optional[\u001b[38;5;28mint\u001b[39m] \u001b[38;5;241m=\u001b[39m \u001b[38;5;28;01mNone\u001b[39;00m,\n\u001b[0;32m     37\u001b[0m ) \u001b[38;5;241m-\u001b[39m\u001b[38;5;241m>\u001b[39m DataType:\n\u001b[0;32m     38\u001b[0m     \u001b[38;5;124;03m\"\"\"Finds the mode of the input tensors.\u001b[39;00m\n\u001b[0;32m     39\u001b[0m \n\u001b[0;32m     40\u001b[0m \u001b[38;5;124;03m    Args:\u001b[39;00m\n\u001b[1;32m   (...)\u001b[0m\n\u001b[0;32m     56\u001b[0m \u001b[38;5;124;03m        <DataType.MULTICLASS: 'multi-class'>\u001b[39;00m\n\u001b[0;32m     57\u001b[0m \u001b[38;5;124;03m    \"\"\"\u001b[39;00m\n\u001b[1;32m---> 59\u001b[0m     mode \u001b[38;5;241m=\u001b[39m \u001b[43m_check_classification_inputs\u001b[49m\u001b[43m(\u001b[49m\n\u001b[0;32m     60\u001b[0m \u001b[43m        \u001b[49m\u001b[43mpreds\u001b[49m\u001b[43m,\u001b[49m\n\u001b[0;32m     61\u001b[0m \u001b[43m        \u001b[49m\u001b[43mtarget\u001b[49m\u001b[43m,\u001b[49m\n\u001b[0;32m     62\u001b[0m \u001b[43m        \u001b[49m\u001b[43mthreshold\u001b[49m\u001b[38;5;241;43m=\u001b[39;49m\u001b[43mthreshold\u001b[49m\u001b[43m,\u001b[49m\n\u001b[0;32m     63\u001b[0m \u001b[43m        \u001b[49m\u001b[43mtop_k\u001b[49m\u001b[38;5;241;43m=\u001b[39;49m\u001b[43mtop_k\u001b[49m\u001b[43m,\u001b[49m\n\u001b[0;32m     64\u001b[0m \u001b[43m        \u001b[49m\u001b[43mnum_classes\u001b[49m\u001b[38;5;241;43m=\u001b[39;49m\u001b[43mnum_classes\u001b[49m\u001b[43m,\u001b[49m\n\u001b[0;32m     65\u001b[0m \u001b[43m        \u001b[49m\u001b[43mmulticlass\u001b[49m\u001b[38;5;241;43m=\u001b[39;49m\u001b[43mmulticlass\u001b[49m\u001b[43m,\u001b[49m\n\u001b[0;32m     66\u001b[0m \u001b[43m        \u001b[49m\u001b[43mignore_index\u001b[49m\u001b[38;5;241;43m=\u001b[39;49m\u001b[43mignore_index\u001b[49m\u001b[43m,\u001b[49m\n\u001b[0;32m     67\u001b[0m \u001b[43m    \u001b[49m\u001b[43m)\u001b[49m\n\u001b[0;32m     68\u001b[0m     \u001b[38;5;28;01mreturn\u001b[39;00m mode\n",
      "File \u001b[1;32m~\\anaconda3\\lib\\site-packages\\torchmetrics\\utilities\\checks.py:271\u001b[0m, in \u001b[0;36m_check_classification_inputs\u001b[1;34m(preds, target, threshold, num_classes, multiclass, top_k, ignore_index)\u001b[0m\n\u001b[0;32m    268\u001b[0m _basic_input_validation(preds, target, threshold, multiclass, ignore_index)\n\u001b[0;32m    270\u001b[0m \u001b[38;5;66;03m# Check that shape/types fall into one of the cases\u001b[39;00m\n\u001b[1;32m--> 271\u001b[0m case, implied_classes \u001b[38;5;241m=\u001b[39m \u001b[43m_check_shape_and_type_consistency\u001b[49m\u001b[43m(\u001b[49m\u001b[43mpreds\u001b[49m\u001b[43m,\u001b[49m\u001b[43m \u001b[49m\u001b[43mtarget\u001b[49m\u001b[43m)\u001b[49m\n\u001b[0;32m    273\u001b[0m \u001b[38;5;66;03m# Check consistency with the `C` dimension in case of multi-class data\u001b[39;00m\n\u001b[0;32m    274\u001b[0m \u001b[38;5;28;01mif\u001b[39;00m preds\u001b[38;5;241m.\u001b[39mshape \u001b[38;5;241m!=\u001b[39m target\u001b[38;5;241m.\u001b[39mshape:\n",
      "File \u001b[1;32m~\\anaconda3\\lib\\site-packages\\torchmetrics\\utilities\\checks.py:117\u001b[0m, in \u001b[0;36m_check_shape_and_type_consistency\u001b[1;34m(preds, target)\u001b[0m\n\u001b[0;32m    115\u001b[0m         case \u001b[38;5;241m=\u001b[39m DataType\u001b[38;5;241m.\u001b[39mMULTIDIM_MULTICLASS\n\u001b[0;32m    116\u001b[0m \u001b[38;5;28;01melse\u001b[39;00m:\n\u001b[1;32m--> 117\u001b[0m     \u001b[38;5;28;01mraise\u001b[39;00m \u001b[38;5;167;01mValueError\u001b[39;00m(\n\u001b[0;32m    118\u001b[0m         \u001b[38;5;124m\"\u001b[39m\u001b[38;5;124mEither `preds` and `target` both should have the (same) shape (N, ...), or `target` should be (N, ...)\u001b[39m\u001b[38;5;124m\"\u001b[39m\n\u001b[0;32m    119\u001b[0m         \u001b[38;5;124m\"\u001b[39m\u001b[38;5;124m and `preds` should be (N, C, ...).\u001b[39m\u001b[38;5;124m\"\u001b[39m\n\u001b[0;32m    120\u001b[0m     )\n\u001b[0;32m    122\u001b[0m \u001b[38;5;28;01mreturn\u001b[39;00m case, implied_classes\n",
      "\u001b[1;31mValueError\u001b[0m: Either `preds` and `target` both should have the (same) shape (N, ...), or `target` should be (N, ...) and `preds` should be (N, C, ...)."
     ]
    }
   ],
   "source": [
    "# Train the model and save snapshots regularly\n",
    "save_every = 1    # Save model after every few epoches\n",
    "CES_oc.full_train(save_dir = './models/oneClass', save_every = save_every)"
   ]
  },
  {
   "cell_type": "code",
   "execution_count": null,
   "id": "a5996abf",
   "metadata": {
    "scrolled": true
   },
   "outputs": [],
   "source": [
    "plot_loss(CES_oc.train_loss_history, CES_oc.val_loss_history)"
   ]
  },
  {
   "cell_type": "markdown",
   "id": "6eb5c643",
   "metadata": {},
   "source": [
    "# Select best models and compute conformal p-values"
   ]
  },
  {
   "cell_type": "markdown",
   "id": "83d131f1",
   "metadata": {},
   "source": [
    "## Check the benchmark model\n",
    "select_model function will choose the best model for given test point, if no test point\n",
    "is given, it will output the best model selected ONLY based on validation data, which\n",
    "serves as an benchmark model."
   ]
  },
  {
   "cell_type": "code",
   "execution_count": null,
   "id": "8302c612",
   "metadata": {},
   "outputs": [],
   "source": [
    "# check the benchmark model\n",
    "bm_loss, bm_model, loss_history = CES_oc.select_model()"
   ]
  },
  {
   "cell_type": "code",
   "execution_count": null,
   "id": "4986dd84",
   "metadata": {},
   "outputs": [],
   "source": [
    "# Benchmark model corresponds to the one with smallest validation loss\n",
    "print('Benchmark best loss is: {:.3f}'.format(bm_loss))\n",
    "print('Benchmark best model is saved in:', bm_model)"
   ]
  },
  {
   "cell_type": "markdown",
   "id": "0ccdc916",
   "metadata": {},
   "source": [
    "# Select best models for each test point"
   ]
  },
  {
   "cell_type": "code",
   "execution_count": null,
   "id": "f92de439",
   "metadata": {},
   "outputs": [],
   "source": [
    "import time\n",
    "\n",
    "seed = 0\n",
    "np.random.seed(seed)\n",
    "th.manual_seed(seed)\n",
    "\n",
    "n_test_samples = 1800\n",
    "test_sampler = SubsetRandomSampler(np.arange(n_test_samples, dtype=np.int64))\n",
    "test_loader = th.utils.data.DataLoader(test_set, batch_size=n_test_samples, sampler=test_sampler,\n",
    "                                         num_workers=num_workers)\n",
    "\n",
    "# get all test images\n",
    "dataiter = iter(test_loader)\n",
    "inputs, labels = dataiter.next()"
   ]
  },
  {
   "cell_type": "code",
   "execution_count": null,
   "id": "8f70425e",
   "metadata": {},
   "outputs": [],
   "source": [
    "# Pick the best model for each test point\n",
    "start = time.time()\n",
    "best_loss, best_model, test_val_loss_history = CES_oc.select_model(inputs)\n",
    "print('selecting models takes:', time.time()-start)"
   ]
  },
  {
   "cell_type": "code",
   "execution_count": null,
   "id": "a6d9be9f",
   "metadata": {
    "scrolled": true
   },
   "outputs": [],
   "source": [
    "from inference import Conformal_PVals\n",
    "\n",
    "model_list = CES_oc.model_list\n",
    "\n",
    "# Compute conformity scores of calibration sets for each model\n",
    "# this initialization will be a one-time effort.\n",
    "cal_time = time.time()\n",
    "C_PVals = Conformal_PVals(net, device, val_loader, model_list, random_state = 2023)\n",
    "print('Calibration (one time effort) takes:{:.2f}s.'.format(time.time()-cal_time))"
   ]
  },
  {
   "cell_type": "markdown",
   "id": "34b24c76",
   "metadata": {},
   "source": [
    "## Check the anomaly scores of inliers and outliers"
   ]
  },
  {
   "cell_type": "code",
   "execution_count": null,
   "id": "a212a897",
   "metadata": {
    "scrolled": false
   },
   "outputs": [],
   "source": [
    "idx_in = np.where(labels==0)[0]\n",
    "idx_out = np.where(labels==1)[0]\n",
    "inputs_in = inputs[idx_in]\n",
    "inputs_out = inputs[idx_out]\n",
    "scores_in = net.get_anomaly_scores(inputs_in)\n",
    "scores_out = net.get_anomaly_scores(inputs_out)\n",
    "\n",
    "plt.figure(figsize=(8,6))\n",
    "plt.hist(scores_in, bins=100, alpha=0.5, label=\"inliers\")\n",
    "plt.hist(scores_out, bins=100, alpha=0.5, label=\"outliers\")\n",
    "plt.hist(C_PVals.cal_scores[9], bins=100, alpha=0.3, label=\"calib\")\n",
    "\n",
    "plt.legend()\n",
    "plt.show"
   ]
  },
  {
   "cell_type": "markdown",
   "id": "e84b39fd",
   "metadata": {},
   "source": [
    "## Compute the conformal p-values"
   ]
  },
  {
   "cell_type": "code",
   "execution_count": null,
   "id": "afeae4b6",
   "metadata": {
    "scrolled": true
   },
   "outputs": [],
   "source": [
    "pvals = C_PVals.compute_pvals(inputs, best_model)"
   ]
  },
  {
   "cell_type": "code",
   "execution_count": null,
   "id": "72a7c630",
   "metadata": {},
   "outputs": [],
   "source": [
    "pvals_in = np.array(pvals)[idx_in]\n",
    "pvals_out = np.array(pvals)[idx_out]\n",
    "\n",
    "plt.figure(figsize=(8,6))\n",
    "plt.hist(pvals_in, bins=100, alpha=0.5, label=\"inliers\")\n",
    "plt.hist(pvals_out, bins=100, alpha=0.5, label=\"outliers\")\n",
    "plt.legend()\n",
    "plt.show\n",
    "\n",
    "print('Average p-value for inliers is {:3f}, average p-value for outliers is {:3f}.'\\\n",
    "      .format(np.mean(pvals_in), np.mean(pvals_out)))"
   ]
  },
  {
   "cell_type": "code",
   "execution_count": null,
   "id": "34feb144",
   "metadata": {},
   "outputs": [],
   "source": [
    "from statsmodels.stats.multitest import multipletests\n",
    "\n",
    "# Apply BH\n",
    "alpha = 0.1\n",
    "purity_test = len(idx_in)/len(pvals)\n",
    "reject, _, _, _ = multipletests(pvals, alpha=alpha/(1-purity_test), method='fdr_bh')\n",
    "\n",
    "# Evaluate FDP and Power\n",
    "rejections = np.sum(reject)\n",
    "if rejections > 0:\n",
    "    fdp = np.sum(reject[idx_in])/reject.shape[0] \n",
    "    power = np.sum(reject[idx_out])/len(idx_out)\n",
    "else:\n",
    "    fdp = 0\n",
    "    power = 0\n",
    "\n",
    "print('Apply BH procedure yields FDP {:3f}, power {:3f}.'.format(fdp,power))"
   ]
  },
  {
   "cell_type": "code",
   "execution_count": null,
   "id": "fd99c61e",
   "metadata": {},
   "outputs": [],
   "source": []
  }
 ],
 "metadata": {
  "kernelspec": {
   "display_name": "Python 3 (ipykernel)",
   "language": "python",
   "name": "python3"
  },
  "language_info": {
   "codemirror_mode": {
    "name": "ipython",
    "version": 3
   },
   "file_extension": ".py",
   "mimetype": "text/x-python",
   "name": "python",
   "nbconvert_exporter": "python",
   "pygments_lexer": "ipython3",
   "version": "3.9.12"
  }
 },
 "nbformat": 4,
 "nbformat_minor": 5
}
