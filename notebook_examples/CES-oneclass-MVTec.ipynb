{
 "cells": [
  {
   "cell_type": "markdown",
   "id": "92b36a32",
   "metadata": {},
   "source": [
    "# Conformalized Early Stopping -- Anomaly Detection"
   ]
  },
  {
   "cell_type": "code",
   "execution_count": 1,
   "id": "08aeba22",
   "metadata": {},
   "outputs": [],
   "source": [
    "%matplotlib inline\n",
    "%load_ext autoreload\n",
    "%autoreload 2"
   ]
  },
  {
   "cell_type": "markdown",
   "id": "09f905e8",
   "metadata": {},
   "source": [
    "### Some useful functions"
   ]
  },
  {
   "cell_type": "code",
   "execution_count": 2,
   "id": "812faf32",
   "metadata": {},
   "outputs": [],
   "source": [
    "# Colors from Colorbrewer Paired_12\n",
    "colors = [[31, 120, 180], [51, 160, 44], [250,159,181]]\n",
    "colors = [(r / 255, g / 255, b / 255) for (r, g, b) in colors]\n",
    "\n",
    "\n",
    "# functions to show an image\n",
    "def imshow(img):\n",
    "    \"\"\"\n",
    "    :param img: (PyTorch Tensor)\n",
    "    \"\"\"\n",
    "    # unnormalize\n",
    "    invTrans = transforms.Compose([ transforms.Normalize(mean = [ 0., 0., 0. ],\n",
    "                                                         std = [ 1/0.229, 1/0.224, 1/0.225 ]),\n",
    "                                    transforms.Normalize(mean = [ -0.485, -0.456, -0.406 ],\n",
    "                                                         std = [ 1., 1., 1. ]),\n",
    "                                   ])\n",
    "\n",
    "    img = invTrans(img)\n",
    "    # Convert tensor to numpy array\n",
    "    npimg = img.cpu().numpy()\n",
    "    # Color channel first -> color channel last\n",
    "    plt.imshow(np.transpose(npimg, (1, 2, 0)))\n",
    "    \n",
    "\n",
    "\n",
    "def plot_loss(train_loss, val_loss):\n",
    "    x = np.arange(1, len(train_loss) + 1)\n",
    "\n",
    "    plt.figure()\n",
    "    plt.plot(x, train_loss, color=colors[0], label=\"Training loss\", linewidth=2)\n",
    "    plt.plot(x, val_loss, color=colors[1], label=\"Validation loss\", linewidth=2)\n",
    "    plt.xlabel('Epoch')\n",
    "    plt.ylabel('Loss')\n",
    "    plt.legend(loc='upper right')\n",
    "    plt.title(\"Evolution of the training, validation and test loss\")\n",
    "    \n",
    "    plt.show()\n"
   ]
  },
  {
   "cell_type": "code",
   "execution_count": 3,
   "id": "fc6e0a5b",
   "metadata": {},
   "outputs": [],
   "source": [
    "import torch as th\n",
    "import numpy as np\n",
    "\n",
    "from tqdm import tqdm\n",
    "import torchvision\n",
    "import matplotlib.pyplot as plt"
   ]
  },
  {
   "cell_type": "code",
   "execution_count": 4,
   "id": "5a1a1153",
   "metadata": {},
   "outputs": [],
   "source": [
    "import sys, os"
   ]
  },
  {
   "cell_type": "code",
   "execution_count": 5,
   "id": "97bf6599",
   "metadata": {},
   "outputs": [],
   "source": [
    "sys.path.append('../ConformalizedES')\n",
    "sys.path.append('../third_party/SPADE-pytorch/src/datasets/')"
   ]
  },
  {
   "cell_type": "code",
   "execution_count": 6,
   "id": "5080a725",
   "metadata": {},
   "outputs": [],
   "source": [
    "import os\n",
    "os.environ[\"KMP_DUPLICATE_LIB_OK\"]=\"TRUE\""
   ]
  },
  {
   "cell_type": "code",
   "execution_count": 7,
   "id": "00011a06",
   "metadata": {},
   "outputs": [],
   "source": [
    "from torchvision import transforms\n",
    "from mvtec import MVTecDataset   # Third party dataloader for the MVTec dataset"
   ]
  },
  {
   "cell_type": "code",
   "execution_count": 8,
   "id": "a95edd65",
   "metadata": {
    "scrolled": true
   },
   "outputs": [
    {
     "name": "stdout",
     "output_type": "stream",
     "text": [
      "Training dataset size is 391, test dataset size is 110\n"
     ]
    },
    {
     "name": "stderr",
     "output_type": "stream",
     "text": [
      "C:\\Users\\16266\\anaconda3\\lib\\site-packages\\torchvision\\transforms\\transforms.py:332: UserWarning: Argument 'interpolation' of type int is deprecated since 0.13 and will be removed in 0.15. Please use InterpolationMode enum.\n",
      "  warnings.warn(\n"
     ]
    }
   ],
   "source": [
    "# Load the hazelnut dataset\n",
    "resize = 64      # Resize the image\n",
    "cropsize = 32    # Apply center crop on the image\n",
    "\n",
    "train_set = MVTecDataset(root_path='./data', class_name='hazelnut', is_train=True, \n",
    "                        resize = resize, cropsize = cropsize)\n",
    "test_set = MVTecDataset(root_path='./data', class_name='hazelnut', is_train=False, \n",
    "                       resize = resize, cropsize = cropsize)\n",
    "print('Training dataset size is {}, test dataset size is {}'.format(len(train_set), len(test_set)))"
   ]
  },
  {
   "cell_type": "markdown",
   "id": "f8fa88b0",
   "metadata": {},
   "source": [
    "## Randomly plot some images"
   ]
  },
  {
   "cell_type": "code",
   "execution_count": 9,
   "id": "70450f97",
   "metadata": {},
   "outputs": [],
   "source": [
    "from torch.utils.data.sampler import SubsetRandomSampler\n",
    "\n",
    "num_workers = 2\n",
    "example_batch_size = 4\n",
    "\n",
    "n_examples = 100\n",
    "example_sampler = SubsetRandomSampler(np.arange(n_examples, dtype=np.int64))\n",
    "example_loader = th.utils.data.DataLoader(test_set, batch_size=example_batch_size,sampler = example_sampler,\n",
    "                                         num_workers=num_workers)\n",
    "\n",
    "classes = ['normal', 'defective']"
   ]
  },
  {
   "cell_type": "code",
   "execution_count": 10,
   "id": "abd85c39",
   "metadata": {},
   "outputs": [],
   "source": [
    "dataiter = iter(example_loader)\n",
    "images, labels = dataiter.next()   # Returns a list of three tensors, we need the first two: images and labels"
   ]
  },
  {
   "cell_type": "code",
   "execution_count": 11,
   "id": "5dacc660",
   "metadata": {},
   "outputs": [
    {
     "name": "stdout",
     "output_type": "stream",
     "text": [
      "    normal  defective  defective  defective\n"
     ]
    },
    {
     "data": {
      "image/png": "[encoded data removed]",
      "text/plain": [
       "<Figure size 432x288 with 1 Axes>"
      ]
     },
     "metadata": {
      "needs_background": "light"
     },
     "output_type": "display_data"
    }
   ],
   "source": [
    "# show images\n",
    "imshow(torchvision.utils.make_grid(images))\n",
    "# print labels\n",
    "print(' '.join('{:>10}'.format(classes[labels[j]]) for j in range(example_batch_size)))"
   ]
  },
  {
   "cell_type": "markdown",
   "id": "af4464c3",
   "metadata": {
    "scrolled": true
   },
   "source": [
    "# Train Autoencoder"
   ]
  },
  {
   "cell_type": "code",
   "execution_count": 12,
   "id": "4c351f49",
   "metadata": {},
   "outputs": [],
   "source": [
    "sys.path.append('../ConformalizedES')\n",
    "sys.path.append('../third_party')"
   ]
  },
  {
   "cell_type": "code",
   "execution_count": 13,
   "id": "58b252c4",
   "metadata": {},
   "outputs": [],
   "source": [
    "from method import CES_oneClass\n",
    "from networks import ConvAutoencoder_32"
   ]
  },
  {
   "cell_type": "code",
   "execution_count": 14,
   "id": "9b372e32",
   "metadata": {},
   "outputs": [],
   "source": [
    "# Define the model parameters\n",
    "\n",
    "net = ConvAutoencoder_32()\n",
    "lr = 0.001\n",
    "n_epoch = 20\n",
    "batch_size = 12"
   ]
  },
  {
   "cell_type": "code",
   "execution_count": 15,
   "id": "dbd71147",
   "metadata": {},
   "outputs": [],
   "source": [
    "import torch.optim as optim\n",
    "\n",
    "# Create loss and optimizer\n",
    "# CES_oneClass object will assume criterion takes three parameters: output, input and target, \n",
    "# create wrapper function to modify the criterion.\n",
    "Loss = th.nn.MSELoss()\n",
    "def criterion(outputs, inputs, targets):\n",
    "    return Loss(outputs, inputs)\n",
    "optimizer = optim.Adam(net.parameters(), lr=lr)"
   ]
  },
  {
   "cell_type": "code",
   "execution_count": 16,
   "id": "deb970d4",
   "metadata": {},
   "outputs": [],
   "source": [
    "seed = 2022\n",
    "np.random.seed(seed)\n",
    "th.manual_seed(seed)\n",
    "\n",
    "if th.cuda.is_available():\n",
    "    # Make CuDNN Determinist\n",
    "    th.backends.cudnn.deterministic = True\n",
    "    th.cuda.manual_seed(seed)\n",
    "\n",
    "# Define default device, we should use the GPU (cuda) if available\n",
    "device = th.device(\"cuda\" if th.cuda.is_available() else \"cpu\")### Define subset of the dataset (so it is faster to train)"
   ]
  },
  {
   "cell_type": "code",
   "execution_count": 17,
   "id": "cffdf0d1",
   "metadata": {},
   "outputs": [],
   "source": [
    "seed = 2022\n",
    "np.random.seed(seed)\n",
    "th.manual_seed(seed)\n",
    "\n",
    "n_training_samples = 291 # Max: 391 - n_val_samples\n",
    "n_val_samples = 100\n",
    "n_test_samples = 110 # Max: 110\n",
    "\n",
    "train_sampler = SubsetRandomSampler(np.arange(n_training_samples, dtype=np.int64))\n",
    "val_sampler = SubsetRandomSampler(np.arange(n_training_samples, n_training_samples + n_val_samples, dtype=np.int64))\n",
    "test_sampler = SubsetRandomSampler(np.arange(n_test_samples, dtype=np.int64))\n",
    "# (In the last case, indexes do not need to account for training ones because the train=False parameter in datasets.CIFAR will select from the test set)"
   ]
  },
  {
   "cell_type": "code",
   "execution_count": 18,
   "id": "c0baed06",
   "metadata": {},
   "outputs": [],
   "source": [
    "def get_train_loader(batch_size):\n",
    "    return th.utils.data.DataLoader(train_set, batch_size=batch_size, sampler=train_sampler,\n",
    "                                              num_workers=num_workers)\n",
    "\n",
    "train_loader = get_train_loader(batch_size)\n",
    "\n",
    "# Use larger batch size for validation to speed up computation\n",
    "val_loader = th.utils.data.DataLoader(train_set, batch_size=n_val_samples, sampler=val_sampler,\n",
    "                                          num_workers=num_workers)\n",
    "\n",
    "test_loader = th.utils.data.DataLoader(test_set, batch_size=n_test_samples, sampler=test_sampler,\n",
    "                                         num_workers=num_workers)"
   ]
  },
  {
   "cell_type": "code",
   "execution_count": 19,
   "id": "1b3d19ae",
   "metadata": {},
   "outputs": [
    {
     "name": "stdout",
     "output_type": "stream",
     "text": [
      "===== HYPERPARAMETERS =====\n",
      "batch_size= 12\n",
      "n_epochs= 20\n",
      "learning_rate= 0.001\n",
      "==============================\n"
     ]
    }
   ],
   "source": [
    "## seed = 0\n",
    "np.random.seed(seed)\n",
    "th.manual_seed(seed)\n",
    "\n",
    "# Initialize the CES class with model parameters\n",
    "CES_oc = CES_oneClass(net, device, train_loader, batch_size=batch_size, max_epoch=n_epoch, \n",
    "                        learning_rate=lr, val_loader=val_loader, criterion=criterion,optimizer=optimizer)"
   ]
  },
  {
   "cell_type": "code",
   "execution_count": 20,
   "id": "470c5a75",
   "metadata": {},
   "outputs": [
    {
     "name": "stdout",
     "output_type": "stream",
     "text": [
      "Epoch 1 of 20, 8% \t train_loss: 1.44  took: 1.76s\n",
      "Epoch 1 of 20, 16% \t train_loss: 1.58  took: 0.48s\n",
      "Epoch 1 of 20, 24% \t train_loss: 1.40  took: 0.48s\n",
      "Epoch 1 of 20, 32% \t train_loss: 1.39  took: 0.51s\n",
      "Epoch 1 of 20, 40% \t train_loss: 1.41  took: 0.53s\n",
      "Epoch 1 of 20, 48% \t train_loss: 1.33  took: 0.47s\n",
      "Epoch 1 of 20, 56% \t train_loss: 1.49  took: 0.49s\n",
      "Epoch 1 of 20, 64% \t train_loss: 1.47  took: 0.51s\n",
      "Epoch 1 of 20, 72% \t train_loss: 1.35  took: 0.56s\n",
      "Epoch 1 of 20, 80% \t train_loss: 1.28  took: 0.48s\n",
      "Epoch 1 of 20, 88% \t train_loss: 1.37  took: 0.51s\n",
      "Epoch 1 of 20, 96% \t train_loss: 1.31  took: 0.68s\n",
      "val_loss = 1.19\n",
      "Snapshot saved at epoch 1.\n",
      "Epoch 2 of 20, 8% \t train_loss: 1.27  took: 1.64s\n",
      "Epoch 2 of 20, 16% \t train_loss: 1.29  took: 0.52s\n",
      "Epoch 2 of 20, 24% \t train_loss: 1.26  took: 0.49s\n",
      "Epoch 2 of 20, 32% \t train_loss: 1.31  took: 0.48s\n",
      "Epoch 2 of 20, 40% \t train_loss: 1.21  took: 0.53s\n",
      "Epoch 2 of 20, 48% \t train_loss: 1.08  took: 0.50s\n",
      "Epoch 2 of 20, 56% \t train_loss: 1.18  took: 0.51s\n",
      "Epoch 2 of 20, 64% \t train_loss: 0.97  took: 0.51s\n",
      "Epoch 2 of 20, 72% \t train_loss: 0.94  took: 0.53s\n",
      "Epoch 2 of 20, 80% \t train_loss: 0.92  took: 0.56s\n",
      "Epoch 2 of 20, 88% \t train_loss: 0.84  took: 0.53s\n",
      "Epoch 2 of 20, 96% \t train_loss: 0.84  took: 0.56s\n",
      "val_loss = 0.73\n",
      "Snapshot saved at epoch 2.\n",
      "Epoch 3 of 20, 8% \t train_loss: 0.78  took: 1.54s\n",
      "Epoch 3 of 20, 16% \t train_loss: 0.78  took: 0.60s\n",
      "Epoch 3 of 20, 24% \t train_loss: 0.73  took: 0.54s\n",
      "Epoch 3 of 20, 32% \t train_loss: 0.76  took: 0.51s\n",
      "Epoch 3 of 20, 40% \t train_loss: 0.67  took: 0.51s\n",
      "Epoch 3 of 20, 48% \t train_loss: 0.69  took: 0.56s\n",
      "Epoch 3 of 20, 56% \t train_loss: 0.69  took: 0.56s\n",
      "Epoch 3 of 20, 64% \t train_loss: 0.62  took: 0.56s\n",
      "Epoch 3 of 20, 72% \t train_loss: 0.63  took: 0.57s\n",
      "Epoch 3 of 20, 80% \t train_loss: 0.62  took: 0.56s\n",
      "Epoch 3 of 20, 88% \t train_loss: 0.69  took: 0.59s\n",
      "Epoch 3 of 20, 96% \t train_loss: 0.63  took: 0.65s\n",
      "val_loss = 0.56\n",
      "Snapshot saved at epoch 3.\n",
      "Epoch 4 of 20, 8% \t train_loss: 0.61  took: 1.61s\n",
      "Epoch 4 of 20, 16% \t train_loss: 0.58  took: 0.58s\n",
      "Epoch 4 of 20, 24% \t train_loss: 0.57  took: 0.51s\n",
      "Epoch 4 of 20, 32% \t train_loss: 0.70  took: 0.53s\n",
      "Epoch 4 of 20, 40% \t train_loss: 0.64  took: 0.48s\n",
      "Epoch 4 of 20, 48% \t train_loss: 0.59  took: 0.61s\n",
      "Epoch 4 of 20, 56% \t train_loss: 0.71  took: 0.46s\n",
      "Epoch 4 of 20, 64% \t train_loss: 0.63  took: 0.56s\n",
      "Epoch 4 of 20, 72% \t train_loss: 0.65  took: 0.54s\n",
      "Epoch 4 of 20, 80% \t train_loss: 0.56  took: 0.48s\n",
      "Epoch 4 of 20, 88% \t train_loss: 0.63  took: 0.51s\n",
      "Epoch 4 of 20, 96% \t train_loss: 0.61  took: 0.74s\n",
      "val_loss = 0.55\n",
      "Snapshot saved at epoch 4.\n",
      "Epoch 5 of 20, 8% \t train_loss: 0.65  took: 1.60s\n",
      "Epoch 5 of 20, 16% \t train_loss: 0.63  took: 0.52s\n",
      "Epoch 5 of 20, 24% \t train_loss: 0.65  took: 0.59s\n",
      "Epoch 5 of 20, 32% \t train_loss: 0.62  took: 0.54s\n",
      "Epoch 5 of 20, 40% \t train_loss: 0.55  took: 0.61s\n",
      "Epoch 5 of 20, 48% \t train_loss: 0.63  took: 0.55s\n",
      "Epoch 5 of 20, 56% \t train_loss: 0.65  took: 0.51s\n",
      "Epoch 5 of 20, 64% \t train_loss: 0.59  took: 0.57s\n",
      "Epoch 5 of 20, 72% \t train_loss: 0.64  took: 0.54s\n",
      "Epoch 5 of 20, 80% \t train_loss: 0.62  took: 0.53s\n",
      "Epoch 5 of 20, 88% \t train_loss: 0.59  took: 0.57s\n",
      "Epoch 5 of 20, 96% \t train_loss: 0.59  took: 0.70s\n",
      "val_loss = 0.55\n",
      "Snapshot saved at epoch 5.\n",
      "Epoch 6 of 20, 8% \t train_loss: 0.61  took: 1.62s\n",
      "Epoch 6 of 20, 16% \t train_loss: 0.65  took: 0.59s\n",
      "Epoch 6 of 20, 24% \t train_loss: 0.63  took: 0.57s\n",
      "Epoch 6 of 20, 32% \t train_loss: 0.60  took: 0.60s\n",
      "Epoch 6 of 20, 40% \t train_loss: 0.63  took: 0.56s\n",
      "Epoch 6 of 20, 48% \t train_loss: 0.63  took: 0.58s\n",
      "Epoch 6 of 20, 56% \t train_loss: 0.64  took: 0.59s\n",
      "Epoch 6 of 20, 64% \t train_loss: 0.63  took: 0.59s\n",
      "Epoch 6 of 20, 72% \t train_loss: 0.59  took: 0.56s\n",
      "Epoch 6 of 20, 80% \t train_loss: 0.63  took: 0.59s\n",
      "Epoch 6 of 20, 88% \t train_loss: 0.57  took: 0.54s\n",
      "Epoch 6 of 20, 96% \t train_loss: 0.62  took: 0.68s\n",
      "val_loss = 0.55\n",
      "Snapshot saved at epoch 6.\n",
      "Epoch 7 of 20, 8% \t train_loss: 0.63  took: 1.57s\n",
      "Epoch 7 of 20, 16% \t train_loss: 0.67  took: 0.53s\n",
      "Epoch 7 of 20, 24% \t train_loss: 0.57  took: 0.56s\n",
      "Epoch 7 of 20, 32% \t train_loss: 0.64  took: 0.54s\n",
      "Epoch 7 of 20, 40% \t train_loss: 0.64  took: 0.58s\n",
      "Epoch 7 of 20, 48% \t train_loss: 0.70  took: 0.54s\n",
      "Epoch 7 of 20, 56% \t train_loss: 0.62  took: 0.59s\n",
      "Epoch 7 of 20, 64% \t train_loss: 0.59  took: 0.60s\n",
      "Epoch 7 of 20, 72% \t train_loss: 0.58  took: 0.57s\n",
      "Epoch 7 of 20, 80% \t train_loss: 0.53  took: 0.53s\n",
      "Epoch 7 of 20, 88% \t train_loss: 0.59  took: 0.55s\n",
      "Epoch 7 of 20, 96% \t train_loss: 0.62  took: 0.59s\n",
      "val_loss = 0.54\n",
      "Snapshot saved at epoch 7.\n",
      "Epoch 8 of 20, 8% \t train_loss: 0.61  took: 1.82s\n",
      "Epoch 8 of 20, 16% \t train_loss: 0.57  took: 0.57s\n",
      "Epoch 8 of 20, 24% \t train_loss: 0.60  took: 0.59s\n",
      "Epoch 8 of 20, 32% \t train_loss: 0.61  took: 0.55s\n",
      "Epoch 8 of 20, 40% \t train_loss: 0.69  took: 0.57s\n",
      "Epoch 8 of 20, 48% \t train_loss: 0.63  took: 0.58s\n",
      "Epoch 8 of 20, 56% \t train_loss: 0.60  took: 0.57s\n",
      "Epoch 8 of 20, 64% \t train_loss: 0.61  took: 0.57s\n",
      "Epoch 8 of 20, 72% \t train_loss: 0.66  took: 0.57s\n",
      "Epoch 8 of 20, 80% \t train_loss: 0.64  took: 0.55s\n",
      "Epoch 8 of 20, 88% \t train_loss: 0.58  took: 0.54s\n",
      "Epoch 8 of 20, 96% \t train_loss: 0.59  took: 0.63s\n",
      "val_loss = 0.54\n",
      "Snapshot saved at epoch 8.\n",
      "Epoch 9 of 20, 8% \t train_loss: 0.54  took: 1.82s\n",
      "Epoch 9 of 20, 16% \t train_loss: 0.62  took: 0.48s\n",
      "Epoch 9 of 20, 24% \t train_loss: 0.61  took: 0.55s\n",
      "Epoch 9 of 20, 32% \t train_loss: 0.63  took: 0.53s\n",
      "Epoch 9 of 20, 40% \t train_loss: 0.62  took: 0.57s\n",
      "Epoch 9 of 20, 48% \t train_loss: 0.61  took: 0.53s\n",
      "Epoch 9 of 20, 56% \t train_loss: 0.56  took: 0.51s\n",
      "Epoch 9 of 20, 64% \t train_loss: 0.63  took: 0.62s\n",
      "Epoch 9 of 20, 72% \t train_loss: 0.60  took: 0.57s\n",
      "Epoch 9 of 20, 80% \t train_loss: 0.62  took: 0.60s\n",
      "Epoch 9 of 20, 88% \t train_loss: 0.69  took: 0.60s\n",
      "Epoch 9 of 20, 96% \t train_loss: 0.61  took: 0.62s\n",
      "val_loss = 0.54\n",
      "Snapshot saved at epoch 9.\n",
      "Epoch 10 of 20, 8% \t train_loss: 0.58  took: 1.76s\n",
      "Epoch 10 of 20, 16% \t train_loss: 0.61  took: 0.59s\n",
      "Epoch 10 of 20, 24% \t train_loss: 0.62  took: 0.56s\n",
      "Epoch 10 of 20, 32% \t train_loss: 0.64  took: 0.61s\n",
      "Epoch 10 of 20, 40% \t train_loss: 0.59  took: 0.56s\n",
      "Epoch 10 of 20, 48% \t train_loss: 0.62  took: 0.64s\n",
      "Epoch 10 of 20, 56% \t train_loss: 0.58  took: 0.57s\n",
      "Epoch 10 of 20, 64% \t train_loss: 0.57  took: 0.60s\n",
      "Epoch 10 of 20, 72% \t train_loss: 0.66  took: 0.54s\n",
      "Epoch 10 of 20, 80% \t train_loss: 0.63  took: 0.61s\n",
      "Epoch 10 of 20, 88% \t train_loss: 0.62  took: 0.60s\n",
      "Epoch 10 of 20, 96% \t train_loss: 0.60  took: 0.67s\n",
      "val_loss = 0.54\n",
      "Snapshot saved at epoch 10.\n",
      "Epoch 11 of 20, 8% \t train_loss: 0.62  took: 1.80s\n",
      "Epoch 11 of 20, 16% \t train_loss: 0.62  took: 0.61s\n",
      "Epoch 11 of 20, 24% \t train_loss: 0.65  took: 0.57s\n",
      "Epoch 11 of 20, 32% \t train_loss: 0.58  took: 0.57s\n",
      "Epoch 11 of 20, 40% \t train_loss: 0.57  took: 0.59s\n",
      "Epoch 11 of 20, 48% \t train_loss: 0.58  took: 0.62s\n",
      "Epoch 11 of 20, 56% \t train_loss: 0.58  took: 0.59s\n",
      "Epoch 11 of 20, 64% \t train_loss: 0.65  took: 0.60s\n",
      "Epoch 11 of 20, 72% \t train_loss: 0.57  took: 0.61s\n",
      "Epoch 11 of 20, 80% \t train_loss: 0.59  took: 0.60s\n",
      "Epoch 11 of 20, 88% \t train_loss: 0.64  took: 0.60s\n",
      "Epoch 11 of 20, 96% \t train_loss: 0.67  took: 0.74s\n",
      "val_loss = 0.54\n",
      "Snapshot saved at epoch 11.\n",
      "Epoch 12 of 20, 8% \t train_loss: 0.62  took: 2.01s\n",
      "Epoch 12 of 20, 16% \t train_loss: 0.59  took: 0.67s\n",
      "Epoch 12 of 20, 24% \t train_loss: 0.61  took: 0.60s\n",
      "Epoch 12 of 20, 32% \t train_loss: 0.58  took: 0.69s\n",
      "Epoch 12 of 20, 40% \t train_loss: 0.62  took: 0.60s\n",
      "Epoch 12 of 20, 48% \t train_loss: 0.62  took: 0.64s\n",
      "Epoch 12 of 20, 56% \t train_loss: 0.59  took: 0.65s\n",
      "Epoch 12 of 20, 64% \t train_loss: 0.66  took: 0.66s\n",
      "Epoch 12 of 20, 72% \t train_loss: 0.63  took: 0.61s\n",
      "Epoch 12 of 20, 80% \t train_loss: 0.61  took: 0.61s\n",
      "Epoch 12 of 20, 88% \t train_loss: 0.63  took: 0.68s\n",
      "Epoch 12 of 20, 96% \t train_loss: 0.58  took: 0.65s\n",
      "val_loss = 0.54\n",
      "Snapshot saved at epoch 12.\n",
      "Epoch 13 of 20, 8% \t train_loss: 0.73  took: 2.07s\n",
      "Epoch 13 of 20, 16% \t train_loss: 0.55  took: 0.58s\n",
      "Epoch 13 of 20, 24% \t train_loss: 0.58  took: 0.61s\n",
      "Epoch 13 of 20, 32% \t train_loss: 0.56  took: 0.66s\n",
      "Epoch 13 of 20, 40% \t train_loss: 0.60  took: 0.66s\n",
      "Epoch 13 of 20, 48% \t train_loss: 0.59  took: 0.67s\n"
     ]
    },
    {
     "name": "stdout",
     "output_type": "stream",
     "text": [
      "Epoch 13 of 20, 56% \t train_loss: 0.60  took: 0.59s\n",
      "Epoch 13 of 20, 64% \t train_loss: 0.65  took: 0.70s\n",
      "Epoch 13 of 20, 72% \t train_loss: 0.58  took: 0.63s\n",
      "Epoch 13 of 20, 80% \t train_loss: 0.57  took: 0.67s\n",
      "Epoch 13 of 20, 88% \t train_loss: 0.62  took: 0.66s\n",
      "Epoch 13 of 20, 96% \t train_loss: 0.65  took: 0.65s\n",
      "val_loss = 0.54\n",
      "Snapshot saved at epoch 13.\n",
      "Epoch 14 of 20, 8% \t train_loss: 0.55  took: 2.36s\n",
      "Epoch 14 of 20, 16% \t train_loss: 0.67  took: 0.78s\n",
      "Epoch 14 of 20, 24% \t train_loss: 0.58  took: 0.59s\n",
      "Epoch 14 of 20, 32% \t train_loss: 0.58  took: 0.68s\n",
      "Epoch 14 of 20, 40% \t train_loss: 0.63  took: 0.68s\n",
      "Epoch 14 of 20, 48% \t train_loss: 0.59  took: 0.68s\n",
      "Epoch 14 of 20, 56% \t train_loss: 0.58  took: 0.70s\n",
      "Epoch 14 of 20, 64% \t train_loss: 0.60  took: 0.64s\n",
      "Epoch 14 of 20, 72% \t train_loss: 0.61  took: 0.66s\n",
      "Epoch 14 of 20, 80% \t train_loss: 0.60  took: 0.70s\n",
      "Epoch 14 of 20, 88% \t train_loss: 0.68  took: 0.71s\n",
      "Epoch 14 of 20, 96% \t train_loss: 0.62  took: 0.73s\n",
      "val_loss = 0.53\n",
      "Snapshot saved at epoch 14.\n",
      "Epoch 15 of 20, 8% \t train_loss: 0.55  took: 2.24s\n",
      "Epoch 15 of 20, 16% \t train_loss: 0.59  took: 0.68s\n",
      "Epoch 15 of 20, 24% \t train_loss: 0.60  took: 0.67s\n",
      "Epoch 15 of 20, 32% \t train_loss: 0.59  took: 0.74s\n",
      "Epoch 15 of 20, 40% \t train_loss: 0.63  took: 0.72s\n",
      "Epoch 15 of 20, 48% \t train_loss: 0.62  took: 0.72s\n",
      "Epoch 15 of 20, 56% \t train_loss: 0.64  took: 0.72s\n",
      "Epoch 15 of 20, 64% \t train_loss: 0.59  took: 0.72s\n",
      "Epoch 15 of 20, 72% \t train_loss: 0.62  took: 0.75s\n",
      "Epoch 15 of 20, 80% \t train_loss: 0.59  took: 0.70s\n",
      "Epoch 15 of 20, 88% \t train_loss: 0.66  took: 0.71s\n",
      "Epoch 15 of 20, 96% \t train_loss: 0.55  took: 0.69s\n",
      "val_loss = 0.53\n",
      "Snapshot saved at epoch 15.\n",
      "Epoch 16 of 20, 8% \t train_loss: 0.56  took: 2.28s\n",
      "Epoch 16 of 20, 16% \t train_loss: 0.61  took: 0.72s\n",
      "Epoch 16 of 20, 24% \t train_loss: 0.61  took: 0.65s\n",
      "Epoch 16 of 20, 32% \t train_loss: 0.57  took: 0.75s\n",
      "Epoch 16 of 20, 40% \t train_loss: 0.59  took: 0.59s\n",
      "Epoch 16 of 20, 48% \t train_loss: 0.68  took: 0.75s\n",
      "Epoch 16 of 20, 56% \t train_loss: 0.63  took: 0.71s\n",
      "Epoch 16 of 20, 64% \t train_loss: 0.61  took: 0.68s\n",
      "Epoch 16 of 20, 72% \t train_loss: 0.62  took: 0.73s\n",
      "Epoch 16 of 20, 80% \t train_loss: 0.61  took: 0.74s\n",
      "Epoch 16 of 20, 88% \t train_loss: 0.58  took: 0.67s\n",
      "Epoch 16 of 20, 96% \t train_loss: 0.59  took: 0.89s\n",
      "val_loss = 0.53\n",
      "Snapshot saved at epoch 16.\n",
      "Epoch 17 of 20, 8% \t train_loss: 0.65  took: 2.25s\n",
      "Epoch 17 of 20, 16% \t train_loss: 0.62  took: 0.61s\n",
      "Epoch 17 of 20, 24% \t train_loss: 0.61  took: 0.74s\n",
      "Epoch 17 of 20, 32% \t train_loss: 0.64  took: 0.69s\n",
      "Epoch 17 of 20, 40% \t train_loss: 0.57  took: 0.75s\n",
      "Epoch 17 of 20, 48% \t train_loss: 0.62  took: 0.71s\n",
      "Epoch 17 of 20, 56% \t train_loss: 0.63  took: 0.72s\n",
      "Epoch 17 of 20, 64% \t train_loss: 0.57  took: 0.68s\n",
      "Epoch 17 of 20, 72% \t train_loss: 0.55  took: 0.71s\n",
      "Epoch 17 of 20, 80% \t train_loss: 0.57  took: 0.72s\n",
      "Epoch 17 of 20, 88% \t train_loss: 0.61  took: 0.72s\n",
      "Epoch 17 of 20, 96% \t train_loss: 0.62  took: 0.73s\n",
      "val_loss = 0.53\n",
      "Snapshot saved at epoch 17.\n",
      "Epoch 18 of 20, 8% \t train_loss: 0.61  took: 2.14s\n",
      "Epoch 18 of 20, 16% \t train_loss: 0.61  took: 0.69s\n",
      "Epoch 18 of 20, 24% \t train_loss: 0.55  took: 0.63s\n",
      "Epoch 18 of 20, 32% \t train_loss: 0.54  took: 0.72s\n",
      "Epoch 18 of 20, 40% \t train_loss: 0.63  took: 0.69s\n",
      "Epoch 18 of 20, 48% \t train_loss: 0.56  took: 0.69s\n",
      "Epoch 18 of 20, 56% \t train_loss: 0.65  took: 0.70s\n",
      "Epoch 18 of 20, 64% \t train_loss: 0.59  took: 0.69s\n",
      "Epoch 18 of 20, 72% \t train_loss: 0.64  took: 0.67s\n",
      "Epoch 18 of 20, 80% \t train_loss: 0.66  took: 0.71s\n",
      "Epoch 18 of 20, 88% \t train_loss: 0.62  took: 0.69s\n",
      "Epoch 18 of 20, 96% \t train_loss: 0.57  took: 0.77s\n",
      "val_loss = 0.53\n",
      "Snapshot saved at epoch 18.\n",
      "Epoch 19 of 20, 8% \t train_loss: 0.57  took: 2.21s\n",
      "Epoch 19 of 20, 16% \t train_loss: 0.59  took: 0.65s\n",
      "Epoch 19 of 20, 24% \t train_loss: 0.64  took: 0.70s\n",
      "Epoch 19 of 20, 32% \t train_loss: 0.61  took: 0.66s\n",
      "Epoch 19 of 20, 40% \t train_loss: 0.57  took: 0.68s\n",
      "Epoch 19 of 20, 48% \t train_loss: 0.59  took: 0.71s\n",
      "Epoch 19 of 20, 56% \t train_loss: 0.56  took: 0.71s\n",
      "Epoch 19 of 20, 64% \t train_loss: 0.59  took: 0.72s\n",
      "Epoch 19 of 20, 72% \t train_loss: 0.61  took: 0.64s\n",
      "Epoch 19 of 20, 80% \t train_loss: 0.60  took: 0.67s\n",
      "Epoch 19 of 20, 88% \t train_loss: 0.67  took: 0.70s\n",
      "Epoch 19 of 20, 96% \t train_loss: 0.62  took: 0.76s\n",
      "val_loss = 0.53\n",
      "Snapshot saved at epoch 19.\n",
      "Epoch 20 of 20, 8% \t train_loss: 0.61  took: 2.04s\n",
      "Epoch 20 of 20, 16% \t train_loss: 0.60  took: 0.68s\n",
      "Epoch 20 of 20, 24% \t train_loss: 0.57  took: 0.64s\n",
      "Epoch 20 of 20, 32% \t train_loss: 0.58  took: 0.67s\n",
      "Epoch 20 of 20, 40% \t train_loss: 0.61  took: 0.62s\n",
      "Epoch 20 of 20, 48% \t train_loss: 0.59  took: 0.65s\n",
      "Epoch 20 of 20, 56% \t train_loss: 0.60  took: 0.64s\n",
      "Epoch 20 of 20, 64% \t train_loss: 0.59  took: 0.57s\n",
      "Epoch 20 of 20, 72% \t train_loss: 0.66  took: 0.63s\n",
      "Epoch 20 of 20, 80% \t train_loss: 0.63  took: 0.70s\n",
      "Epoch 20 of 20, 88% \t train_loss: 0.54  took: 0.65s\n",
      "Epoch 20 of 20, 96% \t train_loss: 0.58  took: 0.72s\n",
      "val_loss = 0.52\n",
      "Snapshot saved at epoch 20.\n",
      "Training done! A list of 20 models saved.\n"
     ]
    }
   ],
   "source": [
    "# Train the model and save snapshots regularly\n",
    "save_every = 1    # Save model after every few epoches\n",
    "CES_oc.full_train(save_dir = './models/oneClass', save_every = save_every)"
   ]
  },
  {
   "cell_type": "code",
   "execution_count": 26,
   "id": "c6639823",
   "metadata": {},
   "outputs": [
    {
     "data": {
      "image/png": "[encoded data removed]",
      "text/plain": [
       "<Figure size 432x288 with 1 Axes>"
      ]
     },
     "metadata": {
      "needs_background": "light"
     },
     "output_type": "display_data"
    }
   ],
   "source": [
    "plot_loss(CES_oc.train_loss_history, CES_oc.val_loss_history)"
   ]
  },
  {
   "cell_type": "code",
   "execution_count": 36,
   "id": "33033e55",
   "metadata": {},
   "outputs": [],
   "source": [
    "dataiter = iter(train_loader)\n",
    "images, labels = dataiter.next() "
   ]
  },
  {
   "cell_type": "code",
   "execution_count": 37,
   "id": "d267e671",
   "metadata": {},
   "outputs": [
    {
     "data": {
      "image/png": "[encoded data removed]",
      "text/plain": [
       "<Figure size 432x288 with 1 Axes>"
      ]
     },
     "metadata": {
      "needs_background": "light"
     },
     "output_type": "display_data"
    }
   ],
   "source": [
    "imshow(images[0])"
   ]
  },
  {
   "cell_type": "code",
   "execution_count": 38,
   "id": "9b726b9e",
   "metadata": {},
   "outputs": [
    {
     "data": {
      "image/png": "[encoded data removed]",
      "text/plain": [
       "<Figure size 432x288 with 1 Axes>"
      ]
     },
     "metadata": {
      "needs_background": "light"
     },
     "output_type": "display_data"
    }
   ],
   "source": [
    "with th.no_grad():\n",
    "    output = net(images[0][None])\n",
    "\n",
    "imshow(output[0])"
   ]
  },
  {
   "cell_type": "code",
   "execution_count": 25,
   "id": "c585708d",
   "metadata": {},
   "outputs": [
    {
     "data": {
      "text/plain": [
       "1024"
      ]
     },
     "execution_count": 25,
     "metadata": {},
     "output_type": "execute_result"
    }
   ],
   "source": [
    "32*32"
   ]
  },
  {
   "cell_type": "code",
   "execution_count": null,
   "id": "39ef5210",
   "metadata": {},
   "outputs": [],
   "source": []
  }
 ],
 "metadata": {
  "kernelspec": {
   "display_name": "Python 3 (ipykernel)",
   "language": "python",
   "name": "python3"
  },
  "language_info": {
   "codemirror_mode": {
    "name": "ipython",
    "version": 3
   },
   "file_extension": ".py",
   "mimetype": "text/x-python",
   "name": "python",
   "nbconvert_exporter": "python",
   "pygments_lexer": "ipython3",
   "version": "3.9.12"
  }
 },
 "nbformat": 4,
 "nbformat_minor": 5
}
