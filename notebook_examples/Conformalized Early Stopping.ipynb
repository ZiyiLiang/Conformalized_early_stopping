{
 "cells": [
  {
   "cell_type": "code",
   "execution_count": 1,
   "id": "89c990a0",
   "metadata": {},
   "outputs": [],
   "source": [
    "%matplotlib inline\n",
    "%load_ext autoreload\n",
    "%autoreload 2"
   ]
  },
  {
   "cell_type": "code",
   "execution_count": 46,
   "id": "af907b3b",
   "metadata": {},
   "outputs": [],
   "source": [
    "import numpy as np\n",
    "import matplotlib.pyplot as plt\n",
    "from statsmodels.stats.multitest import multipletests\n",
    "\n",
    "# Colors from Colorbrewer Paired_12\n",
    "colors = [[31, 120, 180], [51, 160, 44], [250,159,181]]\n",
    "colors = [(r / 255, g / 255, b / 255) for (r, g, b) in colors]\n",
    "\n",
    "# functions to show an image\n",
    "def imshow(img, norm):\n",
    "    \"\"\"\n",
    "    :param img: (PyTorch Tensor)\n",
    "    \"\"\"\n",
    "    if norm:\n",
    "        # unnormalize\n",
    "        img = img / 2 + 0.5    \n",
    "        \n",
    "    # Convert tensor to numpy array\n",
    "    npimg = img.numpy()\n",
    "    # Color channel first -> color channel last\n",
    "    plt.imshow(np.transpose(npimg, (1, 2, 0)))\n",
    "\n",
    "def get_image(img):\n",
    "    \"\"\"\n",
    "    convert a tensor to images suitable for plotting\n",
    "    :param img: (PyTorch Tensor)\n",
    "    \"\"\"\n",
    "    # unnormalize\n",
    "    img = img / 2 + 0.5     \n",
    "    # Convert tensor to numpy array\n",
    "    npimg = img.numpy()\n",
    "    # Color channel first -> color channel last\n",
    "    return np.transpose(npimg, (1, 2, 0))\n",
    "\n",
    "def plot_loss_acc(train_loss, val_loss, train_acc, val_acc):\n",
    "    x = np.arange(1, len(train_loss) + 1)\n",
    "\n",
    "    fig,axs = plt.subplots(1, 2, figsize=(16,6))\n",
    "    axs[0].plot(x, train_loss, color=colors[0], label=\"Training loss\", linewidth=2)\n",
    "    axs[0].plot(x, val_loss, color=colors[1], label=\"Validation loss\", linewidth=2)\n",
    "    axs[0].set_xlabel('Epoch')\n",
    "    axs[0].set_ylabel('Loss')\n",
    "    axs[0].legend(loc='upper right')\n",
    "    axs[0].set_title(\"Evolution of the training, validation and test loss\")\n",
    "\n",
    "    axs[1].plot(x, train_acc, color=colors[0], label=\"Training accuracy\", linewidth=2)\n",
    "    axs[1].plot(x, val_acc, color=colors[1], label=\"Validation accuracy\", linewidth=2)\n",
    "    axs[1].set_xlabel('Epoch')\n",
    "    axs[1].set_ylabel('Accuracy')\n",
    "    axs[1].legend(loc='lower right')\n",
    "    axs[1].set_title(\"Evolution of the training, validation and test accuracy\")\n",
    "    plt.show()\n",
    "    \n",
    "\n",
    "def plot_loss(train_loss, val_loss):\n",
    "    x = np.arange(1, len(train_loss) + 1)\n",
    "\n",
    "    plt.figure()\n",
    "    plt.plot(x, train_loss, color=colors[0], label=\"Training loss\", linewidth=2)\n",
    "    plt.plot(x, val_loss, color=colors[1], label=\"Validation loss\", linewidth=2)\n",
    "    plt.xlabel('Epoch')\n",
    "    plt.ylabel('Loss')\n",
    "    plt.legend(loc='upper right')\n",
    "    plt.title(\"Evolution of the training, validation and test loss\")\n",
    "    \n",
    "    plt.show()\n",
    "\n",
    "def plot_pvals(pvals, labels):\n",
    "    idx_in = np.where(labels==0)[0]\n",
    "    idx_out = np.where(labels==1)[0]\n",
    "\n",
    "    pvals_in = np.array(pvals)[idx_in]\n",
    "    pvals_out = np.array(pvals)[idx_out]\n",
    "\n",
    "    plt.figure(figsize=(8,6))\n",
    "    plt.hist(pvals_in, bins=100, alpha=0.5, label=\"inliers\")\n",
    "    plt.hist(pvals_out, bins=100, alpha=0.5, label=\"outliers\")\n",
    "    plt.legend()\n",
    "    plt.show\n",
    "\n",
    "    print('Average p-value for inliers is {:3f}, average p-value for outliers is {:3f}.'\\\n",
    "          .format(np.mean(pvals_in), np.mean(pvals_out)))\n",
    "    \n",
    "\n",
    "def evaluate_bh(pvals, labels, alpha):\n",
    "    idx_in = np.where(labels==0)[0]\n",
    "    idx_out = np.where(labels==1)[0]\n",
    "    \n",
    "    # Apply BH\n",
    "    purity_test = len(idx_in)/len(pvals)\n",
    "    reject, _, _, _ = multipletests(pvals, alpha=alpha/(1-purity_test), method='fdr_bh')\n",
    "\n",
    "    # Evaluate FDP and Power\n",
    "    rejections = np.sum(reject)\n",
    "    if rejections > 0:\n",
    "        fdp = np.sum(reject[idx_in])/reject.shape[0] \n",
    "        power = np.sum(reject[idx_out])/len(idx_out)\n",
    "    else:\n",
    "        fdp = 0\n",
    "        power = 0\n",
    "    return fdp, power\n",
    "\n",
    "def evaluate_predictions(S, y):\n",
    "    coverage = np.mean([y[i] in S[i] for i in range(len(y))])\n",
    "    length = np.mean([len(S[i]) for i in range(len(y))])\n",
    "    idx_cover = np.where([y[i] in S[i] for i in range(len(y))])[0]\n",
    "    length_cover = np.mean([len(S[i]) for i in idx_cover])\n",
    "    return coverage, length, length_cover\n",
    "\n",
    "def evaluate_marginal(S, y):\n",
    "    coverage, length, length_cover = evaluate_predictions(S, y)\n",
    "    print('Marginal coverage:       {:2.3%}'.format(coverage))\n",
    "    print('Average size:            {:2.3f}'.format(length))\n",
    "    print('Average size | coverage: {:2.3f}'.format(length_cover))\n",
    "\n",
    "def evaluate_conditional(S, y):\n",
    "    n_class = len(np.unique(y))\n",
    "    for i in range(n_class):\n",
    "        label = i\n",
    "        idx = np.where(y==label)[0]\n",
    "        coverage, length, length_cover = evaluate_predictions(np.array(S, dtype=object)[idx], np.array(y)[idx])\n",
    "        print('Conditional coverage for label {}:       {:2.3%}'.format(classes[label], coverage))\n",
    "        print('Average size:            {:2.3f}'.format(length))\n",
    "        print('Average size | coverage: {:2.3f}'.format(length_cover))"
   ]
  },
  {
   "cell_type": "code",
   "execution_count": 3,
   "id": "1b8f3598",
   "metadata": {},
   "outputs": [],
   "source": [
    "import torch as th\n",
    "from tqdm import tqdm\n",
    "import torchvision\n",
    "import sys, os\n",
    "from torchvision import transforms\n",
    "from torchvision import datasets\n",
    "\n",
    "sys.path.append('../ConformalizedES')\n",
    "sys.path.append('../third_party')\n",
    "os.environ[\"KMP_DUPLICATE_LIB_OK\"]=\"TRUE\""
   ]
  },
  {
   "cell_type": "markdown",
   "id": "9b0b1132",
   "metadata": {},
   "source": [
    "# Experiment 1: CES for anomaly detection"
   ]
  },
  {
   "cell_type": "markdown",
   "id": "dcef027e",
   "metadata": {},
   "source": [
    "### Load MNIST dataset"
   ]
  },
  {
   "cell_type": "code",
   "execution_count": 4,
   "id": "ba0c50ff",
   "metadata": {},
   "outputs": [],
   "source": [
    "# Download the MNIST Dataset\n",
    "transform = transforms.Compose(\n",
    "    [transforms.ToTensor(),\n",
    "     transforms.Normalize(mean=0.5, std=0.5)])\n",
    "\n",
    "train_set_full = datasets.MNIST(root = \"./data\", train = True, download = True, transform=transform)\n",
    "test_set_full = datasets.MNIST(root = \"./data\", train = False, download = True, transform=transform)"
   ]
  },
  {
   "cell_type": "code",
   "execution_count": 5,
   "id": "5fd1674f",
   "metadata": {},
   "outputs": [
    {
     "name": "stdout",
     "output_type": "stream",
     "text": [
      "total number of available training data is: 5923.\n",
      "total number of test data is 1954 in which 980 are label 0 test data, 974 are label 8 test data.\n"
     ]
    }
   ],
   "source": [
    "from datasetMaker import get_class_i, DatasetMaker\n",
    "\n",
    "x_train_full = train_set_full.data\n",
    "y_train_full = train_set_full.targets\n",
    "x_test_full = test_set_full.data\n",
    "y_test_full = test_set_full.targets\n",
    "\n",
    "# Train set composed only of number 0\n",
    "train_set = \\\n",
    "    DatasetMaker(\n",
    "        [get_class_i(x_train_full, y_train_full, 0)]\n",
    "    )\n",
    "\n",
    "# Test set is a mixture of number 0 and 8\n",
    "test_set = \\\n",
    "    DatasetMaker(\n",
    "        [get_class_i(x_test_full, y_test_full, 0),\n",
    "        get_class_i(x_test_full, y_test_full, 8),\n",
    "]\n",
    "    )\n",
    "\n",
    "print('total number of available training data is: {:d}.'.format(len(train_set)))\n",
    "print('total number of test data is {:d} in which {:d} are label 0 test data, {:d} are label 8 test data.'\\\n",
    "      .format(len(test_set), test_set.lengths[0],test_set.lengths[1]))"
   ]
  },
  {
   "cell_type": "code",
   "execution_count": 6,
   "id": "4d79ef3f",
   "metadata": {},
   "outputs": [
    {
     "data": {
      "image/png": "[encoded data removed]",
      "text/plain": [
       "<Figure size 432x288 with 1 Axes>"
      ]
     },
     "metadata": {
      "needs_background": "light"
     },
     "output_type": "display_data"
    }
   ],
   "source": [
    "# Plot some sample test data\n",
    "example_loader = th.utils.data.DataLoader(test_set, shuffle=True, batch_size=4, num_workers=0)\n",
    "dataiter = iter(example_loader)\n",
    "images, labels = next(dataiter)\n",
    "\n",
    "imshow(torchvision.utils.make_grid(images), norm=False)"
   ]
  },
  {
   "cell_type": "markdown",
   "id": "a86fabe3",
   "metadata": {},
   "source": [
    "### Benchmark data-splitting vs CES data-splitting"
   ]
  },
  {
   "cell_type": "code",
   "execution_count": 7,
   "id": "928a84d2",
   "metadata": {},
   "outputs": [],
   "source": [
    "from torch.utils.data.sampler import SubsetRandomSampler\n",
    "num_workers = 0\n",
    "\n",
    "seed = 0\n",
    "np.random.seed(seed)\n",
    "th.manual_seed(seed)\n",
    "\n",
    "# MNIST is a simple dataset, hence we only take 300 inlier data to demonstrate\n",
    "# Benchmark data splitting: equally split the data into 3 sets\n",
    "n_full = len(train_set)\n",
    "n_data = 300\n",
    "n_train_bm = 100\n",
    "n_val_bm = 100\n",
    "n_cal_bm = 100\n",
    "\n",
    "train_set_bm, val_set_bm, cal_set_bm, _ = th.utils.data.random_split(train_set,\\\n",
    "                                 [n_train_bm, n_val_bm, n_cal_bm, n_full-n_data])\n",
    "\n",
    "# CES data splitting: calibration set is not needed, merge back to the training set\n",
    "n_train_ces = 200\n",
    "n_val_ces = 100\n",
    "\n",
    "train_set_ces, val_set_ces, _ = th.utils.data.random_split(train_set,\\\n",
    "                                 [n_train_ces, n_val_ces, n_full-n_data])\n"
   ]
  },
  {
   "cell_type": "code",
   "execution_count": 8,
   "id": "8c4397fb",
   "metadata": {},
   "outputs": [],
   "source": [
    "# Create data loader objects\n",
    "# For benchmarks\n",
    "batch_size = 10\n",
    "num_workers = 0\n",
    "\n",
    "train_loader_bm = th.utils.data.DataLoader(train_set_bm, batch_size=batch_size,\n",
    "                                          num_workers=num_workers)\n",
    "\n",
    "val_loader_bm = th.utils.data.DataLoader(val_set_bm, batch_size=n_val_bm,\n",
    "                                          num_workers=num_workers)\n",
    "\n",
    "cal_loader_bm = th.utils.data.DataLoader(cal_set_bm, batch_size=n_cal_bm,\n",
    "                                          num_workers=num_workers)\n",
    "\n",
    "# For CES\n",
    "train_loader_ces = th.utils.data.DataLoader(train_set_ces, batch_size=batch_size,\n",
    "                                          num_workers=num_workers)\n",
    "\n",
    "val_loader_ces = th.utils.data.DataLoader(val_set_ces, batch_size=n_val_ces,\n",
    "                                          num_workers=num_workers)"
   ]
  },
  {
   "cell_type": "code",
   "execution_count": 9,
   "id": "8a44a97b",
   "metadata": {},
   "outputs": [],
   "source": [
    "# Test loader\n",
    "\n",
    "seed = 2022\n",
    "np.random.seed(seed)\n",
    "th.manual_seed(seed)\n",
    "\n",
    "n_test_samples = 1800\n",
    "test_sampler = SubsetRandomSampler(np.arange(n_test_samples, dtype=np.int64))\n",
    "test_loader = th.utils.data.DataLoader(test_set, batch_size=n_test_samples, sampler=test_sampler,\n",
    "                                         num_workers=num_workers)\n",
    "\n",
    "# get all test images\n",
    "dataiter = iter(test_loader)\n",
    "inputs, labels = dataiter.next()"
   ]
  },
  {
   "cell_type": "markdown",
   "id": "891b3078",
   "metadata": {},
   "source": [
    "### Define Autoencoder"
   ]
  },
  {
   "cell_type": "code",
   "execution_count": 10,
   "id": "07df66bc",
   "metadata": {},
   "outputs": [],
   "source": [
    "from method import CES_oneClass\n",
    "from networks import ConvAutoencoder\n",
    "import torch.optim as optim\n",
    "\n",
    "# Define the model parameters\n",
    "\n",
    "lr = 0.01\n",
    "n_epoch = 10\n",
    "\n",
    "# Create loss and optimizer\n",
    "# CES_oneClass object will assume criterion takes three parameters: output, input and target, \n",
    "# create wrapper function to modify the criterion.\n",
    "net_bm = ConvAutoencoder()\n",
    "Loss = th.nn.MSELoss()\n",
    "def criterion(outputs, inputs, targets):\n",
    "    return Loss(outputs, inputs)\n",
    "optimizer_bm = optim.Adam(net_bm.parameters(), lr=lr)"
   ]
  },
  {
   "cell_type": "code",
   "execution_count": 11,
   "id": "52421200",
   "metadata": {},
   "outputs": [],
   "source": [
    "seed = 0\n",
    "np.random.seed(seed)\n",
    "th.manual_seed(seed)\n",
    "\n",
    "if th.cuda.is_available():\n",
    "    # Make CuDNN Determinist\n",
    "    th.backends.cudnn.deterministic = True\n",
    "    th.cuda.manual_seed(seed)\n",
    "\n",
    "# Define default device, we should use the GPU (cuda) if available\n",
    "device = th.device(\"cuda\" if th.cuda.is_available() else \"cpu\")### Define subset of the dataset (so it is faster to train)"
   ]
  },
  {
   "cell_type": "markdown",
   "id": "cb336f0e",
   "metadata": {},
   "source": [
    "### Train benchmark models and compute conformal p-values"
   ]
  },
  {
   "cell_type": "code",
   "execution_count": 12,
   "id": "13d7f197",
   "metadata": {},
   "outputs": [
    {
     "name": "stdout",
     "output_type": "stream",
     "text": [
      "===== HYPERPARAMETERS =====\n",
      "batch_size= 10\n",
      "n_epochs= 10\n",
      "learning_rate= 0.01\n",
      "==============================\n"
     ]
    }
   ],
   "source": [
    "seed = 0\n",
    "np.random.seed(seed)\n",
    "th.manual_seed(seed)\n",
    "\n",
    "# Initialize the CES class with model parameters\n",
    "CES_oc_bm = CES_oneClass(net_bm, device, train_loader_bm, batch_size=batch_size, max_epoch=n_epoch, \n",
    "                        learning_rate=lr, val_loader=val_loader_bm, criterion=criterion,optimizer=optimizer_bm)"
   ]
  },
  {
   "cell_type": "code",
   "execution_count": 13,
   "id": "e7eda8d6",
   "metadata": {},
   "outputs": [
    {
     "name": "stdout",
     "output_type": "stream",
     "text": [
      "Epoch 1 of 10, 10% \t train_loss: 0.30  took: 0.06s\n",
      "Epoch 1 of 10, 20% \t train_loss: 0.29  took: 0.05s\n",
      "Epoch 1 of 10, 30% \t train_loss: 0.29  took: 0.07s\n",
      "Epoch 1 of 10, 40% \t train_loss: 0.28  took: 0.10s\n",
      "Epoch 1 of 10, 50% \t train_loss: 0.26  took: 0.11s\n",
      "Epoch 1 of 10, 60% \t train_loss: 0.25  took: 0.10s\n",
      "Epoch 1 of 10, 70% \t train_loss: 0.23  took: 0.09s\n",
      "Epoch 1 of 10, 80% \t train_loss: 0.21  took: 0.01s\n",
      "Epoch 1 of 10, 90% \t train_loss: 0.20  took: 0.02s\n",
      "Epoch 1 of 10, 100% \t train_loss: 0.19  took: 0.02s\n",
      "val_loss = 0.19\n",
      "Snapshot saved at epoch 1.\n",
      "Epoch 2 of 10, 10% \t train_loss: 0.19  took: 0.05s\n",
      "Epoch 2 of 10, 20% \t train_loss: 0.18  took: 0.04s\n",
      "Epoch 2 of 10, 30% \t train_loss: 0.15  took: 0.03s\n",
      "Epoch 2 of 10, 40% \t train_loss: 0.16  took: 0.02s\n",
      "Epoch 2 of 10, 50% \t train_loss: 0.15  took: 0.00s\n",
      "Epoch 2 of 10, 60% \t train_loss: 0.16  took: 0.01s\n",
      "Epoch 2 of 10, 70% \t train_loss: 0.15  took: 0.00s\n",
      "Epoch 2 of 10, 80% \t train_loss: 0.14  took: 0.01s\n",
      "Epoch 2 of 10, 90% \t train_loss: 0.15  took: 0.00s\n",
      "Epoch 2 of 10, 100% \t train_loss: 0.14  took: 0.00s\n",
      "val_loss = 0.15\n",
      "Snapshot saved at epoch 2.\n",
      "Epoch 3 of 10, 10% \t train_loss: 0.15  took: 0.02s\n",
      "Epoch 3 of 10, 20% \t train_loss: 0.16  took: 0.01s\n",
      "Epoch 3 of 10, 30% \t train_loss: 0.13  took: 0.01s\n",
      "Epoch 3 of 10, 40% \t train_loss: 0.14  took: 0.02s\n",
      "Epoch 3 of 10, 50% \t train_loss: 0.14  took: 0.03s\n",
      "Epoch 3 of 10, 60% \t train_loss: 0.15  took: 0.01s\n",
      "Epoch 3 of 10, 70% \t train_loss: 0.14  took: 0.01s\n",
      "Epoch 3 of 10, 80% \t train_loss: 0.13  took: 0.02s\n",
      "Epoch 3 of 10, 90% \t train_loss: 0.14  took: 0.02s\n",
      "Epoch 3 of 10, 100% \t train_loss: 0.14  took: 0.00s\n",
      "val_loss = 0.14\n",
      "Snapshot saved at epoch 3.\n",
      "Epoch 4 of 10, 10% \t train_loss: 0.14  took: 0.05s\n",
      "Epoch 4 of 10, 20% \t train_loss: 0.14  took: 0.02s\n",
      "Epoch 4 of 10, 30% \t train_loss: 0.12  took: 0.02s\n",
      "Epoch 4 of 10, 40% \t train_loss: 0.13  took: 0.01s\n",
      "Epoch 4 of 10, 50% \t train_loss: 0.12  took: 0.00s\n",
      "Epoch 4 of 10, 60% \t train_loss: 0.13  took: 0.01s\n",
      "Epoch 4 of 10, 70% \t train_loss: 0.12  took: 0.01s\n",
      "Epoch 4 of 10, 80% \t train_loss: 0.11  took: 0.01s\n",
      "Epoch 4 of 10, 90% \t train_loss: 0.11  took: 0.01s\n",
      "Epoch 4 of 10, 100% \t train_loss: 0.10  took: 0.01s\n",
      "val_loss = 0.11\n",
      "Snapshot saved at epoch 4.\n",
      "Epoch 5 of 10, 10% \t train_loss: 0.10  took: 0.01s\n",
      "Epoch 5 of 10, 20% \t train_loss: 0.11  took: 0.01s\n",
      "Epoch 5 of 10, 30% \t train_loss: 0.09  took: 0.00s\n",
      "Epoch 5 of 10, 40% \t train_loss: 0.09  took: 0.05s\n",
      "Epoch 5 of 10, 50% \t train_loss: 0.09  took: 0.05s\n",
      "Epoch 5 of 10, 60% \t train_loss: 0.09  took: 0.02s\n",
      "Epoch 5 of 10, 70% \t train_loss: 0.09  took: 0.01s\n",
      "Epoch 5 of 10, 80% \t train_loss: 0.08  took: 0.01s\n",
      "Epoch 5 of 10, 90% \t train_loss: 0.08  took: 0.01s\n",
      "Epoch 5 of 10, 100% \t train_loss: 0.07  took: 0.00s\n",
      "val_loss = 0.07\n",
      "Snapshot saved at epoch 5.\n",
      "Epoch 6 of 10, 10% \t train_loss: 0.07  took: 0.01s\n",
      "Epoch 6 of 10, 20% \t train_loss: 0.08  took: 0.02s\n",
      "Epoch 6 of 10, 30% \t train_loss: 0.07  took: 0.07s\n",
      "Epoch 6 of 10, 40% \t train_loss: 0.07  took: 0.05s\n",
      "Epoch 6 of 10, 50% \t train_loss: 0.07  took: 0.02s\n",
      "Epoch 6 of 10, 60% \t train_loss: 0.07  took: 0.02s\n",
      "Epoch 6 of 10, 70% \t train_loss: 0.07  took: 0.01s\n",
      "Epoch 6 of 10, 80% \t train_loss: 0.07  took: 0.01s\n",
      "Epoch 6 of 10, 90% \t train_loss: 0.06  took: 0.01s\n",
      "Epoch 6 of 10, 100% \t train_loss: 0.06  took: 0.01s\n",
      "val_loss = 0.07\n",
      "Snapshot saved at epoch 6.\n",
      "Epoch 7 of 10, 10% \t train_loss: 0.07  took: 0.00s\n",
      "Epoch 7 of 10, 20% \t train_loss: 0.07  took: 0.02s\n",
      "Epoch 7 of 10, 30% \t train_loss: 0.06  took: 0.01s\n",
      "Epoch 7 of 10, 40% \t train_loss: 0.06  took: 0.03s\n",
      "Epoch 7 of 10, 50% \t train_loss: 0.06  took: 0.03s\n",
      "Epoch 7 of 10, 60% \t train_loss: 0.07  took: 0.02s\n",
      "Epoch 7 of 10, 70% \t train_loss: 0.06  took: 0.01s\n",
      "Epoch 7 of 10, 80% \t train_loss: 0.06  took: 0.03s\n",
      "Epoch 7 of 10, 90% \t train_loss: 0.06  took: 0.01s\n",
      "Epoch 7 of 10, 100% \t train_loss: 0.06  took: 0.02s\n",
      "val_loss = 0.06\n",
      "Snapshot saved at epoch 7.\n",
      "Epoch 8 of 10, 10% \t train_loss: 0.06  took: 0.01s\n",
      "Epoch 8 of 10, 20% \t train_loss: 0.07  took: 0.01s\n",
      "Epoch 8 of 10, 30% \t train_loss: 0.06  took: 0.01s\n",
      "Epoch 8 of 10, 40% \t train_loss: 0.06  took: 0.00s\n",
      "Epoch 8 of 10, 50% \t train_loss: 0.06  took: 0.00s\n",
      "Epoch 8 of 10, 60% \t train_loss: 0.06  took: 0.01s\n",
      "Epoch 8 of 10, 70% \t train_loss: 0.06  took: 0.01s\n",
      "Epoch 8 of 10, 80% \t train_loss: 0.06  took: 0.01s\n",
      "Epoch 8 of 10, 90% \t train_loss: 0.06  took: 0.00s\n",
      "Epoch 8 of 10, 100% \t train_loss: 0.06  took: 0.03s\n",
      "val_loss = 0.06\n",
      "Snapshot saved at epoch 8.\n",
      "Epoch 9 of 10, 10% \t train_loss: 0.06  took: 0.02s\n",
      "Epoch 9 of 10, 20% \t train_loss: 0.06  took: 0.02s\n",
      "Epoch 9 of 10, 30% \t train_loss: 0.06  took: 0.04s\n",
      "Epoch 9 of 10, 40% \t train_loss: 0.06  took: 0.06s\n",
      "Epoch 9 of 10, 50% \t train_loss: 0.06  took: 0.02s\n",
      "Epoch 9 of 10, 60% \t train_loss: 0.06  took: 0.01s\n",
      "Epoch 9 of 10, 70% \t train_loss: 0.06  took: 0.01s\n",
      "Epoch 9 of 10, 80% \t train_loss: 0.06  took: 0.01s\n",
      "Epoch 9 of 10, 90% \t train_loss: 0.06  took: 0.00s\n",
      "Epoch 9 of 10, 100% \t train_loss: 0.05  took: 0.01s\n",
      "val_loss = 0.06\n",
      "Snapshot saved at epoch 9.\n",
      "Epoch 10 of 10, 10% \t train_loss: 0.06  took: 0.01s\n",
      "Epoch 10 of 10, 20% \t train_loss: 0.06  took: 0.01s\n",
      "Epoch 10 of 10, 30% \t train_loss: 0.06  took: 0.01s\n",
      "Epoch 10 of 10, 40% \t train_loss: 0.06  took: 0.01s\n",
      "Epoch 10 of 10, 50% \t train_loss: 0.06  took: 0.00s\n",
      "Epoch 10 of 10, 60% \t train_loss: 0.06  took: 0.01s\n",
      "Epoch 10 of 10, 70% \t train_loss: 0.06  took: 0.02s\n",
      "Epoch 10 of 10, 80% \t train_loss: 0.06  took: 0.04s\n",
      "Epoch 10 of 10, 90% \t train_loss: 0.05  took: 0.03s\n",
      "Epoch 10 of 10, 100% \t train_loss: 0.05  took: 0.02s\n",
      "val_loss = 0.06\n",
      "Snapshot saved at epoch 10.\n",
      "Training done! A list of 10 models saved.\n"
     ]
    }
   ],
   "source": [
    "# Train the model and save snapshots regularly\n",
    "save_every = 1    # Save model after every few epoches\n",
    "CES_oc_bm.full_train(save_dir = './models/oneClass/benchmarks', save_every = save_every)"
   ]
  },
  {
   "cell_type": "code",
   "execution_count": 14,
   "id": "6a1ce9e0",
   "metadata": {
    "scrolled": true
   },
   "outputs": [
    {
     "name": "stderr",
     "output_type": "stream",
     "text": [
      "100%|████████████████████████████████████████████████████████████████████████████| 1800/1800 [00:00<00:00, 2214.24it/s]\n",
      "100%|████████████████████████████████████████████████████████████████████████████| 1800/1800 [00:00<00:00, 2251.85it/s]\n",
      "100%|████████████████████████████████████████████████████████████████████████████| 1800/1800 [00:00<00:00, 2304.17it/s]\n",
      "100%|████████████████████████████████████████████████████████████████████████████| 1800/1800 [00:00<00:00, 2250.81it/s]\n",
      "100%|████████████████████████████████████████████████████████████████████████████| 1800/1800 [00:00<00:00, 2180.13it/s]\n",
      "100%|████████████████████████████████████████████████████████████████████████████| 1800/1800 [00:00<00:00, 2321.78it/s]\n",
      "100%|████████████████████████████████████████████████████████████████████████████| 1800/1800 [00:00<00:00, 2246.23it/s]\n",
      "100%|████████████████████████████████████████████████████████████████████████████| 1800/1800 [00:00<00:00, 2264.54it/s]\n",
      "100%|████████████████████████████████████████████████████████████████████████████| 1800/1800 [00:00<00:00, 2240.36it/s]\n",
      "100%|████████████████████████████████████████████████████████████████████████████| 1800/1800 [00:00<00:00, 2303.12it/s]"
     ]
    },
    {
     "name": "stdout",
     "output_type": "stream",
     "text": [
      "selecting models takes: 8.100912809371948\n"
     ]
    },
    {
     "name": "stderr",
     "output_type": "stream",
     "text": [
      "\n"
     ]
    }
   ],
   "source": [
    "import time\n",
    "\n",
    "# Pick the best model for each test point\n",
    "start = time.time()\n",
    "best_loss_bm, best_model_bm, test_val_loss_history_bm = CES_oc_bm.select_model(inputs)\n",
    "print('selecting models takes:', time.time()-start)"
   ]
  },
  {
   "cell_type": "code",
   "execution_count": 15,
   "id": "91e0f141",
   "metadata": {
    "scrolled": true
   },
   "outputs": [
    {
     "name": "stdout",
     "output_type": "stream",
     "text": [
      "Calibrating each model in the list...\n"
     ]
    },
    {
     "name": "stderr",
     "output_type": "stream",
     "text": [
      "100%|██████████████████████████████████████████████████████████████████████████████████| 10/10 [00:00<00:00, 50.57it/s]"
     ]
    },
    {
     "name": "stdout",
     "output_type": "stream",
     "text": [
      "Initialization done!\n",
      "Calibration (one time effort) takes:0.20s.\n"
     ]
    },
    {
     "name": "stderr",
     "output_type": "stream",
     "text": [
      "\n"
     ]
    }
   ],
   "source": [
    "from inference import Conformal_PVals\n",
    "\n",
    "model_list_bm = CES_oc_bm.model_list\n",
    "\n",
    "# Compute conformity scores of calibration sets for each model\n",
    "# this initialization will be a one-time effort.\n",
    "cal_time = time.time()\n",
    "C_PVals_bm = Conformal_PVals(net_bm, device, cal_loader_bm, model_list_bm, random_state = 0)\n",
    "print('Calibration (one time effort) takes:{:.2f}s.'.format(time.time()-cal_time))"
   ]
  },
  {
   "cell_type": "code",
   "execution_count": 16,
   "id": "511a34d5",
   "metadata": {
    "scrolled": true
   },
   "outputs": [
    {
     "name": "stderr",
     "output_type": "stream",
     "text": [
      "100%|█████████████████████████████████████████████████████████████████████████████| 1800/1800 [00:02<00:00, 899.45it/s]"
     ]
    },
    {
     "name": "stdout",
     "output_type": "stream",
     "text": [
      "Finished computing p-values for 1800 test points.\n"
     ]
    },
    {
     "name": "stderr",
     "output_type": "stream",
     "text": [
      "\n"
     ]
    }
   ],
   "source": [
    "pvals_bm = C_PVals_bm.compute_pvals(inputs, best_model_bm)"
   ]
  },
  {
   "cell_type": "code",
   "execution_count": 17,
   "id": "4bad91ba",
   "metadata": {
    "scrolled": true
   },
   "outputs": [
    {
     "name": "stdout",
     "output_type": "stream",
     "text": [
      "Average p-value for inliers is 0.514599, average p-value for outliers is 0.610951.\n"
     ]
    },
    {
     "data": {
      "image/png": "[encoded data removed]",
      "text/plain": [
       "<Figure size 576x432 with 1 Axes>"
      ]
     },
     "metadata": {
      "needs_background": "light"
     },
     "output_type": "display_data"
    }
   ],
   "source": [
    "plot_pvals(pvals_bm, labels)"
   ]
  },
  {
   "cell_type": "code",
   "execution_count": 19,
   "id": "f6386130",
   "metadata": {},
   "outputs": [
    {
     "name": "stdout",
     "output_type": "stream",
     "text": [
      "Apply BH procedure yields FDP 0.000000, power 0.000000.\n"
     ]
    }
   ],
   "source": [
    "fdp, power = evaluate_bh(pvals_bm, labels, alpha=0.1)\n",
    "print('Apply BH procedure yields FDP {:3f}, power {:3f}.'.format(fdp,power))"
   ]
  },
  {
   "cell_type": "markdown",
   "id": "c08a3261",
   "metadata": {},
   "source": [
    "### Train the CES models"
   ]
  },
  {
   "cell_type": "code",
   "execution_count": 20,
   "id": "da43918a",
   "metadata": {},
   "outputs": [
    {
     "name": "stdout",
     "output_type": "stream",
     "text": [
      "===== HYPERPARAMETERS =====\n",
      "batch_size= 10\n",
      "n_epochs= 10\n",
      "learning_rate= 0.01\n",
      "==============================\n"
     ]
    }
   ],
   "source": [
    "seed = 0\n",
    "np.random.seed(seed)\n",
    "th.manual_seed(seed)\n",
    "\n",
    "net_ces = ConvAutoencoder()\n",
    "Loss = th.nn.MSELoss()\n",
    "def criterion(outputs, inputs, targets):\n",
    "    return Loss(outputs, inputs)\n",
    "optimizer_ces = optim.Adam(net_ces.parameters(), lr=lr)\n",
    "\n",
    "\n",
    "# Initialize the CES class with model parameters\n",
    "CES_oc_ces = CES_oneClass(net_ces, device, train_loader_ces, batch_size=batch_size, max_epoch=n_epoch, \n",
    "                        learning_rate=lr, val_loader=val_loader_ces, criterion=criterion,optimizer=optimizer_ces)"
   ]
  },
  {
   "cell_type": "code",
   "execution_count": 21,
   "id": "d778b226",
   "metadata": {},
   "outputs": [
    {
     "name": "stdout",
     "output_type": "stream",
     "text": [
      "Epoch 1 of 10, 10% \t train_loss: 0.17  took: 0.21s\n",
      "Epoch 1 of 10, 20% \t train_loss: 0.16  took: 0.22s\n",
      "Epoch 1 of 10, 30% \t train_loss: 0.16  took: 0.17s\n",
      "Epoch 1 of 10, 40% \t train_loss: 0.15  took: 0.19s\n",
      "Epoch 1 of 10, 50% \t train_loss: 0.14  took: 0.03s\n",
      "Epoch 1 of 10, 60% \t train_loss: 0.13  took: 0.02s\n",
      "Epoch 1 of 10, 70% \t train_loss: 0.11  took: 0.02s\n",
      "Epoch 1 of 10, 80% \t train_loss: 0.09  took: 0.02s\n",
      "Epoch 1 of 10, 90% \t train_loss: 0.08  took: 0.02s\n",
      "Epoch 1 of 10, 100% \t train_loss: 0.06  took: 0.02s\n",
      "val_loss = 0.05\n",
      "Snapshot saved at epoch 1.\n",
      "Epoch 2 of 10, 10% \t train_loss: 0.06  took: 0.02s\n",
      "Epoch 2 of 10, 20% \t train_loss: 0.05  took: 0.02s\n",
      "Epoch 2 of 10, 30% \t train_loss: 0.04  took: 0.02s\n",
      "Epoch 2 of 10, 40% \t train_loss: 0.04  took: 0.02s\n",
      "Epoch 2 of 10, 50% \t train_loss: 0.04  took: 0.01s\n",
      "Epoch 2 of 10, 60% \t train_loss: 0.04  took: 0.02s\n",
      "Epoch 2 of 10, 70% \t train_loss: 0.04  took: 0.04s\n",
      "Epoch 2 of 10, 80% \t train_loss: 0.03  took: 0.03s\n",
      "Epoch 2 of 10, 90% \t train_loss: 0.03  took: 0.05s\n",
      "Epoch 2 of 10, 100% \t train_loss: 0.03  took: 0.05s\n",
      "val_loss = 0.03\n",
      "Snapshot saved at epoch 2.\n",
      "Epoch 3 of 10, 10% \t train_loss: 0.03  took: 0.02s\n",
      "Epoch 3 of 10, 20% \t train_loss: 0.02  took: 0.02s\n",
      "Epoch 3 of 10, 30% \t train_loss: 0.02  took: 0.05s\n",
      "Epoch 3 of 10, 40% \t train_loss: 0.02  took: 0.03s\n",
      "Epoch 3 of 10, 50% \t train_loss: 0.02  took: 0.03s\n",
      "Epoch 3 of 10, 60% \t train_loss: 0.02  took: 0.00s\n",
      "Epoch 3 of 10, 70% \t train_loss: 0.02  took: 0.02s\n",
      "Epoch 3 of 10, 80% \t train_loss: 0.02  took: 0.03s\n",
      "Epoch 3 of 10, 90% \t train_loss: 0.02  took: 0.02s\n",
      "Epoch 3 of 10, 100% \t train_loss: 0.02  took: 0.01s\n",
      "val_loss = 0.02\n",
      "Snapshot saved at epoch 3.\n",
      "Epoch 4 of 10, 10% \t train_loss: 0.02  took: 0.02s\n",
      "Epoch 4 of 10, 20% \t train_loss: 0.02  took: 0.09s\n",
      "Epoch 4 of 10, 30% \t train_loss: 0.02  took: 0.06s\n",
      "Epoch 4 of 10, 40% \t train_loss: 0.02  took: 0.02s\n",
      "Epoch 4 of 10, 50% \t train_loss: 0.02  took: 0.02s\n",
      "Epoch 4 of 10, 60% \t train_loss: 0.02  took: 0.02s\n",
      "Epoch 4 of 10, 70% \t train_loss: 0.02  took: 0.00s\n",
      "Epoch 4 of 10, 80% \t train_loss: 0.02  took: 0.02s\n",
      "Epoch 4 of 10, 90% \t train_loss: 0.02  took: 0.06s\n",
      "Epoch 4 of 10, 100% \t train_loss: 0.02  took: 0.02s\n",
      "val_loss = 0.02\n",
      "Snapshot saved at epoch 4.\n",
      "Epoch 5 of 10, 10% \t train_loss: 0.02  took: 0.03s\n",
      "Epoch 5 of 10, 20% \t train_loss: 0.02  took: 0.02s\n",
      "Epoch 5 of 10, 30% \t train_loss: 0.02  took: 0.01s\n",
      "Epoch 5 of 10, 40% \t train_loss: 0.02  took: 0.04s\n",
      "Epoch 5 of 10, 50% \t train_loss: 0.02  took: 0.03s\n",
      "Epoch 5 of 10, 60% \t train_loss: 0.02  took: 0.05s\n",
      "Epoch 5 of 10, 70% \t train_loss: 0.02  took: 0.05s\n",
      "Epoch 5 of 10, 80% \t train_loss: 0.02  took: 0.03s\n",
      "Epoch 5 of 10, 90% \t train_loss: 0.02  took: 0.01s\n",
      "Epoch 5 of 10, 100% \t train_loss: 0.02  took: 0.02s\n",
      "val_loss = 0.02\n",
      "Snapshot saved at epoch 5.\n",
      "Epoch 6 of 10, 10% \t train_loss: 0.02  took: 0.07s\n",
      "Epoch 6 of 10, 20% \t train_loss: 0.02  took: 0.06s\n",
      "Epoch 6 of 10, 30% \t train_loss: 0.02  took: 0.02s\n",
      "Epoch 6 of 10, 40% \t train_loss: 0.02  took: 0.03s\n",
      "Epoch 6 of 10, 50% \t train_loss: 0.02  took: 0.02s\n",
      "Epoch 6 of 10, 60% \t train_loss: 0.02  took: 0.02s\n",
      "Epoch 6 of 10, 70% \t train_loss: 0.02  took: 0.01s\n",
      "Epoch 6 of 10, 80% \t train_loss: 0.02  took: 0.03s\n",
      "Epoch 6 of 10, 90% \t train_loss: 0.02  took: 0.02s\n",
      "Epoch 6 of 10, 100% \t train_loss: 0.02  took: 0.01s\n",
      "val_loss = 0.02\n",
      "Snapshot saved at epoch 6.\n",
      "Epoch 7 of 10, 10% \t train_loss: 0.02  took: 0.06s\n",
      "Epoch 7 of 10, 20% \t train_loss: 0.01  took: 0.04s\n",
      "Epoch 7 of 10, 30% \t train_loss: 0.01  took: 0.01s\n",
      "Epoch 7 of 10, 40% \t train_loss: 0.01  took: 0.01s\n",
      "Epoch 7 of 10, 50% \t train_loss: 0.02  took: 0.03s\n",
      "Epoch 7 of 10, 60% \t train_loss: 0.01  took: 0.02s\n",
      "Epoch 7 of 10, 70% \t train_loss: 0.02  took: 0.03s\n",
      "Epoch 7 of 10, 80% \t train_loss: 0.01  took: 0.03s\n",
      "Epoch 7 of 10, 90% \t train_loss: 0.02  took: 0.03s\n",
      "Epoch 7 of 10, 100% \t train_loss: 0.02  took: 0.02s\n",
      "val_loss = 0.02\n",
      "Snapshot saved at epoch 7.\n",
      "Epoch 8 of 10, 10% \t train_loss: 0.01  took: 0.05s\n",
      "Epoch 8 of 10, 20% \t train_loss: 0.01  took: 0.02s\n",
      "Epoch 8 of 10, 30% \t train_loss: 0.01  took: 0.02s\n",
      "Epoch 8 of 10, 40% \t train_loss: 0.01  took: 0.02s\n",
      "Epoch 8 of 10, 50% \t train_loss: 0.02  took: 0.01s\n",
      "Epoch 8 of 10, 60% \t train_loss: 0.01  took: 0.01s\n",
      "Epoch 8 of 10, 70% \t train_loss: 0.02  took: 0.06s\n",
      "Epoch 8 of 10, 80% \t train_loss: 0.01  took: 0.02s\n",
      "Epoch 8 of 10, 90% \t train_loss: 0.02  took: 0.02s\n",
      "Epoch 8 of 10, 100% \t train_loss: 0.02  took: 0.02s\n",
      "val_loss = 0.01\n",
      "Snapshot saved at epoch 8.\n",
      "Epoch 9 of 10, 10% \t train_loss: 0.01  took: 0.07s\n",
      "Epoch 9 of 10, 20% \t train_loss: 0.01  took: 0.02s\n",
      "Epoch 9 of 10, 30% \t train_loss: 0.01  took: 0.02s\n",
      "Epoch 9 of 10, 40% \t train_loss: 0.01  took: 0.02s\n",
      "Epoch 9 of 10, 50% \t train_loss: 0.02  took: 0.05s\n",
      "Epoch 9 of 10, 60% \t train_loss: 0.01  took: 0.02s\n",
      "Epoch 9 of 10, 70% \t train_loss: 0.02  took: 0.03s\n",
      "Epoch 9 of 10, 80% \t train_loss: 0.01  took: 0.02s\n",
      "Epoch 9 of 10, 90% \t train_loss: 0.02  took: 0.06s\n",
      "Epoch 9 of 10, 100% \t train_loss: 0.02  took: 0.06s\n",
      "val_loss = 0.01\n",
      "Snapshot saved at epoch 9.\n",
      "Epoch 10 of 10, 10% \t train_loss: 0.01  took: 0.02s\n",
      "Epoch 10 of 10, 20% \t train_loss: 0.01  took: 0.02s\n",
      "Epoch 10 of 10, 30% \t train_loss: 0.01  took: 0.02s\n",
      "Epoch 10 of 10, 40% \t train_loss: 0.01  took: 0.01s\n",
      "Epoch 10 of 10, 50% \t train_loss: 0.02  took: 0.05s\n",
      "Epoch 10 of 10, 60% \t train_loss: 0.01  took: 0.01s\n",
      "Epoch 10 of 10, 70% \t train_loss: 0.02  took: 0.03s\n",
      "Epoch 10 of 10, 80% \t train_loss: 0.01  took: 0.01s\n",
      "Epoch 10 of 10, 90% \t train_loss: 0.01  took: 0.02s\n",
      "Epoch 10 of 10, 100% \t train_loss: 0.02  took: 0.03s\n",
      "val_loss = 0.01\n",
      "Snapshot saved at epoch 10.\n",
      "Training done! A list of 10 models saved.\n"
     ]
    }
   ],
   "source": [
    "# Train the model and save snapshots regularly\n",
    "save_every = 1    # Save model after every few epoches\n",
    "CES_oc_ces.full_train(save_dir = './models/oneClass/ces', save_every = save_every)"
   ]
  },
  {
   "cell_type": "code",
   "execution_count": 22,
   "id": "872fcbba",
   "metadata": {},
   "outputs": [
    {
     "name": "stderr",
     "output_type": "stream",
     "text": [
      "100%|████████████████████████████████████████████████████████████████████████████| 1800/1800 [00:00<00:00, 2333.45it/s]\n",
      "100%|████████████████████████████████████████████████████████████████████████████| 1800/1800 [00:00<00:00, 2348.97it/s]\n",
      "100%|████████████████████████████████████████████████████████████████████████████| 1800/1800 [00:00<00:00, 2355.17it/s]\n",
      "100%|████████████████████████████████████████████████████████████████████████████| 1800/1800 [00:00<00:00, 2163.28it/s]\n",
      "100%|████████████████████████████████████████████████████████████████████████████| 1800/1800 [00:00<00:00, 2224.73it/s]\n",
      "100%|████████████████████████████████████████████████████████████████████████████| 1800/1800 [00:00<00:00, 2190.09it/s]\n",
      "100%|████████████████████████████████████████████████████████████████████████████| 1800/1800 [00:00<00:00, 2289.43it/s]\n",
      "100%|████████████████████████████████████████████████████████████████████████████| 1800/1800 [00:00<00:00, 2004.13it/s]\n",
      "100%|████████████████████████████████████████████████████████████████████████████| 1800/1800 [00:00<00:00, 2228.85it/s]\n",
      "100%|████████████████████████████████████████████████████████████████████████████| 1800/1800 [00:00<00:00, 2177.51it/s]"
     ]
    },
    {
     "name": "stdout",
     "output_type": "stream",
     "text": [
      "selecting models takes: 8.19605040550232\n"
     ]
    },
    {
     "name": "stderr",
     "output_type": "stream",
     "text": [
      "\n"
     ]
    }
   ],
   "source": [
    "# Pick the best model for each test point\n",
    "start = time.time()\n",
    "best_loss_ces, best_model_ces, test_val_loss_history_ces = CES_oc_ces.select_model(inputs)\n",
    "print('selecting models takes:', time.time()-start)"
   ]
  },
  {
   "cell_type": "code",
   "execution_count": 23,
   "id": "49408679",
   "metadata": {},
   "outputs": [
    {
     "name": "stdout",
     "output_type": "stream",
     "text": [
      "Calibrating each model in the list...\n"
     ]
    },
    {
     "name": "stderr",
     "output_type": "stream",
     "text": [
      "100%|██████████████████████████████████████████████████████████████████████████████████| 10/10 [00:00<00:00, 48.87it/s]"
     ]
    },
    {
     "name": "stdout",
     "output_type": "stream",
     "text": [
      "Initialization done!\n",
      "Calibration (one time effort) takes:0.22s.\n"
     ]
    },
    {
     "name": "stderr",
     "output_type": "stream",
     "text": [
      "\n"
     ]
    }
   ],
   "source": [
    "model_list_ces = CES_oc_ces.model_list\n",
    "\n",
    "# Compute conformity scores of calibration sets for each model\n",
    "# this initialization will be a one-time effort.\n",
    "cal_time = time.time()\n",
    "C_PVals_ces = Conformal_PVals(net_ces, device, val_loader_ces, model_list_ces, random_state = 0)\n",
    "print('Calibration (one time effort) takes:{:.2f}s.'.format(time.time()-cal_time))"
   ]
  },
  {
   "cell_type": "code",
   "execution_count": 24,
   "id": "e6a46b03",
   "metadata": {},
   "outputs": [
    {
     "name": "stderr",
     "output_type": "stream",
     "text": [
      "100%|█████████████████████████████████████████████████████████████████████████████| 1800/1800 [00:02<00:00, 766.70it/s]"
     ]
    },
    {
     "name": "stdout",
     "output_type": "stream",
     "text": [
      "Finished computing p-values for 1800 test points.\n"
     ]
    },
    {
     "name": "stderr",
     "output_type": "stream",
     "text": [
      "\n"
     ]
    }
   ],
   "source": [
    "pvals_ces = C_PVals_ces.compute_pvals(inputs, best_model_ces)"
   ]
  },
  {
   "cell_type": "code",
   "execution_count": 25,
   "id": "5ac61423",
   "metadata": {},
   "outputs": [
    {
     "name": "stdout",
     "output_type": "stream",
     "text": [
      "Average p-value for inliers is 0.523348, average p-value for outliers is 0.094337.\n"
     ]
    },
    {
     "data": {
      "image/png": "[encoded data removed]",
      "text/plain": [
       "<Figure size 576x432 with 1 Axes>"
      ]
     },
     "metadata": {
      "needs_background": "light"
     },
     "output_type": "display_data"
    }
   ],
   "source": [
    "plot_pvals(pvals_ces, labels)"
   ]
  },
  {
   "cell_type": "code",
   "execution_count": 27,
   "id": "b2059aef",
   "metadata": {},
   "outputs": [
    {
     "name": "stdout",
     "output_type": "stream",
     "text": [
      "Apply BH procedure yields FDP 0.047222, power 0.741463.\n"
     ]
    }
   ],
   "source": [
    "fdp, power = evaluate_bh(pvals_ces, labels, alpha=0.1)\n",
    "print('Apply BH procedure yields FDP {:3f}, power {:3f}.'.format(fdp,power))"
   ]
  },
  {
   "cell_type": "markdown",
   "id": "dce92c3d",
   "metadata": {},
   "source": [
    "# Experiment 2: CES for multi-class classification"
   ]
  },
  {
   "cell_type": "markdown",
   "id": "42bd35b4",
   "metadata": {},
   "source": [
    "### Load CIFAR10 dataset"
   ]
  },
  {
   "cell_type": "code",
   "execution_count": 29,
   "id": "2347282b",
   "metadata": {
    "scrolled": true
   },
   "outputs": [
    {
     "name": "stdout",
     "output_type": "stream",
     "text": [
      "Files already downloaded and verified\n",
      "Files already downloaded and verified\n"
     ]
    }
   ],
   "source": [
    "num_workers = 2\n",
    "\n",
    "transform = transforms.Compose(\n",
    "    [transforms.ToTensor(),\n",
    "     transforms.Normalize(mean=(0.5, 0.5, 0.5), std=(0.5, 0.5, 0.5))])\n",
    "\n",
    "train_set = torchvision.datasets.CIFAR10(root='./data', train=True,\n",
    "                                        download=True, transform=transform)\n",
    "\n",
    "test_set = torchvision.datasets.CIFAR10(root='./data', train=False,\n",
    "                                       download=True, transform=transform)\n",
    "\n",
    "classes = ('plane', 'car', 'bird', 'cat',\n",
    "           'deer', 'dog', 'frog', 'horse', 'ship', 'truck')"
   ]
  },
  {
   "cell_type": "markdown",
   "id": "e6a2e0e3",
   "metadata": {},
   "source": [
    "### Benchmark data-splitting vs CES data-splitting"
   ]
  },
  {
   "cell_type": "code",
   "execution_count": 31,
   "id": "ad14339f",
   "metadata": {},
   "outputs": [],
   "source": [
    "from torch.utils.data.sampler import SubsetRandomSampler\n",
    "num_workers = 0\n",
    "\n",
    "seed = 0\n",
    "np.random.seed(seed)\n",
    "th.manual_seed(seed)\n",
    "\n",
    "# MNIST is a simple dataset, hence we only take 300 inlier data to demonstrate\n",
    "# Benchmark data splitting: equally split the data into 3 sets\n",
    "n_full = len(train_set)\n",
    "n_data = 4000\n",
    "n_train_bm = 2000\n",
    "n_val_bm = 1000\n",
    "n_cal_bm = 1000\n",
    "\n",
    "train_set_bm, val_set_bm, cal_set_bm, _ = th.utils.data.random_split(train_set,\\\n",
    "                                 [n_train_bm, n_val_bm, n_cal_bm, n_full-n_data])\n",
    "\n",
    "# CES data splitting: calibration set is not needed, merge back to the training set\n",
    "n_train_ces = 3000\n",
    "n_val_ces = 1000\n",
    "\n",
    "train_set_ces, val_set_ces, _ = th.utils.data.random_split(train_set,\\\n",
    "                                 [n_train_ces, n_val_ces, n_full-n_data])\n"
   ]
  },
  {
   "cell_type": "code",
   "execution_count": 32,
   "id": "bb1c3663",
   "metadata": {},
   "outputs": [],
   "source": [
    "# Create data loader objects\n",
    "# For benchmarks\n",
    "batch_size = 64\n",
    "num_workers = 4\n",
    "\n",
    "train_loader_bm = th.utils.data.DataLoader(train_set_bm, batch_size=batch_size,\n",
    "                                          num_workers=num_workers)\n",
    "\n",
    "val_loader_bm = th.utils.data.DataLoader(val_set_bm, batch_size=100,\n",
    "                                          num_workers=num_workers)\n",
    "\n",
    "cal_loader_bm = th.utils.data.DataLoader(cal_set_bm, batch_size=100,\n",
    "                                          num_workers=num_workers)\n",
    "\n",
    "# For CES\n",
    "train_loader_ces = th.utils.data.DataLoader(train_set_ces, batch_size=batch_size,\n",
    "                                          num_workers=num_workers)\n",
    "\n",
    "val_loader_ces = th.utils.data.DataLoader(val_set_ces, batch_size=100,\n",
    "                                          num_workers=num_workers)"
   ]
  },
  {
   "cell_type": "code",
   "execution_count": 33,
   "id": "ef207634",
   "metadata": {},
   "outputs": [],
   "source": [
    "# Test loader\n",
    "\n",
    "seed = 0\n",
    "np.random.seed(seed)\n",
    "th.manual_seed(seed)\n",
    "\n",
    "n_test_samples = 2000\n",
    "test_sampler = SubsetRandomSampler(np.arange(n_test_samples, dtype=np.int64))\n",
    "test_loader = th.utils.data.DataLoader(test_set, batch_size=n_test_samples, sampler=test_sampler,\n",
    "                                         num_workers=num_workers)\n",
    "\n",
    "# get all test images\n",
    "dataiter = iter(test_loader)\n",
    "inputs, labels = dataiter.next()"
   ]
  },
  {
   "cell_type": "code",
   "execution_count": 35,
   "id": "e937e5a7",
   "metadata": {},
   "outputs": [
    {
     "name": "stdout",
     "output_type": "stream",
     "text": [
      "      bird      plane       deer       bird\n"
     ]
    },
    {
     "data": {
      "image/png": "[encoded data removed]",
      "text/plain": [
       "<Figure size 432x288 with 1 Axes>"
      ]
     },
     "metadata": {
      "needs_background": "light"
     },
     "output_type": "display_data"
    }
   ],
   "source": [
    "# Plot some sample test data\n",
    "\n",
    "imshow(torchvision.utils.make_grid(inputs[:4]), norm=True)\n",
    "# print labels\n",
    "print(' '.join('{:>10}'.format(classes[labels[j]]) for j in range(4)))"
   ]
  },
  {
   "cell_type": "markdown",
   "id": "6736101f",
   "metadata": {},
   "source": [
    "### Define CNN"
   ]
  },
  {
   "cell_type": "code",
   "execution_count": 36,
   "id": "120567b0",
   "metadata": {},
   "outputs": [],
   "source": [
    "from method import CES_multiClass\n",
    "from networks import SimpleConvolutionalNetwork\n",
    "from inference import Conformal_PSet"
   ]
  },
  {
   "cell_type": "code",
   "execution_count": 38,
   "id": "308a9e92",
   "metadata": {},
   "outputs": [],
   "source": [
    "import torch.optim as optim\n",
    "\n",
    "# Define the model parameters\n",
    "lr = 0.001\n",
    "n_epoch = 10\n",
    "n_classes = len(classes)\n",
    "\n",
    "# Create loss and optimizer\n",
    "# CES_oneClass object will assume criterion takes three parameters: output, input and target, \n",
    "# create wrapper function to modify the criterion.\n",
    "net_bm = SimpleConvolutionalNetwork()\n",
    "Loss = th.nn.CrossEntropyLoss()\n",
    "def criterion(outputs, inputs, targets):\n",
    "    return Loss(outputs, targets)\n",
    "optimizer_bm = optim.Adam(net_bm.parameters(), lr=lr)"
   ]
  },
  {
   "cell_type": "code",
   "execution_count": 39,
   "id": "7635afff",
   "metadata": {},
   "outputs": [],
   "source": [
    "seed = 0\n",
    "np.random.seed(seed)\n",
    "th.manual_seed(seed)\n",
    "\n",
    "if th.cuda.is_available():\n",
    "    # Make CuDNN Determinist\n",
    "    th.backends.cudnn.deterministic = True\n",
    "    th.cuda.manual_seed(seed)\n",
    "\n",
    "# Define default device, we should use the GPU (cuda) if available\n",
    "device = th.device(\"cuda\" if th.cuda.is_available() else \"cpu\")### Define subset of the dataset (so it is faster to train)"
   ]
  },
  {
   "cell_type": "markdown",
   "id": "029c7637",
   "metadata": {},
   "source": [
    "### Train the benchmark model"
   ]
  },
  {
   "cell_type": "code",
   "execution_count": 40,
   "id": "574cc622",
   "metadata": {},
   "outputs": [
    {
     "name": "stdout",
     "output_type": "stream",
     "text": [
      "===== HYPERPARAMETERS =====\n",
      "batch_size= 64\n",
      "n_epochs= 10\n",
      "learning_rate= 0.001\n",
      "==============================\n"
     ]
    }
   ],
   "source": [
    "seed = 0\n",
    "np.random.seed(seed)\n",
    "th.manual_seed(seed)\n",
    "\n",
    "# Initialize the CES class with model parameters\n",
    "CES_mc_bm = CES_multiClass(net_bm, device, train_loader_bm, n_classes=n_classes, batch_size=batch_size, max_epoch=n_epoch, \n",
    "                        learning_rate=lr, val_loader=val_loader_bm, criterion=criterion,optimizer=optimizer_bm)"
   ]
  },
  {
   "cell_type": "code",
   "execution_count": 41,
   "id": "c7d6cd69",
   "metadata": {
    "scrolled": true
   },
   "outputs": [
    {
     "name": "stdout",
     "output_type": "stream",
     "text": [
      "Epoch 1 of 10, 9% \t train_loss: 2.29 train_acc: 14.06% took: 5.57s\n",
      "Epoch 1 of 10, 18% \t train_loss: 2.23 train_acc: 16.15% took: 0.05s\n",
      "Epoch 1 of 10, 28% \t train_loss: 2.16 train_acc: 22.40% took: 0.06s\n",
      "Epoch 1 of 10, 37% \t train_loss: 2.08 train_acc: 24.48% took: 0.06s\n",
      "Epoch 1 of 10, 46% \t train_loss: 2.01 train_acc: 25.00% took: 0.06s\n",
      "Epoch 1 of 10, 56% \t train_loss: 2.08 train_acc: 27.08% took: 0.06s\n",
      "Epoch 1 of 10, 65% \t train_loss: 1.98 train_acc: 27.60% took: 0.07s\n",
      "Epoch 1 of 10, 75% \t train_loss: 2.04 train_acc: 31.25% took: 0.05s\n",
      "Epoch 1 of 10, 84% \t train_loss: 1.93 train_acc: 33.33% took: 0.06s\n",
      "Epoch 1 of 10, 93% \t train_loss: 1.86 train_acc: 31.77% took: 0.06s\n",
      "val_loss = 1.89 val_acc = 31.80%\n",
      "Snapshot saved at epoch 1.\n",
      "Epoch 2 of 10, 9% \t train_loss: 1.76 train_acc: 39.06% took: 5.44s\n",
      "Epoch 2 of 10, 18% \t train_loss: 1.85 train_acc: 29.69% took: 0.05s\n",
      "Epoch 2 of 10, 28% \t train_loss: 1.81 train_acc: 34.90% took: 0.05s\n",
      "Epoch 2 of 10, 37% \t train_loss: 1.76 train_acc: 41.67% took: 0.06s\n",
      "Epoch 2 of 10, 46% \t train_loss: 1.75 train_acc: 38.02% took: 0.06s\n",
      "Epoch 2 of 10, 56% \t train_loss: 1.86 train_acc: 37.50% took: 0.04s\n",
      "Epoch 2 of 10, 65% \t train_loss: 1.64 train_acc: 40.62% took: 0.06s\n",
      "Epoch 2 of 10, 75% \t train_loss: 1.75 train_acc: 38.54% took: 0.05s\n",
      "Epoch 2 of 10, 84% \t train_loss: 1.72 train_acc: 43.23% took: 0.07s\n",
      "Epoch 2 of 10, 93% \t train_loss: 1.65 train_acc: 40.62% took: 0.05s\n",
      "val_loss = 1.76 val_acc = 34.30%\n",
      "Snapshot saved at epoch 2.\n",
      "Epoch 3 of 10, 9% \t train_loss: 1.57 train_acc: 48.44% took: 5.65s\n",
      "Epoch 3 of 10, 18% \t train_loss: 1.64 train_acc: 37.50% took: 0.06s\n",
      "Epoch 3 of 10, 28% \t train_loss: 1.59 train_acc: 44.27% took: 0.05s\n",
      "Epoch 3 of 10, 37% \t train_loss: 1.58 train_acc: 42.71% took: 0.06s\n",
      "Epoch 3 of 10, 46% \t train_loss: 1.55 train_acc: 47.92% took: 0.06s\n",
      "Epoch 3 of 10, 56% \t train_loss: 1.66 train_acc: 45.31% took: 0.05s\n",
      "Epoch 3 of 10, 65% \t train_loss: 1.44 train_acc: 50.52% took: 0.06s\n",
      "Epoch 3 of 10, 75% \t train_loss: 1.57 train_acc: 45.83% took: 0.05s\n",
      "Epoch 3 of 10, 84% \t train_loss: 1.54 train_acc: 46.35% took: 0.05s\n",
      "Epoch 3 of 10, 93% \t train_loss: 1.48 train_acc: 46.35% took: 0.05s\n",
      "val_loss = 1.68 val_acc = 37.60%\n",
      "Snapshot saved at epoch 3.\n",
      "Epoch 4 of 10, 9% \t train_loss: 1.42 train_acc: 52.08% took: 5.80s\n",
      "Epoch 4 of 10, 18% \t train_loss: 1.46 train_acc: 44.79% took: 0.05s\n",
      "Epoch 4 of 10, 28% \t train_loss: 1.42 train_acc: 54.69% took: 0.06s\n",
      "Epoch 4 of 10, 37% \t train_loss: 1.42 train_acc: 52.08% took: 0.05s\n",
      "Epoch 4 of 10, 46% \t train_loss: 1.39 train_acc: 54.17% took: 0.05s\n",
      "Epoch 4 of 10, 56% \t train_loss: 1.50 train_acc: 50.00% took: 0.05s\n",
      "Epoch 4 of 10, 65% \t train_loss: 1.29 train_acc: 54.69% took: 0.05s\n",
      "Epoch 4 of 10, 75% \t train_loss: 1.43 train_acc: 51.04% took: 0.05s\n",
      "Epoch 4 of 10, 84% \t train_loss: 1.39 train_acc: 53.65% took: 0.05s\n",
      "Epoch 4 of 10, 93% \t train_loss: 1.33 train_acc: 52.60% took: 0.06s\n",
      "val_loss = 1.65 val_acc = 37.60%\n",
      "Snapshot saved at epoch 4.\n",
      "Epoch 5 of 10, 9% \t train_loss: 1.29 train_acc: 54.17% took: 5.86s\n",
      "Epoch 5 of 10, 18% \t train_loss: 1.33 train_acc: 53.12% took: 0.05s\n",
      "Epoch 5 of 10, 28% \t train_loss: 1.25 train_acc: 58.85% took: 0.06s\n",
      "Epoch 5 of 10, 37% \t train_loss: 1.30 train_acc: 55.21% took: 0.05s\n",
      "Epoch 5 of 10, 46% \t train_loss: 1.28 train_acc: 55.73% took: 0.06s\n",
      "Epoch 5 of 10, 56% \t train_loss: 1.38 train_acc: 54.17% took: 0.05s\n",
      "Epoch 5 of 10, 65% \t train_loss: 1.17 train_acc: 56.77% took: 0.05s\n",
      "Epoch 5 of 10, 75% \t train_loss: 1.28 train_acc: 55.21% took: 0.05s\n",
      "Epoch 5 of 10, 84% \t train_loss: 1.26 train_acc: 58.33% took: 0.06s\n",
      "Epoch 5 of 10, 93% \t train_loss: 1.21 train_acc: 55.73% took: 0.05s\n",
      "val_loss = 1.62 val_acc = 38.80%\n",
      "Snapshot saved at epoch 5.\n",
      "Epoch 6 of 10, 9% \t train_loss: 1.17 train_acc: 59.90% took: 5.78s\n",
      "Epoch 6 of 10, 18% \t train_loss: 1.18 train_acc: 58.85% took: 0.05s\n",
      "Epoch 6 of 10, 28% \t train_loss: 1.12 train_acc: 65.10% took: 0.06s\n",
      "Epoch 6 of 10, 37% \t train_loss: 1.15 train_acc: 65.10% took: 0.05s\n",
      "Epoch 6 of 10, 46% \t train_loss: 1.15 train_acc: 59.38% took: 0.05s\n",
      "Epoch 6 of 10, 56% \t train_loss: 1.26 train_acc: 58.33% took: 0.04s\n",
      "Epoch 6 of 10, 65% \t train_loss: 1.04 train_acc: 62.50% took: 0.05s\n",
      "Epoch 6 of 10, 75% \t train_loss: 1.16 train_acc: 61.46% took: 0.05s\n",
      "Epoch 6 of 10, 84% \t train_loss: 1.11 train_acc: 61.46% took: 0.05s\n",
      "Epoch 6 of 10, 93% \t train_loss: 1.10 train_acc: 61.98% took: 0.06s\n",
      "val_loss = 1.61 val_acc = 40.10%\n",
      "Snapshot saved at epoch 6.\n",
      "Epoch 7 of 10, 9% \t train_loss: 1.05 train_acc: 65.10% took: 5.91s\n",
      "Epoch 7 of 10, 18% \t train_loss: 1.06 train_acc: 64.58% took: 0.06s\n",
      "Epoch 7 of 10, 28% \t train_loss: 1.01 train_acc: 68.75% took: 0.06s\n",
      "Epoch 7 of 10, 37% \t train_loss: 1.03 train_acc: 68.75% took: 0.07s\n",
      "Epoch 7 of 10, 46% \t train_loss: 1.02 train_acc: 66.15% took: 0.07s\n",
      "Epoch 7 of 10, 56% \t train_loss: 1.14 train_acc: 62.50% took: 0.06s\n",
      "Epoch 7 of 10, 65% \t train_loss: 0.93 train_acc: 67.19% took: 0.07s\n",
      "Epoch 7 of 10, 75% \t train_loss: 1.02 train_acc: 68.23% took: 0.06s\n",
      "Epoch 7 of 10, 84% \t train_loss: 0.99 train_acc: 65.62% took: 0.08s\n",
      "Epoch 7 of 10, 93% \t train_loss: 0.99 train_acc: 65.10% took: 0.07s\n",
      "val_loss = 1.60 val_acc = 41.10%\n",
      "Snapshot saved at epoch 7.\n",
      "Epoch 8 of 10, 9% \t train_loss: 0.94 train_acc: 70.83% took: 6.03s\n",
      "Epoch 8 of 10, 18% \t train_loss: 0.95 train_acc: 69.27% took: 0.06s\n",
      "Epoch 8 of 10, 28% \t train_loss: 0.91 train_acc: 72.92% took: 0.07s\n",
      "Epoch 8 of 10, 37% \t train_loss: 0.92 train_acc: 70.31% took: 0.07s\n",
      "Epoch 8 of 10, 46% \t train_loss: 0.90 train_acc: 72.40% took: 0.06s\n",
      "Epoch 8 of 10, 56% \t train_loss: 1.03 train_acc: 67.19% took: 0.06s\n",
      "Epoch 8 of 10, 65% \t train_loss: 0.83 train_acc: 70.31% took: 0.06s\n",
      "Epoch 8 of 10, 75% \t train_loss: 0.91 train_acc: 72.92% took: 0.08s\n",
      "Epoch 8 of 10, 84% \t train_loss: 0.87 train_acc: 69.27% took: 0.06s\n",
      "Epoch 8 of 10, 93% \t train_loss: 0.89 train_acc: 70.83% took: 0.06s\n",
      "val_loss = 1.62 val_acc = 42.20%\n",
      "Snapshot saved at epoch 8.\n",
      "Epoch 9 of 10, 9% \t train_loss: 0.83 train_acc: 75.00% took: 6.89s\n",
      "Epoch 9 of 10, 18% \t train_loss: 0.83 train_acc: 72.92% took: 0.06s\n",
      "Epoch 9 of 10, 28% \t train_loss: 0.82 train_acc: 76.04% took: 0.08s\n",
      "Epoch 9 of 10, 37% \t train_loss: 0.79 train_acc: 77.08% took: 0.07s\n",
      "Epoch 9 of 10, 46% \t train_loss: 0.80 train_acc: 78.12% took: 0.08s\n",
      "Epoch 9 of 10, 56% \t train_loss: 0.92 train_acc: 71.35% took: 0.08s\n",
      "Epoch 9 of 10, 65% \t train_loss: 0.74 train_acc: 76.04% took: 0.07s\n",
      "Epoch 9 of 10, 75% \t train_loss: 0.79 train_acc: 79.17% took: 0.10s\n",
      "Epoch 9 of 10, 84% \t train_loss: 0.77 train_acc: 73.96% took: 0.08s\n",
      "Epoch 9 of 10, 93% \t train_loss: 0.78 train_acc: 75.52% took: 0.08s\n",
      "val_loss = 1.64 val_acc = 42.70%\n",
      "Snapshot saved at epoch 9.\n",
      "Epoch 10 of 10, 9% \t train_loss: 0.73 train_acc: 76.56% took: 7.02s\n",
      "Epoch 10 of 10, 18% \t train_loss: 0.73 train_acc: 78.12% took: 0.07s\n",
      "Epoch 10 of 10, 28% \t train_loss: 0.74 train_acc: 81.77% took: 0.06s\n",
      "Epoch 10 of 10, 37% \t train_loss: 0.69 train_acc: 79.69% took: 0.08s\n",
      "Epoch 10 of 10, 46% \t train_loss: 0.70 train_acc: 80.21% took: 0.07s\n",
      "Epoch 10 of 10, 56% \t train_loss: 0.83 train_acc: 75.52% took: 0.08s\n",
      "Epoch 10 of 10, 65% \t train_loss: 0.66 train_acc: 80.21% took: 0.08s\n",
      "Epoch 10 of 10, 75% \t train_loss: 0.69 train_acc: 81.77% took: 0.08s\n",
      "Epoch 10 of 10, 84% \t train_loss: 0.66 train_acc: 78.65% took: 0.08s\n",
      "Epoch 10 of 10, 93% \t train_loss: 0.67 train_acc: 79.69% took: 0.08s\n",
      "val_loss = 1.69 val_acc = 43.00%\n",
      "Snapshot saved at epoch 10.\n",
      "Training done! A list of 10 models saved.\n"
     ]
    }
   ],
   "source": [
    "# Train the model and save snapshots regularly\n",
    "save_every = 1    # Save model after every few epoches\n",
    "CES_mc_bm.full_train(save_dir = './models/multiClass/benchmarks', save_every = save_every)"
   ]
  },
  {
   "cell_type": "code",
   "execution_count": 42,
   "id": "874bebf0",
   "metadata": {},
   "outputs": [
    {
     "name": "stdout",
     "output_type": "stream",
     "text": [
      "Calibrating each model in the list...\n"
     ]
    },
    {
     "name": "stderr",
     "output_type": "stream",
     "text": [
      "100%|██████████████████████████████████████████████████████████████████████████████████| 10/10 [01:00<00:00,  6.03s/it]"
     ]
    },
    {
     "name": "stdout",
     "output_type": "stream",
     "text": [
      "Initialization done!\n",
      "Calibration (one time effort) takes:60.31s.\n"
     ]
    },
    {
     "name": "stderr",
     "output_type": "stream",
     "text": [
      "\n"
     ]
    }
   ],
   "source": [
    "from inference import Conformal_PSet\n",
    "\n",
    "alpha = 0.1\n",
    "n_classes = len(classes)\n",
    "model_list_bm = CES_mc_bm.model_list     # Get the saved model list from the CES class\n",
    "\n",
    "# Compute conformity scores of calibration sets for each model and corresponding calibrated\n",
    "# confidence level, this might take some time if we have too many saved models but fortunately\n",
    "# this initialization will be a one-time effort.\n",
    "cal_time = time.time()\n",
    "C_PSet_bm = Conformal_PSet(net_bm, device, cal_loader_bm, n_classes, model_list_bm, \\\n",
    "                           alpha,random_state = 2023)\n",
    "print('Calibration (one time effort) takes:{:.2f}s.'.format(time.time()-cal_time))"
   ]
  },
  {
   "cell_type": "code",
   "execution_count": 43,
   "id": "9a19caed",
   "metadata": {
    "scrolled": true
   },
   "outputs": [
    {
     "name": "stdout",
     "output_type": "stream",
     "text": [
      "Loading model 0 of 10...\n"
     ]
    },
    {
     "name": "stderr",
     "output_type": "stream",
     "text": [
      "100%|█████████████████████████████████████████████████████████████████████████████| 2000/2000 [00:07<00:00, 280.71it/s]"
     ]
    },
    {
     "name": "stdout",
     "output_type": "stream",
     "text": [
      "Loading model 1 of 10...\n"
     ]
    },
    {
     "name": "stderr",
     "output_type": "stream",
     "text": [
      "\n",
      "100%|█████████████████████████████████████████████████████████████████████████████| 2000/2000 [00:07<00:00, 282.97it/s]"
     ]
    },
    {
     "name": "stdout",
     "output_type": "stream",
     "text": [
      "Loading model 2 of 10...\n"
     ]
    },
    {
     "name": "stderr",
     "output_type": "stream",
     "text": [
      "\n",
      "100%|█████████████████████████████████████████████████████████████████████████████| 2000/2000 [00:07<00:00, 273.00it/s]"
     ]
    },
    {
     "name": "stdout",
     "output_type": "stream",
     "text": [
      "Loading model 3 of 10...\n"
     ]
    },
    {
     "name": "stderr",
     "output_type": "stream",
     "text": [
      "\n",
      "100%|█████████████████████████████████████████████████████████████████████████████| 2000/2000 [00:08<00:00, 242.52it/s]"
     ]
    },
    {
     "name": "stdout",
     "output_type": "stream",
     "text": [
      "Loading model 4 of 10...\n"
     ]
    },
    {
     "name": "stderr",
     "output_type": "stream",
     "text": [
      "\n",
      "100%|█████████████████████████████████████████████████████████████████████████████| 2000/2000 [00:10<00:00, 190.58it/s]"
     ]
    },
    {
     "name": "stdout",
     "output_type": "stream",
     "text": [
      "Loading model 5 of 10...\n"
     ]
    },
    {
     "name": "stderr",
     "output_type": "stream",
     "text": [
      "\n",
      "100%|█████████████████████████████████████████████████████████████████████████████| 2000/2000 [00:11<00:00, 177.87it/s]"
     ]
    },
    {
     "name": "stdout",
     "output_type": "stream",
     "text": [
      "Loading model 6 of 10...\n"
     ]
    },
    {
     "name": "stderr",
     "output_type": "stream",
     "text": [
      "\n",
      "100%|█████████████████████████████████████████████████████████████████████████████| 2000/2000 [00:11<00:00, 169.12it/s]"
     ]
    },
    {
     "name": "stdout",
     "output_type": "stream",
     "text": [
      "Loading model 7 of 10...\n"
     ]
    },
    {
     "name": "stderr",
     "output_type": "stream",
     "text": [
      "\n",
      "100%|█████████████████████████████████████████████████████████████████████████████| 2000/2000 [00:12<00:00, 161.89it/s]"
     ]
    },
    {
     "name": "stdout",
     "output_type": "stream",
     "text": [
      "Loading model 8 of 10...\n"
     ]
    },
    {
     "name": "stderr",
     "output_type": "stream",
     "text": [
      "\n",
      "100%|█████████████████████████████████████████████████████████████████████████████| 2000/2000 [00:10<00:00, 187.59it/s]"
     ]
    },
    {
     "name": "stdout",
     "output_type": "stream",
     "text": [
      "Loading model 9 of 10...\n"
     ]
    },
    {
     "name": "stderr",
     "output_type": "stream",
     "text": [
      "\n",
      "100%|█████████████████████████████████████████████████████████████████████████████| 2000/2000 [00:10<00:00, 188.34it/s]"
     ]
    },
    {
     "name": "stdout",
     "output_type": "stream",
     "text": [
      "selecting models takes: 97.02794241905212\n"
     ]
    },
    {
     "name": "stderr",
     "output_type": "stream",
     "text": [
      "\n"
     ]
    }
   ],
   "source": [
    "# Pick the best model for each test point\n",
    "start = time.time()\n",
    "best_loss_bm, best_model_bm, test_val_loss_history_bm = CES_mc_bm.select_model(inputs)\n",
    "print('selecting models takes:', time.time()-start)"
   ]
  },
  {
   "cell_type": "code",
   "execution_count": 44,
   "id": "01f318c6",
   "metadata": {},
   "outputs": [
    {
     "name": "stderr",
     "output_type": "stream",
     "text": [
      "100%|██████████████████████████████████████████████████████████████████████████████| 2000/2000 [00:51<00:00, 39.11it/s]\n"
     ]
    },
    {
     "name": "stdout",
     "output_type": "stream",
     "text": [
      "Finished computing marginal prediction sets for 2000 test points.\n"
     ]
    },
    {
     "name": "stderr",
     "output_type": "stream",
     "text": [
      "100%|██████████████████████████████████████████████████████████████████████████████| 2000/2000 [00:50<00:00, 39.42it/s]"
     ]
    },
    {
     "name": "stdout",
     "output_type": "stream",
     "text": [
      "Finished computing label conditional prediction sets for 2000 test points.\n"
     ]
    },
    {
     "name": "stderr",
     "output_type": "stream",
     "text": [
      "\n"
     ]
    }
   ],
   "source": [
    "# Get the marginal conformal pvalues \n",
    "pset_m_bm= C_PSet_bm.pred_set(inputs, best_model_bm, marginal=True)\n",
    "# Get the label conditional conformal pvalues \n",
    "pset_lc_bm = C_PSet_bm.pred_set(inputs, best_model_bm, marginal=False)"
   ]
  },
  {
   "cell_type": "code",
   "execution_count": 48,
   "id": "5e509aa9",
   "metadata": {},
   "outputs": [
    {
     "name": "stdout",
     "output_type": "stream",
     "text": [
      "Evaluate marginal prediction sets.\n",
      "==================================================\n",
      "Marginal coverage:       91.050%\n",
      "Average size:            4.924\n",
      "Average size | coverage: 4.941\n",
      "==================================================\n",
      "Conditional coverage for label plane:       88.265%\n",
      "Average size:            4.709\n",
      "Average size | coverage: 4.613\n",
      "Conditional coverage for label car:       94.949%\n",
      "Average size:            3.611\n",
      "Average size | coverage: 3.601\n",
      "Conditional coverage for label bird:       89.744%\n",
      "Average size:            5.149\n",
      "Average size | coverage: 5.314\n",
      "Conditional coverage for label cat:       88.945%\n",
      "Average size:            5.779\n",
      "Average size | coverage: 5.893\n",
      "Conditional coverage for label deer:       96.465%\n",
      "Average size:            5.369\n",
      "Average size | coverage: 5.372\n",
      "Conditional coverage for label dog:       84.865%\n",
      "Average size:            5.411\n",
      "Average size | coverage: 5.516\n",
      "Conditional coverage for label frog:       96.759%\n",
      "Average size:            4.866\n",
      "Average size | coverage: 4.895\n",
      "Conditional coverage for label horse:       86.010%\n",
      "Average size:            5.819\n",
      "Average size | coverage: 5.753\n",
      "Conditional coverage for label ship:       88.940%\n",
      "Average size:            4.733\n",
      "Average size | coverage: 4.798\n",
      "Conditional coverage for label truck:       94.581%\n",
      "Average size:            3.897\n",
      "Average size | coverage: 3.922\n"
     ]
    }
   ],
   "source": [
    "print('Evaluate marginal prediction sets.')\n",
    "print('='*50)\n",
    "evaluate_marginal(pset_m_bm, labels.numpy())\n",
    "print('='*50)\n",
    "evaluate_conditional(pset_m_bm, labels.numpy())"
   ]
  },
  {
   "cell_type": "code",
   "execution_count": 49,
   "id": "ddc03931",
   "metadata": {},
   "outputs": [
    {
     "name": "stdout",
     "output_type": "stream",
     "text": [
      "Evaluate label conditional prediction sets.\n",
      "==================================================\n",
      "Marginal coverage:       91.650%\n",
      "Average size:            4.941\n",
      "Average size | coverage: 4.980\n",
      "==================================================\n",
      "Conditional coverage for label plane:       88.776%\n",
      "Average size:            4.684\n",
      "Average size | coverage: 4.563\n",
      "Conditional coverage for label car:       90.404%\n",
      "Average size:            3.636\n",
      "Average size | coverage: 3.598\n",
      "Conditional coverage for label bird:       90.769%\n",
      "Average size:            5.287\n",
      "Average size | coverage: 5.508\n",
      "Conditional coverage for label cat:       90.955%\n",
      "Average size:            5.729\n",
      "Average size | coverage: 5.773\n",
      "Conditional coverage for label deer:       92.929%\n",
      "Average size:            5.561\n",
      "Average size | coverage: 5.636\n",
      "Conditional coverage for label dog:       96.216%\n",
      "Average size:            5.238\n",
      "Average size | coverage: 5.292\n",
      "Conditional coverage for label frog:       95.370%\n",
      "Average size:            5.125\n",
      "Average size | coverage: 5.180\n",
      "Conditional coverage for label horse:       90.674%\n",
      "Average size:            5.839\n",
      "Average size | coverage: 5.794\n",
      "Conditional coverage for label ship:       90.323%\n",
      "Average size:            4.571\n",
      "Average size | coverage: 4.582\n",
      "Conditional coverage for label truck:       90.148%\n",
      "Average size:            3.828\n",
      "Average size | coverage: 3.891\n"
     ]
    }
   ],
   "source": [
    "print('Evaluate label conditional prediction sets.')\n",
    "print('='*50)\n",
    "evaluate_marginal(pset_lc_bm, labels.numpy())\n",
    "print('='*50)\n",
    "evaluate_conditional(pset_lc_bm, labels.numpy())"
   ]
  },
  {
   "cell_type": "markdown",
   "id": "4c13488e",
   "metadata": {},
   "source": [
    "### Train the CES model"
   ]
  },
  {
   "cell_type": "code",
   "execution_count": 51,
   "id": "64c30956",
   "metadata": {},
   "outputs": [
    {
     "name": "stdout",
     "output_type": "stream",
     "text": [
      "===== HYPERPARAMETERS =====\n",
      "batch_size= 64\n",
      "n_epochs= 10\n",
      "learning_rate= 0.001\n",
      "==============================\n"
     ]
    }
   ],
   "source": [
    "seed = 0\n",
    "np.random.seed(seed)\n",
    "th.manual_seed(seed)\n",
    "\n",
    "net_ces = SimpleConvolutionalNetwork()\n",
    "Loss = th.nn.CrossEntropyLoss()\n",
    "def criterion(outputs, inputs, targets):\n",
    "    return Loss(outputs, targets)\n",
    "optimizer_ces = optim.Adam(net_ces.parameters(), lr=lr)\n",
    "\n",
    "# Initialize the CES class with model parameters\n",
    "CES_mc_ces = CES_multiClass(net_ces, device, train_loader_ces, n_classes=n_classes, batch_size=batch_size, max_epoch=n_epoch, \n",
    "                        learning_rate=lr, val_loader=val_loader_ces, criterion=criterion,optimizer=optimizer_ces)"
   ]
  },
  {
   "cell_type": "code",
   "execution_count": 52,
   "id": "674b6bb9",
   "metadata": {},
   "outputs": [],
   "source": [
    "seed = 0\n",
    "np.random.seed(seed)\n",
    "th.manual_seed(seed)\n",
    "\n",
    "if th.cuda.is_available():\n",
    "    # Make CuDNN Determinist\n",
    "    th.backends.cudnn.deterministic = True\n",
    "    th.cuda.manual_seed(seed)\n",
    "\n",
    "# Define default device, we should use the GPU (cuda) if available\n",
    "device = th.device(\"cuda\" if th.cuda.is_available() else \"cpu\")### Define subset of the dataset (so it is faster to train)"
   ]
  },
  {
   "cell_type": "code",
   "execution_count": 53,
   "id": "0bf1f0af",
   "metadata": {
    "scrolled": true
   },
   "outputs": [
    {
     "name": "stdout",
     "output_type": "stream",
     "text": [
      "Epoch 1 of 10, 8% \t train_loss: 2.26 train_acc: 17.97% took: 5.57s\n",
      "Epoch 1 of 10, 17% \t train_loss: 2.22 train_acc: 16.41% took: 0.07s\n",
      "Epoch 1 of 10, 25% \t train_loss: 2.11 train_acc: 25.39% took: 0.06s\n",
      "Epoch 1 of 10, 34% \t train_loss: 2.05 train_acc: 28.91% took: 0.07s\n",
      "Epoch 1 of 10, 42% \t train_loss: 2.05 train_acc: 23.05% took: 0.06s\n",
      "Epoch 1 of 10, 51% \t train_loss: 2.06 train_acc: 25.78% took: 0.08s\n",
      "Epoch 1 of 10, 59% \t train_loss: 2.01 train_acc: 27.73% took: 0.07s\n",
      "Epoch 1 of 10, 68% \t train_loss: 1.96 train_acc: 28.12% took: 0.06s\n",
      "Epoch 1 of 10, 76% \t train_loss: 1.93 train_acc: 28.12% took: 0.06s\n",
      "Epoch 1 of 10, 85% \t train_loss: 1.79 train_acc: 39.45% took: 0.08s\n",
      "Epoch 1 of 10, 93% \t train_loss: 1.90 train_acc: 31.64% took: 0.06s\n",
      "val_loss = 1.83 val_acc = 34.20%\n",
      "Snapshot saved at epoch 1.\n",
      "Epoch 2 of 10, 8% \t train_loss: 1.77 train_acc: 36.72% took: 5.86s\n",
      "Epoch 2 of 10, 17% \t train_loss: 1.77 train_acc: 40.23% took: 0.07s\n",
      "Epoch 2 of 10, 25% \t train_loss: 1.79 train_acc: 35.94% took: 0.07s\n",
      "Epoch 2 of 10, 34% \t train_loss: 1.72 train_acc: 39.84% took: 0.06s\n",
      "Epoch 2 of 10, 42% \t train_loss: 1.76 train_acc: 36.72% took: 0.08s\n",
      "Epoch 2 of 10, 51% \t train_loss: 1.72 train_acc: 38.67% took: 0.07s\n",
      "Epoch 2 of 10, 59% \t train_loss: 1.79 train_acc: 35.16% took: 0.06s\n",
      "Epoch 2 of 10, 68% \t train_loss: 1.74 train_acc: 34.38% took: 0.06s\n",
      "Epoch 2 of 10, 76% \t train_loss: 1.73 train_acc: 39.84% took: 0.06s\n",
      "Epoch 2 of 10, 85% \t train_loss: 1.53 train_acc: 49.22% took: 0.06s\n",
      "Epoch 2 of 10, 93% \t train_loss: 1.67 train_acc: 41.02% took: 0.06s\n",
      "val_loss = 1.69 val_acc = 37.80%\n",
      "Snapshot saved at epoch 2.\n",
      "Epoch 3 of 10, 8% \t train_loss: 1.57 train_acc: 45.70% took: 6.06s\n",
      "Epoch 3 of 10, 17% \t train_loss: 1.54 train_acc: 46.48% took: 0.07s\n",
      "Epoch 3 of 10, 25% \t train_loss: 1.59 train_acc: 46.09% took: 0.07s\n",
      "Epoch 3 of 10, 34% \t train_loss: 1.50 train_acc: 50.00% took: 0.08s\n",
      "Epoch 3 of 10, 42% \t train_loss: 1.55 train_acc: 43.75% took: 0.07s\n",
      "Epoch 3 of 10, 51% \t train_loss: 1.51 train_acc: 47.27% took: 0.07s\n",
      "Epoch 3 of 10, 59% \t train_loss: 1.62 train_acc: 41.41% took: 0.07s\n",
      "Epoch 3 of 10, 68% \t train_loss: 1.59 train_acc: 45.70% took: 0.07s\n",
      "Epoch 3 of 10, 76% \t train_loss: 1.56 train_acc: 46.09% took: 0.07s\n",
      "Epoch 3 of 10, 85% \t train_loss: 1.37 train_acc: 57.42% took: 0.07s\n",
      "Epoch 3 of 10, 93% \t train_loss: 1.49 train_acc: 48.44% took: 0.07s\n",
      "val_loss = 1.61 val_acc = 40.30%\n",
      "Snapshot saved at epoch 3.\n",
      "Epoch 4 of 10, 8% \t train_loss: 1.42 train_acc: 50.00% took: 6.07s\n",
      "Epoch 4 of 10, 17% \t train_loss: 1.39 train_acc: 51.95% took: 0.07s\n",
      "Epoch 4 of 10, 25% \t train_loss: 1.46 train_acc: 51.95% took: 0.07s\n",
      "Epoch 4 of 10, 34% \t train_loss: 1.34 train_acc: 56.64% took: 0.07s\n",
      "Epoch 4 of 10, 42% \t train_loss: 1.41 train_acc: 50.39% took: 0.07s\n",
      "Epoch 4 of 10, 51% \t train_loss: 1.38 train_acc: 51.17% took: 0.07s\n",
      "Epoch 4 of 10, 59% \t train_loss: 1.50 train_acc: 46.88% took: 0.07s\n",
      "Epoch 4 of 10, 68% \t train_loss: 1.44 train_acc: 48.05% took: 0.06s\n",
      "Epoch 4 of 10, 76% \t train_loss: 1.43 train_acc: 48.44% took: 0.08s\n",
      "Epoch 4 of 10, 85% \t train_loss: 1.25 train_acc: 58.98% took: 0.08s\n",
      "Epoch 4 of 10, 93% \t train_loss: 1.34 train_acc: 54.69% took: 0.06s\n",
      "val_loss = 1.59 val_acc = 41.60%\n",
      "Snapshot saved at epoch 4.\n",
      "Epoch 5 of 10, 8% \t train_loss: 1.30 train_acc: 53.12% took: 6.23s\n",
      "Epoch 5 of 10, 17% \t train_loss: 1.28 train_acc: 53.52% took: 0.06s\n",
      "Epoch 5 of 10, 25% \t train_loss: 1.34 train_acc: 53.91% took: 0.06s\n",
      "Epoch 5 of 10, 34% \t train_loss: 1.23 train_acc: 58.20% took: 0.06s\n",
      "Epoch 5 of 10, 42% \t train_loss: 1.29 train_acc: 55.47% took: 0.07s\n",
      "Epoch 5 of 10, 51% \t train_loss: 1.26 train_acc: 56.25% took: 0.06s\n",
      "Epoch 5 of 10, 59% \t train_loss: 1.39 train_acc: 50.78% took: 0.06s\n",
      "Epoch 5 of 10, 68% \t train_loss: 1.32 train_acc: 53.12% took: 0.06s\n",
      "Epoch 5 of 10, 76% \t train_loss: 1.32 train_acc: 51.95% took: 0.07s\n",
      "Epoch 5 of 10, 85% \t train_loss: 1.15 train_acc: 63.67% took: 0.07s\n",
      "Epoch 5 of 10, 93% \t train_loss: 1.23 train_acc: 58.59% took: 0.06s\n",
      "val_loss = 1.58 val_acc = 42.40%\n",
      "Snapshot saved at epoch 5.\n",
      "Epoch 6 of 10, 8% \t train_loss: 1.19 train_acc: 58.98% took: 6.57s\n",
      "Epoch 6 of 10, 17% \t train_loss: 1.18 train_acc: 57.03% took: 0.10s\n",
      "Epoch 6 of 10, 25% \t train_loss: 1.24 train_acc: 58.59% took: 0.09s\n",
      "Epoch 6 of 10, 34% \t train_loss: 1.13 train_acc: 61.33% took: 0.09s\n",
      "Epoch 6 of 10, 42% \t train_loss: 1.17 train_acc: 60.94% took: 0.11s\n",
      "Epoch 6 of 10, 51% \t train_loss: 1.16 train_acc: 59.77% took: 0.10s\n",
      "Epoch 6 of 10, 59% \t train_loss: 1.31 train_acc: 55.08% took: 0.10s\n",
      "Epoch 6 of 10, 68% \t train_loss: 1.21 train_acc: 56.25% took: 0.11s\n",
      "Epoch 6 of 10, 76% \t train_loss: 1.23 train_acc: 55.86% took: 0.11s\n",
      "Epoch 6 of 10, 85% \t train_loss: 1.06 train_acc: 68.75% took: 0.11s\n",
      "Epoch 6 of 10, 93% \t train_loss: 1.14 train_acc: 62.50% took: 0.10s\n",
      "val_loss = 1.58 val_acc = 43.10%\n",
      "Snapshot saved at epoch 6.\n",
      "Epoch 7 of 10, 8% \t train_loss: 1.09 train_acc: 62.11% took: 6.53s\n",
      "Epoch 7 of 10, 17% \t train_loss: 1.09 train_acc: 60.55% took: 0.10s\n",
      "Epoch 7 of 10, 25% \t train_loss: 1.15 train_acc: 62.50% took: 0.09s\n",
      "Epoch 7 of 10, 34% \t train_loss: 1.05 train_acc: 65.23% took: 0.09s\n",
      "Epoch 7 of 10, 42% \t train_loss: 1.08 train_acc: 63.28% took: 0.10s\n",
      "Epoch 7 of 10, 51% \t train_loss: 1.07 train_acc: 64.84% took: 0.10s\n",
      "Epoch 7 of 10, 59% \t train_loss: 1.22 train_acc: 57.81% took: 0.10s\n",
      "Epoch 7 of 10, 68% \t train_loss: 1.10 train_acc: 61.33% took: 0.11s\n",
      "Epoch 7 of 10, 76% \t train_loss: 1.13 train_acc: 60.16% took: 0.09s\n",
      "Epoch 7 of 10, 85% \t train_loss: 0.98 train_acc: 71.09% took: 0.11s\n",
      "Epoch 7 of 10, 93% \t train_loss: 1.04 train_acc: 67.58% took: 0.11s\n",
      "val_loss = 1.58 val_acc = 44.00%\n",
      "Snapshot saved at epoch 7.\n",
      "Epoch 8 of 10, 8% \t train_loss: 0.99 train_acc: 67.19% took: 7.32s\n",
      "Epoch 8 of 10, 17% \t train_loss: 1.00 train_acc: 64.06% took: 0.12s\n",
      "Epoch 8 of 10, 25% \t train_loss: 1.07 train_acc: 63.28% took: 0.11s\n",
      "Epoch 8 of 10, 34% \t train_loss: 0.97 train_acc: 70.70% took: 0.14s\n",
      "Epoch 8 of 10, 42% \t train_loss: 0.99 train_acc: 68.75% took: 0.10s\n",
      "Epoch 8 of 10, 51% \t train_loss: 0.99 train_acc: 68.75% took: 0.11s\n",
      "Epoch 8 of 10, 59% \t train_loss: 1.14 train_acc: 60.16% took: 0.11s\n",
      "Epoch 8 of 10, 68% \t train_loss: 1.00 train_acc: 66.80% took: 0.11s\n",
      "Epoch 8 of 10, 76% \t train_loss: 1.05 train_acc: 62.89% took: 0.11s\n",
      "Epoch 8 of 10, 85% \t train_loss: 0.90 train_acc: 71.48% took: 0.11s\n",
      "Epoch 8 of 10, 93% \t train_loss: 0.96 train_acc: 68.75% took: 0.11s\n",
      "val_loss = 1.60 val_acc = 44.30%\n",
      "Snapshot saved at epoch 8.\n",
      "Epoch 9 of 10, 8% \t train_loss: 0.91 train_acc: 69.53% took: 7.24s\n",
      "Epoch 9 of 10, 17% \t train_loss: 0.91 train_acc: 69.14% took: 0.09s\n",
      "Epoch 9 of 10, 25% \t train_loss: 0.99 train_acc: 68.36% took: 0.10s\n",
      "Epoch 9 of 10, 34% \t train_loss: 0.89 train_acc: 73.05% took: 0.10s\n",
      "Epoch 9 of 10, 42% \t train_loss: 0.90 train_acc: 70.70% took: 0.11s\n",
      "Epoch 9 of 10, 51% \t train_loss: 0.91 train_acc: 70.70% took: 0.12s\n",
      "Epoch 9 of 10, 59% \t train_loss: 1.05 train_acc: 64.84% took: 0.12s\n",
      "Epoch 9 of 10, 68% \t train_loss: 0.91 train_acc: 70.31% took: 0.12s\n",
      "Epoch 9 of 10, 76% \t train_loss: 0.97 train_acc: 65.62% took: 0.12s\n",
      "Epoch 9 of 10, 85% \t train_loss: 0.82 train_acc: 75.39% took: 0.12s\n",
      "Epoch 9 of 10, 93% \t train_loss: 0.88 train_acc: 71.88% took: 0.12s\n",
      "val_loss = 1.61 val_acc = 45.10%\n",
      "Snapshot saved at epoch 9.\n",
      "Epoch 10 of 10, 8% \t train_loss: 0.82 train_acc: 73.44% took: 7.55s\n",
      "Epoch 10 of 10, 17% \t train_loss: 0.82 train_acc: 73.05% took: 0.10s\n",
      "Epoch 10 of 10, 25% \t train_loss: 0.90 train_acc: 70.70% took: 0.09s\n",
      "Epoch 10 of 10, 34% \t train_loss: 0.81 train_acc: 74.22% took: 0.10s\n",
      "Epoch 10 of 10, 42% \t train_loss: 0.81 train_acc: 74.22% took: 0.11s\n",
      "Epoch 10 of 10, 51% \t train_loss: 0.83 train_acc: 73.05% took: 0.12s\n",
      "Epoch 10 of 10, 59% \t train_loss: 0.98 train_acc: 66.80% took: 0.12s\n",
      "Epoch 10 of 10, 68% \t train_loss: 0.82 train_acc: 73.83% took: 0.13s\n",
      "Epoch 10 of 10, 76% \t train_loss: 0.88 train_acc: 67.97% took: 0.13s\n",
      "Epoch 10 of 10, 85% \t train_loss: 0.76 train_acc: 78.91% took: 0.13s\n",
      "Epoch 10 of 10, 93% \t train_loss: 0.81 train_acc: 76.17% took: 0.12s\n",
      "val_loss = 1.64 val_acc = 44.60%\n",
      "Snapshot saved at epoch 10.\n",
      "Training done! A list of 10 models saved.\n"
     ]
    }
   ],
   "source": [
    "# Train the model and save snapshots regularly\n",
    "save_every = 1    # Save model after every few epoches\n",
    "CES_mc_ces.full_train(save_dir = './models/multiClass/ces', save_every = save_every)"
   ]
  },
  {
   "cell_type": "code",
   "execution_count": 54,
   "id": "72ced315",
   "metadata": {},
   "outputs": [
    {
     "name": "stdout",
     "output_type": "stream",
     "text": [
      "Calibrating each model in the list...\n"
     ]
    },
    {
     "name": "stderr",
     "output_type": "stream",
     "text": [
      "100%|██████████████████████████████████████████████████████████████████████████████████| 10/10 [01:11<00:00,  7.11s/it]"
     ]
    },
    {
     "name": "stdout",
     "output_type": "stream",
     "text": [
      "Initialization done!\n",
      "Calibration (one time effort) takes:71.08s.\n"
     ]
    },
    {
     "name": "stderr",
     "output_type": "stream",
     "text": [
      "\n"
     ]
    }
   ],
   "source": [
    "alpha = 0.1\n",
    "model_list_ces = CES_mc_ces.model_list     # Get the saved model list from the CES class\n",
    "\n",
    "# Compute conformity scores of calibration sets for each model and corresponding calibrated\n",
    "# confidence level, this might take some time if we have too many saved models but fortunately\n",
    "# this initialization will be a one-time effort.\n",
    "cal_time = time.time()\n",
    "C_PSet_ces = Conformal_PSet(net_ces, device, val_loader_ces, n_classes, model_list_ces, \\\n",
    "                           alpha,random_state = 0)\n",
    "print('Calibration (one time effort) takes:{:.2f}s.'.format(time.time()-cal_time))"
   ]
  },
  {
   "cell_type": "code",
   "execution_count": 55,
   "id": "1842462b",
   "metadata": {},
   "outputs": [
    {
     "name": "stdout",
     "output_type": "stream",
     "text": [
      "Loading model 0 of 10...\n"
     ]
    },
    {
     "name": "stderr",
     "output_type": "stream",
     "text": [
      "100%|█████████████████████████████████████████████████████████████████████████████| 2000/2000 [00:07<00:00, 257.08it/s]"
     ]
    },
    {
     "name": "stdout",
     "output_type": "stream",
     "text": [
      "Loading model 1 of 10...\n"
     ]
    },
    {
     "name": "stderr",
     "output_type": "stream",
     "text": [
      "\n",
      "100%|█████████████████████████████████████████████████████████████████████████████| 2000/2000 [00:10<00:00, 183.39it/s]"
     ]
    },
    {
     "name": "stdout",
     "output_type": "stream",
     "text": [
      "Loading model 2 of 10...\n"
     ]
    },
    {
     "name": "stderr",
     "output_type": "stream",
     "text": [
      "\n",
      "100%|█████████████████████████████████████████████████████████████████████████████| 2000/2000 [00:10<00:00, 187.50it/s]"
     ]
    },
    {
     "name": "stdout",
     "output_type": "stream",
     "text": [
      "Loading model 3 of 10...\n"
     ]
    },
    {
     "name": "stderr",
     "output_type": "stream",
     "text": [
      "\n",
      "100%|█████████████████████████████████████████████████████████████████████████████| 2000/2000 [00:10<00:00, 188.73it/s]"
     ]
    },
    {
     "name": "stdout",
     "output_type": "stream",
     "text": [
      "Loading model 4 of 10...\n"
     ]
    },
    {
     "name": "stderr",
     "output_type": "stream",
     "text": [
      "\n",
      "100%|█████████████████████████████████████████████████████████████████████████████| 2000/2000 [00:11<00:00, 181.11it/s]"
     ]
    },
    {
     "name": "stdout",
     "output_type": "stream",
     "text": [
      "Loading model 5 of 10...\n"
     ]
    },
    {
     "name": "stderr",
     "output_type": "stream",
     "text": [
      "\n",
      "100%|█████████████████████████████████████████████████████████████████████████████| 2000/2000 [00:10<00:00, 185.71it/s]"
     ]
    },
    {
     "name": "stdout",
     "output_type": "stream",
     "text": [
      "Loading model 6 of 10...\n"
     ]
    },
    {
     "name": "stderr",
     "output_type": "stream",
     "text": [
      "\n",
      "100%|█████████████████████████████████████████████████████████████████████████████| 2000/2000 [00:10<00:00, 188.64it/s]"
     ]
    },
    {
     "name": "stdout",
     "output_type": "stream",
     "text": [
      "Loading model 7 of 10...\n"
     ]
    },
    {
     "name": "stderr",
     "output_type": "stream",
     "text": [
      "\n",
      "100%|█████████████████████████████████████████████████████████████████████████████| 2000/2000 [00:10<00:00, 189.13it/s]"
     ]
    },
    {
     "name": "stdout",
     "output_type": "stream",
     "text": [
      "Loading model 8 of 10...\n"
     ]
    },
    {
     "name": "stderr",
     "output_type": "stream",
     "text": [
      "\n",
      "100%|█████████████████████████████████████████████████████████████████████████████| 2000/2000 [00:10<00:00, 187.93it/s]"
     ]
    },
    {
     "name": "stdout",
     "output_type": "stream",
     "text": [
      "Loading model 9 of 10...\n"
     ]
    },
    {
     "name": "stderr",
     "output_type": "stream",
     "text": [
      "\n",
      "100%|█████████████████████████████████████████████████████████████████████████████| 2000/2000 [00:10<00:00, 188.44it/s]"
     ]
    },
    {
     "name": "stdout",
     "output_type": "stream",
     "text": [
      "selecting models takes: 104.24921941757202\n"
     ]
    },
    {
     "name": "stderr",
     "output_type": "stream",
     "text": [
      "\n"
     ]
    }
   ],
   "source": [
    "# Pick the best model for each test point\n",
    "start = time.time()\n",
    "best_loss_ces, best_model_ces, test_val_loss_history_ces = CES_mc_ces.select_model(inputs)\n",
    "print('selecting models takes:', time.time()-start)"
   ]
  },
  {
   "cell_type": "code",
   "execution_count": 56,
   "id": "875f0a27",
   "metadata": {},
   "outputs": [
    {
     "name": "stderr",
     "output_type": "stream",
     "text": [
      "100%|██████████████████████████████████████████████████████████████████████████████| 2000/2000 [00:39<00:00, 50.22it/s]\n"
     ]
    },
    {
     "name": "stdout",
     "output_type": "stream",
     "text": [
      "Finished computing marginal prediction sets for 2000 test points.\n"
     ]
    },
    {
     "name": "stderr",
     "output_type": "stream",
     "text": [
      "100%|██████████████████████████████████████████████████████████████████████████████| 2000/2000 [00:47<00:00, 41.73it/s]"
     ]
    },
    {
     "name": "stdout",
     "output_type": "stream",
     "text": [
      "Finished computing label conditional prediction sets for 2000 test points.\n"
     ]
    },
    {
     "name": "stderr",
     "output_type": "stream",
     "text": [
      "\n"
     ]
    }
   ],
   "source": [
    "# Get the marginal conformal pvalues \n",
    "pset_m_ces= C_PSet_ces.pred_set(inputs, best_model_ces, marginal=True)\n",
    "# Get the label conditional conformal pvalues \n",
    "pset_lc_ces = C_PSet_ces.pred_set(inputs, best_model_ces, marginal=False)"
   ]
  },
  {
   "cell_type": "code",
   "execution_count": 57,
   "id": "11fc2002",
   "metadata": {},
   "outputs": [
    {
     "name": "stdout",
     "output_type": "stream",
     "text": [
      "Evaluate marginal prediction sets.\n",
      "==================================================\n",
      "Marginal coverage:       90.750%\n",
      "Average size:            4.452\n",
      "Average size | coverage: 4.482\n",
      "==================================================\n",
      "Conditional coverage for label plane:       85.714%\n",
      "Average size:            3.730\n",
      "Average size | coverage: 3.607\n",
      "Conditional coverage for label car:       95.960%\n",
      "Average size:            3.566\n",
      "Average size | coverage: 3.537\n",
      "Conditional coverage for label bird:       90.769%\n",
      "Average size:            4.626\n",
      "Average size | coverage: 4.768\n",
      "Conditional coverage for label cat:       83.417%\n",
      "Average size:            5.503\n",
      "Average size | coverage: 5.663\n",
      "Conditional coverage for label deer:       91.919%\n",
      "Average size:            4.742\n",
      "Average size | coverage: 4.775\n",
      "Conditional coverage for label dog:       94.595%\n",
      "Average size:            4.924\n",
      "Average size | coverage: 4.994\n",
      "Conditional coverage for label frog:       94.907%\n",
      "Average size:            5.157\n",
      "Average size | coverage: 5.210\n",
      "Conditional coverage for label horse:       91.192%\n",
      "Average size:            4.959\n",
      "Average size | coverage: 4.955\n",
      "Conditional coverage for label ship:       93.088%\n",
      "Average size:            3.502\n",
      "Average size | coverage: 3.510\n",
      "Conditional coverage for label truck:       85.714%\n",
      "Average size:            3.882\n",
      "Average size | coverage: 3.908\n"
     ]
    }
   ],
   "source": [
    "print('Evaluate marginal prediction sets.')\n",
    "print('='*50)\n",
    "evaluate_marginal(pset_m_ces, labels.numpy())\n",
    "print('='*50)\n",
    "evaluate_conditional(pset_m_ces, labels.numpy())"
   ]
  },
  {
   "cell_type": "code",
   "execution_count": 58,
   "id": "1e7ae8bb",
   "metadata": {},
   "outputs": [
    {
     "name": "stdout",
     "output_type": "stream",
     "text": [
      "Evaluate label conditional prediction sets.\n",
      "==================================================\n",
      "Marginal coverage:       90.100%\n",
      "Average size:            4.410\n",
      "Average size | coverage: 4.452\n",
      "==================================================\n",
      "Conditional coverage for label plane:       88.776%\n",
      "Average size:            3.612\n",
      "Average size | coverage: 3.511\n",
      "Conditional coverage for label car:       94.444%\n",
      "Average size:            3.722\n",
      "Average size | coverage: 3.717\n",
      "Conditional coverage for label bird:       91.282%\n",
      "Average size:            4.533\n",
      "Average size | coverage: 4.702\n",
      "Conditional coverage for label cat:       88.442%\n",
      "Average size:            5.397\n",
      "Average size | coverage: 5.528\n",
      "Conditional coverage for label deer:       83.333%\n",
      "Average size:            4.763\n",
      "Average size | coverage: 4.861\n",
      "Conditional coverage for label dog:       88.649%\n",
      "Average size:            4.795\n",
      "Average size | coverage: 4.860\n",
      "Conditional coverage for label frog:       93.056%\n",
      "Average size:            5.083\n",
      "Average size | coverage: 5.154\n",
      "Conditional coverage for label horse:       91.192%\n",
      "Average size:            4.798\n",
      "Average size | coverage: 4.795\n",
      "Conditional coverage for label ship:       94.470%\n",
      "Average size:            3.502\n",
      "Average size | coverage: 3.507\n",
      "Conditional coverage for label truck:       86.700%\n",
      "Average size:            3.956\n",
      "Average size | coverage: 4.023\n"
     ]
    }
   ],
   "source": [
    "print('Evaluate label conditional prediction sets.')\n",
    "print('='*50)\n",
    "evaluate_marginal(pset_lc_ces, labels.numpy())\n",
    "print('='*50)\n",
    "evaluate_conditional(pset_lc_ces, labels.numpy())"
   ]
  }
 ],
 "metadata": {
  "kernelspec": {
   "display_name": "Python 3 (ipykernel)",
   "language": "python",
   "name": "python3"
  },
  "language_info": {
   "codemirror_mode": {
    "name": "ipython",
    "version": 3
   },
   "file_extension": ".py",
   "mimetype": "text/x-python",
   "name": "python",
   "nbconvert_exporter": "python",
   "pygments_lexer": "ipython3",
   "version": "3.9.12"
  }
 },
 "nbformat": 4,
 "nbformat_minor": 5
}
