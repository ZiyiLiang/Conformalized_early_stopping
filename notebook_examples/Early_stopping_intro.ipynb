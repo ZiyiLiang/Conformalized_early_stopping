{
 "cells": [
  {
   "cell_type": "markdown",
   "metadata": {
    "id": "Qrs8qiLSsexU"
   },
   "source": [
    "# Introduction to early stopping in neural network training\n",
    "\n",
    "This notebook aims to introduce the purpose of early stopping and some common early stopping techniques via an image classification example. \n"
   ]
  },
  {
   "cell_type": "code",
   "execution_count": 1,
   "metadata": {
    "id": "2x3UWzMxqRPU"
   },
   "outputs": [],
   "source": [
    "%matplotlib inline"
   ]
  },
  {
   "cell_type": "markdown",
   "metadata": {
    "id": "eTmOksI0vQ3E"
   },
   "source": [
    "### Plotting functions and useful imports\n",
    "\n",
    "You can skip this part"
   ]
  },
  {
   "cell_type": "code",
   "execution_count": 2,
   "metadata": {
    "id": "ZK-IiagsvM01"
   },
   "outputs": [],
   "source": [
    "# Python 2/3 compatibility\n",
    "from __future__ import print_function, division\n",
    "\n",
    "import itertools\n",
    "import time\n",
    "\n",
    "import numpy as np\n",
    "import matplotlib.pyplot as plt\n",
    "\n",
    "# Colors from Colorbrewer Paired_12\n",
    "colors = [[31, 120, 180], [51, 160, 44], [250,159,181]]\n",
    "colors = [(r / 255, g / 255, b / 255) for (r, g, b) in colors]\n",
    "\n",
    "# functions to show an image\n",
    "def imshow(img):\n",
    "    \"\"\"\n",
    "    :param img: (PyTorch Tensor)\n",
    "    \"\"\"\n",
    "    # unnormalize\n",
    "    img = img / 2 + 0.5     \n",
    "    # Convert tensor to numpy array\n",
    "    npimg = img.numpy()\n",
    "    # Color channel first -> color channel last\n",
    "    plt.imshow(np.transpose(npimg, (1, 2, 0)))\n",
    "\n",
    "def get_image(img):\n",
    "    \"\"\"\n",
    "    convert a tensor to images suitable for plotting\n",
    "    :param img: (PyTorch Tensor)\n",
    "    \"\"\"\n",
    "    # unnormalize\n",
    "    img = img / 2 + 0.5     \n",
    "    # Convert tensor to numpy array\n",
    "    npimg = img.numpy()\n",
    "    # Color channel first -> color channel last\n",
    "    return np.transpose(npimg, (1, 2, 0))\n",
    "\n",
    "def plot_loss_acc(train_loss, val_loss, test_loss, train_acc, val_acc, test_acc):\n",
    "    x = np.arange(1, len(train_loss) + 1)\n",
    "\n",
    "    fig,axs = plt.subplots(1, 2, figsize=(16,6))\n",
    "    axs[0].plot(x, train_loss, color=colors[0], label=\"Training loss\", linewidth=2)\n",
    "    axs[0].plot(x, val_loss, color=colors[1], label=\"Validation loss\", linewidth=2)\n",
    "    axs[0].plot(x, test_loss, color=colors[2], label=\"Test loss\", linewidth=2)\n",
    "    axs[0].set_xlabel('Epoch')\n",
    "    axs[0].set_ylabel('Loss')\n",
    "    axs[0].legend(loc='upper right')\n",
    "    axs[0].set_title(\"Evolution of the training, validation and test loss\")\n",
    "\n",
    "    axs[1].plot(x, train_acc, color=colors[0], label=\"Training accuracy\", linewidth=2)\n",
    "    axs[1].plot(x, val_acc, color=colors[1], label=\"Validation accuracy\", linewidth=2)\n",
    "    axs[1].plot(x, test_acc, color=colors[2], label=\"Test accuracy\", linewidth=2)\n",
    "    axs[1].set_xlabel('Epoch')\n",
    "    axs[1].set_ylabel('Accuracy')\n",
    "    axs[1].legend(loc='lower right')\n",
    "    axs[1].set_title(\"Evolution of the training, validation and test accuracy\")\n",
    "    plt.show()\n"
   ]
  },
  {
   "cell_type": "code",
   "execution_count": 3,
   "metadata": {
    "colab": {
     "base_uri": "https://localhost:8080/"
    },
    "id": "293onN__vNyI",
    "outputId": "5b4ee7fb-6ff7-4681-f5a7-ef3539b82463"
   },
   "outputs": [],
   "source": [
    "# !pip install http://download.pytorch.org/whl/cu92/torch-0.4.1-cp36-cp36m-linux_x86_64.whl\n",
    "# !pip install torchmetrics\n",
    "# !pip install torchvision\n",
    "import numpy as np\n",
    "# Import torch and create the alias \"th\"\n",
    "# instead of writing torch.name_of_a_method() , we only need to write th.name_of_a_method()\n",
    "# (similarly to numpy imported as np)\n",
    "import torch as th"
   ]
  },
  {
   "cell_type": "code",
   "execution_count": 4,
   "metadata": {},
   "outputs": [],
   "source": [
    "# !pip install torch torchvision torchaudio"
   ]
  },
  {
   "cell_type": "markdown",
   "metadata": {
    "id": "J-Rj19xwwlhb"
   },
   "source": [
    "### 1. Loading and normalizing CIFAR10 Dataset\n"
   ]
  },
  {
   "cell_type": "code",
   "execution_count": 5,
   "metadata": {
    "id": "QICySsacvY9z"
   },
   "outputs": [],
   "source": [
    "import torch\n",
    "import torchvision\n",
    "import torchvision.transforms as transforms"
   ]
  },
  {
   "cell_type": "code",
   "execution_count": 6,
   "metadata": {
    "id": "rfYsCIOwvde9"
   },
   "outputs": [],
   "source": [
    "seed = 2022\n",
    "np.random.seed(seed)\n",
    "torch.manual_seed(seed)\n",
    "\n",
    "if th.cuda.is_available():\n",
    "  # Make CuDNN Determinist\n",
    "  th.backends.cudnn.deterministic = True\n",
    "  th.cuda.manual_seed(seed)\n",
    "\n",
    "# Define default device, we should use the GPU (cuda) if available\n",
    "device = th.device(\"cuda\" if th.cuda.is_available() else \"cpu\")"
   ]
  },
  {
   "cell_type": "code",
   "execution_count": 7,
   "metadata": {
    "colab": {
     "base_uri": "https://localhost:8080/"
    },
    "id": "GKEYykrP1jc4",
    "outputId": "c2b65b1a-f1de-4cc2-b92a-a55dc041a7c5"
   },
   "outputs": [
    {
     "data": {
      "text/plain": [
       "device(type='cpu')"
      ]
     },
     "execution_count": 7,
     "metadata": {},
     "output_type": "execute_result"
    }
   ],
   "source": [
    "device"
   ]
  },
  {
   "cell_type": "markdown",
   "metadata": {
    "id": "TpGY1kJXvzMm"
   },
   "source": [
    "### Define subset of the dataset (so it is faster to train)"
   ]
  },
  {
   "cell_type": "code",
   "execution_count": 8,
   "metadata": {
    "id": "4uYOEE-Ovlc7"
   },
   "outputs": [],
   "source": [
    "from torch.utils.data.sampler import SubsetRandomSampler\n",
    "\n",
    "n_training_samples = 20000 # Max: 50 000 - n_val_samples\n",
    "n_val_samples = 5000\n",
    "n_test_samples = 5000\n",
    "n_cal_samples = 1000\n",
    "\n",
    "train_sampler = SubsetRandomSampler(np.arange(n_training_samples, dtype=np.int64))\n",
    "val_sampler = SubsetRandomSampler(np.arange(n_training_samples, n_training_samples + n_val_samples, dtype=np.int64))\n",
    "test_sampler = SubsetRandomSampler(np.arange(n_test_samples, dtype=np.int64))\n",
    "cal_sampler = SubsetRandomSampler(np.arange(n_test_samples, n_test_samples + n_cal_samples, dtype=np.int64))\n",
    "# (In the last case, indexes do not need to account for training ones because the train=False parameter in datasets.CIFAR will select from the test set)"
   ]
  },
  {
   "cell_type": "markdown",
   "metadata": {
    "id": "AjEuA65twNeT"
   },
   "source": [
    "The output of torchvision datasets are PILImage images of range [0, 1].\n",
    "We transform them to Tensors of normalized range [-1, 1]"
   ]
  },
  {
   "cell_type": "code",
   "execution_count": 9,
   "metadata": {
    "colab": {
     "base_uri": "https://localhost:8080/",
     "height": 104,
     "referenced_widgets": [
      "324913173cfd404e9fa55df1ec7186c2",
      "6b69490210524da88c391964e30c00a1",
      "fe9386563f344d1c9f59682700813328",
      "de530a5db6e64c14830e9e39432f6e85",
      "b34dcbe003044c37b601507507683261",
      "2f8c686cdb504283b9bc5ab1994ba3f5",
      "5ed825d8b782461b95e023ebaae2b755",
      "6e8eaa85a25843e98525df0917ca04e2",
      "47416075176d4f2f85fb44296106e9c3",
      "4b9fd660819b42adb7b0f6f0909ef10e",
      "e914345e32814a6ba43569c78b6f30e4"
     ]
    },
    "id": "Vn130-0Yvq69",
    "outputId": "9f2a4d50-f08b-4d62-9de8-6dcc69a125a0"
   },
   "outputs": [
    {
     "name": "stdout",
     "output_type": "stream",
     "text": [
      "Files already downloaded and verified\n",
      "Files already downloaded and verified\n"
     ]
    }
   ],
   "source": [
    "num_workers = 2\n",
    "test_batch_size = 4\n",
    "\n",
    "transform = transforms.Compose(\n",
    "    [transforms.ToTensor(),\n",
    "     transforms.Normalize(mean=(0.5, 0.5, 0.5), std=(0.5, 0.5, 0.5))])\n",
    "\n",
    "train_set = torchvision.datasets.CIFAR10(root='./data', train=True,\n",
    "                                        download=True, transform=transform)\n",
    "\n",
    "train_loader = torch.utils.data.DataLoader(train_set, batch_size=test_batch_size, sampler=train_sampler,\n",
    "                                          num_workers=num_workers)\n",
    "\n",
    "test_set = torchvision.datasets.CIFAR10(root='./data', train=False,\n",
    "                                       download=True, transform=transform)\n",
    "test_loader = torch.utils.data.DataLoader(test_set, batch_size=test_batch_size, sampler=test_sampler,\n",
    "                                         num_workers=num_workers)\n",
    "\n",
    "classes = ('plane', 'car', 'bird', 'cat',\n",
    "           'deer', 'dog', 'frog', 'horse', 'ship', 'truck')"
   ]
  },
  {
   "cell_type": "markdown",
   "metadata": {
    "id": "Eiko2GUTwZdW"
   },
   "source": [
    "Let us show some of the training images, for fun."
   ]
  },
  {
   "cell_type": "code",
   "execution_count": 10,
   "metadata": {},
   "outputs": [],
   "source": [
    "import os\n",
    "os.environ['KMP_DUPLICATE_LIB_OK']='True'"
   ]
  },
  {
   "cell_type": "code",
   "execution_count": 11,
   "metadata": {
    "colab": {
     "base_uri": "https://localhost:8080/",
     "height": 156
    },
    "id": "ussle1Z9vtzF",
    "outputId": "e89cdf73-6cb8-4292-fd21-c7b190906b49"
   },
   "outputs": [
    {
     "name": "stdout",
     "output_type": "stream",
     "text": [
      "     truck      truck        car      horse\n"
     ]
    },
    {
     "data": {
      "image/png": "[encoded data removed]",
      "text/plain": [
       "<Figure size 432x288 with 1 Axes>"
      ]
     },
     "metadata": {
      "needs_background": "light"
     },
     "output_type": "display_data"
    }
   ],
   "source": [
    "# get some random training images\n",
    "dataiter = iter(train_loader)\n",
    "images, labels = dataiter.next()\n",
    "\n",
    "# show images\n",
    "imshow(torchvision.utils.make_grid(images))\n",
    "# print labels\n",
    "print(' '.join('{:>10}'.format(classes[labels[j]]) for j in range(test_batch_size)))"
   ]
  },
  {
   "cell_type": "markdown",
   "metadata": {
    "id": "ihjvxG8fwex6"
   },
   "source": [
    "### 2. Define a Convolution Neural Network"
   ]
  },
  {
   "cell_type": "code",
   "execution_count": 12,
   "metadata": {
    "id": "6k6rJyTTcayi"
   },
   "outputs": [],
   "source": [
    "# Useful imports\n",
    "import torch.nn as nn\n",
    "import torch.nn.functional as F"
   ]
  },
  {
   "cell_type": "markdown",
   "metadata": {
    "id": "0JcmlEe8t2Fe"
   },
   "source": [
    "####  Forward propagation\n",
    "\n",
    "In PyTorch, there are built-in functions that carry out the convolution steps for you.\n",
    "\n",
    "- **nn.Conv2d(in_channels, out_channels, kernel_size, stride=1, padding=0):** Convolution layer. You can read the full documentation [here](http://pytorch.org/docs/master/nn.html#conv2d)\n",
    "\n",
    "- **nn.MaxPool2d(kernel_size, stride=None, padding=0):** Max pooling layer. You can read the full documentation [here](http://pytorch.org/docs/master/nn.html#maxpool2d)\n",
    "\n",
    "- **F.relu(Z1):** computes the elementwise ReLU of Z1 (which can be any shape). You can read the full documentation [here.](http://pytorch.org/docs/master/nn.html#torch.nn.ReLU)\n",
    "\n",
    "- **x.view(new_shape)**: Returns a new tensor with the same data but different size. It is the equivalent of numpy function *reshape* (Gives a new shape to an array without changing its data). You can read the full documentation [here.](http://pytorch.org/docs/master/tensors.html#torch.Tensor.view)\n",
    "\n",
    "- **nn.Linear(in_features, out_features):** Applies a linear transformation to the incoming data: $y = Ax + b$, it is also called a fully connected layer. You can read the full documentation [here.](http://pytorch.org/docs/master/nn.html#linear-layers)"
   ]
  },
  {
   "cell_type": "markdown",
   "metadata": {
    "id": "rbykSRDTcaym"
   },
   "source": [
    "#### Simple Convolutional Neural Network\n",
    "\n",
    "ConvNet with one convolution layer followed by a max pooling operation,\n",
    "one fully connected layer and an output layer"
   ]
  },
  {
   "cell_type": "code",
   "execution_count": 13,
   "metadata": {
    "id": "X4pljAWycayn"
   },
   "outputs": [],
   "source": [
    "class SimpleConvolutionalNetwork(nn.Module):\n",
    "    def __init__(self):\n",
    "        super(SimpleConvolutionalNetwork, self).__init__()\n",
    "        \n",
    "        self.conv1 = nn.Conv2d(3, 18, kernel_size=3, stride=1, padding=1)\n",
    "        self.pool = nn.MaxPool2d(kernel_size=2, stride=2, padding=0)\n",
    "        \n",
    "        # cf comments in forward() to have step by step comments\n",
    "        # on the shape (how we pass from a 3x32x32 input image to a 18x16x16 volume)\n",
    "        self.fc1 = nn.Linear(18 * 16 * 16, 64) \n",
    "        self.fc2 = nn.Linear(64, 10)\n",
    "\n",
    "    def forward(self, x):\n",
    "        \"\"\"\n",
    "        Forward pass,\n",
    "        x shape is (batch_size, 3, 32, 32)\n",
    "        (color channel first)\n",
    "        in the comments, we omit the batch_size in the shape\n",
    "        \"\"\"\n",
    "        # shape : 3x32x32 -> 18x32x32\n",
    "        x = F.relu(self.conv1(x))\n",
    "        # 18x32x32 -> 18x16x16\n",
    "        x = self.pool(x)\n",
    "        # 18x16x16 -> 4608\n",
    "        x = x.view(-1, 18 * 16 * 16)\n",
    "        # 4608 -> 64\n",
    "        x = F.relu(self.fc1(x))\n",
    "        # 64 -> 10\n",
    "        # The softmax non-linearity is applied later (cf createLossAndOptimizer() fn)\n",
    "        x = self.fc2(x)\n",
    "        return x"
   ]
  },
  {
   "cell_type": "markdown",
   "metadata": {
    "id": "2SQi9Xf-t2Fu"
   },
   "source": [
    "### 3. Define a loss function and optimizer\n",
    "\n",
    "Let's use a Classification Cross-Entropy loss and ADAM (optionally, SGD with momentum). You can read more about  [optimization methods](https://pytorch.org/docs/stable/optim.html).\n",
    "\n"
   ]
  },
  {
   "cell_type": "code",
   "execution_count": 14,
   "metadata": {
    "id": "DOUiPtZQt2Fx"
   },
   "outputs": [],
   "source": [
    "import torch.optim as optim\n",
    "\n",
    "def createLossAndOptimizer(net, learning_rate=0.001):\n",
    "    # it combines softmax with negative log likelihood loss\n",
    "    criterion = nn.CrossEntropyLoss()  \n",
    "    #optimizer = optim.SGD(net.parameters(), lr=learning_rate, momentum=0.9)\n",
    "    optimizer = optim.Adam(net.parameters(), lr=learning_rate)\n",
    "    return criterion, optimizer"
   ]
  },
  {
   "cell_type": "markdown",
   "metadata": {
    "id": "saJW5bKRt2F9"
   },
   "source": [
    "### 4. Train the network with early stopping\n",
    "\n",
    "\n",
    "Here we implement and compare 4 early stopping rules, check following paper for details of the last 3 ESRs.\n",
    "\n",
    "\n",
    "*   **Full early stopping**: Train the network for $T_{max}$ epochs where $T_{max}$ is predefined maximum number of epoch. Select the model with best validation loss.\n",
    "*   **GL rule**: A class of criteria based on the validation loss, halt the training process when generality loss exceeds a predefined value.\n",
    "*   **PQ rule**: A class of criteria based on both validation loss and training loss, halt the training process when validation loss is increasing and training loss is not decreasing fast enough. \n",
    "*   **UP rule**: A class of criteria only based on the sign of validation loss. Halt the training process when validation loss is increasing for several consecutive training strips.\n",
    "\n"
   ]
  },
  {
   "cell_type": "markdown",
   "metadata": {
    "id": "mNf1e8QZcay1"
   },
   "source": [
    "#### Data loader"
   ]
  },
  {
   "cell_type": "code",
   "execution_count": 15,
   "metadata": {
    "id": "EqDD8_z8cay2"
   },
   "outputs": [],
   "source": [
    "def get_train_loader(batch_size):\n",
    "    return torch.utils.data.DataLoader(train_set, batch_size=batch_size, sampler=train_sampler,\n",
    "                                              num_workers=num_workers)\n",
    "\n",
    "# Use larger batch size for validation to speed up computation\n",
    "val_loader = torch.utils.data.DataLoader(train_set, batch_size=128, sampler=val_sampler,\n",
    "                                          num_workers=num_workers)\n",
    "\n",
    "test_loader = torch.utils.data.DataLoader(test_set, batch_size=128, sampler=test_sampler,\n",
    "                                         num_workers=num_workers)"
   ]
  },
  {
   "cell_type": "markdown",
   "metadata": {
    "id": "yTDHHbLpcay5"
   },
   "source": [
    "#### Training loop"
   ]
  },
  {
   "cell_type": "code",
   "execution_count": 17,
   "metadata": {
    "id": "1YcjXyhu243i"
   },
   "outputs": [],
   "source": [
    "from prompt_toolkit.shortcuts import progress_bar\n",
    "from torchmetrics.functional import accuracy\n",
    "import pandas as pd\n",
    "import pdb\n",
    "\n",
    "class EarlyStoppedTrainer:\n",
    "    def __init__(self, net, device, batch_size, n_epochs, learning_rate, verbose=True):\n",
    "        \"\"\"\n",
    "        Initialize the early stopped trainer with specified parameters.\n",
    "        \"\"\"\n",
    "        self.net = net.to(device)\n",
    "        self.device = device\n",
    "        self.batch_size = batch_size\n",
    "        self.n_epochs = n_epochs\n",
    "        self.learning_rate = learning_rate\n",
    "        self.verbose = verbose\n",
    "\n",
    "        if self.verbose:\n",
    "            print(\"===== HYPERPARAMETERS =====\")\n",
    "            print(\"batch_size=\", self.batch_size)\n",
    "            print(\"n_epochs=\", self.n_epochs)\n",
    "            print(\"learning_rate=\", self.learning_rate)\n",
    "            print(\"=\" * 30)\n",
    "\n",
    "        self.train_loader = get_train_loader(self.batch_size)\n",
    "        self.n_minibatches = len(self.train_loader)\n",
    "        self.criterion, self.optimizer = createLossAndOptimizer(self.net, self.learning_rate)\n",
    "\n",
    "    def train_single_epoch(self,epoch):\n",
    "        \"\"\"\n",
    "        Train the model for a single epoch\n",
    "\n",
    "        :return (tuple of floats) metrics of the train, validation, test sets\n",
    "        \"\"\"\n",
    "        running_loss = 0.0\n",
    "        running_acc = 0.0\n",
    "        print_every = self.n_minibatches // 10\n",
    "        start_time = time.time()\n",
    "        total_train_loss = 0\n",
    "        total_train_acc = 0\n",
    "\n",
    "        for i, (inputs, labels) in enumerate(self.train_loader):\n",
    "            \n",
    "            # Move tensors to correct device\n",
    "            inputs, labels = inputs.to(self.device), labels.to(self.device)\n",
    "\n",
    "            # zero the parameter gradients\n",
    "            self.optimizer.zero_grad()\n",
    "\n",
    "            # forward + backward + optimize\n",
    "            outputs = self.net(inputs)\n",
    "            loss = self.criterion(outputs, labels)\n",
    "            loss.backward()\n",
    "            self.optimizer.step()\n",
    "\n",
    "            # print statistics\n",
    "            running_loss += loss.item()\n",
    "            total_train_loss += loss.item()\n",
    "            running_acc += float(accuracy(outputs,labels).cpu().numpy())\n",
    "            total_train_acc += float(accuracy(outputs,labels).cpu().numpy())\n",
    "\n",
    "            # print every 10th of epoch\n",
    "            if (i + 1) % (print_every + 1) == 0:    \n",
    "                print(\"Epoch {}, {:d}% \\t train_loss: {:.2f} train_acc: {:.2f}% took: {:.2f}s\".format(\n",
    "                        epoch + 1, int(100 * (i + 1) / self.n_minibatches), running_loss / print_every,\n",
    "                        100 * (running_acc / print_every), time.time() - start_time))\n",
    "                running_loss = 0.0\n",
    "                running_acc = 0.0\n",
    "                start_time = time.time()\n",
    "\n",
    "        total_val_loss, total_test_loss = 0, 0\n",
    "        total_val_acc, total_test_acc = 0, 0\n",
    "            \n",
    "        # We don't need to compute gradient,\n",
    "        # we save memory and computation using th.no_grad()\n",
    "        with th.no_grad():\n",
    "            # Do a pass on the validation set\n",
    "            for inputs, labels in val_loader:\n",
    "                # Move tensors to correct device\n",
    "                inputs, labels = inputs.to(self.device), labels.to(self.device)\n",
    "                # Forward pass\n",
    "                predictions = self.net(inputs)\n",
    "                val_loss = self.criterion(predictions, labels)\n",
    "                val_acc = float(accuracy(predictions,labels).cpu().numpy())\n",
    "                total_val_loss += val_loss.item()\n",
    "                total_val_acc += val_acc\n",
    "\n",
    "            # Do a pass on the test set\n",
    "            for inputs, labels in test_loader:\n",
    "                # Move tensors to correct device\n",
    "                inputs, labels = inputs.to(self.device), labels.to(self.device)\n",
    "                # Forward pass\n",
    "                predictions = self.net(inputs)\n",
    "                test_loss = self.criterion(predictions, labels)\n",
    "                test_acc = float(accuracy(predictions,labels).cpu().numpy())\n",
    "                total_test_loss += test_loss.item()\n",
    "                total_test_acc += test_acc\n",
    "        \n",
    "        print(\"val_loss = {:.2f} val_acc = {:.2f}%\".format(total_val_loss / len(val_loader), \\\n",
    "              100 * (total_val_acc / len(val_loader))))\n",
    "        print(\"test_loss = {:.2f} test_acc = {:.2f}%\".format(total_test_loss / len(test_loader), \\\n",
    "              100 * (total_test_acc / len(test_loader))))\n",
    " \n",
    "        return total_train_loss / len(self.train_loader), total_val_loss / len(val_loader), total_test_loss / len(test_loader),\\\n",
    "               100 * (total_train_acc / len(self.train_loader)), 100 * (total_val_acc / len(val_loader)), 100 * (total_test_acc / len(test_loader))\n",
    "\n",
    "\n",
    "\n",
    "    def check_gl(self, val_history, alpha=5):\n",
    "        \"\"\" \n",
    "        check if the training process should be stopped by GL rule at the current epoch\n",
    "        GL rule: stop if the generality loss is beyond predefined threshold\n",
    "\n",
    "        :param val_history: (list of floats) validation loss until the current epoch\n",
    "        :param alpha: (float) the stopping threshold of the ESR\n",
    "        \"\"\"\n",
    "        min_val_loss = np.min(val_history)\n",
    "        gl = 100*((val_history[-1]) / max(min_val_loss, 10**(-10)) - 1)\n",
    "        return gl > alpha, gl\n",
    "\n",
    "\n",
    "\n",
    "    def check_pq(self, train_history, val_history, k=3, alpha=0.5):\n",
    "        \"\"\" \n",
    "        check if the training process should be stopped by PQ rule at the current epoch\n",
    "        PQ rule: stop if quotient of progress and generality loss is beyond predefined \n",
    "        threshold\n",
    "        \n",
    "        :param train_history: (list of floats) training loss until the current epoch\n",
    "        :param val_history: (list of floats) validation loss until the current epoch\n",
    "        :param k: (int) size of the training strips\n",
    "        :param beta: (float) the stopping threshold of the ESR\n",
    "        \"\"\"\n",
    "        # If the current epoch number is not divisible by k, continue training\n",
    "        if len(val_history) % k:\n",
    "            return False, -1\n",
    "        else:\n",
    "            # Calculate the progress\n",
    "            sum_k_train_loss = np.sum(train_history[-k:])\n",
    "            min_k_train_loss = k * np.min(train_history[-k:])\n",
    "            progress = 1000*((sum_k_train_loss / min_k_train_loss) - 1)\n",
    "\n",
    "            # Calculate the generalization loss\n",
    "            min_val_loss = np.min(val_history)\n",
    "            gl = 100*((val_history[-1]) / max(min_val_loss, 10**(-10)) - 1)\n",
    "\n",
    "            # Stopping criteria is the quotient of progress and GL\n",
    "            pq = gl / progress\n",
    "            return pq > alpha, pq \n",
    "    \n",
    "\n",
    "\n",
    "    def check_up(self, val_history, k=1, s=3):\n",
    "        \"\"\" \n",
    "        check if the training process should be stopped by UP rule at the current epoch\n",
    "        UP rule: stop if the validation loss has been increasing for s consecutive \n",
    "        training strips\n",
    "        \n",
    "        :param val_history: (list of floats) validation loss until the current epoch\n",
    "        :param k: (int) size of the training strips\n",
    "        :param s: (int) number of consecutive strips\n",
    "        :return max_ci: (int) maximum number of consecutive increase\n",
    "        \"\"\"\n",
    "        if len(val_history) < k * (s+1):\n",
    "            return False, -1\n",
    "        \n",
    "        val_loss_list = [val_history[-(k * i + 1)] for i in range(s+1)]\n",
    "        increment=''\n",
    "        for i in range(len(val_loss_list)-1): \n",
    "            increment += str(int(val_loss_list[i] > val_loss_list[i+1])) \n",
    "        max_ci = len(max(increment.split('0'), key=len))\n",
    "\n",
    "        return max_ci == s, max_ci\n",
    "\n",
    "    def es_train(self, ESR='all'):\n",
    "        ESRs = ['all', 'full', 'GL', 'PQ', 'UP']\n",
    "        if self.verbose:\n",
    "            assert ESR in ESRs, 'Unknown early stopping rule(s)!'\n",
    "            print('training with early stopping rule(s): '+ESR)\n",
    "\n",
    "        # Save the loss history and accuracy history for plotting\n",
    "        self.train_loss_history, self.val_loss_history, self.test_loss_history = [], [], []\n",
    "        self.train_acc_history, self.val_acc_history, self.test_acc_history = [], [], []\n",
    "        \n",
    "        start_time = time.time()\n",
    "        best_epoch = -1\n",
    "        best_error = np.inf\n",
    "        best_model_path = \"best_model.pth\"\n",
    "\n",
    "        stopped_by_gl, gl_values = False, []\n",
    "        stopped_by_pq, pq_values = False, []\n",
    "        stopped_by_up, up_values = False, []\n",
    "        \n",
    "        # Save relative information for all ESR\n",
    "        results =  pd.DataFrame(columns=['ESR', 'best_epoch', 'max_epoch', 'training_time', 'model_path','stopping_stats'])\n",
    "        for epoch in range(self.n_epochs):\n",
    "            train_loss, val_loss, test_loss, train_acc, val_acc, test_acc = self.train_single_epoch(epoch)\n",
    "            self.train_loss_history.append(train_loss)\n",
    "            self.val_loss_history.append(val_loss)\n",
    "            self.test_loss_history.append(test_loss)\n",
    "            self.train_acc_history.append(train_acc)\n",
    "            self.val_acc_history.append(val_acc)\n",
    "            self.test_acc_history.append(test_acc)\n",
    "\n",
    "            # Update the best model if the validation loss is smaller on this epoch\n",
    "            if val_loss < best_error:\n",
    "                best_error = val_loss\n",
    "                best_epoch = epoch+1\n",
    "                th.save(self.net.state_dict(), best_model_path)\n",
    "\n",
    "            # Save the current epoch time\n",
    "            epoch_time = time.time()\n",
    "\n",
    "            # Check the GL rule if it hasn't been stopped yet\n",
    "            if (not stopped_by_gl) & ((ESR=='all') | (ESR=='GL')): \n",
    "                stopped_by_gl, gl_val = self.check_gl(self.val_loss_history)\n",
    "                gl_values.append(gl_val)\n",
    "                # Update the relative information is the training is stopped\n",
    "                if (stopped_by_gl) | (epoch==self.n_epochs-1):\n",
    "                    save_path = 'gl_model.pth'\n",
    "                    th.save(th.load(best_model_path), save_path)\n",
    "                    results = results.append({'ESR':'GL', 'best_epoch': best_epoch, 'max_epoch':epoch+1,\n",
    "                                    'training_time': epoch_time-start_time, 'model_path': save_path,\n",
    "                                    'stopping_stats': gl_values}, ignore_index=True)\n",
    "                    if ESR=='GL':\n",
    "                        return results\n",
    "\n",
    "            # Check the PQ rule if it hasn't been stopped yet\n",
    "            if (not stopped_by_pq) & ((ESR=='all') | (ESR=='PQ')): \n",
    "                stopped_by_pq, pq_val = self.check_pq(self.train_loss_history, self.val_loss_history)\n",
    "                pq_values.append(pq_val)\n",
    "                # Update the relative information is the training is stopped\n",
    "                if (stopped_by_pq) | (epoch==self.n_epochs-1):\n",
    "                    save_path = 'pq_model.pth'\n",
    "                    th.save(th.load(best_model_path), save_path)\n",
    "                    results = results.append({'ESR':'PQ', 'best_epoch': best_epoch, 'max_epoch':epoch+1,\n",
    "                                    'training_time': epoch_time-start_time, 'model_path': save_path,\n",
    "                                    'stopping_stats': pq_values}, ignore_index=True)\n",
    "                    if ESR=='PQ':\n",
    "                        return results\n",
    "                    \n",
    "            # Check the UP rule if it hasn't been stopped yet\n",
    "            if (not stopped_by_up) & ((ESR=='all') | (ESR=='UP')): \n",
    "                stopped_by_up, up_val = self.check_up(self.val_loss_history)\n",
    "                up_values.append(up_val)\n",
    "                # Update the relative information is the training is stopped\n",
    "                if (stopped_by_up) | (epoch==self.n_epochs-1):\n",
    "                    save_path = 'up_model.pth'\n",
    "                    th.save(th.load(best_model_path), save_path)\n",
    "                    results = results.append({'ESR':'UP', 'best_epoch': best_epoch, 'max_epoch':epoch+1,\n",
    "                                    'training_time': epoch_time-start_time, 'model_path': save_path,\n",
    "                                    'stopping_stats': up_values}, ignore_index=True)\n",
    "                    if ESR=='UP':\n",
    "                        return results\n",
    "\n",
    "        results = results.append({'ESR':'full', 'best_epoch': best_epoch, 'max_epoch':self.n_epochs,\n",
    "                                    'training_time': time.time()-start_time, 'model_path': best_model_path,\n",
    "                                    'stopping_stats': None}, ignore_index=True)\n",
    "        return results\n",
    "\n",
    "    def get_loss_history(self):\n",
    "        if hasattr(self, 'train_loss_history'):\n",
    "            return self.train_loss_history, self.val_loss_history, self.test_loss_history\n",
    "        else:\n",
    "            print('Train the model first before getting loss history!')\n",
    "\n",
    "    def get_acc_history(self):\n",
    "        if hasattr(self, 'train_acc_history'):\n",
    "            return self.train_acc_history, self.val_acc_history, self.test_acc_history\n",
    "        else:\n",
    "            print('Train the model first before getting accuracy history!')\n",
    "\n"
   ]
  },
  {
   "cell_type": "code",
   "execution_count": 18,
   "metadata": {
    "colab": {
     "base_uri": "https://localhost:8080/"
    },
    "id": "_zTHUZIp9Yec",
    "outputId": "3db98487-f0c0-407b-c216-38efdad4b943"
   },
   "outputs": [
    {
     "name": "stdout",
     "output_type": "stream",
     "text": [
      "===== HYPERPARAMETERS =====\n",
      "batch_size= 32\n",
      "n_epochs= 5\n",
      "learning_rate= 0.001\n",
      "==============================\n"
     ]
    }
   ],
   "source": [
    "seed = 2022\n",
    "np.random.seed(seed)\n",
    "torch.manual_seed(seed)\n",
    "\n",
    "net = SimpleConvolutionalNetwork()\n",
    "\n",
    "EsTrainer = EarlyStoppedTrainer(net, device, batch_size=32, n_epochs=5, learning_rate=0.001)"
   ]
  },
  {
   "cell_type": "code",
   "execution_count": 19,
   "metadata": {
    "colab": {
     "base_uri": "https://localhost:8080/"
    },
    "id": "SOjxk4kr9rgC",
    "outputId": "ef5692d3-e4bb-4547-cac0-7ea030c33c6f"
   },
   "outputs": [
    {
     "name": "stdout",
     "output_type": "stream",
     "text": [
      "training with early stopping rule(s): all\n",
      "Epoch 1, 10% \t train_loss: 2.06 train_acc: 26.31% took: 3.23s\n",
      "Epoch 1, 20% \t train_loss: 1.84 train_acc: 34.78% took: 0.70s\n",
      "Epoch 1, 30% \t train_loss: 1.67 train_acc: 43.20% took: 0.70s\n",
      "Epoch 1, 40% \t train_loss: 1.58 train_acc: 46.27% took: 0.69s\n",
      "Epoch 1, 50% \t train_loss: 1.57 train_acc: 45.26% took: 0.69s\n",
      "Epoch 1, 60% \t train_loss: 1.51 train_acc: 49.95% took: 0.69s\n",
      "Epoch 1, 70% \t train_loss: 1.46 train_acc: 49.24% took: 0.69s\n",
      "Epoch 1, 80% \t train_loss: 1.43 train_acc: 50.10% took: 0.69s\n",
      "Epoch 1, 90% \t train_loss: 1.44 train_acc: 50.20% took: 0.69s\n",
      "val_loss = 1.35 val_acc = 52.44%\n",
      "test_loss = 1.35 test_acc = 52.13%\n",
      "Epoch 2, 10% \t train_loss: 1.30 train_acc: 56.00% took: 3.52s\n",
      "Epoch 2, 20% \t train_loss: 1.31 train_acc: 55.39% took: 0.79s\n",
      "Epoch 2, 30% \t train_loss: 1.30 train_acc: 55.29% took: 0.84s\n",
      "Epoch 2, 40% \t train_loss: 1.29 train_acc: 55.70% took: 0.97s\n",
      "Epoch 2, 50% \t train_loss: 1.27 train_acc: 56.60% took: 1.10s\n",
      "Epoch 2, 60% \t train_loss: 1.24 train_acc: 58.06% took: 1.04s\n",
      "Epoch 2, 70% \t train_loss: 1.24 train_acc: 56.85% took: 0.87s\n",
      "Epoch 2, 80% \t train_loss: 1.28 train_acc: 55.65% took: 0.85s\n",
      "Epoch 2, 90% \t train_loss: 1.25 train_acc: 57.31% took: 0.87s\n",
      "val_loss = 1.22 val_acc = 56.80%\n",
      "test_loss = 1.23 test_acc = 56.78%\n",
      "Epoch 3, 10% \t train_loss: 1.08 train_acc: 62.70% took: 3.88s\n",
      "Epoch 3, 20% \t train_loss: 1.09 train_acc: 62.60% took: 0.86s\n",
      "Epoch 3, 30% \t train_loss: 1.15 train_acc: 60.33% took: 0.87s\n",
      "Epoch 3, 40% \t train_loss: 1.17 train_acc: 61.44% took: 0.88s\n",
      "Epoch 3, 50% \t train_loss: 1.14 train_acc: 60.18% took: 0.87s\n",
      "Epoch 3, 60% \t train_loss: 1.10 train_acc: 62.95% took: 0.88s\n",
      "Epoch 3, 70% \t train_loss: 1.17 train_acc: 59.53% took: 0.91s\n",
      "Epoch 3, 80% \t train_loss: 1.11 train_acc: 62.50% took: 0.88s\n",
      "Epoch 3, 90% \t train_loss: 1.20 train_acc: 59.32% took: 0.96s\n",
      "val_loss = 1.15 val_acc = 59.32%\n",
      "test_loss = 1.16 test_acc = 58.77%\n",
      "Epoch 4, 10% \t train_loss: 1.03 train_acc: 66.63% took: 3.90s\n",
      "Epoch 4, 20% \t train_loss: 1.04 train_acc: 64.57% took: 0.89s\n",
      "Epoch 4, 30% \t train_loss: 1.03 train_acc: 65.68% took: 0.89s\n",
      "Epoch 4, 40% \t train_loss: 1.01 train_acc: 66.28% took: 0.90s\n",
      "Epoch 4, 50% \t train_loss: 1.07 train_acc: 63.56% took: 0.91s\n",
      "Epoch 4, 60% \t train_loss: 1.01 train_acc: 65.42% took: 0.92s\n",
      "Epoch 4, 70% \t train_loss: 1.07 train_acc: 63.91% took: 0.90s\n",
      "Epoch 4, 80% \t train_loss: 1.03 train_acc: 66.38% took: 0.92s\n",
      "Epoch 4, 90% \t train_loss: 1.05 train_acc: 63.76% took: 0.92s\n",
      "val_loss = 1.15 val_acc = 60.14%\n",
      "test_loss = 1.13 test_acc = 60.37%\n",
      "Epoch 5, 10% \t train_loss: 0.93 train_acc: 68.50% took: 3.92s\n",
      "Epoch 5, 20% \t train_loss: 0.92 train_acc: 69.71% took: 0.94s\n",
      "Epoch 5, 30% \t train_loss: 0.94 train_acc: 67.99% took: 0.92s\n",
      "Epoch 5, 40% \t train_loss: 0.91 train_acc: 70.26% took: 0.94s\n",
      "Epoch 5, 50% \t train_loss: 0.92 train_acc: 69.30% took: 0.92s\n",
      "Epoch 5, 60% \t train_loss: 0.94 train_acc: 68.50% took: 0.92s\n",
      "Epoch 5, 70% \t train_loss: 0.95 train_acc: 67.34% took: 0.95s\n",
      "Epoch 5, 80% \t train_loss: 0.92 train_acc: 70.11% took: 0.95s\n",
      "Epoch 5, 90% \t train_loss: 1.06 train_acc: 65.52% took: 0.93s\n",
      "val_loss = 1.13 val_acc = 60.57%\n",
      "test_loss = 1.10 test_acc = 61.33%\n"
     ]
    },
    {
     "name": "stderr",
     "output_type": "stream",
     "text": [
      "C:\\Users\\16266\\AppData\\Local\\Temp\\ipykernel_18816\\2571846834.py:222: FutureWarning: The frame.append method is deprecated and will be removed from pandas in a future version. Use pandas.concat instead.\n",
      "  results = results.append({'ESR':'GL', 'best_epoch': best_epoch, 'max_epoch':epoch+1,\n",
      "C:\\Users\\16266\\AppData\\Local\\Temp\\ipykernel_18816\\2571846834.py:236: FutureWarning: The frame.append method is deprecated and will be removed from pandas in a future version. Use pandas.concat instead.\n",
      "  results = results.append({'ESR':'PQ', 'best_epoch': best_epoch, 'max_epoch':epoch+1,\n",
      "C:\\Users\\16266\\AppData\\Local\\Temp\\ipykernel_18816\\2571846834.py:250: FutureWarning: The frame.append method is deprecated and will be removed from pandas in a future version. Use pandas.concat instead.\n",
      "  results = results.append({'ESR':'UP', 'best_epoch': best_epoch, 'max_epoch':epoch+1,\n",
      "C:\\Users\\16266\\AppData\\Local\\Temp\\ipykernel_18816\\2571846834.py:256: FutureWarning: The frame.append method is deprecated and will be removed from pandas in a future version. Use pandas.concat instead.\n",
      "  results = results.append({'ESR':'full', 'best_epoch': best_epoch, 'max_epoch':self.n_epochs,\n"
     ]
    }
   ],
   "source": [
    "results = EsTrainer.es_train(ESR='all')"
   ]
  },
  {
   "cell_type": "code",
   "execution_count": 20,
   "metadata": {
    "colab": {
     "base_uri": "https://localhost:8080/",
     "height": 175
    },
    "id": "XNy2nt8I_p4R",
    "outputId": "ec33ad1f-9c2b-4288-ecef-3b0c8edf0f7b"
   },
   "outputs": [
    {
     "data": {
      "text/html": [
       "<div>\n",
       "<style scoped>\n",
       "    .dataframe tbody tr th:only-of-type {\n",
       "        vertical-align: middle;\n",
       "    }\n",
       "\n",
       "    .dataframe tbody tr th {\n",
       "        vertical-align: top;\n",
       "    }\n",
       "\n",
       "    .dataframe thead th {\n",
       "        text-align: right;\n",
       "    }\n",
       "</style>\n",
       "<table border=\"1\" class=\"dataframe\">\n",
       "  <thead>\n",
       "    <tr style=\"text-align: right;\">\n",
       "      <th></th>\n",
       "      <th>ESR</th>\n",
       "      <th>best_epoch</th>\n",
       "      <th>max_epoch</th>\n",
       "      <th>training_time</th>\n",
       "      <th>model_path</th>\n",
       "      <th>stopping_stats</th>\n",
       "    </tr>\n",
       "  </thead>\n",
       "  <tbody>\n",
       "    <tr>\n",
       "      <th>0</th>\n",
       "      <td>GL</td>\n",
       "      <td>5</td>\n",
       "      <td>5</td>\n",
       "      <td>89.723629</td>\n",
       "      <td>gl_model.pth</td>\n",
       "      <td>[0.0, 0.0, 0.0, 0.0, 0.0]</td>\n",
       "    </tr>\n",
       "    <tr>\n",
       "      <th>1</th>\n",
       "      <td>PQ</td>\n",
       "      <td>5</td>\n",
       "      <td>5</td>\n",
       "      <td>89.723629</td>\n",
       "      <td>pq_model.pth</td>\n",
       "      <td>[-1, -1, 0.0, -1, -1]</td>\n",
       "    </tr>\n",
       "    <tr>\n",
       "      <th>2</th>\n",
       "      <td>UP</td>\n",
       "      <td>5</td>\n",
       "      <td>5</td>\n",
       "      <td>89.723629</td>\n",
       "      <td>up_model.pth</td>\n",
       "      <td>[-1, -1, -1, 0, 0]</td>\n",
       "    </tr>\n",
       "    <tr>\n",
       "      <th>3</th>\n",
       "      <td>full</td>\n",
       "      <td>5</td>\n",
       "      <td>5</td>\n",
       "      <td>92.199912</td>\n",
       "      <td>best_model.pth</td>\n",
       "      <td>None</td>\n",
       "    </tr>\n",
       "  </tbody>\n",
       "</table>\n",
       "</div>"
      ],
      "text/plain": [
       "    ESR best_epoch max_epoch training_time      model_path  \\\n",
       "0    GL          5         5     89.723629    gl_model.pth   \n",
       "1    PQ          5         5     89.723629    pq_model.pth   \n",
       "2    UP          5         5     89.723629    up_model.pth   \n",
       "3  full          5         5     92.199912  best_model.pth   \n",
       "\n",
       "              stopping_stats  \n",
       "0  [0.0, 0.0, 0.0, 0.0, 0.0]  \n",
       "1      [-1, -1, 0.0, -1, -1]  \n",
       "2         [-1, -1, -1, 0, 0]  \n",
       "3                       None  "
      ]
     },
     "execution_count": 20,
     "metadata": {},
     "output_type": "execute_result"
    }
   ],
   "source": [
    "results"
   ]
  },
  {
   "cell_type": "code",
   "execution_count": 21,
   "metadata": {
    "colab": {
     "base_uri": "https://localhost:8080/"
    },
    "id": "hxI8xEsfOelu",
    "outputId": "027d5122-c226-4d4c-9738-2e8a64177978"
   },
   "outputs": [
    {
     "data": {
      "text/plain": [
       "<All keys matched successfully>"
      ]
     },
     "execution_count": 21,
     "metadata": {},
     "output_type": "execute_result"
    }
   ],
   "source": [
    "# Load one or more best models\n",
    "net.load_state_dict(th.load(results.iloc[3].model_path))"
   ]
  },
  {
   "cell_type": "markdown",
   "metadata": {
    "id": "scth09Wa8je8"
   },
   "source": [
    "#### Plot the loss and prediction accuracy against the epochs."
   ]
  },
  {
   "cell_type": "code",
   "execution_count": 22,
   "metadata": {
    "colab": {
     "base_uri": "https://localhost:8080/",
     "height": 404
    },
    "id": "JzxZ2zOralJm",
    "outputId": "aba4634f-9ac2-4c4b-c51a-45b797ac337b"
   },
   "outputs": [
    {
     "data": {
      "image/png": "[encoded data removed]",
      "text/plain": [
       "<Figure size 1152x432 with 2 Axes>"
      ]
     },
     "metadata": {
      "needs_background": "light"
     },
     "output_type": "display_data"
    }
   ],
   "source": [
    "plot_loss_acc(*EsTrainer.get_loss_history(), *EsTrainer.get_acc_history())"
   ]
  },
  {
   "cell_type": "markdown",
   "metadata": {
    "id": "qT5VU1LILopv"
   },
   "source": [
    "## Compute conformal p-values with a seperate calibration dataset"
   ]
  },
  {
   "cell_type": "code",
   "execution_count": 23,
   "metadata": {
    "colab": {
     "base_uri": "https://localhost:8080/"
    },
    "id": "fFjTjyfouilU",
    "outputId": "06a0c3b1-96ce-4896-f0ea-2d5e9fb34b14"
   },
   "outputs": [
    {
     "name": "stderr",
     "output_type": "stream",
     "text": [
      "'git' is not recognized as an internal or external command,\n",
      "operable program or batch file.\n"
     ]
    },
    {
     "name": "stdout",
     "output_type": "stream",
     "text": [
      "Collecting scikit-garden==0.1.3\n",
      "  Downloading scikit-garden-0.1.3.tar.gz (317 kB)\n",
      "Requirement already satisfied: numpy in c:\\users\\16266\\anaconda3\\lib\\site-packages (from scikit-garden==0.1.3) (1.21.5)\n",
      "Requirement already satisfied: scipy in c:\\users\\16266\\anaconda3\\lib\\site-packages (from scikit-garden==0.1.3) (1.7.3)\n",
      "Requirement already satisfied: scikit-learn>=0.18 in c:\\users\\16266\\anaconda3\\lib\\site-packages (from scikit-garden==0.1.3) (1.0.2)\n",
      "Requirement already satisfied: cython in c:\\users\\16266\\anaconda3\\lib\\site-packages (from scikit-garden==0.1.3) (0.29.28)\n",
      "Requirement already satisfied: threadpoolctl>=2.0.0 in c:\\users\\16266\\anaconda3\\lib\\site-packages (from scikit-learn>=0.18->scikit-garden==0.1.3) (2.2.0)\n",
      "Requirement already satisfied: joblib>=0.11 in c:\\users\\16266\\anaconda3\\lib\\site-packages (from scikit-learn>=0.18->scikit-garden==0.1.3) (1.1.0)\n",
      "Building wheels for collected packages: scikit-garden\n",
      "  Building wheel for scikit-garden (setup.py): started\n",
      "  Building wheel for scikit-garden (setup.py): finished with status 'error'"
     ]
    },
    {
     "name": "stderr",
     "output_type": "stream",
     "text": [
      "  ERROR: Command errored out with exit status 1:\n",
      "   command: 'C:\\Users\\16266\\anaconda3\\python.exe' -u -c 'import io, os, sys, setuptools, tokenize; sys.argv[0] = '\"'\"'C:\\\\Users\\\\16266\\\\AppData\\\\Local\\\\Temp\\\\pip-install-fmlopbj_\\\\scikit-garden_93ce81726658418ca213ee9b2a3d80ff\\\\setup.py'\"'\"'; __file__='\"'\"'C:\\\\Users\\\\16266\\\\AppData\\\\Local\\\\Temp\\\\pip-install-fmlopbj_\\\\scikit-garden_93ce81726658418ca213ee9b2a3d80ff\\\\setup.py'\"'\"';f = getattr(tokenize, '\"'\"'open'\"'\"', open)(__file__) if os.path.exists(__file__) else io.StringIO('\"'\"'from setuptools import setup; setup()'\"'\"');code = f.read().replace('\"'\"'\\r\\n'\"'\"', '\"'\"'\\n'\"'\"');f.close();exec(compile(code, __file__, '\"'\"'exec'\"'\"'))' bdist_wheel -d 'C:\\Users\\16266\\AppData\\Local\\Temp\\pip-wheel-dj2hufze'\n",
      "       cwd: C:\\Users\\16266\\AppData\\Local\\Temp\\pip-install-fmlopbj_\\scikit-garden_93ce81726658418ca213ee9b2a3d80ff\\\n",
      "  Complete output (58 lines):\n",
      "  C:\\Users\\16266\\anaconda3\\lib\\site-packages\\setuptools\\dist.py:757: UserWarning: Usage of dash-separated 'description-file' will not be supported in future versions. Please use the underscore name 'description_file' instead\n",
      "    warnings.warn(\n",
      "  Appending skgarden.mondrian.tree configuration to skgarden.mondrian\n",
      "  Ignoring attempt to set 'name' (from 'skgarden.mondrian' to 'skgarden.mondrian.tree')\n",
      "  Appending skgarden.mondrian.ensemble configuration to skgarden.mondrian\n",
      "  Ignoring attempt to set 'name' (from 'skgarden.mondrian' to 'skgarden.mondrian.ensemble')\n",
      "  Appending skgarden.mondrian configuration to skgarden\n",
      "  Ignoring attempt to set 'name' (from 'skgarden' to 'skgarden.mondrian')\n",
      "  Appending skgarden.quantile configuration to skgarden\n",
      "  Ignoring attempt to set 'name' (from 'skgarden' to 'skgarden.quantile')\n",
      "  Appending skgarden configuration to\n",
      "  Ignoring attempt to set 'name' (from '' to 'skgarden')\n",
      "  running bdist_wheel\n",
      "  running build\n",
      "  running config_cc\n",
      "  unifing config_cc, config, build_clib, build_ext, build commands --compiler options\n",
      "  running config_fc\n",
      "  unifing config_fc, config, build_clib, build_ext, build commands --fcompiler options\n",
      "  running build_src\n",
      "  build_src\n",
      "  building extension \"skgarden.mondrian.tree._tree\" sources\n",
      "  building extension \"skgarden.mondrian.tree._splitter\" sources\n",
      "  building extension \"skgarden.mondrian.tree._criterion\" sources\n",
      "  building extension \"skgarden.mondrian.tree._utils\" sources\n",
      "  build_src: building npy-pkg config files\n",
      "  C:\\Users\\16266\\anaconda3\\lib\\site-packages\\setuptools\\command\\install.py:34: SetuptoolsDeprecationWarning: setup.py install is deprecated. Use build and pip and other standards-based tools.\n",
      "    warnings.warn(\n",
      "  running build_py\n",
      "  creating build\n",
      "  creating build\\lib.win-amd64-3.9\n",
      "  creating build\\lib.win-amd64-3.9\\skgarden\n",
      "  copying skgarden\\forest.py -> build\\lib.win-amd64-3.9\\skgarden\n",
      "  copying skgarden\\setup.py -> build\\lib.win-amd64-3.9\\skgarden\n",
      "  copying skgarden\\__init__.py -> build\\lib.win-amd64-3.9\\skgarden\n",
      "  creating build\\lib.win-amd64-3.9\\skgarden\\mondrian\n",
      "  copying skgarden\\mondrian\\setup.py -> build\\lib.win-amd64-3.9\\skgarden\\mondrian\n",
      "  copying skgarden\\mondrian\\__init__.py -> build\\lib.win-amd64-3.9\\skgarden\\mondrian\n",
      "  creating build\\lib.win-amd64-3.9\\skgarden\\quantile\n",
      "  copying skgarden\\quantile\\ensemble.py -> build\\lib.win-amd64-3.9\\skgarden\\quantile\n",
      "  copying skgarden\\quantile\\setup.py -> build\\lib.win-amd64-3.9\\skgarden\\quantile\n",
      "  copying skgarden\\quantile\\tree.py -> build\\lib.win-amd64-3.9\\skgarden\\quantile\n",
      "  copying skgarden\\quantile\\utils.py -> build\\lib.win-amd64-3.9\\skgarden\\quantile\n",
      "  copying skgarden\\quantile\\__init__.py -> build\\lib.win-amd64-3.9\\skgarden\\quantile\n",
      "  creating build\\lib.win-amd64-3.9\\skgarden\\mondrian\\ensemble\n",
      "  copying skgarden\\mondrian\\ensemble\\forest.py -> build\\lib.win-amd64-3.9\\skgarden\\mondrian\\ensemble\n",
      "  copying skgarden\\mondrian\\ensemble\\setup.py -> build\\lib.win-amd64-3.9\\skgarden\\mondrian\\ensemble\n",
      "  copying skgarden\\mondrian\\ensemble\\__init__.py -> build\\lib.win-amd64-3.9\\skgarden\\mondrian\\ensemble\n",
      "  creating build\\lib.win-amd64-3.9\\skgarden\\mondrian\\tree\n",
      "  copying skgarden\\mondrian\\tree\\setup.py -> build\\lib.win-amd64-3.9\\skgarden\\mondrian\\tree\n",
      "  copying skgarden\\mondrian\\tree\\tree.py -> build\\lib.win-amd64-3.9\\skgarden\\mondrian\\tree\n",
      "  copying skgarden\\mondrian\\tree\\__init__.py -> build\\lib.win-amd64-3.9\\skgarden\\mondrian\\tree\n",
      "  running build_ext\n",
      "  No module named 'numpy.distutils._msvccompiler' in numpy.distutils; trying from distutils\n",
      "  customize MSVCCompiler\n",
      "  customize MSVCCompiler using build_ext\n",
      "  CCompilerOpt.cc_test_flags[1013] : testing flags (/O2)\n",
      "  error: Microsoft Visual C++ 14.0 or greater is required. Get it with \"Microsoft C++ Build Tools\": https://visualstudio.microsoft.com/visual-cpp-build-tools/\n",
      "  CCompilerOpt.cache_flush[809] : write cache to path -> C:\\Users\\16266\\AppData\\Local\\Temp\\pip-install-fmlopbj_\\scikit-garden_93ce81726658418ca213ee9b2a3d80ff\\build\\temp.win-amd64-3.9\\Release\\ccompiler_opt_cache_ext.py\n",
      "  ----------------------------------------\n",
      "  ERROR: Failed building wheel for scikit-garden\n",
      "    ERROR: Command errored out with exit status 1:\n",
      "     command: 'C:\\Users\\16266\\anaconda3\\python.exe' -u -c 'import io, os, sys, setuptools, tokenize; sys.argv[0] = '\"'\"'C:\\\\Users\\\\16266\\\\AppData\\\\Local\\\\Temp\\\\pip-install-fmlopbj_\\\\scikit-garden_93ce81726658418ca213ee9b2a3d80ff\\\\setup.py'\"'\"'; __file__='\"'\"'C:\\\\Users\\\\16266\\\\AppData\\\\Local\\\\Temp\\\\pip-install-fmlopbj_\\\\scikit-garden_93ce81726658418ca213ee9b2a3d80ff\\\\setup.py'\"'\"';f = getattr(tokenize, '\"'\"'open'\"'\"', open)(__file__) if os.path.exists(__file__) else io.StringIO('\"'\"'from setuptools import setup; setup()'\"'\"');code = f.read().replace('\"'\"'\\r\\n'\"'\"', '\"'\"'\\n'\"'\"');f.close();exec(compile(code, __file__, '\"'\"'exec'\"'\"'))' install --record 'C:\\Users\\16266\\AppData\\Local\\Temp\\pip-record-u_4zehj8\\install-record.txt' --single-version-externally-managed --compile --install-headers 'C:\\Users\\16266\\anaconda3\\Include\\scikit-garden'\n",
      "         cwd: C:\\Users\\16266\\AppData\\Local\\Temp\\pip-install-fmlopbj_\\scikit-garden_93ce81726658418ca213ee9b2a3d80ff\\\n",
      "    Complete output (58 lines):\n",
      "    C:\\Users\\16266\\anaconda3\\lib\\site-packages\\setuptools\\dist.py:757: UserWarning: Usage of dash-separated 'description-file' will not be supported in future versions. Please use the underscore name 'description_file' instead\n",
      "      warnings.warn(\n",
      "    Appending skgarden.mondrian.tree configuration to skgarden.mondrian\n",
      "    Ignoring attempt to set 'name' (from 'skgarden.mondrian' to 'skgarden.mondrian.tree')\n",
      "    Appending skgarden.mondrian.ensemble configuration to skgarden.mondrian\n",
      "    Ignoring attempt to set 'name' (from 'skgarden.mondrian' to 'skgarden.mondrian.ensemble')\n",
      "    Appending skgarden.mondrian configuration to skgarden\n",
      "    Ignoring attempt to set 'name' (from 'skgarden' to 'skgarden.mondrian')\n",
      "    Appending skgarden.quantile configuration to skgarden\n",
      "    Ignoring attempt to set 'name' (from 'skgarden' to 'skgarden.quantile')\n",
      "    Appending skgarden configuration to\n",
      "    Ignoring attempt to set 'name' (from '' to 'skgarden')\n",
      "    running install\n",
      "    C:\\Users\\16266\\anaconda3\\lib\\site-packages\\setuptools\\command\\install.py:34: SetuptoolsDeprecationWarning: setup.py install is deprecated. Use build and pip and other standards-based tools.\n",
      "      warnings.warn(\n",
      "    running build\n",
      "    running config_cc\n",
      "    unifing config_cc, config, build_clib, build_ext, build commands --compiler options\n",
      "    running config_fc\n",
      "    unifing config_fc, config, build_clib, build_ext, build commands --fcompiler options\n",
      "    running build_src\n",
      "    build_src\n",
      "    building extension \"skgarden.mondrian.tree._tree\" sources\n",
      "    building extension \"skgarden.mondrian.tree._splitter\" sources\n",
      "    building extension \"skgarden.mondrian.tree._criterion\" sources\n",
      "    building extension \"skgarden.mondrian.tree._utils\" sources\n",
      "    build_src: building npy-pkg config files\n",
      "    running build_py\n",
      "    creating build\n",
      "    creating build\\lib.win-amd64-3.9\n",
      "    creating build\\lib.win-amd64-3.9\\skgarden\n",
      "    copying skgarden\\forest.py -> build\\lib.win-amd64-3.9\\skgarden\n",
      "    copying skgarden\\setup.py -> build\\lib.win-amd64-3.9\\skgarden\n",
      "    copying skgarden\\__init__.py -> build\\lib.win-amd64-3.9\\skgarden\n",
      "    creating build\\lib.win-amd64-3.9\\skgarden\\mondrian\n",
      "    copying skgarden\\mondrian\\setup.py -> build\\lib.win-amd64-3.9\\skgarden\\mondrian\n",
      "    copying skgarden\\mondrian\\__init__.py -> build\\lib.win-amd64-3.9\\skgarden\\mondrian\n",
      "    creating build\\lib.win-amd64-3.9\\skgarden\\quantile\n",
      "    copying skgarden\\quantile\\ensemble.py -> build\\lib.win-amd64-3.9\\skgarden\\quantile\n",
      "    copying skgarden\\quantile\\setup.py -> build\\lib.win-amd64-3.9\\skgarden\\quantile\n",
      "    copying skgarden\\quantile\\tree.py -> build\\lib.win-amd64-3.9\\skgarden\\quantile\n",
      "    copying skgarden\\quantile\\utils.py -> build\\lib.win-amd64-3.9\\skgarden\\quantile\n",
      "    copying skgarden\\quantile\\__init__.py -> build\\lib.win-amd64-3.9\\skgarden\\quantile\n",
      "    creating build\\lib.win-amd64-3.9\\skgarden\\mondrian\\ensemble\n",
      "    copying skgarden\\mondrian\\ensemble\\forest.py -> build\\lib.win-amd64-3.9\\skgarden\\mondrian\\ensemble\n",
      "    copying skgarden\\mondrian\\ensemble\\setup.py -> build\\lib.win-amd64-3.9\\skgarden\\mondrian\\ensemble\n",
      "    copying skgarden\\mondrian\\ensemble\\__init__.py -> build\\lib.win-amd64-3.9\\skgarden\\mondrian\\ensemble\n",
      "    creating build\\lib.win-amd64-3.9\\skgarden\\mondrian\\tree\n",
      "    copying skgarden\\mondrian\\tree\\setup.py -> build\\lib.win-amd64-3.9\\skgarden\\mondrian\\tree\n",
      "    copying skgarden\\mondrian\\tree\\tree.py -> build\\lib.win-amd64-3.9\\skgarden\\mondrian\\tree\n",
      "    copying skgarden\\mondrian\\tree\\__init__.py -> build\\lib.win-amd64-3.9\\skgarden\\mondrian\\tree\n",
      "    running build_ext\n",
      "    No module named 'numpy.distutils._msvccompiler' in numpy.distutils; trying from distutils\n",
      "    customize MSVCCompiler\n",
      "    customize MSVCCompiler using build_ext\n",
      "    CCompilerOpt.cc_test_flags[1013] : testing flags (/O2)\n",
      "    error: Microsoft Visual C++ 14.0 or greater is required. Get it with \"Microsoft C++ Build Tools\": https://visualstudio.microsoft.com/visual-cpp-build-tools/\n",
      "    CCompilerOpt.cache_flush[809] : write cache to path -> C:\\Users\\16266\\AppData\\Local\\Temp\\pip-install-fmlopbj_\\scikit-garden_93ce81726658418ca213ee9b2a3d80ff\\build\\temp.win-amd64-3.9\\Release\\ccompiler_opt_cache_ext.py\n",
      "    ----------------------------------------\n",
      "ERROR: Command errored out with exit status 1: 'C:\\Users\\16266\\anaconda3\\python.exe' -u -c 'import io, os, sys, setuptools, tokenize; sys.argv[0] = '\"'\"'C:\\\\Users\\\\16266\\\\AppData\\\\Local\\\\Temp\\\\pip-install-fmlopbj_\\\\scikit-garden_93ce81726658418ca213ee9b2a3d80ff\\\\setup.py'\"'\"'; __file__='\"'\"'C:\\\\Users\\\\16266\\\\AppData\\\\Local\\\\Temp\\\\pip-install-fmlopbj_\\\\scikit-garden_93ce81726658418ca213ee9b2a3d80ff\\\\setup.py'\"'\"';f = getattr(tokenize, '\"'\"'open'\"'\"', open)(__file__) if os.path.exists(__file__) else io.StringIO('\"'\"'from setuptools import setup; setup()'\"'\"');code = f.read().replace('\"'\"'\\r\\n'\"'\"', '\"'\"'\\n'\"'\"');f.close();exec(compile(code, __file__, '\"'\"'exec'\"'\"'))' install --record 'C:\\Users\\16266\\AppData\\Local\\Temp\\pip-record-u_4zehj8\\install-record.txt' --single-version-externally-managed --compile --install-headers 'C:\\Users\\16266\\anaconda3\\Include\\scikit-garden' Check the logs for full command output.\n"
     ]
    },
    {
     "name": "stdout",
     "output_type": "stream",
     "text": [
      "\n",
      "  Running setup.py clean for scikit-garden\n",
      "Failed to build scikit-garden\n",
      "Installing collected packages: scikit-garden\n",
      "    Running setup.py install for scikit-garden: started\n",
      "    Running setup.py install for scikit-garden: finished with status 'error'\n",
      "Collecting scikit-learn==0.22\n",
      "  Downloading scikit-learn-0.22.tar.gz (6.9 MB)\n",
      "Requirement already satisfied: numpy>=1.11.0 in c:\\users\\16266\\anaconda3\\lib\\site-packages (from scikit-learn==0.22) (1.21.5)\n",
      "Requirement already satisfied: scipy>=0.17.0 in c:\\users\\16266\\anaconda3\\lib\\site-packages (from scikit-learn==0.22) (1.7.3)\n",
      "Requirement already satisfied: joblib>=0.11 in c:\\users\\16266\\anaconda3\\lib\\site-packages (from scikit-learn==0.22) (1.1.0)\n",
      "Building wheels for collected packages: scikit-learn\n",
      "  Building wheel for scikit-learn (setup.py): started\n",
      "  Building wheel for scikit-learn (setup.py): finished with status 'error'\n",
      "  Running setup.py clean for scikit-learn\n",
      "Failed to build scikit-learn\n",
      "Installing collected packages: scikit-learn\n",
      "  Attempting uninstall: scikit-learn\n",
      "    Found existing installation: scikit-learn 1.0.2\n",
      "    Uninstalling scikit-learn-1.0.2:\n",
      "      Successfully uninstalled scikit-learn-1.0.2\n",
      "    Running setup.py install for scikit-learn: started\n",
      "    Running setup.py install for scikit-learn: finished with status 'error'\n",
      "  Rolling back uninstall of scikit-learn\n",
      "  Moving to c:\\users\\16266\\anaconda3\\lib\\site-packages\\scikit_learn-1.0.2.dist-info\\\n",
      "   from C:\\Users\\16266\\anaconda3\\Lib\\site-packages\\~cikit_learn-1.0.2.dist-info\n",
      "  Moving to c:\\users\\16266\\anaconda3\\lib\\site-packages\\sklearn\\\n",
      "   from C:\\Users\\16266\\anaconda3\\Lib\\site-packages\\~klearn\n"
     ]
    },
    {
     "name": "stderr",
     "output_type": "stream",
     "text": [
      "  ERROR: Command errored out with exit status 1:\n",
      "   command: 'C:\\Users\\16266\\anaconda3\\python.exe' -u -c 'import io, os, sys, setuptools, tokenize; sys.argv[0] = '\"'\"'C:\\\\Users\\\\16266\\\\AppData\\\\Local\\\\Temp\\\\pip-install-gurnadau\\\\scikit-learn_472f95d66f8d4d3ab61e1ce383d01306\\\\setup.py'\"'\"'; __file__='\"'\"'C:\\\\Users\\\\16266\\\\AppData\\\\Local\\\\Temp\\\\pip-install-gurnadau\\\\scikit-learn_472f95d66f8d4d3ab61e1ce383d01306\\\\setup.py'\"'\"';f = getattr(tokenize, '\"'\"'open'\"'\"', open)(__file__) if os.path.exists(__file__) else io.StringIO('\"'\"'from setuptools import setup; setup()'\"'\"');code = f.read().replace('\"'\"'\\r\\n'\"'\"', '\"'\"'\\n'\"'\"');f.close();exec(compile(code, __file__, '\"'\"'exec'\"'\"'))' bdist_wheel -d 'C:\\Users\\16266\\AppData\\Local\\Temp\\pip-wheel-0bc2br_h'\n",
      "       cwd: C:\\Users\\16266\\AppData\\Local\\Temp\\pip-install-gurnadau\\scikit-learn_472f95d66f8d4d3ab61e1ce383d01306\\\n",
      "  Complete output (35 lines):\n",
      "  Partial import of sklearn during the build process.\n",
      "  No module named 'numpy.distutils._msvccompiler' in numpy.distutils; trying from distutils\n",
      "  Traceback (most recent call last):\n",
      "    File \"<string>\", line 1, in <module>\n",
      "    File \"C:\\Users\\16266\\AppData\\Local\\Temp\\pip-install-gurnadau\\scikit-learn_472f95d66f8d4d3ab61e1ce383d01306\\setup.py\", line 303, in <module>\n",
      "      setup_package()\n",
      "    File \"C:\\Users\\16266\\AppData\\Local\\Temp\\pip-install-gurnadau\\scikit-learn_472f95d66f8d4d3ab61e1ce383d01306\\setup.py\", line 299, in setup_package\n",
      "      setup(**metadata)\n",
      "    File \"C:\\Users\\16266\\anaconda3\\lib\\site-packages\\numpy\\distutils\\core.py\", line 135, in setup\n",
      "      config = configuration()\n",
      "    File \"C:\\Users\\16266\\AppData\\Local\\Temp\\pip-install-gurnadau\\scikit-learn_472f95d66f8d4d3ab61e1ce383d01306\\setup.py\", line 182, in configuration\n",
      "      config.add_subpackage('sklearn')\n",
      "    File \"C:\\Users\\16266\\anaconda3\\lib\\site-packages\\numpy\\distutils\\misc_util.py\", line 1014, in add_subpackage\n",
      "      config_list = self.get_subpackage(subpackage_name, subpackage_path,\n",
      "    File \"C:\\Users\\16266\\anaconda3\\lib\\site-packages\\numpy\\distutils\\misc_util.py\", line 980, in get_subpackage\n",
      "      config = self._get_configuration_from_setup_py(\n",
      "    File \"C:\\Users\\16266\\anaconda3\\lib\\site-packages\\numpy\\distutils\\misc_util.py\", line 922, in _get_configuration_from_setup_py\n",
      "      config = setup_module.configuration(*args)\n",
      "    File \"sklearn\\setup.py\", line 86, in configuration\n",
      "      cythonize_extensions(top_path, config)\n",
      "    File \"C:\\Users\\16266\\AppData\\Local\\Temp\\pip-install-gurnadau\\scikit-learn_472f95d66f8d4d3ab61e1ce383d01306\\sklearn\\_build_utils\\__init__.py\", line 50, in cythonize_extensions\n",
      "      basic_check_build()\n",
      "    File \"C:\\Users\\16266\\AppData\\Local\\Temp\\pip-install-gurnadau\\scikit-learn_472f95d66f8d4d3ab61e1ce383d01306\\sklearn\\_build_utils\\pre_build_helpers.py\", line 70, in basic_check_build\n",
      "      compile_test_program(code)\n",
      "    File \"C:\\Users\\16266\\AppData\\Local\\Temp\\pip-install-gurnadau\\scikit-learn_472f95d66f8d4d3ab61e1ce383d01306\\sklearn\\_build_utils\\pre_build_helpers.py\", line 39, in compile_test_program\n",
      "      ccompiler.compile(['test_program.c'], output_dir='objects',\n",
      "    File \"C:\\Users\\16266\\anaconda3\\lib\\site-packages\\setuptools\\_distutils\\_msvccompiler.py\", line 327, in compile\n",
      "      self.initialize()\n",
      "    File \"C:\\Users\\16266\\anaconda3\\lib\\site-packages\\setuptools\\_distutils\\_msvccompiler.py\", line 224, in initialize\n",
      "      vc_env = _get_vc_env(plat_spec)\n",
      "    File \"C:\\Users\\16266\\anaconda3\\lib\\site-packages\\setuptools\\msvc.py\", line 316, in msvc14_get_vc_env\n",
      "      return _msvc14_get_vc_env(plat_spec)\n",
      "    File \"C:\\Users\\16266\\anaconda3\\lib\\site-packages\\setuptools\\msvc.py\", line 270, in _msvc14_get_vc_env\n",
      "      raise distutils.errors.DistutilsPlatformError(\n",
      "  distutils.errors.DistutilsPlatformError: Microsoft Visual C++ 14.0 or greater is required. Get it with \"Microsoft C++ Build Tools\": https://visualstudio.microsoft.com/visual-cpp-build-tools/\n",
      "  ----------------------------------------\n",
      "  ERROR: Failed building wheel for scikit-learn\n",
      "    ERROR: Command errored out with exit status 1:\n",
      "     command: 'C:\\Users\\16266\\anaconda3\\python.exe' -u -c 'import io, os, sys, setuptools, tokenize; sys.argv[0] = '\"'\"'C:\\\\Users\\\\16266\\\\AppData\\\\Local\\\\Temp\\\\pip-install-gurnadau\\\\scikit-learn_472f95d66f8d4d3ab61e1ce383d01306\\\\setup.py'\"'\"'; __file__='\"'\"'C:\\\\Users\\\\16266\\\\AppData\\\\Local\\\\Temp\\\\pip-install-gurnadau\\\\scikit-learn_472f95d66f8d4d3ab61e1ce383d01306\\\\setup.py'\"'\"';f = getattr(tokenize, '\"'\"'open'\"'\"', open)(__file__) if os.path.exists(__file__) else io.StringIO('\"'\"'from setuptools import setup; setup()'\"'\"');code = f.read().replace('\"'\"'\\r\\n'\"'\"', '\"'\"'\\n'\"'\"');f.close();exec(compile(code, __file__, '\"'\"'exec'\"'\"'))' install --record 'C:\\Users\\16266\\AppData\\Local\\Temp\\pip-record-0nk1rno2\\install-record.txt' --single-version-externally-managed --compile --install-headers 'C:\\Users\\16266\\anaconda3\\Include\\scikit-learn'\n",
      "         cwd: C:\\Users\\16266\\AppData\\Local\\Temp\\pip-install-gurnadau\\scikit-learn_472f95d66f8d4d3ab61e1ce383d01306\\\n",
      "    Complete output (35 lines):\n",
      "    Partial import of sklearn during the build process.\n",
      "    No module named 'numpy.distutils._msvccompiler' in numpy.distutils; trying from distutils\n",
      "    Traceback (most recent call last):\n",
      "      File \"<string>\", line 1, in <module>\n",
      "      File \"C:\\Users\\16266\\AppData\\Local\\Temp\\pip-install-gurnadau\\scikit-learn_472f95d66f8d4d3ab61e1ce383d01306\\setup.py\", line 303, in <module>\n",
      "        setup_package()\n",
      "      File \"C:\\Users\\16266\\AppData\\Local\\Temp\\pip-install-gurnadau\\scikit-learn_472f95d66f8d4d3ab61e1ce383d01306\\setup.py\", line 299, in setup_package\n",
      "        setup(**metadata)\n",
      "      File \"C:\\Users\\16266\\anaconda3\\lib\\site-packages\\numpy\\distutils\\core.py\", line 135, in setup\n",
      "        config = configuration()\n",
      "      File \"C:\\Users\\16266\\AppData\\Local\\Temp\\pip-install-gurnadau\\scikit-learn_472f95d66f8d4d3ab61e1ce383d01306\\setup.py\", line 182, in configuration\n",
      "        config.add_subpackage('sklearn')\n",
      "      File \"C:\\Users\\16266\\anaconda3\\lib\\site-packages\\numpy\\distutils\\misc_util.py\", line 1014, in add_subpackage\n",
      "        config_list = self.get_subpackage(subpackage_name, subpackage_path,\n",
      "      File \"C:\\Users\\16266\\anaconda3\\lib\\site-packages\\numpy\\distutils\\misc_util.py\", line 980, in get_subpackage\n",
      "        config = self._get_configuration_from_setup_py(\n",
      "      File \"C:\\Users\\16266\\anaconda3\\lib\\site-packages\\numpy\\distutils\\misc_util.py\", line 922, in _get_configuration_from_setup_py\n",
      "        config = setup_module.configuration(*args)\n",
      "      File \"sklearn\\setup.py\", line 86, in configuration\n",
      "        cythonize_extensions(top_path, config)\n",
      "      File \"C:\\Users\\16266\\AppData\\Local\\Temp\\pip-install-gurnadau\\scikit-learn_472f95d66f8d4d3ab61e1ce383d01306\\sklearn\\_build_utils\\__init__.py\", line 50, in cythonize_extensions\n",
      "        basic_check_build()\n",
      "      File \"C:\\Users\\16266\\AppData\\Local\\Temp\\pip-install-gurnadau\\scikit-learn_472f95d66f8d4d3ab61e1ce383d01306\\sklearn\\_build_utils\\pre_build_helpers.py\", line 70, in basic_check_build\n",
      "        compile_test_program(code)\n",
      "      File \"C:\\Users\\16266\\AppData\\Local\\Temp\\pip-install-gurnadau\\scikit-learn_472f95d66f8d4d3ab61e1ce383d01306\\sklearn\\_build_utils\\pre_build_helpers.py\", line 39, in compile_test_program\n",
      "        ccompiler.compile(['test_program.c'], output_dir='objects',\n",
      "      File \"C:\\Users\\16266\\anaconda3\\lib\\site-packages\\setuptools\\_distutils\\_msvccompiler.py\", line 327, in compile\n",
      "        self.initialize()\n",
      "      File \"C:\\Users\\16266\\anaconda3\\lib\\site-packages\\setuptools\\_distutils\\_msvccompiler.py\", line 224, in initialize\n",
      "        vc_env = _get_vc_env(plat_spec)\n",
      "      File \"C:\\Users\\16266\\anaconda3\\lib\\site-packages\\setuptools\\msvc.py\", line 316, in msvc14_get_vc_env\n",
      "        return _msvc14_get_vc_env(plat_spec)\n",
      "      File \"C:\\Users\\16266\\anaconda3\\lib\\site-packages\\setuptools\\msvc.py\", line 270, in _msvc14_get_vc_env\n",
      "        raise distutils.errors.DistutilsPlatformError(\n",
      "    distutils.errors.DistutilsPlatformError: Microsoft Visual C++ 14.0 or greater is required. Get it with \"Microsoft C++ Build Tools\": https://visualstudio.microsoft.com/visual-cpp-build-tools/\n",
      "    ----------------------------------------\n",
      "ERROR: Command errored out with exit status 1: 'C:\\Users\\16266\\anaconda3\\python.exe' -u -c 'import io, os, sys, setuptools, tokenize; sys.argv[0] = '\"'\"'C:\\\\Users\\\\16266\\\\AppData\\\\Local\\\\Temp\\\\pip-install-gurnadau\\\\scikit-learn_472f95d66f8d4d3ab61e1ce383d01306\\\\setup.py'\"'\"'; __file__='\"'\"'C:\\\\Users\\\\16266\\\\AppData\\\\Local\\\\Temp\\\\pip-install-gurnadau\\\\scikit-learn_472f95d66f8d4d3ab61e1ce383d01306\\\\setup.py'\"'\"';f = getattr(tokenize, '\"'\"'open'\"'\"', open)(__file__) if os.path.exists(__file__) else io.StringIO('\"'\"'from setuptools import setup; setup()'\"'\"');code = f.read().replace('\"'\"'\\r\\n'\"'\"', '\"'\"'\\n'\"'\"');f.close();exec(compile(code, __file__, '\"'\"'exec'\"'\"'))' install --record 'C:\\Users\\16266\\AppData\\Local\\Temp\\pip-record-0nk1rno2\\install-record.txt' --single-version-externally-managed --compile --install-headers 'C:\\Users\\16266\\anaconda3\\Include\\scikit-learn' Check the logs for full command output.\n"
     ]
    },
    {
     "name": "stderr",
     "output_type": "stream",
     "text": [
      "'git' is not recognized as an internal or external command,\n",
      "operable program or batch file.\n",
      "'git' is not recognized as an internal or external command,\n",
      "operable program or batch file.\n",
      "'git' is not recognized as an internal or external command,\n",
      "operable program or batch file.\n"
     ]
    }
   ],
   "source": [
    "import sys\n",
    "\n",
    "!git clone https://github.com/msesia/arc\n",
    "!pip install -U scikit-garden==0.1.3\n",
    "!pip install -U scikit-learn==0.22\n",
    "!git clone https://github.com/yromano/cqr\n",
    "!git clone https://github.com/msesia/cqr-comparison\n",
    "!git clone https://github.com/msesia/arc"
   ]
  },
  {
   "cell_type": "code",
   "execution_count": null,
   "metadata": {
    "colab": {
     "base_uri": "https://localhost:8080/"
    },
    "id": "NfsQcIT6Sn1s",
    "outputId": "696bc281-2f39-46cb-a346-18400c988a52"
   },
   "outputs": [
    {
     "name": "stderr",
     "output_type": "stream",
     "text": [
      "/usr/local/lib/python3.7/dist-packages/sklearn/utils/deprecation.py:144: FutureWarning: The sklearn.ensemble.forest module is  deprecated in version 0.22 and will be removed in version 0.24. The corresponding classes / functions should instead be imported from sklearn.ensemble. Anything that cannot be imported from sklearn.ensemble is now part of the private API.\n",
      "  warnings.warn(message, FutureWarning)\n",
      "/usr/local/lib/python3.7/dist-packages/sklearn/externals/six.py:31: FutureWarning: The module is deprecated in version 0.21 and will be removed in version 0.23 since we've dropped support for Python 2.7. Please rely on the official version of six (https://pypi.org/project/six/).\n",
      "  \"(https://pypi.org/project/six/).\", FutureWarning)\n",
      "/usr/local/lib/python3.7/dist-packages/sklearn/utils/deprecation.py:144: FutureWarning: The sklearn.tree.tree module is  deprecated in version 0.22 and will be removed in version 0.24. The corresponding classes / functions should instead be imported from sklearn.tree. Anything that cannot be imported from sklearn.tree is now part of the private API.\n",
      "  warnings.warn(message, FutureWarning)\n"
     ]
    }
   ],
   "source": [
    "import sys\n",
    "sys.path.append('/content/cqr')\n",
    "sys.path.append('/content/cqr-comparison')\n",
    "sys.path.append('/content/arc')\n",
    "\n",
    "import arc\n",
    "from arc import models\n",
    "from arc import methods\n",
    "from arc import black_boxes\n",
    "from arc import others\n",
    "from arc import coverage"
   ]
  },
  {
   "cell_type": "code",
   "execution_count": null,
   "metadata": {
    "id": "G_wnlRmtMwgY"
   },
   "outputs": [],
   "source": [
    "def evaluate_predictions(S, y):\n",
    "    coverage = np.mean([y[i] in S[i] for i in range(len(y))])\n",
    "    length = np.mean([len(S[i]) for i in range(len(y))])\n",
    "    idx_cover = np.where([y[i] in S[i] for i in range(len(y))])[0]\n",
    "    length_cover = np.mean([len(S[i]) for i in idx_cover])\n",
    "    return coverage, length, length_cover\n",
    "\n",
    "def evaluate_marginal(S, y):\n",
    "    coverage, length, length_cover = evaluate_predictions(S, y)\n",
    "    print('Marginal coverage:       {:2.3%}'.format(coverage))\n",
    "    print('Average size:            {:2.3f}'.format(length))\n",
    "    print('Average size | coverage: {:2.3f}'.format(length_cover))\n",
    "\n",
    "def evaluate_conditional(S, y):\n",
    "    n_class = len(np.unique(y))\n",
    "    for i in range(n_class):\n",
    "        label = i\n",
    "        idx = np.where(y==label)[0]\n",
    "        coverage, length, length_cover = evaluate_predictions(np.array(S, dtype=object)[idx], np.array(y)[idx])\n",
    "        print('Conditional coverage for label {}:       {:2.3%}'.format(classes[label], coverage))\n",
    "        print('Average size:            {:2.3f}'.format(length))\n",
    "        print('Average size | coverage: {:2.3f}'.format(length_cover))"
   ]
  },
  {
   "cell_type": "code",
   "execution_count": null,
   "metadata": {
    "id": "WIqtf3bmQH6f"
   },
   "outputs": [],
   "source": [
    "# Load a seperate calibration data exchangeble with test data\n",
    "cal_loader = torch.utils.data.DataLoader(test_set, batch_size=n_cal_samples, sampler=cal_sampler,\n",
    "                                         num_workers=1)"
   ]
  },
  {
   "cell_type": "code",
   "execution_count": null,
   "metadata": {
    "id": "aUxYunbPRFyh"
   },
   "outputs": [],
   "source": [
    "from arc.classification import ProbabilityAccumulator as ProbAccum\n",
    "from scipy.stats.mstats import mquantiles\n",
    "\n",
    "class SplitConformal:\n",
    "    \"\"\"\n",
    "    Prediction sets by split conformal method, modified from https://github.com/msesia/arc\n",
    "    \"\"\"\n",
    "    def __init__(self, cal_loader, black_box, device, alpha, random_state=2022, allow_empty=True, verbose=False):\n",
    "        \"\"\"\n",
    "        :param cal_loader: (dataloader) dataloader that loads all calibration data at once\n",
    "        :param black_box: (nn) trained neural network\n",
    "        :param device: (cpu or gpu) location of the network\n",
    "        :param alpha: (float) confidence level\n",
    "        \"\"\"\n",
    "        self.allow_empty = allow_empty\n",
    "        self.black_box = black_box\n",
    "        self.device = device\n",
    "\n",
    "        # Load the calibration data all at once\n",
    "        X_calib, Y_calib = next(iter(cal_loader))\n",
    "\n",
    "        # Form prediction sets on calibration data\n",
    "        logits = self.black_box(X_calib.to(self.device))\n",
    "        self.predict_proba = nn.Softmax(dim=1)\n",
    "        with th.no_grad():\n",
    "            p_hat_calib = self.predict_proba(logits).cpu().numpy()\n",
    "        grey_box = ProbAccum(p_hat_calib)\n",
    "\n",
    "        n2 = X_calib.shape[0]\n",
    "        rng = np.random.default_rng(random_state)\n",
    "        epsilon = rng.uniform(low=0.0, high=1.0, size=n2)\n",
    "        alpha_max = grey_box.calibrate_scores(Y_calib, epsilon=epsilon)\n",
    "        scores = alpha - alpha_max\n",
    "        level_adjusted = (1.0-alpha)*(1.0+1.0/float(n2))\n",
    "        alpha_correction = mquantiles(scores, prob=level_adjusted)\n",
    "\n",
    "        # Store calibrate level\n",
    "        self.alpha_calibrated = alpha - alpha_correction\n",
    "\n",
    "    def predict(self, X_test, random_state=2020):\n",
    "        \"\"\"\n",
    "        Compute prediction sets for given test point(s)\n",
    "        :param X_test: (tensor) features of the test point in tensor form\n",
    "        :return S_hat: (array-like) prediction set of the test point\n",
    "        \"\"\"\n",
    "        n = X_test.shape[0]\n",
    "        rng = np.random.default_rng(random_state)\n",
    "        epsilon = rng.uniform(low=0.0, high=1.0, size=n)\n",
    "        logits = self.black_box(X_test.to(self.device))\n",
    "        with th.no_grad():\n",
    "            p_hat = self.predict_proba(logits).cpu().numpy()\n",
    "        grey_box = ProbAccum(p_hat)\n",
    "        S_hat = grey_box.predict_sets(self.alpha_calibrated, epsilon=epsilon, allow_empty=self.allow_empty)\n",
    "        return S_hat"
   ]
  },
  {
   "cell_type": "markdown",
   "metadata": {
    "id": "mRG92J3zsyh9"
   },
   "source": [
    "#### Load test data, compute prediction sets and evaluate the coverage."
   ]
  },
  {
   "cell_type": "code",
   "execution_count": null,
   "metadata": {
    "id": "-vj12zOCQPeW"
   },
   "outputs": [],
   "source": [
    "alpha = 0.1\n",
    "PredSets_sc = SplitConformal(cal_loader, net, device, alpha)"
   ]
  },
  {
   "cell_type": "code",
   "execution_count": null,
   "metadata": {
    "id": "eFsiH4x4UC5T"
   },
   "outputs": [],
   "source": [
    "test_loader = torch.utils.data.DataLoader(test_set, batch_size=n_test_samples, sampler=test_sampler,\n",
    "                                         num_workers=1)\n",
    "# get all test images\n",
    "dataiter = iter(test_loader)\n",
    "images, labels = dataiter.next()"
   ]
  },
  {
   "cell_type": "code",
   "execution_count": null,
   "metadata": {
    "colab": {
     "base_uri": "https://localhost:8080/"
    },
    "id": "JJCCT-M3XfRf",
    "outputId": "62692733-5dce-4a7a-c376-138cca49cc96"
   },
   "outputs": [
    {
     "name": "stdout",
     "output_type": "stream",
     "text": [
      "Marginal coverage:       90.040%\n",
      "Average size:            2.940\n",
      "Average size | coverage: 2.955\n",
      "==================================================\n",
      "Conditional coverage for label plane:       91.189%\n",
      "Average size:            2.709\n",
      "Average size | coverage: 2.733\n",
      "Conditional coverage for label car:       92.871%\n",
      "Average size:            2.180\n",
      "Average size | coverage: 2.213\n",
      "Conditional coverage for label bird:       84.766%\n",
      "Average size:            3.660\n",
      "Average size | coverage: 3.832\n",
      "Conditional coverage for label cat:       90.946%\n",
      "Average size:            3.777\n",
      "Average size | coverage: 3.881\n",
      "Conditional coverage for label deer:       85.404%\n",
      "Average size:            3.795\n",
      "Average size | coverage: 3.873\n",
      "Conditional coverage for label dog:       91.598%\n",
      "Average size:            3.311\n",
      "Average size | coverage: 3.271\n",
      "Conditional coverage for label frog:       91.650%\n",
      "Average size:            2.578\n",
      "Average size | coverage: 2.536\n",
      "Conditional coverage for label horse:       90.303%\n",
      "Average size:            3.010\n",
      "Average size | coverage: 2.991\n",
      "Conditional coverage for label ship:       92.063%\n",
      "Average size:            2.127\n",
      "Average size | coverage: 2.136\n",
      "Conditional coverage for label truck:       89.864%\n",
      "Average size:            2.255\n",
      "Average size | coverage: 2.223\n"
     ]
    }
   ],
   "source": [
    "S_sc = PredSets_sc.predict(images)\n",
    "evaluate_marginal(S_sc, labels.numpy())\n",
    "print('='*50)\n",
    "evaluate_conditional(S_sc, labels.numpy())"
   ]
  },
  {
   "cell_type": "markdown",
   "metadata": {
    "id": "MlSWY6xVtUd4"
   },
   "source": [
    "#### Plot some images and their prediction sets."
   ]
  },
  {
   "cell_type": "code",
   "execution_count": null,
   "metadata": {
    "colab": {
     "base_uri": "https://localhost:8080/",
     "height": 268
    },
    "id": "rjGqQU5WaheW",
    "outputId": "60306f98-3842-46cc-8b56-318ffbb90b07"
   },
   "outputs": [
    {
     "data": {
      "image/png": "[encoded data removed]",
      "text/plain": [
       "<Figure size 1152x252 with 4 Axes>"
      ]
     },
     "metadata": {
      "needs_background": "light"
     },
     "output_type": "display_data"
    }
   ],
   "source": [
    "n_plots = 4\n",
    "plot_indices = np.random.choice(np.arange(0,n_test_samples),n_plots)\n",
    "\n",
    "fig,axs = plt.subplots(1, n_plots, figsize=(16,3.5))\n",
    "for i in range(n_plots):\n",
    "    # Convert tensor images to np image for plotting\n",
    "    idx = plot_indices[i]\n",
    "    img = get_image(images[idx])\n",
    "    axs[i].imshow(img)\n",
    "    axs[i].set_xlabel(str(np.array(classes)[labels[idx]]))\n",
    "    axs[i].set_title('pred: '+str(np.array(classes)[S_sc[idx]]))"
   ]
  },
  {
   "cell_type": "code",
   "execution_count": null,
   "metadata": {
    "id": "LewNfL1v8maS"
   },
   "outputs": [],
   "source": []
  }
 ],
 "metadata": {
  "accelerator": "GPU",
  "colab": {
   "collapsed_sections": [],
   "provenance": [],
   "toc_visible": true
  },
  "gpuClass": "standard",
  "kernelspec": {
   "display_name": "Python 3 (ipykernel)",
   "language": "python",
   "name": "python3"
  },
  "language_info": {
   "codemirror_mode": {
    "name": "ipython",
    "version": 3
   },
   "file_extension": ".py",
   "mimetype": "text/x-python",
   "name": "python",
   "nbconvert_exporter": "python",
   "pygments_lexer": "ipython3",
   "version": "3.9.12"
  },
  "widgets": {
   "application/vnd.jupyter.widget-state+json": {
    "2f8c686cdb504283b9bc5ab1994ba3f5": {
     "model_module": "@jupyter-widgets/base",
     "model_module_version": "1.2.0",
     "model_name": "LayoutModel",
     "state": {
      "_model_module": "@jupyter-widgets/base",
      "_model_module_version": "1.2.0",
      "_model_name": "LayoutModel",
      "_view_count": null,
      "_view_module": "@jupyter-widgets/base",
      "_view_module_version": "1.2.0",
      "_view_name": "LayoutView",
      "align_content": null,
      "align_items": null,
      "align_self": null,
      "border": null,
      "bottom": null,
      "display": null,
      "flex": null,
      "flex_flow": null,
      "grid_area": null,
      "grid_auto_columns": null,
      "grid_auto_flow": null,
      "grid_auto_rows": null,
      "grid_column": null,
      "grid_gap": null,
      "grid_row": null,
      "grid_template_areas": null,
      "grid_template_columns": null,
      "grid_template_rows": null,
      "height": null,
      "justify_content": null,
      "justify_items": null,
      "left": null,
      "margin": null,
      "max_height": null,
      "max_width": null,
      "min_height": null,
      "min_width": null,
      "object_fit": null,
      "object_position": null,
      "order": null,
      "overflow": null,
      "overflow_x": null,
      "overflow_y": null,
      "padding": null,
      "right": null,
      "top": null,
      "visibility": null,
      "width": null
     }
    },
    "324913173cfd404e9fa55df1ec7186c2": {
     "model_module": "@jupyter-widgets/controls",
     "model_module_version": "1.5.0",
     "model_name": "HBoxModel",
     "state": {
      "_dom_classes": [],
      "_model_module": "@jupyter-widgets/controls",
      "_model_module_version": "1.5.0",
      "_model_name": "HBoxModel",
      "_view_count": null,
      "_view_module": "@jupyter-widgets/controls",
      "_view_module_version": "1.5.0",
      "_view_name": "HBoxView",
      "box_style": "",
      "children": [
       "IPY_MODEL_6b69490210524da88c391964e30c00a1",
       "IPY_MODEL_fe9386563f344d1c9f59682700813328",
       "IPY_MODEL_de530a5db6e64c14830e9e39432f6e85"
      ],
      "layout": "IPY_MODEL_b34dcbe003044c37b601507507683261"
     }
    },
    "47416075176d4f2f85fb44296106e9c3": {
     "model_module": "@jupyter-widgets/controls",
     "model_module_version": "1.5.0",
     "model_name": "ProgressStyleModel",
     "state": {
      "_model_module": "@jupyter-widgets/controls",
      "_model_module_version": "1.5.0",
      "_model_name": "ProgressStyleModel",
      "_view_count": null,
      "_view_module": "@jupyter-widgets/base",
      "_view_module_version": "1.2.0",
      "_view_name": "StyleView",
      "bar_color": null,
      "description_width": ""
     }
    },
    "4b9fd660819b42adb7b0f6f0909ef10e": {
     "model_module": "@jupyter-widgets/base",
     "model_module_version": "1.2.0",
     "model_name": "LayoutModel",
     "state": {
      "_model_module": "@jupyter-widgets/base",
      "_model_module_version": "1.2.0",
      "_model_name": "LayoutModel",
      "_view_count": null,
      "_view_module": "@jupyter-widgets/base",
      "_view_module_version": "1.2.0",
      "_view_name": "LayoutView",
      "align_content": null,
      "align_items": null,
      "align_self": null,
      "border": null,
      "bottom": null,
      "display": null,
      "flex": null,
      "flex_flow": null,
      "grid_area": null,
      "grid_auto_columns": null,
      "grid_auto_flow": null,
      "grid_auto_rows": null,
      "grid_column": null,
      "grid_gap": null,
      "grid_row": null,
      "grid_template_areas": null,
      "grid_template_columns": null,
      "grid_template_rows": null,
      "height": null,
      "justify_content": null,
      "justify_items": null,
      "left": null,
      "margin": null,
      "max_height": null,
      "max_width": null,
      "min_height": null,
      "min_width": null,
      "object_fit": null,
      "object_position": null,
      "order": null,
      "overflow": null,
      "overflow_x": null,
      "overflow_y": null,
      "padding": null,
      "right": null,
      "top": null,
      "visibility": null,
      "width": null
     }
    },
    "5ed825d8b782461b95e023ebaae2b755": {
     "model_module": "@jupyter-widgets/controls",
     "model_module_version": "1.5.0",
     "model_name": "DescriptionStyleModel",
     "state": {
      "_model_module": "@jupyter-widgets/controls",
      "_model_module_version": "1.5.0",
      "_model_name": "DescriptionStyleModel",
      "_view_count": null,
      "_view_module": "@jupyter-widgets/base",
      "_view_module_version": "1.2.0",
      "_view_name": "StyleView",
      "description_width": ""
     }
    },
    "6b69490210524da88c391964e30c00a1": {
     "model_module": "@jupyter-widgets/controls",
     "model_module_version": "1.5.0",
     "model_name": "HTMLModel",
     "state": {
      "_dom_classes": [],
      "_model_module": "@jupyter-widgets/controls",
      "_model_module_version": "1.5.0",
      "_model_name": "HTMLModel",
      "_view_count": null,
      "_view_module": "@jupyter-widgets/controls",
      "_view_module_version": "1.5.0",
      "_view_name": "HTMLView",
      "description": "",
      "description_tooltip": null,
      "layout": "IPY_MODEL_2f8c686cdb504283b9bc5ab1994ba3f5",
      "placeholder": "​",
      "style": "IPY_MODEL_5ed825d8b782461b95e023ebaae2b755",
      "value": "100%"
     }
    },
    "6e8eaa85a25843e98525df0917ca04e2": {
     "model_module": "@jupyter-widgets/base",
     "model_module_version": "1.2.0",
     "model_name": "LayoutModel",
     "state": {
      "_model_module": "@jupyter-widgets/base",
      "_model_module_version": "1.2.0",
      "_model_name": "LayoutModel",
      "_view_count": null,
      "_view_module": "@jupyter-widgets/base",
      "_view_module_version": "1.2.0",
      "_view_name": "LayoutView",
      "align_content": null,
      "align_items": null,
      "align_self": null,
      "border": null,
      "bottom": null,
      "display": null,
      "flex": null,
      "flex_flow": null,
      "grid_area": null,
      "grid_auto_columns": null,
      "grid_auto_flow": null,
      "grid_auto_rows": null,
      "grid_column": null,
      "grid_gap": null,
      "grid_row": null,
      "grid_template_areas": null,
      "grid_template_columns": null,
      "grid_template_rows": null,
      "height": null,
      "justify_content": null,
      "justify_items": null,
      "left": null,
      "margin": null,
      "max_height": null,
      "max_width": null,
      "min_height": null,
      "min_width": null,
      "object_fit": null,
      "object_position": null,
      "order": null,
      "overflow": null,
      "overflow_x": null,
      "overflow_y": null,
      "padding": null,
      "right": null,
      "top": null,
      "visibility": null,
      "width": null
     }
    },
    "b34dcbe003044c37b601507507683261": {
     "model_module": "@jupyter-widgets/base",
     "model_module_version": "1.2.0",
     "model_name": "LayoutModel",
     "state": {
      "_model_module": "@jupyter-widgets/base",
      "_model_module_version": "1.2.0",
      "_model_name": "LayoutModel",
      "_view_count": null,
      "_view_module": "@jupyter-widgets/base",
      "_view_module_version": "1.2.0",
      "_view_name": "LayoutView",
      "align_content": null,
      "align_items": null,
      "align_self": null,
      "border": null,
      "bottom": null,
      "display": null,
      "flex": null,
      "flex_flow": null,
      "grid_area": null,
      "grid_auto_columns": null,
      "grid_auto_flow": null,
      "grid_auto_rows": null,
      "grid_column": null,
      "grid_gap": null,
      "grid_row": null,
      "grid_template_areas": null,
      "grid_template_columns": null,
      "grid_template_rows": null,
      "height": null,
      "justify_content": null,
      "justify_items": null,
      "left": null,
      "margin": null,
      "max_height": null,
      "max_width": null,
      "min_height": null,
      "min_width": null,
      "object_fit": null,
      "object_position": null,
      "order": null,
      "overflow": null,
      "overflow_x": null,
      "overflow_y": null,
      "padding": null,
      "right": null,
      "top": null,
      "visibility": null,
      "width": null
     }
    },
    "de530a5db6e64c14830e9e39432f6e85": {
     "model_module": "@jupyter-widgets/controls",
     "model_module_version": "1.5.0",
     "model_name": "HTMLModel",
     "state": {
      "_dom_classes": [],
      "_model_module": "@jupyter-widgets/controls",
      "_model_module_version": "1.5.0",
      "_model_name": "HTMLModel",
      "_view_count": null,
      "_view_module": "@jupyter-widgets/controls",
      "_view_module_version": "1.5.0",
      "_view_name": "HTMLView",
      "description": "",
      "description_tooltip": null,
      "layout": "IPY_MODEL_4b9fd660819b42adb7b0f6f0909ef10e",
      "placeholder": "​",
      "style": "IPY_MODEL_e914345e32814a6ba43569c78b6f30e4",
      "value": " 170498071/170498071 [00:03&lt;00:00, 47394208.95it/s]"
     }
    },
    "e914345e32814a6ba43569c78b6f30e4": {
     "model_module": "@jupyter-widgets/controls",
     "model_module_version": "1.5.0",
     "model_name": "DescriptionStyleModel",
     "state": {
      "_model_module": "@jupyter-widgets/controls",
      "_model_module_version": "1.5.0",
      "_model_name": "DescriptionStyleModel",
      "_view_count": null,
      "_view_module": "@jupyter-widgets/base",
      "_view_module_version": "1.2.0",
      "_view_name": "StyleView",
      "description_width": ""
     }
    },
    "fe9386563f344d1c9f59682700813328": {
     "model_module": "@jupyter-widgets/controls",
     "model_module_version": "1.5.0",
     "model_name": "FloatProgressModel",
     "state": {
      "_dom_classes": [],
      "_model_module": "@jupyter-widgets/controls",
      "_model_module_version": "1.5.0",
      "_model_name": "FloatProgressModel",
      "_view_count": null,
      "_view_module": "@jupyter-widgets/controls",
      "_view_module_version": "1.5.0",
      "_view_name": "ProgressView",
      "bar_style": "success",
      "description": "",
      "description_tooltip": null,
      "layout": "IPY_MODEL_6e8eaa85a25843e98525df0917ca04e2",
      "max": 170498071,
      "min": 0,
      "orientation": "horizontal",
      "style": "IPY_MODEL_47416075176d4f2f85fb44296106e9c3",
      "value": 170498071
     }
    }
   }
  }
 },
 "nbformat": 4,
 "nbformat_minor": 1
}
