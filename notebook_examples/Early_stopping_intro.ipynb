{
  "nbformat": 4,
  "nbformat_minor": 0,
  "metadata": {
    "colab": {
      "provenance": [],
      "collapsed_sections": [],
      "toc_visible": true
    },
    "kernelspec": {
      "name": "python3",
      "display_name": "Python 3"
    },
    "language_info": {
      "name": "python"
    },
    "accelerator": "GPU",
    "gpuClass": "standard",
    "widgets": {
      "application/vnd.jupyter.widget-state+json": {
        "324913173cfd404e9fa55df1ec7186c2": {
          "model_module": "@jupyter-widgets/controls",
          "model_name": "HBoxModel",
          "model_module_version": "1.5.0",
          "state": {
            "_dom_classes": [],
            "_model_module": "@jupyter-widgets/controls",
            "_model_module_version": "1.5.0",
            "_model_name": "HBoxModel",
            "_view_count": null,
            "_view_module": "@jupyter-widgets/controls",
            "_view_module_version": "1.5.0",
            "_view_name": "HBoxView",
            "box_style": "",
            "children": [
              "IPY_MODEL_6b69490210524da88c391964e30c00a1",
              "IPY_MODEL_fe9386563f344d1c9f59682700813328",
              "IPY_MODEL_de530a5db6e64c14830e9e39432f6e85"
            ],
            "layout": "IPY_MODEL_b34dcbe003044c37b601507507683261"
          }
        },
        "6b69490210524da88c391964e30c00a1": {
          "model_module": "@jupyter-widgets/controls",
          "model_name": "HTMLModel",
          "model_module_version": "1.5.0",
          "state": {
            "_dom_classes": [],
            "_model_module": "@jupyter-widgets/controls",
            "_model_module_version": "1.5.0",
            "_model_name": "HTMLModel",
            "_view_count": null,
            "_view_module": "@jupyter-widgets/controls",
            "_view_module_version": "1.5.0",
            "_view_name": "HTMLView",
            "description": "",
            "description_tooltip": null,
            "layout": "IPY_MODEL_2f8c686cdb504283b9bc5ab1994ba3f5",
            "placeholder": "​",
            "style": "IPY_MODEL_5ed825d8b782461b95e023ebaae2b755",
            "value": "100%"
          }
        },
        "fe9386563f344d1c9f59682700813328": {
          "model_module": "@jupyter-widgets/controls",
          "model_name": "FloatProgressModel",
          "model_module_version": "1.5.0",
          "state": {
            "_dom_classes": [],
            "_model_module": "@jupyter-widgets/controls",
            "_model_module_version": "1.5.0",
            "_model_name": "FloatProgressModel",
            "_view_count": null,
            "_view_module": "@jupyter-widgets/controls",
            "_view_module_version": "1.5.0",
            "_view_name": "ProgressView",
            "bar_style": "success",
            "description": "",
            "description_tooltip": null,
            "layout": "IPY_MODEL_6e8eaa85a25843e98525df0917ca04e2",
            "max": 170498071,
            "min": 0,
            "orientation": "horizontal",
            "style": "IPY_MODEL_47416075176d4f2f85fb44296106e9c3",
            "value": 170498071
          }
        },
        "de530a5db6e64c14830e9e39432f6e85": {
          "model_module": "@jupyter-widgets/controls",
          "model_name": "HTMLModel",
          "model_module_version": "1.5.0",
          "state": {
            "_dom_classes": [],
            "_model_module": "@jupyter-widgets/controls",
            "_model_module_version": "1.5.0",
            "_model_name": "HTMLModel",
            "_view_count": null,
            "_view_module": "@jupyter-widgets/controls",
            "_view_module_version": "1.5.0",
            "_view_name": "HTMLView",
            "description": "",
            "description_tooltip": null,
            "layout": "IPY_MODEL_4b9fd660819b42adb7b0f6f0909ef10e",
            "placeholder": "​",
            "style": "IPY_MODEL_e914345e32814a6ba43569c78b6f30e4",
            "value": " 170498071/170498071 [00:03&lt;00:00, 47394208.95it/s]"
          }
        },
        "b34dcbe003044c37b601507507683261": {
          "model_module": "@jupyter-widgets/base",
          "model_name": "LayoutModel",
          "model_module_version": "1.2.0",
          "state": {
            "_model_module": "@jupyter-widgets/base",
            "_model_module_version": "1.2.0",
            "_model_name": "LayoutModel",
            "_view_count": null,
            "_view_module": "@jupyter-widgets/base",
            "_view_module_version": "1.2.0",
            "_view_name": "LayoutView",
            "align_content": null,
            "align_items": null,
            "align_self": null,
            "border": null,
            "bottom": null,
            "display": null,
            "flex": null,
            "flex_flow": null,
            "grid_area": null,
            "grid_auto_columns": null,
            "grid_auto_flow": null,
            "grid_auto_rows": null,
            "grid_column": null,
            "grid_gap": null,
            "grid_row": null,
            "grid_template_areas": null,
            "grid_template_columns": null,
            "grid_template_rows": null,
            "height": null,
            "justify_content": null,
            "justify_items": null,
            "left": null,
            "margin": null,
            "max_height": null,
            "max_width": null,
            "min_height": null,
            "min_width": null,
            "object_fit": null,
            "object_position": null,
            "order": null,
            "overflow": null,
            "overflow_x": null,
            "overflow_y": null,
            "padding": null,
            "right": null,
            "top": null,
            "visibility": null,
            "width": null
          }
        },
        "2f8c686cdb504283b9bc5ab1994ba3f5": {
          "model_module": "@jupyter-widgets/base",
          "model_name": "LayoutModel",
          "model_module_version": "1.2.0",
          "state": {
            "_model_module": "@jupyter-widgets/base",
            "_model_module_version": "1.2.0",
            "_model_name": "LayoutModel",
            "_view_count": null,
            "_view_module": "@jupyter-widgets/base",
            "_view_module_version": "1.2.0",
            "_view_name": "LayoutView",
            "align_content": null,
            "align_items": null,
            "align_self": null,
            "border": null,
            "bottom": null,
            "display": null,
            "flex": null,
            "flex_flow": null,
            "grid_area": null,
            "grid_auto_columns": null,
            "grid_auto_flow": null,
            "grid_auto_rows": null,
            "grid_column": null,
            "grid_gap": null,
            "grid_row": null,
            "grid_template_areas": null,
            "grid_template_columns": null,
            "grid_template_rows": null,
            "height": null,
            "justify_content": null,
            "justify_items": null,
            "left": null,
            "margin": null,
            "max_height": null,
            "max_width": null,
            "min_height": null,
            "min_width": null,
            "object_fit": null,
            "object_position": null,
            "order": null,
            "overflow": null,
            "overflow_x": null,
            "overflow_y": null,
            "padding": null,
            "right": null,
            "top": null,
            "visibility": null,
            "width": null
          }
        },
        "5ed825d8b782461b95e023ebaae2b755": {
          "model_module": "@jupyter-widgets/controls",
          "model_name": "DescriptionStyleModel",
          "model_module_version": "1.5.0",
          "state": {
            "_model_module": "@jupyter-widgets/controls",
            "_model_module_version": "1.5.0",
            "_model_name": "DescriptionStyleModel",
            "_view_count": null,
            "_view_module": "@jupyter-widgets/base",
            "_view_module_version": "1.2.0",
            "_view_name": "StyleView",
            "description_width": ""
          }
        },
        "6e8eaa85a25843e98525df0917ca04e2": {
          "model_module": "@jupyter-widgets/base",
          "model_name": "LayoutModel",
          "model_module_version": "1.2.0",
          "state": {
            "_model_module": "@jupyter-widgets/base",
            "_model_module_version": "1.2.0",
            "_model_name": "LayoutModel",
            "_view_count": null,
            "_view_module": "@jupyter-widgets/base",
            "_view_module_version": "1.2.0",
            "_view_name": "LayoutView",
            "align_content": null,
            "align_items": null,
            "align_self": null,
            "border": null,
            "bottom": null,
            "display": null,
            "flex": null,
            "flex_flow": null,
            "grid_area": null,
            "grid_auto_columns": null,
            "grid_auto_flow": null,
            "grid_auto_rows": null,
            "grid_column": null,
            "grid_gap": null,
            "grid_row": null,
            "grid_template_areas": null,
            "grid_template_columns": null,
            "grid_template_rows": null,
            "height": null,
            "justify_content": null,
            "justify_items": null,
            "left": null,
            "margin": null,
            "max_height": null,
            "max_width": null,
            "min_height": null,
            "min_width": null,
            "object_fit": null,
            "object_position": null,
            "order": null,
            "overflow": null,
            "overflow_x": null,
            "overflow_y": null,
            "padding": null,
            "right": null,
            "top": null,
            "visibility": null,
            "width": null
          }
        },
        "47416075176d4f2f85fb44296106e9c3": {
          "model_module": "@jupyter-widgets/controls",
          "model_name": "ProgressStyleModel",
          "model_module_version": "1.5.0",
          "state": {
            "_model_module": "@jupyter-widgets/controls",
            "_model_module_version": "1.5.0",
            "_model_name": "ProgressStyleModel",
            "_view_count": null,
            "_view_module": "@jupyter-widgets/base",
            "_view_module_version": "1.2.0",
            "_view_name": "StyleView",
            "bar_color": null,
            "description_width": ""
          }
        },
        "4b9fd660819b42adb7b0f6f0909ef10e": {
          "model_module": "@jupyter-widgets/base",
          "model_name": "LayoutModel",
          "model_module_version": "1.2.0",
          "state": {
            "_model_module": "@jupyter-widgets/base",
            "_model_module_version": "1.2.0",
            "_model_name": "LayoutModel",
            "_view_count": null,
            "_view_module": "@jupyter-widgets/base",
            "_view_module_version": "1.2.0",
            "_view_name": "LayoutView",
            "align_content": null,
            "align_items": null,
            "align_self": null,
            "border": null,
            "bottom": null,
            "display": null,
            "flex": null,
            "flex_flow": null,
            "grid_area": null,
            "grid_auto_columns": null,
            "grid_auto_flow": null,
            "grid_auto_rows": null,
            "grid_column": null,
            "grid_gap": null,
            "grid_row": null,
            "grid_template_areas": null,
            "grid_template_columns": null,
            "grid_template_rows": null,
            "height": null,
            "justify_content": null,
            "justify_items": null,
            "left": null,
            "margin": null,
            "max_height": null,
            "max_width": null,
            "min_height": null,
            "min_width": null,
            "object_fit": null,
            "object_position": null,
            "order": null,
            "overflow": null,
            "overflow_x": null,
            "overflow_y": null,
            "padding": null,
            "right": null,
            "top": null,
            "visibility": null,
            "width": null
          }
        },
        "e914345e32814a6ba43569c78b6f30e4": {
          "model_module": "@jupyter-widgets/controls",
          "model_name": "DescriptionStyleModel",
          "model_module_version": "1.5.0",
          "state": {
            "_model_module": "@jupyter-widgets/controls",
            "_model_module_version": "1.5.0",
            "_model_name": "DescriptionStyleModel",
            "_view_count": null,
            "_view_module": "@jupyter-widgets/base",
            "_view_module_version": "1.2.0",
            "_view_name": "StyleView",
            "description_width": ""
          }
        }
      }
    }
  },
  "cells": [
    {
      "cell_type": "markdown",
      "source": [
        "# Introduction to early stopping in neural network training\n",
        "\n",
        "This notebook aims to introduce the purpose of early stopping and some common early stopping techniques via an image classification example. \n"
      ],
      "metadata": {
        "id": "Qrs8qiLSsexU"
      }
    },
    {
      "cell_type": "code",
      "execution_count": null,
      "metadata": {
        "id": "2x3UWzMxqRPU"
      },
      "outputs": [],
      "source": [
        "%matplotlib inline"
      ]
    },
    {
      "cell_type": "markdown",
      "source": [
        "### Plotting functions and useful imports\n",
        "\n",
        "You can skip this part"
      ],
      "metadata": {
        "id": "eTmOksI0vQ3E"
      }
    },
    {
      "cell_type": "code",
      "source": [
        "# Python 2/3 compatibility\n",
        "from __future__ import print_function, division\n",
        "\n",
        "import itertools\n",
        "import time\n",
        "\n",
        "import numpy as np\n",
        "import matplotlib.pyplot as plt\n",
        "\n",
        "# Colors from Colorbrewer Paired_12\n",
        "colors = [[31, 120, 180], [51, 160, 44], [250,159,181]]\n",
        "colors = [(r / 255, g / 255, b / 255) for (r, g, b) in colors]\n",
        "\n",
        "# functions to show an image\n",
        "def imshow(img):\n",
        "    \"\"\"\n",
        "    :param img: (PyTorch Tensor)\n",
        "    \"\"\"\n",
        "    # unnormalize\n",
        "    img = img / 2 + 0.5     \n",
        "    # Convert tensor to numpy array\n",
        "    npimg = img.numpy()\n",
        "    # Color channel first -> color channel last\n",
        "    plt.imshow(np.transpose(npimg, (1, 2, 0)))\n",
        "\n",
        "def get_image(img):\n",
        "    \"\"\"\n",
        "    convert a tensor to images suitable for plotting\n",
        "    :param img: (PyTorch Tensor)\n",
        "    \"\"\"\n",
        "    # unnormalize\n",
        "    img = img / 2 + 0.5     \n",
        "    # Convert tensor to numpy array\n",
        "    npimg = img.numpy()\n",
        "    # Color channel first -> color channel last\n",
        "    return np.transpose(npimg, (1, 2, 0))\n",
        "\n",
        "def plot_loss_acc(train_loss, val_loss, test_loss, train_acc, val_acc, test_acc):\n",
        "    x = np.arange(1, len(train_loss) + 1)\n",
        "\n",
        "    fig,axs = plt.subplots(1, 2, figsize=(16,6))\n",
        "    axs[0].plot(x, train_loss, color=colors[0], label=\"Training loss\", linewidth=2)\n",
        "    axs[0].plot(x, val_loss, color=colors[1], label=\"Validation loss\", linewidth=2)\n",
        "    axs[0].plot(x, test_loss, color=colors[2], label=\"Test loss\", linewidth=2)\n",
        "    axs[0].set_xlabel('Epoch')\n",
        "    axs[0].set_ylabel('Loss')\n",
        "    axs[0].legend(loc='upper right')\n",
        "    axs[0].set_title(\"Evolution of the training, validation and test loss\")\n",
        "\n",
        "    axs[1].plot(x, train_acc, color=colors[0], label=\"Training accuracy\", linewidth=2)\n",
        "    axs[1].plot(x, val_acc, color=colors[1], label=\"Validation accuracy\", linewidth=2)\n",
        "    axs[1].plot(x, test_acc, color=colors[2], label=\"Test accuracy\", linewidth=2)\n",
        "    axs[1].set_xlabel('Epoch')\n",
        "    axs[1].set_ylabel('Accuracy')\n",
        "    axs[1].legend(loc='lower right')\n",
        "    axs[1].set_title(\"Evolution of the training, validation and test accuracy\")\n",
        "    plt.show()\n"
      ],
      "metadata": {
        "id": "ZK-IiagsvM01"
      },
      "execution_count": null,
      "outputs": []
    },
    {
      "cell_type": "code",
      "source": [
        "!pip install http://download.pytorch.org/whl/cu92/torch-0.4.1-cp36-cp36m-linux_x86_64.whl\n",
        "!pip install torchmetrics\n",
        "!pip install torchvision\n",
        "import numpy as np\n",
        "# Import torch and create the alias \"th\"\n",
        "# instead of writing torch.name_of_a_method() , we only need to write th.name_of_a_method()\n",
        "# (similarly to numpy imported as np)\n",
        "import torch as th"
      ],
      "metadata": {
        "colab": {
          "base_uri": "https://localhost:8080/"
        },
        "id": "293onN__vNyI",
        "outputId": "5b4ee7fb-6ff7-4681-f5a7-ef3539b82463"
      },
      "execution_count": null,
      "outputs": [
        {
          "output_type": "stream",
          "name": "stdout",
          "text": [
            "Looking in indexes: https://pypi.org/simple, https://us-python.pkg.dev/colab-wheels/public/simple/\n",
            "\u001b[31mERROR: torch-0.4.1-cp36-cp36m-linux_x86_64.whl is not a supported wheel on this platform.\u001b[0m\n",
            "Looking in indexes: https://pypi.org/simple, https://us-python.pkg.dev/colab-wheels/public/simple/\n",
            "Collecting torchmetrics\n",
            "  Downloading torchmetrics-0.9.3-py3-none-any.whl (419 kB)\n",
            "\u001b[K     |████████████████████████████████| 419 kB 8.4 MB/s \n",
            "\u001b[?25hRequirement already satisfied: numpy>=1.17.2 in /usr/local/lib/python3.7/dist-packages (from torchmetrics) (1.21.6)\n",
            "Requirement already satisfied: typing-extensions in /usr/local/lib/python3.7/dist-packages (from torchmetrics) (4.1.1)\n",
            "Requirement already satisfied: packaging in /usr/local/lib/python3.7/dist-packages (from torchmetrics) (21.3)\n",
            "Requirement already satisfied: torch>=1.3.1 in /usr/local/lib/python3.7/dist-packages (from torchmetrics) (1.12.1+cu113)\n",
            "Requirement already satisfied: pyparsing!=3.0.5,>=2.0.2 in /usr/local/lib/python3.7/dist-packages (from packaging->torchmetrics) (3.0.9)\n",
            "Installing collected packages: torchmetrics\n",
            "Successfully installed torchmetrics-0.9.3\n",
            "Looking in indexes: https://pypi.org/simple, https://us-python.pkg.dev/colab-wheels/public/simple/\n",
            "Requirement already satisfied: torchvision in /usr/local/lib/python3.7/dist-packages (0.13.1+cu113)\n",
            "Requirement already satisfied: torch==1.12.1 in /usr/local/lib/python3.7/dist-packages (from torchvision) (1.12.1+cu113)\n",
            "Requirement already satisfied: pillow!=8.3.*,>=5.3.0 in /usr/local/lib/python3.7/dist-packages (from torchvision) (7.1.2)\n",
            "Requirement already satisfied: requests in /usr/local/lib/python3.7/dist-packages (from torchvision) (2.23.0)\n",
            "Requirement already satisfied: numpy in /usr/local/lib/python3.7/dist-packages (from torchvision) (1.21.6)\n",
            "Requirement already satisfied: typing-extensions in /usr/local/lib/python3.7/dist-packages (from torchvision) (4.1.1)\n",
            "Requirement already satisfied: chardet<4,>=3.0.2 in /usr/local/lib/python3.7/dist-packages (from requests->torchvision) (3.0.4)\n",
            "Requirement already satisfied: certifi>=2017.4.17 in /usr/local/lib/python3.7/dist-packages (from requests->torchvision) (2022.6.15)\n",
            "Requirement already satisfied: idna<3,>=2.5 in /usr/local/lib/python3.7/dist-packages (from requests->torchvision) (2.10)\n",
            "Requirement already satisfied: urllib3!=1.25.0,!=1.25.1,<1.26,>=1.21.1 in /usr/local/lib/python3.7/dist-packages (from requests->torchvision) (1.24.3)\n"
          ]
        }
      ]
    },
    {
      "cell_type": "markdown",
      "source": [
        "### 1. Loading and normalizing CIFAR10 Dataset\n"
      ],
      "metadata": {
        "id": "J-Rj19xwwlhb"
      }
    },
    {
      "cell_type": "code",
      "source": [
        "import torch\n",
        "import torchvision\n",
        "import torchvision.transforms as transforms"
      ],
      "metadata": {
        "id": "QICySsacvY9z"
      },
      "execution_count": null,
      "outputs": []
    },
    {
      "cell_type": "code",
      "source": [
        "seed = 2022\n",
        "np.random.seed(seed)\n",
        "torch.manual_seed(seed)\n",
        "\n",
        "if th.cuda.is_available():\n",
        "  # Make CuDNN Determinist\n",
        "  th.backends.cudnn.deterministic = True\n",
        "  th.cuda.manual_seed(seed)\n",
        "\n",
        "# Define default device, we should use the GPU (cuda) if available\n",
        "device = th.device(\"cuda\" if th.cuda.is_available() else \"cpu\")"
      ],
      "metadata": {
        "id": "rfYsCIOwvde9"
      },
      "execution_count": null,
      "outputs": []
    },
    {
      "cell_type": "code",
      "source": [
        "device"
      ],
      "metadata": {
        "colab": {
          "base_uri": "https://localhost:8080/"
        },
        "id": "GKEYykrP1jc4",
        "outputId": "c2b65b1a-f1de-4cc2-b92a-a55dc041a7c5"
      },
      "execution_count": null,
      "outputs": [
        {
          "output_type": "execute_result",
          "data": {
            "text/plain": [
              "device(type='cpu')"
            ]
          },
          "metadata": {},
          "execution_count": 6
        }
      ]
    },
    {
      "cell_type": "markdown",
      "source": [
        "### Define subset of the dataset (so it is faster to train)"
      ],
      "metadata": {
        "id": "TpGY1kJXvzMm"
      }
    },
    {
      "cell_type": "code",
      "source": [
        "from torch.utils.data.sampler import SubsetRandomSampler\n",
        "\n",
        "n_training_samples = 20000 # Max: 50 000 - n_val_samples\n",
        "n_val_samples = 5000\n",
        "n_test_samples = 5000\n",
        "n_cal_samples = 1000\n",
        "\n",
        "train_sampler = SubsetRandomSampler(np.arange(n_training_samples, dtype=np.int64))\n",
        "val_sampler = SubsetRandomSampler(np.arange(n_training_samples, n_training_samples + n_val_samples, dtype=np.int64))\n",
        "test_sampler = SubsetRandomSampler(np.arange(n_test_samples, dtype=np.int64))\n",
        "cal_sampler = SubsetRandomSampler(np.arange(n_test_samples, n_test_samples + n_cal_samples, dtype=np.int64))\n",
        "# (In the last case, indexes do not need to account for training ones because the train=False parameter in datasets.CIFAR will select from the test set)"
      ],
      "metadata": {
        "id": "4uYOEE-Ovlc7"
      },
      "execution_count": null,
      "outputs": []
    },
    {
      "cell_type": "markdown",
      "source": [
        "The output of torchvision datasets are PILImage images of range [0, 1].\n",
        "We transform them to Tensors of normalized range [-1, 1]"
      ],
      "metadata": {
        "id": "AjEuA65twNeT"
      }
    },
    {
      "cell_type": "code",
      "source": [
        "num_workers = 2\n",
        "test_batch_size = 4\n",
        "\n",
        "transform = transforms.Compose(\n",
        "    [transforms.ToTensor(),\n",
        "     transforms.Normalize(mean=(0.5, 0.5, 0.5), std=(0.5, 0.5, 0.5))])\n",
        "\n",
        "train_set = torchvision.datasets.CIFAR10(root='./data', train=True,\n",
        "                                        download=True, transform=transform)\n",
        "\n",
        "train_loader = torch.utils.data.DataLoader(train_set, batch_size=test_batch_size, sampler=train_sampler,\n",
        "                                          num_workers=num_workers)\n",
        "\n",
        "test_set = torchvision.datasets.CIFAR10(root='./data', train=False,\n",
        "                                       download=True, transform=transform)\n",
        "test_loader = torch.utils.data.DataLoader(test_set, batch_size=test_batch_size, sampler=test_sampler,\n",
        "                                         num_workers=num_workers)\n",
        "\n",
        "classes = ('plane', 'car', 'bird', 'cat',\n",
        "           'deer', 'dog', 'frog', 'horse', 'ship', 'truck')"
      ],
      "metadata": {
        "colab": {
          "base_uri": "https://localhost:8080/",
          "height": 104,
          "referenced_widgets": [
            "324913173cfd404e9fa55df1ec7186c2",
            "6b69490210524da88c391964e30c00a1",
            "fe9386563f344d1c9f59682700813328",
            "de530a5db6e64c14830e9e39432f6e85",
            "b34dcbe003044c37b601507507683261",
            "2f8c686cdb504283b9bc5ab1994ba3f5",
            "5ed825d8b782461b95e023ebaae2b755",
            "6e8eaa85a25843e98525df0917ca04e2",
            "47416075176d4f2f85fb44296106e9c3",
            "4b9fd660819b42adb7b0f6f0909ef10e",
            "e914345e32814a6ba43569c78b6f30e4"
          ]
        },
        "id": "Vn130-0Yvq69",
        "outputId": "9f2a4d50-f08b-4d62-9de8-6dcc69a125a0"
      },
      "execution_count": null,
      "outputs": [
        {
          "output_type": "stream",
          "name": "stdout",
          "text": [
            "Downloading https://www.cs.toronto.edu/~kriz/cifar-10-python.tar.gz to ./data/cifar-10-python.tar.gz\n"
          ]
        },
        {
          "output_type": "display_data",
          "data": {
            "text/plain": [
              "  0%|          | 0/170498071 [00:00<?, ?it/s]"
            ],
            "application/vnd.jupyter.widget-view+json": {
              "version_major": 2,
              "version_minor": 0,
              "model_id": "324913173cfd404e9fa55df1ec7186c2"
            }
          },
          "metadata": {}
        },
        {
          "output_type": "stream",
          "name": "stdout",
          "text": [
            "Extracting ./data/cifar-10-python.tar.gz to ./data\n",
            "Files already downloaded and verified\n"
          ]
        }
      ]
    },
    {
      "cell_type": "markdown",
      "source": [
        "Let us show some of the training images, for fun."
      ],
      "metadata": {
        "id": "Eiko2GUTwZdW"
      }
    },
    {
      "cell_type": "code",
      "source": [
        "# get some random training images\n",
        "dataiter = iter(train_loader)\n",
        "images, labels = dataiter.next()\n",
        "\n",
        "# show images\n",
        "imshow(torchvision.utils.make_grid(images))\n",
        "# print labels\n",
        "print(' '.join('{:>10}'.format(classes[labels[j]]) for j in range(test_batch_size)))"
      ],
      "metadata": {
        "colab": {
          "base_uri": "https://localhost:8080/",
          "height": 156
        },
        "id": "ussle1Z9vtzF",
        "outputId": "e89cdf73-6cb8-4292-fd21-c7b190906b49"
      },
      "execution_count": null,
      "outputs": [
        {
          "output_type": "stream",
          "name": "stdout",
          "text": [
            "     truck      truck        car      horse\n"
          ]
        },
        {
          "output_type": "display_data",
          "data": {
            "text/plain": [
              "<Figure size 432x288 with 1 Axes>"
            ],
            "image/png": "[encoded data removed]"
          },
          "metadata": {
            "needs_background": "light"
          }
        }
      ]
    },
    {
      "cell_type": "markdown",
      "source": [
        "### 2. Define a Convolution Neural Network"
      ],
      "metadata": {
        "id": "ihjvxG8fwex6"
      }
    },
    {
      "cell_type": "code",
      "metadata": {
        "deletable": true,
        "editable": true,
        "id": "6k6rJyTTcayi"
      },
      "source": [
        "# Useful imports\n",
        "import torch.nn as nn\n",
        "import torch.nn.functional as F"
      ],
      "execution_count": null,
      "outputs": []
    },
    {
      "cell_type": "markdown",
      "metadata": {
        "deletable": true,
        "editable": true,
        "id": "0JcmlEe8t2Fe"
      },
      "source": [
        "####  Forward propagation\n",
        "\n",
        "In PyTorch, there are built-in functions that carry out the convolution steps for you.\n",
        "\n",
        "- **nn.Conv2d(in_channels, out_channels, kernel_size, stride=1, padding=0):** Convolution layer. You can read the full documentation [here](http://pytorch.org/docs/master/nn.html#conv2d)\n",
        "\n",
        "- **nn.MaxPool2d(kernel_size, stride=None, padding=0):** Max pooling layer. You can read the full documentation [here](http://pytorch.org/docs/master/nn.html#maxpool2d)\n",
        "\n",
        "- **F.relu(Z1):** computes the elementwise ReLU of Z1 (which can be any shape). You can read the full documentation [here.](http://pytorch.org/docs/master/nn.html#torch.nn.ReLU)\n",
        "\n",
        "- **x.view(new_shape)**: Returns a new tensor with the same data but different size. It is the equivalent of numpy function *reshape* (Gives a new shape to an array without changing its data). You can read the full documentation [here.](http://pytorch.org/docs/master/tensors.html#torch.Tensor.view)\n",
        "\n",
        "- **nn.Linear(in_features, out_features):** Applies a linear transformation to the incoming data: $y = Ax + b$, it is also called a fully connected layer. You can read the full documentation [here.](http://pytorch.org/docs/master/nn.html#linear-layers)"
      ]
    },
    {
      "cell_type": "markdown",
      "metadata": {
        "deletable": true,
        "editable": true,
        "id": "rbykSRDTcaym"
      },
      "source": [
        "#### Simple Convolutional Neural Network\n",
        "\n",
        "ConvNet with one convolution layer followed by a max pooling operation,\n",
        "one fully connected layer and an output layer"
      ]
    },
    {
      "cell_type": "code",
      "metadata": {
        "deletable": true,
        "editable": true,
        "id": "X4pljAWycayn"
      },
      "source": [
        "class SimpleConvolutionalNetwork(nn.Module):\n",
        "    def __init__(self):\n",
        "        super(SimpleConvolutionalNetwork, self).__init__()\n",
        "        \n",
        "        self.conv1 = nn.Conv2d(3, 18, kernel_size=3, stride=1, padding=1)\n",
        "        self.pool = nn.MaxPool2d(kernel_size=2, stride=2, padding=0)\n",
        "        \n",
        "        # cf comments in forward() to have step by step comments\n",
        "        # on the shape (how we pass from a 3x32x32 input image to a 18x16x16 volume)\n",
        "        self.fc1 = nn.Linear(18 * 16 * 16, 64) \n",
        "        self.fc2 = nn.Linear(64, 10)\n",
        "\n",
        "    def forward(self, x):\n",
        "        \"\"\"\n",
        "        Forward pass,\n",
        "        x shape is (batch_size, 3, 32, 32)\n",
        "        (color channel first)\n",
        "        in the comments, we omit the batch_size in the shape\n",
        "        \"\"\"\n",
        "        # shape : 3x32x32 -> 18x32x32\n",
        "        x = F.relu(self.conv1(x))\n",
        "        # 18x32x32 -> 18x16x16\n",
        "        x = self.pool(x)\n",
        "        # 18x16x16 -> 4608\n",
        "        x = x.view(-1, 18 * 16 * 16)\n",
        "        # 4608 -> 64\n",
        "        x = F.relu(self.fc1(x))\n",
        "        # 64 -> 10\n",
        "        # The softmax non-linearity is applied later (cf createLossAndOptimizer() fn)\n",
        "        x = self.fc2(x)\n",
        "        return x"
      ],
      "execution_count": null,
      "outputs": []
    },
    {
      "cell_type": "markdown",
      "metadata": {
        "deletable": true,
        "editable": true,
        "id": "4m-VHCtRcayr"
      },
      "source": [
        "#### Linear Classifier"
      ]
    },
    {
      "cell_type": "code",
      "metadata": {
        "deletable": true,
        "editable": true,
        "id": "Rj-togN6cays"
      },
      "source": [
        "class LinearClassifier(nn.Module):\n",
        "    \"\"\"\n",
        "    Linear Classifier\n",
        "    \"\"\"\n",
        "    def __init__(self):\n",
        "        super(LinearClassifier, self).__init__()\n",
        "        self.linear = nn.Linear(32 * 32 * 3, 10)\n",
        "\n",
        "    def forward(self, x):\n",
        "        # Flatten input 3x32x32 -> 3072\n",
        "        x = x.view(x.size(0), -1)\n",
        "        return self.linear(x)"
      ],
      "execution_count": null,
      "outputs": []
    },
    {
      "cell_type": "markdown",
      "metadata": {
        "deletable": true,
        "editable": true,
        "id": "2SQi9Xf-t2Fu"
      },
      "source": [
        "### 3. Define a loss function and optimizer\n",
        "\n",
        "Let's use a Classification Cross-Entropy loss and ADAM (optionally, SGD with momentum). You can read more about  [optimization methods](https://pytorch.org/docs/stable/optim.html).\n",
        "\n"
      ]
    },
    {
      "cell_type": "code",
      "metadata": {
        "deletable": true,
        "editable": true,
        "id": "DOUiPtZQt2Fx"
      },
      "source": [
        "import torch.optim as optim\n",
        "\n",
        "def createLossAndOptimizer(net, learning_rate=0.001):\n",
        "    # it combines softmax with negative log likelihood loss\n",
        "    criterion = nn.CrossEntropyLoss()  \n",
        "    #optimizer = optim.SGD(net.parameters(), lr=learning_rate, momentum=0.9)\n",
        "    optimizer = optim.Adam(net.parameters(), lr=learning_rate)\n",
        "    return criterion, optimizer"
      ],
      "execution_count": null,
      "outputs": []
    },
    {
      "cell_type": "markdown",
      "metadata": {
        "deletable": true,
        "editable": true,
        "id": "saJW5bKRt2F9"
      },
      "source": [
        "### 4. Train the network with early stopping\n",
        "\n",
        "\n",
        "Here we implement and compare 4 early stopping rules, check following paper for details of the last 3 ESRs.\n",
        "\n",
        "\n",
        "*   **Full early stopping**: Train the network for $T_{max}$ epochs where $T_{max}$ is predefined maximum number of epoch. Select the model with best validation loss.\n",
        "*   **GL rule**: A class of criteria based on the validation loss, halt the training process when generality loss exceeds a predefined value.\n",
        "*   **PQ rule**: A class of criteria based on both validation loss and training loss, halt the training process when validation loss is increasing and training loss is not decreasing fast enough. \n",
        "*   **UP rule**: A class of criteria only based on the sign of validation loss. Halt the training process when validation loss is increasing for several consecutive training strips.\n",
        "\n"
      ]
    },
    {
      "cell_type": "markdown",
      "metadata": {
        "deletable": true,
        "editable": true,
        "id": "mNf1e8QZcay1"
      },
      "source": [
        "#### Data loader"
      ]
    },
    {
      "cell_type": "code",
      "metadata": {
        "deletable": true,
        "editable": true,
        "id": "EqDD8_z8cay2"
      },
      "source": [
        "def get_train_loader(batch_size):\n",
        "    return torch.utils.data.DataLoader(train_set, batch_size=batch_size, sampler=train_sampler,\n",
        "                                              num_workers=num_workers)\n",
        "\n",
        "# Use larger batch size for validation to speed up computation\n",
        "val_loader = torch.utils.data.DataLoader(train_set, batch_size=128, sampler=val_sampler,\n",
        "                                          num_workers=num_workers)\n",
        "\n",
        "test_loader = torch.utils.data.DataLoader(test_set, batch_size=128, sampler=test_sampler,\n",
        "                                         num_workers=num_workers)"
      ],
      "execution_count": null,
      "outputs": []
    },
    {
      "cell_type": "markdown",
      "metadata": {
        "deletable": true,
        "editable": true,
        "id": "yTDHHbLpcay5"
      },
      "source": [
        "#### Training loop"
      ]
    },
    {
      "cell_type": "code",
      "source": [
        "from prompt_toolkit.shortcuts import progress_bar\n",
        "from torchmetrics.functional import accuracy\n",
        "import pandas as pd\n",
        "import pdb\n",
        "\n",
        "class EarlyStoppedTrainer:\n",
        "    def __init__(self, net, device, batch_size, n_epochs, learning_rate, verbose=True):\n",
        "        \"\"\"\n",
        "        Initialize the early stopped trainer with specified parameters.\n",
        "        \"\"\"\n",
        "        self.net = net.to(device)\n",
        "        self.device = device\n",
        "        self.batch_size = batch_size\n",
        "        self.n_epochs = n_epochs\n",
        "        self.learning_rate = learning_rate\n",
        "        self.verbose = verbose\n",
        "\n",
        "        if self.verbose:\n",
        "            print(\"===== HYPERPARAMETERS =====\")\n",
        "            print(\"batch_size=\", self.batch_size)\n",
        "            print(\"n_epochs=\", self.n_epochs)\n",
        "            print(\"learning_rate=\", self.learning_rate)\n",
        "            print(\"=\" * 30)\n",
        "\n",
        "        self.train_loader = get_train_loader(self.batch_size)\n",
        "        self.n_minibatches = len(self.train_loader)\n",
        "        self.criterion, self.optimizer = createLossAndOptimizer(self.net, self.learning_rate)\n",
        "\n",
        "    def train_single_epoch(self,epoch):\n",
        "        \"\"\"\n",
        "        Train the model for a single epoch\n",
        "\n",
        "        :return (tuple of floats) metrics of the train, validation, test sets\n",
        "        \"\"\"\n",
        "        running_loss = 0.0\n",
        "        running_acc = 0.0\n",
        "        print_every = self.n_minibatches // 10\n",
        "        start_time = time.time()\n",
        "        total_train_loss = 0\n",
        "        total_train_acc = 0\n",
        "\n",
        "        for i, (inputs, labels) in enumerate(self.train_loader):\n",
        "            \n",
        "            # Move tensors to correct device\n",
        "            inputs, labels = inputs.to(self.device), labels.to(self.device)\n",
        "\n",
        "            # zero the parameter gradients\n",
        "            self.optimizer.zero_grad()\n",
        "\n",
        "            # forward + backward + optimize\n",
        "            outputs = self.net(inputs)\n",
        "            loss = self.criterion(outputs, labels)\n",
        "            loss.backward()\n",
        "            self.optimizer.step()\n",
        "\n",
        "            # print statistics\n",
        "            running_loss += loss.item()\n",
        "            total_train_loss += loss.item()\n",
        "            running_acc += float(accuracy(outputs,labels).cpu().numpy())\n",
        "            total_train_acc += float(accuracy(outputs,labels).cpu().numpy())\n",
        "\n",
        "            # print every 10th of epoch\n",
        "            if (i + 1) % (print_every + 1) == 0:    \n",
        "                print(\"Epoch {}, {:d}% \\t train_loss: {:.2f} train_acc: {:.2f}% took: {:.2f}s\".format(\n",
        "                        epoch + 1, int(100 * (i + 1) / self.n_minibatches), running_loss / print_every,\n",
        "                        100 * (running_acc / print_every), time.time() - start_time))\n",
        "                running_loss = 0.0\n",
        "                running_acc = 0.0\n",
        "                start_time = time.time()\n",
        "\n",
        "        total_val_loss, total_test_loss = 0, 0\n",
        "        total_val_acc, total_test_acc = 0, 0\n",
        "            \n",
        "        # We don't need to compute gradient,\n",
        "        # we save memory and computation using th.no_grad()\n",
        "        with th.no_grad():\n",
        "            # Do a pass on the validation set\n",
        "            for inputs, labels in val_loader:\n",
        "                # Move tensors to correct device\n",
        "                inputs, labels = inputs.to(self.device), labels.to(self.device)\n",
        "                # Forward pass\n",
        "                predictions = self.net(inputs)\n",
        "                val_loss = self.criterion(predictions, labels)\n",
        "                val_acc = float(accuracy(predictions,labels).cpu().numpy())\n",
        "                total_val_loss += val_loss.item()\n",
        "                total_val_acc += val_acc\n",
        "\n",
        "            # Do a pass on the test set\n",
        "            for inputs, labels in test_loader:\n",
        "                # Move tensors to correct device\n",
        "                inputs, labels = inputs.to(self.device), labels.to(self.device)\n",
        "                # Forward pass\n",
        "                predictions = self.net(inputs)\n",
        "                test_loss = self.criterion(predictions, labels)\n",
        "                test_acc = float(accuracy(predictions,labels).cpu().numpy())\n",
        "                total_test_loss += test_loss.item()\n",
        "                total_test_acc += test_acc\n",
        "        \n",
        "        print(\"val_loss = {:.2f} val_acc = {:.2f}%\".format(total_val_loss / len(val_loader), \\\n",
        "              100 * (total_val_acc / len(val_loader))))\n",
        "        print(\"test_loss = {:.2f} test_acc = {:.2f}%\".format(total_test_loss / len(test_loader), \\\n",
        "              100 * (total_test_acc / len(test_loader))))\n",
        " \n",
        "        return total_train_loss / len(self.train_loader), total_val_loss / len(val_loader), total_test_loss / len(test_loader),\\\n",
        "               100 * (total_train_acc / len(self.train_loader)), 100 * (total_val_acc / len(val_loader)), 100 * (total_test_acc / len(test_loader))\n",
        "\n",
        "\n",
        "\n",
        "    def check_gl(self, val_history, alpha=5):\n",
        "        \"\"\" \n",
        "        check if the training process should be stopped by GL rule at the current epoch\n",
        "        GL rule: stop if the generality loss is beyond predefined threshold\n",
        "\n",
        "        :param val_history: (list of floats) validation loss until the current epoch\n",
        "        :param alpha: (float) the stopping threshold of the ESR\n",
        "        \"\"\"\n",
        "        min_val_loss = np.min(val_history)\n",
        "        gl = 100*((val_history[-1]) / max(min_val_loss, 10**(-10)) - 1)\n",
        "        return gl > alpha, gl\n",
        "\n",
        "\n",
        "\n",
        "    def check_pq(self, train_history, val_history, k=3, alpha=0.5):\n",
        "        \"\"\" \n",
        "        check if the training process should be stopped by PQ rule at the current epoch\n",
        "        PQ rule: stop if quotient of progress and generality loss is beyond predefined \n",
        "        threshold\n",
        "        \n",
        "        :param train_history: (list of floats) training loss until the current epoch\n",
        "        :param val_history: (list of floats) validation loss until the current epoch\n",
        "        :param k: (int) size of the training strips\n",
        "        :param beta: (float) the stopping threshold of the ESR\n",
        "        \"\"\"\n",
        "        # If the current epoch number is not divisible by k, continue training\n",
        "        if len(val_history) % k:\n",
        "            return False, -1\n",
        "        else:\n",
        "            # Calculate the progress\n",
        "            sum_k_train_loss = np.sum(train_history[-k:])\n",
        "            min_k_train_loss = k * np.min(train_history[-k:])\n",
        "            progress = 1000*((sum_k_train_loss / min_k_train_loss) - 1)\n",
        "\n",
        "            # Calculate the generalization loss\n",
        "            min_val_loss = np.min(val_history)\n",
        "            gl = 100*((val_history[-1]) / max(min_val_loss, 10**(-10)) - 1)\n",
        "\n",
        "            # Stopping criteria is the quotient of progress and GL\n",
        "            pq = gl / progress\n",
        "            return pq > alpha, pq \n",
        "    \n",
        "\n",
        "\n",
        "    def check_up(self, val_history, k=1, s=3):\n",
        "        \"\"\" \n",
        "        check if the training process should be stopped by UP rule at the current epoch\n",
        "        UP rule: stop if the validation loss has been increasing for s consecutive \n",
        "        training strips\n",
        "        \n",
        "        :param val_history: (list of floats) validation loss until the current epoch\n",
        "        :param k: (int) size of the training strips\n",
        "        :param s: (int) number of consecutive strips\n",
        "        :return max_ci: (int) maximum number of consecutive increase\n",
        "        \"\"\"\n",
        "        if len(val_history) < k * (s+1):\n",
        "            return False, -1\n",
        "        \n",
        "        val_loss_list = [val_history[-(k * i + 1)] for i in range(s+1)]\n",
        "        increment=''\n",
        "        for i in range(len(val_loss_list)-1): \n",
        "            increment += str(int(val_loss_list[i] > val_loss_list[i+1])) \n",
        "        max_ci = len(max(increment.split('0'), key=len))\n",
        "\n",
        "        return max_ci == s, max_ci\n",
        "\n",
        "    def es_train(self, ESR='all'):\n",
        "        ESRs = ['all', 'full', 'GL', 'PQ', 'UP']\n",
        "        if self.verbose:\n",
        "            assert ESR in ESRs, 'Unknown early stopping rule(s)!'\n",
        "            print('training with early stopping rule(s): '+ESR)\n",
        "\n",
        "        # Save the loss history and accuracy history for plotting\n",
        "        self.train_loss_history, self.val_loss_history, self.test_loss_history = [], [], []\n",
        "        self.train_acc_history, self.val_acc_history, self.test_acc_history = [], [], []\n",
        "        \n",
        "        start_time = time.time()\n",
        "        best_epoch = -1\n",
        "        best_error = np.inf\n",
        "        best_model_path = \"best_model.pth\"\n",
        "\n",
        "        stopped_by_gl, gl_values = False, []\n",
        "        stopped_by_pq, pq_values = False, []\n",
        "        stopped_by_up, up_values = False, []\n",
        "        \n",
        "        # Save relative information for all ESR\n",
        "        results =  pd.DataFrame(columns=['ESR', 'best_epoch', 'max_epoch', 'training_time', 'model_path','stopping_stats'])\n",
        "        for epoch in range(self.n_epochs):\n",
        "            train_loss, val_loss, test_loss, train_acc, val_acc, test_acc = self.train_single_epoch(epoch)\n",
        "            self.train_loss_history.append(train_loss)\n",
        "            self.val_loss_history.append(val_loss)\n",
        "            self.test_loss_history.append(test_loss)\n",
        "            self.train_acc_history.append(train_acc)\n",
        "            self.val_acc_history.append(val_acc)\n",
        "            self.test_acc_history.append(test_acc)\n",
        "\n",
        "            # Update the best model if the validation loss is smaller on this epoch\n",
        "            if val_loss < best_error:\n",
        "                best_error = val_loss\n",
        "                best_epoch = epoch+1\n",
        "                th.save(self.net.state_dict(), best_model_path)\n",
        "\n",
        "            # Save the current epoch time\n",
        "            epoch_time = time.time()\n",
        "\n",
        "            # Check the GL rule if it hasn't been stopped yet\n",
        "            if (not stopped_by_gl) & ((ESR=='all') | (ESR=='GL')): \n",
        "                stopped_by_gl, gl_val = self.check_gl(self.val_loss_history)\n",
        "                gl_values.append(gl_val)\n",
        "                # Update the relative information is the training is stopped\n",
        "                if (stopped_by_gl) | (epoch==self.n_epochs-1):\n",
        "                    save_path = 'gl_model.pth'\n",
        "                    th.save(th.load(best_model_path), save_path)\n",
        "                    results = results.append({'ESR':'GL', 'best_epoch': best_epoch, 'max_epoch':epoch+1,\n",
        "                                    'training_time': epoch_time-start_time, 'model_path': save_path,\n",
        "                                    'stopping_stats': gl_values}, ignore_index=True)\n",
        "                    if ESR=='GL':\n",
        "                        return results\n",
        "\n",
        "            # Check the PQ rule if it hasn't been stopped yet\n",
        "            if (not stopped_by_pq) & ((ESR=='all') | (ESR=='PQ')): \n",
        "                stopped_by_pq, pq_val = self.check_pq(self.train_loss_history, self.val_loss_history)\n",
        "                pq_values.append(pq_val)\n",
        "                # Update the relative information is the training is stopped\n",
        "                if (stopped_by_pq) | (epoch==self.n_epochs-1):\n",
        "                    save_path = 'pq_model.pth'\n",
        "                    th.save(th.load(best_model_path), save_path)\n",
        "                    results = results.append({'ESR':'PQ', 'best_epoch': best_epoch, 'max_epoch':epoch+1,\n",
        "                                    'training_time': epoch_time-start_time, 'model_path': save_path,\n",
        "                                    'stopping_stats': pq_values}, ignore_index=True)\n",
        "                    if ESR=='PQ':\n",
        "                        return results\n",
        "                    \n",
        "            # Check the UP rule if it hasn't been stopped yet\n",
        "            if (not stopped_by_up) & ((ESR=='all') | (ESR=='UP')): \n",
        "                stopped_by_up, up_val = self.check_up(self.val_loss_history)\n",
        "                up_values.append(up_val)\n",
        "                # Update the relative information is the training is stopped\n",
        "                if (stopped_by_up) | (epoch==self.n_epochs-1):\n",
        "                    save_path = 'up_model.pth'\n",
        "                    th.save(th.load(best_model_path), save_path)\n",
        "                    results = results.append({'ESR':'UP', 'best_epoch': best_epoch, 'max_epoch':epoch+1,\n",
        "                                    'training_time': epoch_time-start_time, 'model_path': save_path,\n",
        "                                    'stopping_stats': up_values}, ignore_index=True)\n",
        "                    if ESR=='UP':\n",
        "                        return results\n",
        "\n",
        "        results = results.append({'ESR':'full', 'best_epoch': best_epoch, 'max_epoch':self.n_epochs,\n",
        "                                    'training_time': time.time()-start_time, 'model_path': best_model_path,\n",
        "                                    'stopping_stats': None}, ignore_index=True)\n",
        "        return results\n",
        "\n",
        "    def get_loss_history(self):\n",
        "        if hasattr(self, 'train_loss_history'):\n",
        "            return self.train_loss_history, self.val_loss_history, self.test_loss_history\n",
        "        else:\n",
        "            print('Train the model first before getting loss history!')\n",
        "\n",
        "    def get_acc_history(self):\n",
        "        if hasattr(self, 'train_acc_history'):\n",
        "            return self.train_acc_history, self.val_acc_history, self.test_acc_history\n",
        "        else:\n",
        "            print('Train the model first before getting accuracy history!')\n",
        "\n"
      ],
      "metadata": {
        "id": "1YcjXyhu243i"
      },
      "execution_count": null,
      "outputs": []
    },
    {
      "cell_type": "code",
      "source": [
        "seed = 2022\n",
        "np.random.seed(seed)\n",
        "torch.manual_seed(seed)\n",
        "\n",
        "net = SimpleConvolutionalNetwork()\n",
        "\n",
        "EsTrainer = EarlyStoppedTrainer(net, device, batch_size=32, n_epochs=5, learning_rate=0.001)"
      ],
      "metadata": {
        "colab": {
          "base_uri": "https://localhost:8080/"
        },
        "id": "_zTHUZIp9Yec",
        "outputId": "3db98487-f0c0-407b-c216-38efdad4b943"
      },
      "execution_count": null,
      "outputs": [
        {
          "output_type": "stream",
          "name": "stdout",
          "text": [
            "===== HYPERPARAMETERS =====\n",
            "batch_size= 32\n",
            "n_epochs= 5\n",
            "learning_rate= 0.001\n",
            "==============================\n"
          ]
        }
      ]
    },
    {
      "cell_type": "code",
      "source": [
        "results = EsTrainer.es_train(ESR='all')"
      ],
      "metadata": {
        "colab": {
          "base_uri": "https://localhost:8080/"
        },
        "id": "SOjxk4kr9rgC",
        "outputId": "ef5692d3-e4bb-4547-cac0-7ea030c33c6f"
      },
      "execution_count": null,
      "outputs": [
        {
          "output_type": "stream",
          "name": "stdout",
          "text": [
            "training with early stopping rule(s): all\n",
            "Epoch 1, 10% \t train_loss: 2.06 train_acc: 26.36% took: 3.34s\n",
            "Epoch 1, 20% \t train_loss: 1.84 train_acc: 35.08% took: 2.37s\n",
            "Epoch 1, 30% \t train_loss: 1.66 train_acc: 42.74% took: 2.60s\n",
            "Epoch 1, 40% \t train_loss: 1.58 train_acc: 46.37% took: 1.46s\n",
            "Epoch 1, 50% \t train_loss: 1.57 train_acc: 45.11% took: 1.43s\n",
            "Epoch 1, 60% \t train_loss: 1.51 train_acc: 50.00% took: 1.43s\n",
            "Epoch 1, 70% \t train_loss: 1.45 train_acc: 50.05% took: 1.43s\n",
            "Epoch 1, 80% \t train_loss: 1.43 train_acc: 50.30% took: 1.40s\n",
            "Epoch 1, 90% \t train_loss: 1.44 train_acc: 49.95% took: 1.40s\n",
            "val_loss = 1.35 val_acc = 52.27%\n",
            "test_loss = 1.35 test_acc = 51.70%\n",
            "Epoch 2, 10% \t train_loss: 1.30 train_acc: 56.00% took: 1.63s\n",
            "Epoch 2, 20% \t train_loss: 1.31 train_acc: 54.89% took: 1.59s\n",
            "Epoch 2, 30% \t train_loss: 1.30 train_acc: 55.39% took: 1.65s\n",
            "Epoch 2, 40% \t train_loss: 1.29 train_acc: 55.85% took: 1.65s\n",
            "Epoch 2, 50% \t train_loss: 1.28 train_acc: 55.70% took: 1.57s\n",
            "Epoch 2, 60% \t train_loss: 1.23 train_acc: 58.42% took: 1.56s\n",
            "Epoch 2, 70% \t train_loss: 1.24 train_acc: 57.41% took: 1.55s\n",
            "Epoch 2, 80% \t train_loss: 1.28 train_acc: 56.15% took: 1.55s\n",
            "Epoch 2, 90% \t train_loss: 1.25 train_acc: 57.46% took: 1.57s\n",
            "val_loss = 1.22 val_acc = 56.88%\n",
            "test_loss = 1.22 test_acc = 56.78%\n",
            "Epoch 3, 10% \t train_loss: 1.08 train_acc: 63.26% took: 1.69s\n",
            "Epoch 3, 20% \t train_loss: 1.09 train_acc: 62.55% took: 1.60s\n",
            "Epoch 3, 30% \t train_loss: 1.15 train_acc: 60.13% took: 1.58s\n",
            "Epoch 3, 40% \t train_loss: 1.17 train_acc: 61.29% took: 1.58s\n",
            "Epoch 3, 50% \t train_loss: 1.14 train_acc: 61.34% took: 1.59s\n",
            "Epoch 3, 60% \t train_loss: 1.10 train_acc: 62.55% took: 1.56s\n",
            "Epoch 3, 70% \t train_loss: 1.16 train_acc: 58.92% took: 1.58s\n",
            "Epoch 3, 80% \t train_loss: 1.11 train_acc: 62.55% took: 1.59s\n",
            "Epoch 3, 90% \t train_loss: 1.21 train_acc: 59.48% took: 1.58s\n",
            "val_loss = 1.16 val_acc = 58.28%\n",
            "test_loss = 1.17 test_acc = 58.75%\n",
            "Epoch 4, 10% \t train_loss: 1.03 train_acc: 66.63% took: 1.81s\n",
            "Epoch 4, 20% \t train_loss: 1.04 train_acc: 64.92% took: 1.57s\n",
            "Epoch 4, 30% \t train_loss: 1.03 train_acc: 65.62% took: 1.58s\n",
            "Epoch 4, 40% \t train_loss: 1.01 train_acc: 65.93% took: 1.58s\n",
            "Epoch 4, 50% \t train_loss: 1.07 train_acc: 63.61% took: 1.60s\n",
            "Epoch 4, 60% \t train_loss: 1.01 train_acc: 65.32% took: 1.61s\n",
            "Epoch 4, 70% \t train_loss: 1.07 train_acc: 63.86% took: 1.59s\n",
            "Epoch 4, 80% \t train_loss: 1.02 train_acc: 66.53% took: 1.62s\n",
            "Epoch 4, 90% \t train_loss: 1.04 train_acc: 64.31% took: 1.56s\n",
            "val_loss = 1.15 val_acc = 59.63%\n",
            "test_loss = 1.13 test_acc = 60.20%\n",
            "Epoch 5, 10% \t train_loss: 0.92 train_acc: 69.00% took: 1.74s\n",
            "Epoch 5, 20% \t train_loss: 0.91 train_acc: 70.87% took: 2.33s\n",
            "Epoch 5, 30% \t train_loss: 0.94 train_acc: 68.04% took: 2.98s\n",
            "Epoch 5, 40% \t train_loss: 0.91 train_acc: 70.61% took: 2.78s\n",
            "Epoch 5, 50% \t train_loss: 0.91 train_acc: 69.71% took: 3.42s\n",
            "Epoch 5, 60% \t train_loss: 0.95 train_acc: 67.39% took: 3.70s\n",
            "Epoch 5, 70% \t train_loss: 0.94 train_acc: 67.64% took: 2.74s\n",
            "Epoch 5, 80% \t train_loss: 0.92 train_acc: 69.96% took: 1.62s\n",
            "Epoch 5, 90% \t train_loss: 1.05 train_acc: 65.73% took: 1.60s\n",
            "val_loss = 1.12 val_acc = 60.57%\n",
            "test_loss = 1.09 test_acc = 62.23%\n"
          ]
        }
      ]
    },
    {
      "cell_type": "code",
      "source": [
        "results"
      ],
      "metadata": {
        "colab": {
          "base_uri": "https://localhost:8080/",
          "height": 175
        },
        "id": "XNy2nt8I_p4R",
        "outputId": "ec33ad1f-9c2b-4288-ecef-3b0c8edf0f7b"
      },
      "execution_count": null,
      "outputs": [
        {
          "output_type": "execute_result",
          "data": {
            "text/plain": [
              "    ESR best_epoch max_epoch  training_time      model_path  \\\n",
              "0    GL          5         5     112.835241    gl_model.pth   \n",
              "1    PQ          5         5     112.835241    pq_model.pth   \n",
              "2    UP          5         5     112.835241    up_model.pth   \n",
              "3  full          5         5     112.863092  best_model.pth   \n",
              "\n",
              "              stopping_stats  \n",
              "0  [0.0, 0.0, 0.0, 0.0, 0.0]  \n",
              "1      [-1, -1, 0.0, -1, -1]  \n",
              "2         [-1, -1, -1, 0, 0]  \n",
              "3                       None  "
            ],
            "text/html": [
              "\n",
              "  <div id=\"df-f3d2befa-9223-482d-93b0-7ebf56a00962\">\n",
              "    <div class=\"colab-df-container\">\n",
              "      <div>\n",
              "<style scoped>\n",
              "    .dataframe tbody tr th:only-of-type {\n",
              "        vertical-align: middle;\n",
              "    }\n",
              "\n",
              "    .dataframe tbody tr th {\n",
              "        vertical-align: top;\n",
              "    }\n",
              "\n",
              "    .dataframe thead th {\n",
              "        text-align: right;\n",
              "    }\n",
              "</style>\n",
              "<table border=\"1\" class=\"dataframe\">\n",
              "  <thead>\n",
              "    <tr style=\"text-align: right;\">\n",
              "      <th></th>\n",
              "      <th>ESR</th>\n",
              "      <th>best_epoch</th>\n",
              "      <th>max_epoch</th>\n",
              "      <th>training_time</th>\n",
              "      <th>model_path</th>\n",
              "      <th>stopping_stats</th>\n",
              "    </tr>\n",
              "  </thead>\n",
              "  <tbody>\n",
              "    <tr>\n",
              "      <th>0</th>\n",
              "      <td>GL</td>\n",
              "      <td>5</td>\n",
              "      <td>5</td>\n",
              "      <td>112.835241</td>\n",
              "      <td>gl_model.pth</td>\n",
              "      <td>[0.0, 0.0, 0.0, 0.0, 0.0]</td>\n",
              "    </tr>\n",
              "    <tr>\n",
              "      <th>1</th>\n",
              "      <td>PQ</td>\n",
              "      <td>5</td>\n",
              "      <td>5</td>\n",
              "      <td>112.835241</td>\n",
              "      <td>pq_model.pth</td>\n",
              "      <td>[-1, -1, 0.0, -1, -1]</td>\n",
              "    </tr>\n",
              "    <tr>\n",
              "      <th>2</th>\n",
              "      <td>UP</td>\n",
              "      <td>5</td>\n",
              "      <td>5</td>\n",
              "      <td>112.835241</td>\n",
              "      <td>up_model.pth</td>\n",
              "      <td>[-1, -1, -1, 0, 0]</td>\n",
              "    </tr>\n",
              "    <tr>\n",
              "      <th>3</th>\n",
              "      <td>full</td>\n",
              "      <td>5</td>\n",
              "      <td>5</td>\n",
              "      <td>112.863092</td>\n",
              "      <td>best_model.pth</td>\n",
              "      <td>None</td>\n",
              "    </tr>\n",
              "  </tbody>\n",
              "</table>\n",
              "</div>\n",
              "      <button class=\"colab-df-convert\" onclick=\"convertToInteractive('df-f3d2befa-9223-482d-93b0-7ebf56a00962')\"\n",
              "              title=\"Convert this dataframe to an interactive table.\"\n",
              "              style=\"display:none;\">\n",
              "        \n",
              "  <svg xmlns=\"http://www.w3.org/2000/svg\" height=\"24px\"viewBox=\"0 0 24 24\"\n",
              "       width=\"24px\">\n",
              "    <path d=\"M0 0h24v24H0V0z\" fill=\"none\"/>\n",
              "    <path d=\"M18.56 5.44l.94 2.06.94-2.06 2.06-.94-2.06-.94-.94-2.06-.94 2.06-2.06.94zm-11 1L8.5 8.5l.94-2.06 2.06-.94-2.06-.94L8.5 2.5l-.94 2.06-2.06.94zm10 10l.94 2.06.94-2.06 2.06-.94-2.06-.94-.94-2.06-.94 2.06-2.06.94z\"/><path d=\"M17.41 7.96l-1.37-1.37c-.4-.4-.92-.59-1.43-.59-.52 0-1.04.2-1.43.59L10.3 9.45l-7.72 7.72c-.78.78-.78 2.05 0 2.83L4 21.41c.39.39.9.59 1.41.59.51 0 1.02-.2 1.41-.59l7.78-7.78 2.81-2.81c.8-.78.8-2.07 0-2.86zM5.41 20L4 18.59l7.72-7.72 1.47 1.35L5.41 20z\"/>\n",
              "  </svg>\n",
              "      </button>\n",
              "      \n",
              "  <style>\n",
              "    .colab-df-container {\n",
              "      display:flex;\n",
              "      flex-wrap:wrap;\n",
              "      gap: 12px;\n",
              "    }\n",
              "\n",
              "    .colab-df-convert {\n",
              "      background-color: #E8F0FE;\n",
              "      border: none;\n",
              "      border-radius: 50%;\n",
              "      cursor: pointer;\n",
              "      display: none;\n",
              "      fill: #1967D2;\n",
              "      height: 32px;\n",
              "      padding: 0 0 0 0;\n",
              "      width: 32px;\n",
              "    }\n",
              "\n",
              "    .colab-df-convert:hover {\n",
              "      background-color: #E2EBFA;\n",
              "      box-shadow: 0px 1px 2px rgba(60, 64, 67, 0.3), 0px 1px 3px 1px rgba(60, 64, 67, 0.15);\n",
              "      fill: #174EA6;\n",
              "    }\n",
              "\n",
              "    [theme=dark] .colab-df-convert {\n",
              "      background-color: #3B4455;\n",
              "      fill: #D2E3FC;\n",
              "    }\n",
              "\n",
              "    [theme=dark] .colab-df-convert:hover {\n",
              "      background-color: #434B5C;\n",
              "      box-shadow: 0px 1px 3px 1px rgba(0, 0, 0, 0.15);\n",
              "      filter: drop-shadow(0px 1px 2px rgba(0, 0, 0, 0.3));\n",
              "      fill: #FFFFFF;\n",
              "    }\n",
              "  </style>\n",
              "\n",
              "      <script>\n",
              "        const buttonEl =\n",
              "          document.querySelector('#df-f3d2befa-9223-482d-93b0-7ebf56a00962 button.colab-df-convert');\n",
              "        buttonEl.style.display =\n",
              "          google.colab.kernel.accessAllowed ? 'block' : 'none';\n",
              "\n",
              "        async function convertToInteractive(key) {\n",
              "          const element = document.querySelector('#df-f3d2befa-9223-482d-93b0-7ebf56a00962');\n",
              "          const dataTable =\n",
              "            await google.colab.kernel.invokeFunction('convertToInteractive',\n",
              "                                                     [key], {});\n",
              "          if (!dataTable) return;\n",
              "\n",
              "          const docLinkHtml = 'Like what you see? Visit the ' +\n",
              "            '<a target=\"_blank\" href=https://colab.research.google.com/notebooks/data_table.ipynb>data table notebook</a>'\n",
              "            + ' to learn more about interactive tables.';\n",
              "          element.innerHTML = '';\n",
              "          dataTable['output_type'] = 'display_data';\n",
              "          await google.colab.output.renderOutput(dataTable, element);\n",
              "          const docLink = document.createElement('div');\n",
              "          docLink.innerHTML = docLinkHtml;\n",
              "          element.appendChild(docLink);\n",
              "        }\n",
              "      </script>\n",
              "    </div>\n",
              "  </div>\n",
              "  "
            ]
          },
          "metadata": {},
          "execution_count": 18
        }
      ]
    },
    {
      "cell_type": "code",
      "source": [
        "# Load one or more best models\n",
        "net.load_state_dict(th.load(results.iloc[3].model_path))"
      ],
      "metadata": {
        "colab": {
          "base_uri": "https://localhost:8080/"
        },
        "id": "hxI8xEsfOelu",
        "outputId": "027d5122-c226-4d4c-9738-2e8a64177978"
      },
      "execution_count": null,
      "outputs": [
        {
          "output_type": "execute_result",
          "data": {
            "text/plain": [
              "<All keys matched successfully>"
            ]
          },
          "metadata": {},
          "execution_count": 19
        }
      ]
    },
    {
      "cell_type": "markdown",
      "source": [
        "#### Plot the loss and prediction accuracy against the epochs."
      ],
      "metadata": {
        "id": "scth09Wa8je8"
      }
    },
    {
      "cell_type": "code",
      "source": [
        "plot_loss_acc(*EsTrainer.get_loss_history(), *EsTrainer.get_acc_history())"
      ],
      "metadata": {
        "colab": {
          "base_uri": "https://localhost:8080/",
          "height": 404
        },
        "id": "JzxZ2zOralJm",
        "outputId": "aba4634f-9ac2-4c4b-c51a-45b797ac337b"
      },
      "execution_count": null,
      "outputs": [
        {
          "output_type": "display_data",
          "data": {
            "text/plain": [
              "<Figure size 1152x432 with 2 Axes>"
            ],
            "image/png": "[encoded data removed]"
          },
          "metadata": {
            "needs_background": "light"
          }
        }
      ]
    },
    {
      "cell_type": "markdown",
      "source": [
        "## Compute conformal p-values with a seperate calibration dataset"
      ],
      "metadata": {
        "id": "qT5VU1LILopv"
      }
    },
    {
      "cell_type": "code",
      "source": [
        "import sys\n",
        "\n",
        "!git clone https://github.com/msesia/arc\n",
        "!pip install -U scikit-garden==0.1.3\n",
        "!pip install -U scikit-learn==0.22\n",
        "!git clone https://github.com/yromano/cqr\n",
        "!git clone https://github.com/msesia/cqr-comparison\n",
        "!git clone https://github.com/msesia/arc"
      ],
      "metadata": {
        "colab": {
          "base_uri": "https://localhost:8080/"
        },
        "id": "fFjTjyfouilU",
        "outputId": "06a0c3b1-96ce-4896-f0ea-2d5e9fb34b14"
      },
      "execution_count": null,
      "outputs": [
        {
          "output_type": "stream",
          "name": "stdout",
          "text": [
            "Cloning into 'arc'...\n",
            "remote: Enumerating objects: 117, done.\u001b[K\n",
            "remote: Counting objects: 100% (117/117), done.\u001b[K\n",
            "remote: Compressing objects: 100% (87/87), done.\u001b[K\n",
            "remote: Total 117 (delta 46), reused 73 (delta 19), pack-reused 0\u001b[K\n",
            "Receiving objects: 100% (117/117), 127.33 KiB | 623.00 KiB/s, done.\n",
            "Resolving deltas: 100% (46/46), done.\n",
            "Looking in indexes: https://pypi.org/simple, https://us-python.pkg.dev/colab-wheels/public/simple/\n",
            "Collecting scikit-garden==0.1.3\n",
            "  Downloading scikit-garden-0.1.3.tar.gz (317 kB)\n",
            "\u001b[K     |████████████████████████████████| 317 kB 6.8 MB/s \n",
            "\u001b[?25hRequirement already satisfied: numpy in /usr/local/lib/python3.7/dist-packages (from scikit-garden==0.1.3) (1.21.6)\n",
            "Requirement already satisfied: scipy in /usr/local/lib/python3.7/dist-packages (from scikit-garden==0.1.3) (1.7.3)\n",
            "Requirement already satisfied: scikit-learn>=0.18 in /usr/local/lib/python3.7/dist-packages (from scikit-garden==0.1.3) (1.0.2)\n",
            "Requirement already satisfied: cython in /usr/local/lib/python3.7/dist-packages (from scikit-garden==0.1.3) (0.29.32)\n",
            "Requirement already satisfied: threadpoolctl>=2.0.0 in /usr/local/lib/python3.7/dist-packages (from scikit-learn>=0.18->scikit-garden==0.1.3) (3.1.0)\n",
            "Requirement already satisfied: joblib>=0.11 in /usr/local/lib/python3.7/dist-packages (from scikit-learn>=0.18->scikit-garden==0.1.3) (1.1.0)\n",
            "Building wheels for collected packages: scikit-garden\n",
            "  Building wheel for scikit-garden (setup.py) ... \u001b[?25l\u001b[?25hdone\n",
            "  Created wheel for scikit-garden: filename=scikit_garden-0.1.3-cp37-cp37m-linux_x86_64.whl size=671898 sha256=624d5c05786f3ac26626d281021bc174b70a1bfcd9a828526b30efffa6098c43\n",
            "  Stored in directory: /root/.cache/pip/wheels/10/06/27/3687df098199aadafad4cb3061bd59e86d3e4bb7428edd0d66\n",
            "Successfully built scikit-garden\n",
            "Installing collected packages: scikit-garden\n",
            "Successfully installed scikit-garden-0.1.3\n",
            "Looking in indexes: https://pypi.org/simple, https://us-python.pkg.dev/colab-wheels/public/simple/\n",
            "Collecting scikit-learn==0.22\n",
            "  Downloading scikit_learn-0.22-cp37-cp37m-manylinux1_x86_64.whl (7.0 MB)\n",
            "\u001b[K     |████████████████████████████████| 7.0 MB 3.2 MB/s \n",
            "\u001b[?25hRequirement already satisfied: joblib>=0.11 in /usr/local/lib/python3.7/dist-packages (from scikit-learn==0.22) (1.1.0)\n",
            "Requirement already satisfied: scipy>=0.17.0 in /usr/local/lib/python3.7/dist-packages (from scikit-learn==0.22) (1.7.3)\n",
            "Requirement already satisfied: numpy>=1.11.0 in /usr/local/lib/python3.7/dist-packages (from scikit-learn==0.22) (1.21.6)\n",
            "Installing collected packages: scikit-learn\n",
            "  Attempting uninstall: scikit-learn\n",
            "    Found existing installation: scikit-learn 1.0.2\n",
            "    Uninstalling scikit-learn-1.0.2:\n",
            "      Successfully uninstalled scikit-learn-1.0.2\n",
            "\u001b[31mERROR: pip's dependency resolver does not currently take into account all the packages that are installed. This behaviour is the source of the following dependency conflicts.\n",
            "yellowbrick 1.5 requires scikit-learn>=1.0.0, but you have scikit-learn 0.22 which is incompatible.\n",
            "imbalanced-learn 0.8.1 requires scikit-learn>=0.24, but you have scikit-learn 0.22 which is incompatible.\u001b[0m\n",
            "Successfully installed scikit-learn-0.22\n",
            "Cloning into 'cqr'...\n",
            "remote: Enumerating objects: 1152, done.\u001b[K\n",
            "remote: Counting objects: 100% (4/4), done.\u001b[K\n",
            "remote: Compressing objects: 100% (4/4), done.\u001b[K\n",
            "remote: Total 1152 (delta 0), reused 1 (delta 0), pack-reused 1148\u001b[K\n",
            "Receiving objects: 100% (1152/1152), 5.14 MiB | 19.43 MiB/s, done.\n",
            "Resolving deltas: 100% (728/728), done.\n",
            "Cloning into 'cqr-comparison'...\n",
            "remote: Enumerating objects: 63, done.\u001b[K\n",
            "remote: Counting objects: 100% (12/12), done.\u001b[K\n",
            "remote: Compressing objects: 100% (7/7), done.\u001b[K\n",
            "remote: Total 63 (delta 4), reused 12 (delta 4), pack-reused 51\u001b[K\n",
            "Unpacking objects: 100% (63/63), done.\n",
            "fatal: destination path 'arc' already exists and is not an empty directory.\n"
          ]
        }
      ]
    },
    {
      "cell_type": "code",
      "source": [
        "import sys\n",
        "sys.path.append('/content/cqr')\n",
        "sys.path.append('/content/cqr-comparison')\n",
        "sys.path.append('/content/arc')\n",
        "\n",
        "import arc\n",
        "from arc import models\n",
        "from arc import methods\n",
        "from arc import black_boxes\n",
        "from arc import others\n",
        "from arc import coverage"
      ],
      "metadata": {
        "colab": {
          "base_uri": "https://localhost:8080/"
        },
        "id": "NfsQcIT6Sn1s",
        "outputId": "696bc281-2f39-46cb-a346-18400c988a52"
      },
      "execution_count": null,
      "outputs": [
        {
          "output_type": "stream",
          "name": "stderr",
          "text": [
            "/usr/local/lib/python3.7/dist-packages/sklearn/utils/deprecation.py:144: FutureWarning: The sklearn.ensemble.forest module is  deprecated in version 0.22 and will be removed in version 0.24. The corresponding classes / functions should instead be imported from sklearn.ensemble. Anything that cannot be imported from sklearn.ensemble is now part of the private API.\n",
            "  warnings.warn(message, FutureWarning)\n",
            "/usr/local/lib/python3.7/dist-packages/sklearn/externals/six.py:31: FutureWarning: The module is deprecated in version 0.21 and will be removed in version 0.23 since we've dropped support for Python 2.7. Please rely on the official version of six (https://pypi.org/project/six/).\n",
            "  \"(https://pypi.org/project/six/).\", FutureWarning)\n",
            "/usr/local/lib/python3.7/dist-packages/sklearn/utils/deprecation.py:144: FutureWarning: The sklearn.tree.tree module is  deprecated in version 0.22 and will be removed in version 0.24. The corresponding classes / functions should instead be imported from sklearn.tree. Anything that cannot be imported from sklearn.tree is now part of the private API.\n",
            "  warnings.warn(message, FutureWarning)\n"
          ]
        }
      ]
    },
    {
      "cell_type": "code",
      "source": [
        "def evaluate_predictions(S, y):\n",
        "    coverage = np.mean([y[i] in S[i] for i in range(len(y))])\n",
        "    length = np.mean([len(S[i]) for i in range(len(y))])\n",
        "    idx_cover = np.where([y[i] in S[i] for i in range(len(y))])[0]\n",
        "    length_cover = np.mean([len(S[i]) for i in idx_cover])\n",
        "    return coverage, length, length_cover\n",
        "\n",
        "def evaluate_marginal(S, y):\n",
        "    coverage, length, length_cover = evaluate_predictions(S, y)\n",
        "    print('Marginal coverage:       {:2.3%}'.format(coverage))\n",
        "    print('Average size:            {:2.3f}'.format(length))\n",
        "    print('Average size | coverage: {:2.3f}'.format(length_cover))\n",
        "\n",
        "def evaluate_conditional(S, y):\n",
        "    n_class = len(np.unique(y))\n",
        "    for i in range(n_class):\n",
        "        label = i\n",
        "        idx = np.where(y==label)[0]\n",
        "        coverage, length, length_cover = evaluate_predictions(np.array(S, dtype=object)[idx], np.array(y)[idx])\n",
        "        print('Conditional coverage for label {}:       {:2.3%}'.format(classes[label], coverage))\n",
        "        print('Average size:            {:2.3f}'.format(length))\n",
        "        print('Average size | coverage: {:2.3f}'.format(length_cover))"
      ],
      "metadata": {
        "id": "G_wnlRmtMwgY"
      },
      "execution_count": null,
      "outputs": []
    },
    {
      "cell_type": "code",
      "source": [
        "# Load a seperate calibration data exchangeble with test data\n",
        "cal_loader = torch.utils.data.DataLoader(test_set, batch_size=n_cal_samples, sampler=cal_sampler,\n",
        "                                         num_workers=1)"
      ],
      "metadata": {
        "id": "WIqtf3bmQH6f"
      },
      "execution_count": null,
      "outputs": []
    },
    {
      "cell_type": "code",
      "source": [
        "from arc.classification import ProbabilityAccumulator as ProbAccum\n",
        "from scipy.stats.mstats import mquantiles\n",
        "\n",
        "class SplitConformal:\n",
        "    \"\"\"\n",
        "    Prediction sets by split conformal method, modified from https://github.com/msesia/arc\n",
        "    \"\"\"\n",
        "    def __init__(self, cal_loader, black_box, device, alpha, random_state=2022, allow_empty=True, verbose=False):\n",
        "        \"\"\"\n",
        "        :param cal_loader: (dataloader) dataloader that loads all calibration data at once\n",
        "        :param black_box: (nn) trained neural network\n",
        "        :param device: (cpu or gpu) location of the network\n",
        "        :param alpha: (float) confidence level\n",
        "        \"\"\"\n",
        "        self.allow_empty = allow_empty\n",
        "        self.black_box = black_box\n",
        "        self.device = device\n",
        "\n",
        "        # Load the calibration data all at once\n",
        "        X_calib, Y_calib = next(iter(cal_loader))\n",
        "\n",
        "        # Form prediction sets on calibration data\n",
        "        logits = self.black_box(X_calib.to(self.device))\n",
        "        self.predict_proba = nn.Softmax(dim=1)\n",
        "        with th.no_grad():\n",
        "            p_hat_calib = self.predict_proba(logits).cpu().numpy()\n",
        "        grey_box = ProbAccum(p_hat_calib)\n",
        "\n",
        "        n2 = X_calib.shape[0]\n",
        "        rng = np.random.default_rng(random_state)\n",
        "        epsilon = rng.uniform(low=0.0, high=1.0, size=n2)\n",
        "        alpha_max = grey_box.calibrate_scores(Y_calib, epsilon=epsilon)\n",
        "        scores = alpha - alpha_max\n",
        "        level_adjusted = (1.0-alpha)*(1.0+1.0/float(n2))\n",
        "        alpha_correction = mquantiles(scores, prob=level_adjusted)\n",
        "\n",
        "        # Store calibrate level\n",
        "        self.alpha_calibrated = alpha - alpha_correction\n",
        "\n",
        "    def predict(self, X_test, random_state=2020):\n",
        "        \"\"\"\n",
        "        Compute prediction sets for given test point(s)\n",
        "        :param X_test: (tensor) features of the test point in tensor form\n",
        "        :return S_hat: (array-like) prediction set of the test point\n",
        "        \"\"\"\n",
        "        n = X_test.shape[0]\n",
        "        rng = np.random.default_rng(random_state)\n",
        "        epsilon = rng.uniform(low=0.0, high=1.0, size=n)\n",
        "        logits = self.black_box(X_test.to(self.device))\n",
        "        with th.no_grad():\n",
        "            p_hat = self.predict_proba(logits).cpu().numpy()\n",
        "        grey_box = ProbAccum(p_hat)\n",
        "        S_hat = grey_box.predict_sets(self.alpha_calibrated, epsilon=epsilon, allow_empty=self.allow_empty)\n",
        "        return S_hat"
      ],
      "metadata": {
        "id": "aUxYunbPRFyh"
      },
      "execution_count": null,
      "outputs": []
    },
    {
      "cell_type": "markdown",
      "source": [
        "#### Load test data, compute prediction sets and evaluate the coverage."
      ],
      "metadata": {
        "id": "mRG92J3zsyh9"
      }
    },
    {
      "cell_type": "code",
      "source": [
        "alpha = 0.1\n",
        "PredSets_sc = SplitConformal(cal_loader, net, device, alpha)"
      ],
      "metadata": {
        "id": "-vj12zOCQPeW"
      },
      "execution_count": null,
      "outputs": []
    },
    {
      "cell_type": "code",
      "source": [
        "test_loader = torch.utils.data.DataLoader(test_set, batch_size=n_test_samples, sampler=test_sampler,\n",
        "                                         num_workers=1)\n",
        "# get all test images\n",
        "dataiter = iter(test_loader)\n",
        "images, labels = dataiter.next()"
      ],
      "metadata": {
        "id": "eFsiH4x4UC5T"
      },
      "execution_count": null,
      "outputs": []
    },
    {
      "cell_type": "code",
      "source": [
        "S_sc = PredSets_sc.predict(images)\n",
        "evaluate_marginal(S_sc, labels.numpy())\n",
        "print('='*50)\n",
        "evaluate_conditional(S_sc, labels.numpy())"
      ],
      "metadata": {
        "colab": {
          "base_uri": "https://localhost:8080/"
        },
        "id": "JJCCT-M3XfRf",
        "outputId": "62692733-5dce-4a7a-c376-138cca49cc96"
      },
      "execution_count": null,
      "outputs": [
        {
          "output_type": "stream",
          "name": "stdout",
          "text": [
            "Marginal coverage:       90.040%\n",
            "Average size:            2.940\n",
            "Average size | coverage: 2.955\n",
            "==================================================\n",
            "Conditional coverage for label plane:       91.189%\n",
            "Average size:            2.709\n",
            "Average size | coverage: 2.733\n",
            "Conditional coverage for label car:       92.871%\n",
            "Average size:            2.180\n",
            "Average size | coverage: 2.213\n",
            "Conditional coverage for label bird:       84.766%\n",
            "Average size:            3.660\n",
            "Average size | coverage: 3.832\n",
            "Conditional coverage for label cat:       90.946%\n",
            "Average size:            3.777\n",
            "Average size | coverage: 3.881\n",
            "Conditional coverage for label deer:       85.404%\n",
            "Average size:            3.795\n",
            "Average size | coverage: 3.873\n",
            "Conditional coverage for label dog:       91.598%\n",
            "Average size:            3.311\n",
            "Average size | coverage: 3.271\n",
            "Conditional coverage for label frog:       91.650%\n",
            "Average size:            2.578\n",
            "Average size | coverage: 2.536\n",
            "Conditional coverage for label horse:       90.303%\n",
            "Average size:            3.010\n",
            "Average size | coverage: 2.991\n",
            "Conditional coverage for label ship:       92.063%\n",
            "Average size:            2.127\n",
            "Average size | coverage: 2.136\n",
            "Conditional coverage for label truck:       89.864%\n",
            "Average size:            2.255\n",
            "Average size | coverage: 2.223\n"
          ]
        }
      ]
    },
    {
      "cell_type": "markdown",
      "source": [
        "#### Plot some images and their prediction sets."
      ],
      "metadata": {
        "id": "MlSWY6xVtUd4"
      }
    },
    {
      "cell_type": "code",
      "source": [
        "n_plots = 4\n",
        "plot_indices = np.random.choice(np.arange(0,n_test_samples),n_plots)\n",
        "\n",
        "fig,axs = plt.subplots(1, n_plots, figsize=(16,3.5))\n",
        "for i in range(n_plots):\n",
        "    # Convert tensor images to np image for plotting\n",
        "    idx = plot_indices[i]\n",
        "    img = get_image(images[idx])\n",
        "    axs[i].imshow(img)\n",
        "    axs[i].set_xlabel(str(np.array(classes)[labels[idx]]))\n",
        "    axs[i].set_title('pred: '+str(np.array(classes)[S_sc[idx]]))"
      ],
      "metadata": {
        "colab": {
          "base_uri": "https://localhost:8080/",
          "height": 268
        },
        "id": "rjGqQU5WaheW",
        "outputId": "60306f98-3842-46cc-8b56-318ffbb90b07"
      },
      "execution_count": null,
      "outputs": [
        {
          "output_type": "display_data",
          "data": {
            "text/plain": [
              "<Figure size 1152x252 with 4 Axes>"
            ],
            "image/png": "[encoded data removed]"
          },
          "metadata": {
            "needs_background": "light"
          }
        }
      ]
    },
    {
      "cell_type": "code",
      "source": [],
      "metadata": {
        "id": "LewNfL1v8maS"
      },
      "execution_count": null,
      "outputs": []
    }
  ]
}